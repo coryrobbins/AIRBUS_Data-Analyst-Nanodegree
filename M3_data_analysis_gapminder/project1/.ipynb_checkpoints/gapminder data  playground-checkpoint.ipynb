{
 "cells": [
  {
   "cell_type": "markdown",
   "metadata": {},
   "source": [
    "\n",
    "# CO2 Emissions Dataset Investigation\n",
    "### Airbus Udacity Data Analytics Nano Degree Project 1\n",
    "### By: Cory Robbins\n",
    "\n",
    "### Jan 11, 2021\n",
    "\n",
    "\n",
    "## Table of Contents\n",
    "<ul>\n",
    "<li><a href=\"#intro\">Introduction</a></li>\n",
    "<li><a href=\"#wrangling\">Data Wrangling</a></li>\n",
    "<li><a href=\"#eda\">Exploratory Data Analysis</a></li>\n",
    "<li><a href=\"#conclusions\">Conclusions</a></li>\n",
    "</ul>"
   ]
  },
  {
   "cell_type": "markdown",
   "metadata": {},
   "source": [
    "<a id='intro'></a>\n",
    "## Introduction\n",
    "\n",
    "In late 2020 airbus announced three new \"zero-emission' concept aircrafts. Each representing a different approach to exploring various technology pathways towards meeting the  company's climate-neutral targets and part of the broader European Green Deal... \n",
    "\n",
    "> https://ec.europa.eu/info/strategy/priorities-2019-2024/european-green-deal_en \n",
    "\n",
    "In this investigation, we explore the data around CO2 emissions as provided by Gapminder World data in order to gain insights into the drivers of CO2 emissions across countries and regions to see if we can identify interrelationships between indicators which contribute to exacerbating climate challenges. \n",
    "\n",
    "According to the Air Transport Action Group the global Aviation industry produces around 2% of all human-induces carbo dioxide (CO2) emissions, Aviation is resposible for 12% of CO2 emissions from all transport source. \n",
    "\n",
    "Natrurally, I wanted to check if there is correlation with flights including both passanger and freight fleights with CO2 emissions per capita and to my surprise, there was very little correlation, if any at all. Therefore, I wanted to look at several potential indicators to evaluate their relattionships. The data sets I looked into are the following:\n",
    "\n",
    "carbo dioxide (CO2) emissions, life expectancy, Gross Domestic Product, Income per capita, Population, Passanger flights, air_dprt, air_good, itxpnd, oil, coal, electricity, forest industry, air\n",
    "\n",
    " before evaluating the top 10 growers of CO2 and plot that with the various potential other drivers before narrowing down the the most common drivers\n",
    "\n",
    "\n",
    "Some questions we would like to answer in this exploration are the following. Please keep in mind that the order of these questions evolved chronologoically during our initial exploration of CO2 emission data set provided by Gapminder.  \n",
    "\n",
    "Is there a visible corrlation when we plot the only available data Gap minder provides around flights (passanger and freight flights)?\n",
    "\n"
   ]
  },
  {
   "cell_type": "code",
   "execution_count": 115,
   "metadata": {},
   "outputs": [],
   "source": [
    "# In this cell are the import statements for all of the packages used\n",
    "\n",
    "import numpy as np\n",
    "import pandas as pd\n",
    "import itertools \n",
    "import os\n",
    "import matplotlib.pyplot as plt\n",
    "import seaborn as sns\n",
    "# %matplotlib inline"
   ]
  },
  {
   "cell_type": "markdown",
   "metadata": {},
   "source": [
    "<a id='wrangling'></a>\n",
    "## Data Wrangling\n",
    "\n",
    "In this section of the report, the data is laoded, check for cleanliness, and then trim and clean your dataset for analysis. Make sure that you document your steps carefully and justify your cleaning decisions.\n",
    "\n",
    "### General Properties"
   ]
  },
  {
   "cell_type": "code",
   "execution_count": 116,
   "metadata": {},
   "outputs": [
    {
     "data": {
      "text/plain": [
       "\"\\nair_psgr = pd.read_csv(path + 'air_psgr.csv')\\nair_dprt = pd.read_csv(path + 'air_dprt.csv')\\nair_good = pd.read_csv(path + 'air_good.csv')\\nitxpnd = pd.read_csv(path + 'itxpnd.csv')\\noil = pd.read_csv(path+ 'oil_consumption_per_cap.csv')\\ncoal = pd.read_csv(path+ 'coal_consumption_per_cap.csv')\\nelect = pd.read_csv(path+ 'electricity_use_per_person.csv')\\nforest = pd.read_csv(path+ 'forest_coverage_percent.csv')\\nindust = pd.read_csv(path+ 'industry_percent_of_gdp.csv')\\nair = pd.read_csv(path+ 'is_air_good_mt_k1.csv')\\n\""
      ]
     },
     "execution_count": 116,
     "metadata": {},
     "output_type": "execute_result"
    }
   ],
   "source": [
    "# Load your data and print out a few lines. Perform operations to inspect data\n",
    "#   types and look for instances of missing or possibly errant data.\n",
    "\n",
    "path = '/Users/coryrobbins/projects/danano/M1_intro_data_analysis/project1/data/'\n",
    "\n",
    "continents = pd.read_csv(path + 'Countries-Continents.csv', index_col='Country')\n",
    "co2 = pd.read_csv(path + 'co2_emi.csv', index_col='country')\n",
    "life = pd.read_csv(path + 'life_expectancy.csv')\n",
    "gdp = pd.read_csv(path + 'gdp_per_capita.csv')\n",
    "income = pd.read_csv(path + 'income_per_person_gdppercapita_ppp_inflation_adjusted.csv')\n",
    "pop = pd.read_csv(path + 'pop.csv')\n",
    "\n",
    "\"\"\"\n",
    "air_psgr = pd.read_csv(path + 'air_psgr.csv')\n",
    "air_dprt = pd.read_csv(path + 'air_dprt.csv')\n",
    "air_good = pd.read_csv(path + 'air_good.csv')\n",
    "itxpnd = pd.read_csv(path + 'itxpnd.csv')\n",
    "oil = pd.read_csv(path+ 'oil_consumption_per_cap.csv')\n",
    "coal = pd.read_csv(path+ 'coal_consumption_per_cap.csv')\n",
    "elect = pd.read_csv(path+ 'electricity_use_per_person.csv')\n",
    "forest = pd.read_csv(path+ 'forest_coverage_percent.csv')\n",
    "indust = pd.read_csv(path+ 'industry_percent_of_gdp.csv')\n",
    "air = pd.read_csv(path+ 'is_air_good_mt_k1.csv')\n",
    "\"\"\""
   ]
  },
  {
   "cell_type": "code",
   "execution_count": 117,
   "metadata": {},
   "outputs": [
    {
     "data": {
      "text/plain": [
       "\"\\nair_psgr.set_index('country', inplace=True)\\nair_dprt.set_index('country', inplace=True)\\nair_good.set_index('country', inplace=True)\\nitxpnd.set_index('country', inplace=True)\\noil.set_index('country', inplace=True)\\ncoal.set_index('country', inplace=True)\\nelect.set_index('country', inplace=True)\\nforest.set_index('country', inplace=True)\\nindust.set_index('country', inplace=True)\\nair.set_index('country', inplace=True)\\n\""
      ]
     },
     "execution_count": 117,
     "metadata": {},
     "output_type": "execute_result"
    }
   ],
   "source": [
    "# This could have been done in the read_csv by specifying the index *See Continents and CO2\n",
    "life.rename(columns={\"Country\":\"country\"}, inplace=True)\n",
    "gdp.rename(columns={\"Country\":\"country\"}, inplace=True)\n",
    "income.rename(columns={\"Country\":\"country\"}, inplace=True)\n",
    "pop.rename(columns={\"Country\":\"country\"}, inplace=True)\n",
    "\n",
    "life.set_index('country', inplace=True)\n",
    "gdp.set_index('country', inplace=True)\n",
    "income.set_index('country', inplace=True)\n",
    "pop.set_index('country', inplace=True)\n",
    "\n",
    "\"\"\"\n",
    "air_psgr.set_index('country', inplace=True)\n",
    "air_dprt.set_index('country', inplace=True)\n",
    "air_good.set_index('country', inplace=True)\n",
    "itxpnd.set_index('country', inplace=True)\n",
    "oil.set_index('country', inplace=True)\n",
    "coal.set_index('country', inplace=True)\n",
    "elect.set_index('country', inplace=True)\n",
    "forest.set_index('country', inplace=True)\n",
    "indust.set_index('country', inplace=True)\n",
    "air.set_index('country', inplace=True)\n",
    "\"\"\""
   ]
  },
  {
   "cell_type": "code",
   "execution_count": 118,
   "metadata": {},
   "outputs": [],
   "source": [
    "all_data = {\n",
    "    'co2': co2,\n",
    "    'gdp' : gdp, \n",
    "    'income' : income,\n",
    "\n",
    "    'pop': pop,\n",
    "    'life' : life, \n",
    "}\n",
    "\"\"\"\n",
    "    'oil':oil,\n",
    "    'coal' :coal,\n",
    "    'elect' :elect,\n",
    "    'forest' : forest,\n",
    "    'indust' :indust,\n",
    "    'air' :air,\n",
    "    'air_psgr' : air_psgr,\n",
    "    'air_dprt' : air_dprt,\n",
    "    'air_good' :air_good,\n",
    "    'itxpnd': itxpnd,\n",
    "\"\"\"\n",
    "    \n",
    "\n",
    "\n",
    "all_data = {name:value.transpose() for name, value in all_data.items()}"
   ]
  },
  {
   "cell_type": "code",
   "execution_count": 119,
   "metadata": {},
   "outputs": [
    {
     "name": "stdout",
     "output_type": "stream",
     "text": [
      "co2\n",
      "country  Afghanistan  Albania  Algeria  Andorra  Angola  Antigua and Barbuda  \\\n",
      "1800             NaN      NaN      NaN      NaN     NaN                  NaN   \n",
      "1801             NaN      NaN      NaN      NaN     NaN                  NaN   \n",
      "1802             NaN      NaN      NaN      NaN     NaN                  NaN   \n",
      "1803             NaN      NaN      NaN      NaN     NaN                  NaN   \n",
      "1804             NaN      NaN      NaN      NaN     NaN                  NaN   \n",
      "\n",
      "country  Argentina  Armenia  Australia  Austria  ...  United Kingdom  \\\n",
      "1800           NaN      NaN        NaN      NaN  ...            2.48   \n",
      "1801           NaN      NaN        NaN      NaN  ...            2.46   \n",
      "1802           NaN      NaN        NaN      NaN  ...            2.45   \n",
      "1803           NaN      NaN        NaN      NaN  ...            2.72   \n",
      "1804           NaN      NaN        NaN      NaN  ...            2.70   \n",
      "\n",
      "country  United States  Uruguay  Uzbekistan  Vanuatu  Venezuela  Vietnam  \\\n",
      "1800            0.0422      NaN         NaN      NaN        NaN      NaN   \n",
      "1801            0.0438      NaN         NaN      NaN        NaN      NaN   \n",
      "1802            0.0465      NaN         NaN      NaN        NaN      NaN   \n",
      "1803            0.0468      NaN         NaN      NaN        NaN      NaN   \n",
      "1804            0.0516      NaN         NaN      NaN        NaN      NaN   \n",
      "\n",
      "country  Yemen  Zambia  Zimbabwe  \n",
      "1800       NaN     NaN       NaN  \n",
      "1801       NaN     NaN       NaN  \n",
      "1802       NaN     NaN       NaN  \n",
      "1803       NaN     NaN       NaN  \n",
      "1804       NaN     NaN       NaN  \n",
      "\n",
      "[5 rows x 192 columns]\n",
      "gdp\n",
      "country  Abkhazia  Afghanistan  Akrotiri and Dhekelia  Albania      Algeria  \\\n",
      "1960          NaN          NaN                    NaN      NaN  1280.384828   \n",
      "1961          NaN          NaN                    NaN      NaN  1085.414612   \n",
      "1962          NaN          NaN                    NaN      NaN   855.947986   \n",
      "1963          NaN          NaN                    NaN      NaN  1128.415780   \n",
      "1964          NaN          NaN                    NaN      NaN  1170.323896   \n",
      "\n",
      "country  American Samoa  Andorra  Angola  Anguilla  Antigua and Barbuda  ...  \\\n",
      "1960                NaN      NaN     NaN       NaN                  NaN  ...   \n",
      "1961                NaN      NaN     NaN       NaN                  NaN  ...   \n",
      "1962                NaN      NaN     NaN       NaN                  NaN  ...   \n",
      "1963                NaN      NaN     NaN       NaN                  NaN  ...   \n",
      "1964                NaN      NaN     NaN       NaN                  NaN  ...   \n",
      "\n",
      "country  Antarctica  Virgin Islands, British  Hawaiian Trade Zone  \\\n",
      "1960            NaN                      NaN                  NaN   \n",
      "1961            NaN                      NaN                  NaN   \n",
      "1962            NaN                      NaN                  NaN   \n",
      "1963            NaN                      NaN                  NaN   \n",
      "1964            NaN                      NaN                  NaN   \n",
      "\n",
      "country  U.S. Pacific Islands  Wake Island  Bonaire  Sark  Chinese Taipei  \\\n",
      "1960                      NaN          NaN      NaN   NaN             NaN   \n",
      "1961                      NaN          NaN      NaN   NaN             NaN   \n",
      "1962                      NaN          NaN      NaN   NaN             NaN   \n",
      "1963                      NaN          NaN      NaN   NaN             NaN   \n",
      "1964                      NaN          NaN      NaN   NaN             NaN   \n",
      "\n",
      "country  Saint Eustatius  Saba  \n",
      "1960                 NaN   NaN  \n",
      "1961                 NaN   NaN  \n",
      "1962                 NaN   NaN  \n",
      "1963                 NaN   NaN  \n",
      "1964                 NaN   NaN  \n",
      "\n",
      "[5 rows x 275 columns]\n",
      "income\n",
      "country  Afghanistan  Albania  Algeria  Andorra  Angola  Antigua and Barbuda  \\\n",
      "1800             603      667      715     1200     618                  757   \n",
      "1801             603      667      716     1200     620                  757   \n",
      "1802             603      667      717     1200     623                  757   \n",
      "1803             603      667      718     1200     626                  757   \n",
      "1804             603      667      719     1210     628                  757   \n",
      "\n",
      "country  Argentina  Armenia  Australia  Austria  ...  United Kingdom  \\\n",
      "1800          1640      514        817     1850  ...            3280   \n",
      "1801          1640      514        822     1850  ...            3290   \n",
      "1802          1650      514        826     1860  ...            3300   \n",
      "1803          1650      514        831     1870  ...            3190   \n",
      "1804          1660      514        836     1880  ...            3140   \n",
      "\n",
      "country  United States  Uruguay  Uzbekistan  Vanuatu  Venezuela  Vietnam  \\\n",
      "1800              1980     1810         502      585       1210      778   \n",
      "1801              2020     1810         502      586       1200      778   \n",
      "1802              2050     1820         502      586       1200      778   \n",
      "1803              2020     1830         502      586       1190      778   \n",
      "1804              2010     1840         503      586       1190      778   \n",
      "\n",
      "country  Yemen  Zambia  Zimbabwe  \n",
      "1800       877     663       869  \n",
      "1801       879     665       870  \n",
      "1802       882     667       871  \n",
      "1803       884     668       872  \n",
      "1804       887     670       873  \n",
      "\n",
      "[5 rows x 193 columns]\n",
      "pop\n",
      "country  Afghanistan  Albania  Algeria  Andorra   Angola  Antigua and Barbuda  \\\n",
      "1800         3280000   400000  2500000     2650  1570000                37000   \n",
      "1801         3280000   402000  2510000     2650  1570000                37000   \n",
      "1802         3280000   404000  2520000     2650  1570000                37000   \n",
      "1803         3280000   405000  2530000     2650  1570000                37000   \n",
      "1804         3280000   407000  2540000     2650  1570000                37000   \n",
      "\n",
      "country  Argentina  Armenia  Australia  Austria  ...  United Kingdom  \\\n",
      "1800        534000   413000     200000  3000000  ...        10800000   \n",
      "1801        520000   413000     205000  3020000  ...        10900000   \n",
      "1802        506000   413000     211000  3040000  ...        11000000   \n",
      "1803        492000   413000     216000  3050000  ...        11100000   \n",
      "1804        479000   413000     222000  3070000  ...        11200000   \n",
      "\n",
      "country  United States  Uruguay  Uzbekistan  Vanuatu  Venezuela  Vietnam  \\\n",
      "1800           6000000    55000     1920000    27800    1000000  4000000   \n",
      "1801           6110000    55000     1920000    27800     978000  4100000   \n",
      "1802           6230000    55000     1920000    27800     957000  4200000   \n",
      "1803           6350000    55000     1920000    27800     936000  4310000   \n",
      "1804           6470000    55000     1920000    27800     916000  4410000   \n",
      "\n",
      "country    Yemen  Zambia  Zimbabwe  \n",
      "1800     2590000  747000   1090000  \n",
      "1801     2590000  758000   1090000  \n",
      "1802     2590000  770000   1090000  \n",
      "1803     2590000  782000   1090000  \n",
      "1804     2590000  794000   1090000  \n",
      "\n",
      "[5 rows x 195 columns]\n",
      "life\n",
      "country  Afghanistan  Albania  Algeria  American Samoa  Andorra  Angola  \\\n",
      "1800       28.211000     35.4  28.8224             NaN      NaN   26.98   \n",
      "1801       28.200753     35.4  28.8224             NaN      NaN   26.98   \n",
      "1802       28.190507     35.4  28.8224             NaN      NaN   26.98   \n",
      "1803       28.180260     35.4  28.8224             NaN      NaN   26.98   \n",
      "1804       28.170013     35.4  28.8224             NaN      NaN   26.98   \n",
      "\n",
      "country  Anguilla  Antigua and Barbuda  Argentina  Armenia  ...  Vanuatu  \\\n",
      "1800          NaN               33.536       33.2   33.995  ...     24.3   \n",
      "1801          NaN               33.536       33.2   33.995  ...     24.3   \n",
      "1802          NaN               33.536       33.2   33.995  ...     24.3   \n",
      "1803          NaN               33.536       33.2   33.995  ...     24.3   \n",
      "1804          NaN               33.536       33.2   33.995  ...     24.3   \n",
      "\n",
      "country  Venezuela  West Bank and Gaza  Western Sahara  Vietnam  \\\n",
      "1800          32.2                32.1          34.753     32.0   \n",
      "1801          32.2                32.1          34.753     32.0   \n",
      "1802          32.2                32.1          34.753     32.0   \n",
      "1803          32.2                32.1          34.753     32.0   \n",
      "1804          32.2                32.1          34.753     32.0   \n",
      "\n",
      "country  Virgin Islands (U.S.)  Yemen, Rep.  Zambia  Zimbabwe  Åland  \n",
      "1800                    33.403       23.387    32.6      33.7    NaN  \n",
      "1801                    33.403       23.387    32.6      33.7    NaN  \n",
      "1802                    33.403       23.387    32.6      33.7    NaN  \n",
      "1803                    33.403       23.387    32.6      33.7    NaN  \n",
      "1804                    33.403       23.387    32.6      33.7    NaN  \n",
      "\n",
      "[5 rows x 244 columns]\n"
     ]
    }
   ],
   "source": [
    "for name, values in all_data.items():\n",
    "    print(name)\n",
    "    print(values.head())"
   ]
  },
  {
   "cell_type": "code",
   "execution_count": null,
   "metadata": {},
   "outputs": [],
   "source": []
  },
  {
   "cell_type": "markdown",
   "metadata": {},
   "source": [
    "# Tranforming and cleaning the data \n",
    "\n",
    "Now we want a flatten (tall and skinny) representation of the data \n",
    "to be more similar to other online resoources.\n",
    "\n",
    "For this we need the stack / unstack operations. "
   ]
  },
  {
   "cell_type": "code",
   "execution_count": 120,
   "metadata": {},
   "outputs": [],
   "source": [
    "all_data.keys()\n",
    "all_data['continent'] = continents #['Continent']\n",
    "# means['continent'] = continents['Continent']"
   ]
  },
  {
   "cell_type": "code",
   "execution_count": 121,
   "metadata": {},
   "outputs": [
    {
     "data": {
      "text/html": [
       "<div>\n",
       "<style scoped>\n",
       "    .dataframe tbody tr th:only-of-type {\n",
       "        vertical-align: middle;\n",
       "    }\n",
       "\n",
       "    .dataframe tbody tr th {\n",
       "        vertical-align: top;\n",
       "    }\n",
       "\n",
       "    .dataframe thead th {\n",
       "        text-align: right;\n",
       "    }\n",
       "</style>\n",
       "<table border=\"1\" class=\"dataframe\">\n",
       "  <thead>\n",
       "    <tr style=\"text-align: right;\">\n",
       "      <th></th>\n",
       "      <th></th>\n",
       "      <th></th>\n",
       "      <th>life</th>\n",
       "    </tr>\n",
       "    <tr>\n",
       "      <th>continent</th>\n",
       "      <th>country</th>\n",
       "      <th>year</th>\n",
       "      <th></th>\n",
       "    </tr>\n",
       "  </thead>\n",
       "  <tbody>\n",
       "    <tr>\n",
       "      <th rowspan=\"5\" valign=\"top\">Asia</th>\n",
       "      <th rowspan=\"5\" valign=\"top\">Afghanistan</th>\n",
       "      <th>1800</th>\n",
       "      <td>28.211000</td>\n",
       "    </tr>\n",
       "    <tr>\n",
       "      <th>1801</th>\n",
       "      <td>28.200753</td>\n",
       "    </tr>\n",
       "    <tr>\n",
       "      <th>1802</th>\n",
       "      <td>28.190507</td>\n",
       "    </tr>\n",
       "    <tr>\n",
       "      <th>1803</th>\n",
       "      <td>28.180260</td>\n",
       "    </tr>\n",
       "    <tr>\n",
       "      <th>1804</th>\n",
       "      <td>28.170013</td>\n",
       "    </tr>\n",
       "    <tr>\n",
       "      <th>...</th>\n",
       "      <th>...</th>\n",
       "      <th>...</th>\n",
       "      <td>...</td>\n",
       "    </tr>\n",
       "    <tr>\n",
       "      <th rowspan=\"5\" valign=\"top\">NaN</th>\n",
       "      <th rowspan=\"5\" valign=\"top\">Åland</th>\n",
       "      <th>2002</th>\n",
       "      <td>81.800000</td>\n",
       "    </tr>\n",
       "    <tr>\n",
       "      <th>2003</th>\n",
       "      <td>80.630000</td>\n",
       "    </tr>\n",
       "    <tr>\n",
       "      <th>2004</th>\n",
       "      <td>79.880000</td>\n",
       "    </tr>\n",
       "    <tr>\n",
       "      <th>2005</th>\n",
       "      <td>80.000000</td>\n",
       "    </tr>\n",
       "    <tr>\n",
       "      <th>2006</th>\n",
       "      <td>80.100000</td>\n",
       "    </tr>\n",
       "  </tbody>\n",
       "</table>\n",
       "<p>41343 rows × 1 columns</p>\n",
       "</div>"
      ],
      "text/plain": [
       "                                 life\n",
       "continent country     year           \n",
       "Asia      Afghanistan 1800  28.211000\n",
       "                      1801  28.200753\n",
       "                      1802  28.190507\n",
       "                      1803  28.180260\n",
       "                      1804  28.170013\n",
       "...                               ...\n",
       "NaN       Åland       2002  81.800000\n",
       "                      2003  80.630000\n",
       "                      2004  79.880000\n",
       "                      2005  80.000000\n",
       "                      2006  80.100000\n",
       "\n",
       "[41343 rows x 1 columns]"
      ]
     },
     "execution_count": 121,
     "metadata": {},
     "output_type": "execute_result"
    }
   ],
   "source": [
    "\n",
    "name = \"life\"\n",
    "datanow = all_data[name].transpose()\n",
    "datanow[\"continent\"] = all_data[\"continent\"]\n",
    "datanow = datanow.reset_index().set_index(['country', 'continent'])\n",
    "# datanow = datanow.transpose()\n",
    "\n",
    "datanow = (\n",
    "    datanow\n",
    "        .stack()\n",
    "        .reset_index()\n",
    "        .rename(columns={\"level_2\":\"year\", 0:name})\n",
    "        .set_index( [\"continent\", \"country\", \"year\"]) #.transpose()\n",
    ")\n",
    "datanow "
   ]
  },
  {
   "cell_type": "code",
   "execution_count": 122,
   "metadata": {},
   "outputs": [
    {
     "data": {
      "text/html": [
       "<div>\n",
       "<style scoped>\n",
       "    .dataframe tbody tr th:only-of-type {\n",
       "        vertical-align: middle;\n",
       "    }\n",
       "\n",
       "    .dataframe tbody tr th {\n",
       "        vertical-align: top;\n",
       "    }\n",
       "\n",
       "    .dataframe thead th {\n",
       "        text-align: right;\n",
       "    }\n",
       "</style>\n",
       "<table border=\"1\" class=\"dataframe\">\n",
       "  <thead>\n",
       "    <tr style=\"text-align: right;\">\n",
       "      <th></th>\n",
       "      <th></th>\n",
       "      <th></th>\n",
       "      <th>life</th>\n",
       "    </tr>\n",
       "    <tr>\n",
       "      <th>continent</th>\n",
       "      <th>country</th>\n",
       "      <th>year</th>\n",
       "      <th></th>\n",
       "    </tr>\n",
       "  </thead>\n",
       "  <tbody>\n",
       "    <tr>\n",
       "      <th rowspan=\"5\" valign=\"top\">Asia</th>\n",
       "      <th rowspan=\"5\" valign=\"top\">Afghanistan</th>\n",
       "      <th>1800</th>\n",
       "      <td>28.211000</td>\n",
       "    </tr>\n",
       "    <tr>\n",
       "      <th>1801</th>\n",
       "      <td>28.200753</td>\n",
       "    </tr>\n",
       "    <tr>\n",
       "      <th>1802</th>\n",
       "      <td>28.190507</td>\n",
       "    </tr>\n",
       "    <tr>\n",
       "      <th>1803</th>\n",
       "      <td>28.180260</td>\n",
       "    </tr>\n",
       "    <tr>\n",
       "      <th>1804</th>\n",
       "      <td>28.170013</td>\n",
       "    </tr>\n",
       "  </tbody>\n",
       "</table>\n",
       "</div>"
      ],
      "text/plain": [
       "                                 life\n",
       "continent country     year           \n",
       "Asia      Afghanistan 1800  28.211000\n",
       "                      1801  28.200753\n",
       "                      1802  28.190507\n",
       "                      1803  28.180260\n",
       "                      1804  28.170013"
      ]
     },
     "execution_count": 122,
     "metadata": {},
     "output_type": "execute_result"
    }
   ],
   "source": [
    "datanow.head()"
   ]
  },
  {
   "cell_type": "code",
   "execution_count": 124,
   "metadata": {},
   "outputs": [
    {
     "data": {
      "text/html": [
       "<div>\n",
       "<style scoped>\n",
       "    .dataframe tbody tr th:only-of-type {\n",
       "        vertical-align: middle;\n",
       "    }\n",
       "\n",
       "    .dataframe tbody tr th {\n",
       "        vertical-align: top;\n",
       "    }\n",
       "\n",
       "    .dataframe thead th {\n",
       "        text-align: right;\n",
       "    }\n",
       "</style>\n",
       "<table border=\"1\" class=\"dataframe\">\n",
       "  <thead>\n",
       "    <tr style=\"text-align: right;\">\n",
       "      <th></th>\n",
       "      <th>continent</th>\n",
       "      <th>country</th>\n",
       "      <th>year</th>\n",
       "      <th>level_3</th>\n",
       "      <th>life</th>\n",
       "    </tr>\n",
       "  </thead>\n",
       "  <tbody>\n",
       "    <tr>\n",
       "      <th>0</th>\n",
       "      <td>Asia</td>\n",
       "      <td>Afghanistan</td>\n",
       "      <td>1800</td>\n",
       "      <td>life</td>\n",
       "      <td>28.211000</td>\n",
       "    </tr>\n",
       "    <tr>\n",
       "      <th>1</th>\n",
       "      <td>Asia</td>\n",
       "      <td>Afghanistan</td>\n",
       "      <td>1801</td>\n",
       "      <td>life</td>\n",
       "      <td>28.200753</td>\n",
       "    </tr>\n",
       "    <tr>\n",
       "      <th>2</th>\n",
       "      <td>Asia</td>\n",
       "      <td>Afghanistan</td>\n",
       "      <td>1802</td>\n",
       "      <td>life</td>\n",
       "      <td>28.190507</td>\n",
       "    </tr>\n",
       "    <tr>\n",
       "      <th>3</th>\n",
       "      <td>Asia</td>\n",
       "      <td>Afghanistan</td>\n",
       "      <td>1803</td>\n",
       "      <td>life</td>\n",
       "      <td>28.180260</td>\n",
       "    </tr>\n",
       "    <tr>\n",
       "      <th>4</th>\n",
       "      <td>Asia</td>\n",
       "      <td>Afghanistan</td>\n",
       "      <td>1804</td>\n",
       "      <td>life</td>\n",
       "      <td>28.170013</td>\n",
       "    </tr>\n",
       "    <tr>\n",
       "      <th>...</th>\n",
       "      <td>...</td>\n",
       "      <td>...</td>\n",
       "      <td>...</td>\n",
       "      <td>...</td>\n",
       "      <td>...</td>\n",
       "    </tr>\n",
       "    <tr>\n",
       "      <th>41338</th>\n",
       "      <td>NaN</td>\n",
       "      <td>Åland</td>\n",
       "      <td>2002</td>\n",
       "      <td>life</td>\n",
       "      <td>81.800000</td>\n",
       "    </tr>\n",
       "    <tr>\n",
       "      <th>41339</th>\n",
       "      <td>NaN</td>\n",
       "      <td>Åland</td>\n",
       "      <td>2003</td>\n",
       "      <td>life</td>\n",
       "      <td>80.630000</td>\n",
       "    </tr>\n",
       "    <tr>\n",
       "      <th>41340</th>\n",
       "      <td>NaN</td>\n",
       "      <td>Åland</td>\n",
       "      <td>2004</td>\n",
       "      <td>life</td>\n",
       "      <td>79.880000</td>\n",
       "    </tr>\n",
       "    <tr>\n",
       "      <th>41341</th>\n",
       "      <td>NaN</td>\n",
       "      <td>Åland</td>\n",
       "      <td>2005</td>\n",
       "      <td>life</td>\n",
       "      <td>80.000000</td>\n",
       "    </tr>\n",
       "    <tr>\n",
       "      <th>41342</th>\n",
       "      <td>NaN</td>\n",
       "      <td>Åland</td>\n",
       "      <td>2006</td>\n",
       "      <td>life</td>\n",
       "      <td>80.100000</td>\n",
       "    </tr>\n",
       "  </tbody>\n",
       "</table>\n",
       "<p>41343 rows × 5 columns</p>\n",
       "</div>"
      ],
      "text/plain": [
       "      continent      country  year level_3       life\n",
       "0          Asia  Afghanistan  1800    life  28.211000\n",
       "1          Asia  Afghanistan  1801    life  28.200753\n",
       "2          Asia  Afghanistan  1802    life  28.190507\n",
       "3          Asia  Afghanistan  1803    life  28.180260\n",
       "4          Asia  Afghanistan  1804    life  28.170013\n",
       "...         ...          ...   ...     ...        ...\n",
       "41338       NaN        Åland  2002    life  81.800000\n",
       "41339       NaN        Åland  2003    life  80.630000\n",
       "41340       NaN        Åland  2004    life  79.880000\n",
       "41341       NaN        Åland  2005    life  80.000000\n",
       "41342       NaN        Åland  2006    life  80.100000\n",
       "\n",
       "[41343 rows x 5 columns]"
      ]
     },
     "execution_count": 124,
     "metadata": {},
     "output_type": "execute_result"
    }
   ],
   "source": [
    " (\n",
    "        datanow\n",
    "            .stack()\n",
    "            .reset_index()\n",
    "            .rename(columns={\"level_0\":\"year\", 0:name})\n",
    "            #.set_index([\"year\", \"country\"]) #.transpose()\n",
    "        )"
   ]
  },
  {
   "cell_type": "code",
   "execution_count": 125,
   "metadata": {},
   "outputs": [],
   "source": [
    "#coal_afg = coal.loc[]\n",
    "#coal_afg.tail()\n"
   ]
  },
  {
   "cell_type": "code",
   "execution_count": 140,
   "metadata": {},
   "outputs": [
    {
     "data": {
      "text/html": [
       "<div>\n",
       "<style scoped>\n",
       "    .dataframe tbody tr th:only-of-type {\n",
       "        vertical-align: middle;\n",
       "    }\n",
       "\n",
       "    .dataframe tbody tr th {\n",
       "        vertical-align: top;\n",
       "    }\n",
       "\n",
       "    .dataframe thead th {\n",
       "        text-align: right;\n",
       "    }\n",
       "</style>\n",
       "<table border=\"1\" class=\"dataframe\">\n",
       "  <thead>\n",
       "    <tr style=\"text-align: right;\">\n",
       "      <th></th>\n",
       "      <th>continent</th>\n",
       "      <th>country</th>\n",
       "      <th>year</th>\n",
       "      <th>co2</th>\n",
       "      <th>gdp</th>\n",
       "      <th>income</th>\n",
       "      <th>pop</th>\n",
       "      <th>life</th>\n",
       "    </tr>\n",
       "  </thead>\n",
       "  <tbody>\n",
       "    <tr>\n",
       "      <th>0</th>\n",
       "      <td>Asia</td>\n",
       "      <td>Afghanistan</td>\n",
       "      <td>1949</td>\n",
       "      <td>0.00192</td>\n",
       "      <td>NaN</td>\n",
       "      <td>2360.0</td>\n",
       "      <td>7620000</td>\n",
       "      <td>26.684247</td>\n",
       "    </tr>\n",
       "    <tr>\n",
       "      <th>1</th>\n",
       "      <td>Asia</td>\n",
       "      <td>Afghanistan</td>\n",
       "      <td>1950</td>\n",
       "      <td>0.01090</td>\n",
       "      <td>NaN</td>\n",
       "      <td>2390.0</td>\n",
       "      <td>7750000</td>\n",
       "      <td>26.674000</td>\n",
       "    </tr>\n",
       "    <tr>\n",
       "      <th>2</th>\n",
       "      <td>Asia</td>\n",
       "      <td>Afghanistan</td>\n",
       "      <td>1951</td>\n",
       "      <td>0.01170</td>\n",
       "      <td>NaN</td>\n",
       "      <td>2420.0</td>\n",
       "      <td>7840000</td>\n",
       "      <td>26.932000</td>\n",
       "    </tr>\n",
       "    <tr>\n",
       "      <th>3</th>\n",
       "      <td>Asia</td>\n",
       "      <td>Afghanistan</td>\n",
       "      <td>1952</td>\n",
       "      <td>0.01150</td>\n",
       "      <td>NaN</td>\n",
       "      <td>2460.0</td>\n",
       "      <td>7940000</td>\n",
       "      <td>27.448000</td>\n",
       "    </tr>\n",
       "    <tr>\n",
       "      <th>4</th>\n",
       "      <td>Asia</td>\n",
       "      <td>Afghanistan</td>\n",
       "      <td>1953</td>\n",
       "      <td>0.01320</td>\n",
       "      <td>NaN</td>\n",
       "      <td>2570.0</td>\n",
       "      <td>8040000</td>\n",
       "      <td>27.964000</td>\n",
       "    </tr>\n",
       "    <tr>\n",
       "      <th>...</th>\n",
       "      <td>...</td>\n",
       "      <td>...</td>\n",
       "      <td>...</td>\n",
       "      <td>...</td>\n",
       "      <td>...</td>\n",
       "      <td>...</td>\n",
       "      <td>...</td>\n",
       "      <td>...</td>\n",
       "    </tr>\n",
       "    <tr>\n",
       "      <th>18034</th>\n",
       "      <td>Africa</td>\n",
       "      <td>Zimbabwe</td>\n",
       "      <td>2014</td>\n",
       "      <td>0.88100</td>\n",
       "      <td>NaN</td>\n",
       "      <td>2510.0</td>\n",
       "      <td>13600000</td>\n",
       "      <td>NaN</td>\n",
       "    </tr>\n",
       "    <tr>\n",
       "      <th>18035</th>\n",
       "      <td>Africa</td>\n",
       "      <td>Zimbabwe</td>\n",
       "      <td>2015</td>\n",
       "      <td>0.88100</td>\n",
       "      <td>NaN</td>\n",
       "      <td>2510.0</td>\n",
       "      <td>13800000</td>\n",
       "      <td>NaN</td>\n",
       "    </tr>\n",
       "    <tr>\n",
       "      <th>18036</th>\n",
       "      <td>Africa</td>\n",
       "      <td>Zimbabwe</td>\n",
       "      <td>2016</td>\n",
       "      <td>0.77100</td>\n",
       "      <td>NaN</td>\n",
       "      <td>2490.0</td>\n",
       "      <td>14000000</td>\n",
       "      <td>NaN</td>\n",
       "    </tr>\n",
       "    <tr>\n",
       "      <th>18037</th>\n",
       "      <td>Africa</td>\n",
       "      <td>Zimbabwe</td>\n",
       "      <td>2017</td>\n",
       "      <td>0.84500</td>\n",
       "      <td>NaN</td>\n",
       "      <td>2570.0</td>\n",
       "      <td>14200000</td>\n",
       "      <td>NaN</td>\n",
       "    </tr>\n",
       "    <tr>\n",
       "      <th>18038</th>\n",
       "      <td>Africa</td>\n",
       "      <td>Zimbabwe</td>\n",
       "      <td>2018</td>\n",
       "      <td>0.85000</td>\n",
       "      <td>NaN</td>\n",
       "      <td>2620.0</td>\n",
       "      <td>14400000</td>\n",
       "      <td>NaN</td>\n",
       "    </tr>\n",
       "  </tbody>\n",
       "</table>\n",
       "<p>18039 rows × 8 columns</p>\n",
       "</div>"
      ],
      "text/plain": [
       "      continent      country  year      co2  gdp  income       pop       life\n",
       "0          Asia  Afghanistan  1949  0.00192  NaN  2360.0   7620000  26.684247\n",
       "1          Asia  Afghanistan  1950  0.01090  NaN  2390.0   7750000  26.674000\n",
       "2          Asia  Afghanistan  1951  0.01170  NaN  2420.0   7840000  26.932000\n",
       "3          Asia  Afghanistan  1952  0.01150  NaN  2460.0   7940000  27.448000\n",
       "4          Asia  Afghanistan  1953  0.01320  NaN  2570.0   8040000  27.964000\n",
       "...         ...          ...   ...      ...  ...     ...       ...        ...\n",
       "18034    Africa     Zimbabwe  2014  0.88100  NaN  2510.0  13600000        NaN\n",
       "18035    Africa     Zimbabwe  2015  0.88100  NaN  2510.0  13800000        NaN\n",
       "18036    Africa     Zimbabwe  2016  0.77100  NaN  2490.0  14000000        NaN\n",
       "18037    Africa     Zimbabwe  2017  0.84500  NaN  2570.0  14200000        NaN\n",
       "18038    Africa     Zimbabwe  2018  0.85000  NaN  2620.0  14400000        NaN\n",
       "\n",
       "[18039 rows x 8 columns]"
      ]
     },
     "execution_count": 140,
     "metadata": {},
     "output_type": "execute_result"
    }
   ],
   "source": [
    "combined = pd.DataFrame()\n",
    "for name in all_data:\n",
    "    if name  == \"continent\":\n",
    "        continue\n",
    "    datanow = all_data[name].transpose()\n",
    "    datanow[\"continent\"] = all_data[\"continent\"]\n",
    "    datanow = datanow.reset_index().set_index(['country', 'continent'])\n",
    "    # datanow = datanow.transpose()\n",
    "    datanow = (\n",
    "        datanow\n",
    "        .stack()\n",
    "        .reset_index()\n",
    "        .rename(columns={\"level_2\":\"year\", 0:name})\n",
    "        .set_index( [\"continent\", \"country\", \"year\"]) #.transpose()\n",
    "    )\n",
    "    combined[name] = datanow[name] \n",
    "combined.head()\n",
    "combined = combined.reset_index()\n",
    "combined"
   ]
  },
  {
   "cell_type": "code",
   "execution_count": 127,
   "metadata": {},
   "outputs": [],
   "source": [
    "#all_data[\"gdp\"].transpose().head()"
   ]
  },
  {
   "cell_type": "code",
   "execution_count": 128,
   "metadata": {},
   "outputs": [],
   "source": [
    "#combined[\"continent\"] = continents[\"Continent\"]"
   ]
  },
  {
   "cell_type": "code",
   "execution_count": 148,
   "metadata": {},
   "outputs": [
    {
     "data": {
      "text/html": [
       "<div>\n",
       "<style scoped>\n",
       "    .dataframe tbody tr th:only-of-type {\n",
       "        vertical-align: middle;\n",
       "    }\n",
       "\n",
       "    .dataframe tbody tr th {\n",
       "        vertical-align: top;\n",
       "    }\n",
       "\n",
       "    .dataframe thead th {\n",
       "        text-align: right;\n",
       "    }\n",
       "</style>\n",
       "<table border=\"1\" class=\"dataframe\">\n",
       "  <thead>\n",
       "    <tr style=\"text-align: right;\">\n",
       "      <th></th>\n",
       "      <th>continent</th>\n",
       "      <th>country</th>\n",
       "      <th>year</th>\n",
       "      <th>co2</th>\n",
       "      <th>gdp</th>\n",
       "      <th>income</th>\n",
       "      <th>pop</th>\n",
       "      <th>life</th>\n",
       "    </tr>\n",
       "  </thead>\n",
       "  <tbody>\n",
       "    <tr>\n",
       "      <th>10442</th>\n",
       "      <td>Europe</td>\n",
       "      <td>Moldova</td>\n",
       "      <td>2012</td>\n",
       "      <td>1.1700</td>\n",
       "      <td>NaN</td>\n",
       "      <td>4980.0</td>\n",
       "      <td>4080000</td>\n",
       "      <td>71.500000</td>\n",
       "    </tr>\n",
       "    <tr>\n",
       "      <th>17253</th>\n",
       "      <td>NaN</td>\n",
       "      <td>United States</td>\n",
       "      <td>2006</td>\n",
       "      <td>20.3000</td>\n",
       "      <td>38349.398789</td>\n",
       "      <td>50400.0</td>\n",
       "      <td>298000000</td>\n",
       "      <td>77.800000</td>\n",
       "    </tr>\n",
       "    <tr>\n",
       "      <th>16559</th>\n",
       "      <td>Africa</td>\n",
       "      <td>Uganda</td>\n",
       "      <td>1977</td>\n",
       "      <td>0.0708</td>\n",
       "      <td>NaN</td>\n",
       "      <td>1080.0</td>\n",
       "      <td>11400000</td>\n",
       "      <td>49.385000</td>\n",
       "    </tr>\n",
       "    <tr>\n",
       "      <th>9680</th>\n",
       "      <td>Africa</td>\n",
       "      <td>Malawi</td>\n",
       "      <td>1965</td>\n",
       "      <td>0.0842</td>\n",
       "      <td>109.029998</td>\n",
       "      <td>574.0</td>\n",
       "      <td>4130000</td>\n",
       "      <td>38.928000</td>\n",
       "    </tr>\n",
       "    <tr>\n",
       "      <th>8392</th>\n",
       "      <td>Asia</td>\n",
       "      <td>Jordan</td>\n",
       "      <td>2007</td>\n",
       "      <td>3.4300</td>\n",
       "      <td>2380.509340</td>\n",
       "      <td>9420.0</td>\n",
       "      <td>6260000</td>\n",
       "      <td>76.100000</td>\n",
       "    </tr>\n",
       "    <tr>\n",
       "      <th>1963</th>\n",
       "      <td>North America</td>\n",
       "      <td>Belize</td>\n",
       "      <td>1977</td>\n",
       "      <td>1.4500</td>\n",
       "      <td>1606.723937</td>\n",
       "      <td>3700.0</td>\n",
       "      <td>137000</td>\n",
       "      <td>68.509000</td>\n",
       "    </tr>\n",
       "    <tr>\n",
       "      <th>5023</th>\n",
       "      <td>North America</td>\n",
       "      <td>El Salvador</td>\n",
       "      <td>2001</td>\n",
       "      <td>0.9890</td>\n",
       "      <td>2239.118645</td>\n",
       "      <td>5620.0</td>\n",
       "      <td>5930000</td>\n",
       "      <td>73.200000</td>\n",
       "    </tr>\n",
       "    <tr>\n",
       "      <th>16252</th>\n",
       "      <td>Asia</td>\n",
       "      <td>Turkey</td>\n",
       "      <td>1935</td>\n",
       "      <td>0.3620</td>\n",
       "      <td>NaN</td>\n",
       "      <td>2160.0</td>\n",
       "      <td>16400000</td>\n",
       "      <td>35.307143</td>\n",
       "    </tr>\n",
       "    <tr>\n",
       "      <th>15783</th>\n",
       "      <td>Asia</td>\n",
       "      <td>Thailand</td>\n",
       "      <td>1981</td>\n",
       "      <td>0.7830</td>\n",
       "      <td>814.621063</td>\n",
       "      <td>3780.0</td>\n",
       "      <td>48300000</td>\n",
       "      <td>NaN</td>\n",
       "    </tr>\n",
       "    <tr>\n",
       "      <th>9578</th>\n",
       "      <td>Europe</td>\n",
       "      <td>Luxembourg</td>\n",
       "      <td>1999</td>\n",
       "      <td>18.9000</td>\n",
       "      <td>43416.660484</td>\n",
       "      <td>76500.0</td>\n",
       "      <td>431000</td>\n",
       "      <td>77.900000</td>\n",
       "    </tr>\n",
       "    <tr>\n",
       "      <th>13518</th>\n",
       "      <td>Asia</td>\n",
       "      <td>Saudi Arabia</td>\n",
       "      <td>1971</td>\n",
       "      <td>9.8000</td>\n",
       "      <td>8768.687017</td>\n",
       "      <td>40500.0</td>\n",
       "      <td>6100000</td>\n",
       "      <td>53.764000</td>\n",
       "    </tr>\n",
       "  </tbody>\n",
       "</table>\n",
       "</div>"
      ],
      "text/plain": [
       "           continent        country  year      co2           gdp   income  \\\n",
       "10442         Europe        Moldova  2012   1.1700           NaN   4980.0   \n",
       "17253            NaN  United States  2006  20.3000  38349.398789  50400.0   \n",
       "16559         Africa         Uganda  1977   0.0708           NaN   1080.0   \n",
       "9680          Africa         Malawi  1965   0.0842    109.029998    574.0   \n",
       "8392            Asia         Jordan  2007   3.4300   2380.509340   9420.0   \n",
       "1963   North America         Belize  1977   1.4500   1606.723937   3700.0   \n",
       "5023   North America    El Salvador  2001   0.9890   2239.118645   5620.0   \n",
       "16252           Asia         Turkey  1935   0.3620           NaN   2160.0   \n",
       "15783           Asia       Thailand  1981   0.7830    814.621063   3780.0   \n",
       "9578          Europe     Luxembourg  1999  18.9000  43416.660484  76500.0   \n",
       "13518           Asia   Saudi Arabia  1971   9.8000   8768.687017  40500.0   \n",
       "\n",
       "             pop       life  \n",
       "10442    4080000  71.500000  \n",
       "17253  298000000  77.800000  \n",
       "16559   11400000  49.385000  \n",
       "9680     4130000  38.928000  \n",
       "8392     6260000  76.100000  \n",
       "1963      137000  68.509000  \n",
       "5023     5930000  73.200000  \n",
       "16252   16400000  35.307143  \n",
       "15783   48300000        NaN  \n",
       "9578      431000  77.900000  \n",
       "13518    6100000  53.764000  "
      ]
     },
     "execution_count": 148,
     "metadata": {},
     "output_type": "execute_result"
    }
   ],
   "source": [
    "combined.sample(n=11)"
   ]
  },
  {
   "cell_type": "code",
   "execution_count": 143,
   "metadata": {},
   "outputs": [
    {
     "data": {
      "text/html": [
       "<div>\n",
       "<style scoped>\n",
       "    .dataframe tbody tr th:only-of-type {\n",
       "        vertical-align: middle;\n",
       "    }\n",
       "\n",
       "    .dataframe tbody tr th {\n",
       "        vertical-align: top;\n",
       "    }\n",
       "\n",
       "    .dataframe thead th {\n",
       "        text-align: right;\n",
       "    }\n",
       "</style>\n",
       "<table border=\"1\" class=\"dataframe\">\n",
       "  <thead>\n",
       "    <tr style=\"text-align: right;\">\n",
       "      <th></th>\n",
       "      <th>continent</th>\n",
       "      <th>country</th>\n",
       "      <th>year</th>\n",
       "      <th>co2</th>\n",
       "      <th>gdp</th>\n",
       "      <th>income</th>\n",
       "      <th>pop</th>\n",
       "      <th>life</th>\n",
       "    </tr>\n",
       "  </thead>\n",
       "  <tbody>\n",
       "  </tbody>\n",
       "</table>\n",
       "</div>"
      ],
      "text/plain": [
       "Empty DataFrame\n",
       "Columns: [continent, country, year, co2, gdp, income, pop, life]\n",
       "Index: []"
      ]
     },
     "execution_count": 143,
     "metadata": {},
     "output_type": "execute_result"
    }
   ],
   "source": [
    "combined.query(\"year==2006\")"
   ]
  },
  {
   "cell_type": "code",
   "execution_count": 144,
   "metadata": {},
   "outputs": [],
   "source": [
    "import plotly.express as px"
   ]
  },
  {
   "cell_type": "code",
   "execution_count": 145,
   "metadata": {},
   "outputs": [],
   "source": [
    "dfplotly = px.data.gapminder()"
   ]
  },
  {
   "cell_type": "code",
   "execution_count": 146,
   "metadata": {},
   "outputs": [
    {
     "data": {
      "text/html": [
       "<div>\n",
       "<style scoped>\n",
       "    .dataframe tbody tr th:only-of-type {\n",
       "        vertical-align: middle;\n",
       "    }\n",
       "\n",
       "    .dataframe tbody tr th {\n",
       "        vertical-align: top;\n",
       "    }\n",
       "\n",
       "    .dataframe thead th {\n",
       "        text-align: right;\n",
       "    }\n",
       "</style>\n",
       "<table border=\"1\" class=\"dataframe\">\n",
       "  <thead>\n",
       "    <tr style=\"text-align: right;\">\n",
       "      <th></th>\n",
       "      <th>country</th>\n",
       "      <th>continent</th>\n",
       "      <th>year</th>\n",
       "      <th>lifeExp</th>\n",
       "      <th>pop</th>\n",
       "      <th>gdpPercap</th>\n",
       "      <th>iso_alpha</th>\n",
       "      <th>iso_num</th>\n",
       "    </tr>\n",
       "  </thead>\n",
       "  <tbody>\n",
       "    <tr>\n",
       "      <th>0</th>\n",
       "      <td>Afghanistan</td>\n",
       "      <td>Asia</td>\n",
       "      <td>1952</td>\n",
       "      <td>28.801</td>\n",
       "      <td>8425333</td>\n",
       "      <td>779.445314</td>\n",
       "      <td>AFG</td>\n",
       "      <td>4</td>\n",
       "    </tr>\n",
       "    <tr>\n",
       "      <th>1</th>\n",
       "      <td>Afghanistan</td>\n",
       "      <td>Asia</td>\n",
       "      <td>1957</td>\n",
       "      <td>30.332</td>\n",
       "      <td>9240934</td>\n",
       "      <td>820.853030</td>\n",
       "      <td>AFG</td>\n",
       "      <td>4</td>\n",
       "    </tr>\n",
       "    <tr>\n",
       "      <th>2</th>\n",
       "      <td>Afghanistan</td>\n",
       "      <td>Asia</td>\n",
       "      <td>1962</td>\n",
       "      <td>31.997</td>\n",
       "      <td>10267083</td>\n",
       "      <td>853.100710</td>\n",
       "      <td>AFG</td>\n",
       "      <td>4</td>\n",
       "    </tr>\n",
       "    <tr>\n",
       "      <th>3</th>\n",
       "      <td>Afghanistan</td>\n",
       "      <td>Asia</td>\n",
       "      <td>1967</td>\n",
       "      <td>34.020</td>\n",
       "      <td>11537966</td>\n",
       "      <td>836.197138</td>\n",
       "      <td>AFG</td>\n",
       "      <td>4</td>\n",
       "    </tr>\n",
       "    <tr>\n",
       "      <th>4</th>\n",
       "      <td>Afghanistan</td>\n",
       "      <td>Asia</td>\n",
       "      <td>1972</td>\n",
       "      <td>36.088</td>\n",
       "      <td>13079460</td>\n",
       "      <td>739.981106</td>\n",
       "      <td>AFG</td>\n",
       "      <td>4</td>\n",
       "    </tr>\n",
       "  </tbody>\n",
       "</table>\n",
       "</div>"
      ],
      "text/plain": [
       "       country continent  year  lifeExp       pop   gdpPercap iso_alpha  \\\n",
       "0  Afghanistan      Asia  1952   28.801   8425333  779.445314       AFG   \n",
       "1  Afghanistan      Asia  1957   30.332   9240934  820.853030       AFG   \n",
       "2  Afghanistan      Asia  1962   31.997  10267083  853.100710       AFG   \n",
       "3  Afghanistan      Asia  1967   34.020  11537966  836.197138       AFG   \n",
       "4  Afghanistan      Asia  1972   36.088  13079460  739.981106       AFG   \n",
       "\n",
       "   iso_num  \n",
       "0        4  \n",
       "1        4  \n",
       "2        4  \n",
       "3        4  \n",
       "4        4  "
      ]
     },
     "execution_count": 146,
     "metadata": {},
     "output_type": "execute_result"
    }
   ],
   "source": [
    "dfplotly.head()"
   ]
  },
  {
   "cell_type": "code",
   "execution_count": null,
   "metadata": {},
   "outputs": [],
   "source": []
  },
  {
   "cell_type": "code",
   "execution_count": 147,
   "metadata": {},
   "outputs": [
    {
     "data": {
      "application/vnd.plotly.v1+json": {
       "config": {
        "plotlyServerURL": "https://plot.ly"
       },
       "data": [
        {
         "hovertemplate": "<b>%{hovertext}</b><br><br>continent=Europe<br>pop=%{x}<br>gdp=%{marker.size}<extra></extra>",
         "hovertext": [
          "Albania",
          "Albania",
          "Andorra",
          "Andorra",
          "Armenia",
          "Armenia",
          "Austria",
          "Austria",
          "Azerbaijan",
          "Azerbaijan",
          "Belarus",
          "Belarus",
          "Belgium",
          "Belgium",
          "Bosnia and Herzegovina",
          "Bosnia and Herzegovina",
          "Bulgaria",
          "Bulgaria",
          "Croatia",
          "Croatia",
          "Cyprus",
          "Cyprus",
          "Denmark",
          "Denmark",
          "Estonia",
          "Estonia",
          "Finland",
          "Finland",
          "France",
          "France",
          "Georgia",
          "Georgia",
          "Germany",
          "Germany",
          "Greece",
          "Greece",
          "Hungary",
          "Hungary",
          "Iceland",
          "Iceland",
          "Ireland",
          "Ireland",
          "Italy",
          "Italy",
          "Latvia",
          "Latvia",
          "Lithuania",
          "Lithuania",
          "Luxembourg",
          "Luxembourg",
          "Malta",
          "Malta",
          "Moldova",
          "Moldova",
          "Montenegro",
          "Montenegro",
          "Netherlands",
          "Netherlands",
          "Norway",
          "Norway",
          "Poland",
          "Poland",
          "Portugal",
          "Portugal",
          "Romania",
          "Romania",
          "Serbia",
          "Serbia",
          "Slovenia",
          "Slovenia",
          "Spain",
          "Spain",
          "Sweden",
          "Sweden",
          "Switzerland",
          "Switzerland",
          "Ukraine",
          "Ukraine",
          "United Kingdom",
          "United Kingdom"
         ],
         "legendgroup": "Europe",
         "marker": {
          "color": "#636efa",
          "size": [
           1594.4950670397,
           1681.6139097343,
           21595.3954820663,
           21495.8050827331,
           1253.8133004763001,
           1424.1905619883998,
           26171.6909118266,
           27036.4873319233,
           1573.6421796103,
           1945.6375491109,
           2067.6094246023,
           2253.4641114683,
           24512.4131357791,
           25034.666922931698,
           1969.4827380635002,
           2105.5780280234,
           2332.3631314786,
           2494.3526539321,
           6325.6742668264005,
           6651.741475562801,
           14719.257659,
           15248.865286000002,
           32400.060610408702,
           32767.403492222402,
           6570.3301386799,
           7072.4358636901,
           27495.2413640093,
           28839.222406095898,
           23133.3511348738,
           23516.2231728751,
           1083.089880206,
           1219.4483194539998,
           24463.8464685677,
           25297.3853934236,
           14352.8395369357,
           14801.5542275146,
           5868.301699975699,
           5884.1409617931995,
           36952.192069733195,
           38185.3336752324,
           30669.372587693702,
           31543.6025270593,
           20102.2302310616,
           20291.2266397802,
           5695.3614545149,
           6296.2271161896,
           5287.1365512088005,
           5839.145602375601,
           53628.2345546544,
           56285.276849843205,
           10405.8459640085,
           10781.0496896617,
           530.0947081268,
           547.673773792,
           1958.1544148325,
           2164.6116289362,
           26007.679137478397,
           26968.6176962875,
           41245.808625363905,
           41904.2102149924,
           5552.501269615899,
           5932.474410440501,
           11716.008960250801,
           11965.9966113288,
           2444.0484278764,
           2595.5960856942,
           1102.6808895589,
           1166.9475670228,
           12588.108384206202,
           13377.9153299674,
           16074.4617847975,
           16351.111081205301,
           32431.940398513598,
           33259.262848621496,
           37877.182487742,
           38983.8753244592,
           1037.3122590174,
           1125.9597058353,
           28913.096291808903,
           29771.303348229198
          ],
          "sizemode": "area",
          "sizeref": 15.634799124956446,
          "symbol": "circle"
         },
         "mode": "markers",
         "name": "Europe",
         "orientation": "v",
         "showlegend": true,
         "type": "scatter",
         "x": [
          3060000,
          3030000,
          81000,
          82700,
          2960000,
          2930000,
          8290000,
          8310000,
          8630000,
          8720000,
          9520000,
          9480000,
          10600000,
          10700000,
          3770000,
          3760000,
          7630000,
          7580000,
          4370000,
          4360000,
          1050000,
          1060000,
          5440000,
          5470000,
          1350000,
          1340000,
          5280000,
          5300000,
          61500000,
          61900000,
          4190000,
          4170000,
          81500000,
          81300000,
          11200000,
          11100000,
          10100000,
          10000000,
          300000,
          305000,
          4230000,
          4320000,
          58500000,
          58700000,
          2230000,
          2200000,
          3300000,
          3260000,
          466000,
          475000,
          406000,
          408000,
          4150000,
          4130000,
          618000,
          620000,
          16400000,
          16500000,
          4670000,
          4720000,
          38400000,
          38400000,
          10500000,
          10600000,
          21200000,
          21000000,
          9150000,
          9100000,
          2000000,
          2010000,
          44700000,
          45400000,
          9100000,
          9160000,
          7460000,
          7540000,
          46600000,
          46400000,
          60800000,
          61500000
         ],
         "xaxis": "x",
         "y": [
          1594.4950670397,
          1681.6139097343,
          21595.3954820663,
          21495.8050827331,
          1253.8133004763001,
          1424.1905619883998,
          26171.6909118266,
          27036.4873319233,
          1573.6421796103,
          1945.6375491109,
          2067.6094246023,
          2253.4641114683,
          24512.4131357791,
          25034.666922931698,
          1969.4827380635002,
          2105.5780280234,
          2332.3631314786,
          2494.3526539321,
          6325.6742668264005,
          6651.741475562801,
          14719.257659,
          15248.865286000002,
          32400.060610408702,
          32767.403492222402,
          6570.3301386799,
          7072.4358636901,
          27495.2413640093,
          28839.222406095898,
          23133.3511348738,
          23516.2231728751,
          1083.089880206,
          1219.4483194539998,
          24463.8464685677,
          25297.3853934236,
          14352.8395369357,
          14801.5542275146,
          5868.301699975699,
          5884.1409617931995,
          36952.192069733195,
          38185.3336752324,
          30669.372587693702,
          31543.6025270593,
          20102.2302310616,
          20291.2266397802,
          5695.3614545149,
          6296.2271161896,
          5287.1365512088005,
          5839.145602375601,
          53628.2345546544,
          56285.276849843205,
          10405.8459640085,
          10781.0496896617,
          530.0947081268,
          547.673773792,
          1958.1544148325,
          2164.6116289362,
          26007.679137478397,
          26968.6176962875,
          41245.808625363905,
          41904.2102149924,
          5552.501269615899,
          5932.474410440501,
          11716.008960250801,
          11965.9966113288,
          2444.0484278764,
          2595.5960856942,
          1102.6808895589,
          1166.9475670228,
          12588.108384206202,
          13377.9153299674,
          16074.4617847975,
          16351.111081205301,
          32431.940398513598,
          33259.262848621496,
          37877.182487742,
          38983.8753244592,
          1037.3122590174,
          1125.9597058353,
          28913.096291808903,
          29771.303348229198
         ],
         "yaxis": "y"
        },
        {
         "hovertemplate": "<b>%{hovertext}</b><br><br>continent=Africa<br>pop=%{x}<br>gdp=%{marker.size}<extra></extra>",
         "hovertext": [
          "Algeria",
          "Algeria",
          "Angola",
          "Angola",
          "Benin",
          "Benin",
          "Botswana",
          "Botswana",
          "Burundi",
          "Burundi",
          "Cameroon",
          "Cameroon",
          "Cape Verde",
          "Cape Verde",
          "Chad",
          "Chad",
          "Comoros",
          "Comoros",
          "Djibouti",
          "Djibouti",
          "Egypt",
          "Egypt",
          "Equatorial Guinea",
          "Equatorial Guinea",
          "Eritrea",
          "Eritrea",
          "Ethiopia",
          "Ethiopia",
          "Gabon",
          "Gabon",
          "Gambia",
          "Gambia",
          "Ghana",
          "Ghana",
          "Guinea",
          "Guinea",
          "Guinea-Bissau",
          "Guinea-Bissau",
          "Kenya",
          "Kenya",
          "Lesotho",
          "Lesotho",
          "Liberia",
          "Liberia",
          "Libya",
          "Libya",
          "Madagascar",
          "Madagascar",
          "Malawi",
          "Malawi",
          "Mali",
          "Mali",
          "Mauritania",
          "Mauritania",
          "Mauritius",
          "Mauritius",
          "Morocco",
          "Morocco",
          "Mozambique",
          "Mozambique",
          "Namibia",
          "Namibia",
          "Niger",
          "Niger",
          "Nigeria",
          "Nigeria",
          "Rwanda",
          "Rwanda",
          "Senegal",
          "Senegal",
          "Seychelles",
          "Seychelles",
          "Sierra Leone",
          "Sierra Leone",
          "South Africa",
          "South Africa",
          "Sudan",
          "Sudan",
          "Tanzania",
          "Tanzania",
          "Togo",
          "Togo",
          "Tunisia",
          "Tunisia",
          "Uganda",
          "Uganda",
          "Zambia",
          "Zambia",
          "Zimbabwe",
          "Zimbabwe"
         ],
         "legendgroup": "Africa",
         "marker": {
          "color": "#EF553B",
          "size": [
           2124.957753805,
           2155.4852310931,
           473.13634352879996,
           562.9876847798,
           360.6554107043,
           366.0449665225,
           4025.3953598635,
           4160.6625970346995,
           131.1716586681,
           133.2868779724,
           640.7628163380999,
           647.9445441937,
           1613.5844143457998,
           1735.8838914494,
           299.8800931968,
           292.14346494029996,
           354.8387555238,
           347.10003310839994,
           811.9017619485,
           837.2779295969,
           1678.9547955259,
           1765.8694269235998,
           6774.4781481104,
           7994.386394996899,
           170.8777406246,
           167.7992225575,
           161.5928951003,
           176.10740386900002,
           3999.6422162695003,
           4143.3345801188,
           593.5751773234999,
           598.0822683204,
           305.75110707970003,
           317.7363633123,
           388.1631320119,
           387.7516347428,
           154.2631682172,
           155.9948009059,
           442.02131266739997,
           461.0193747494,
           430.3513273208,
           446.3204159102,
           196.9509939499,
           217.1365281625,
           7458.7664541053,
           7736.5442742587,
           247.32222930220001,
           255.09415214979998,
           148.25699612190002,
           157.6213676142,
           255.1821601597,
           258.0305073385,
           616.106354085,
           609.9344005062001,
           4419.9122573636,
           4650.9853798196,
           1632.1342002000001,
           1658.8554000999998,
           323.7736996635,
           339.0638140439,
           2512.9272035405997,
           2598.5126545735,
           171.76448049479998,
           171.4210995312,
           458.6349172511,
           476.2141659847,
           291.05802679970003,
           304.5930038116,
           539.4896427919999,
           550.6476375761,
           7721.5416461751,
           8419.7158267965,
           242.8925155668,
           251.4170171291,
           3548.0903101176,
           3704.0842661922998,
           464.12887264,
           498.57015773,
           394.22415896,
           410.68361891,
           257.4007153657,
           257.5717900121,
           2776.2570592577003,
           2921.9935767952,
           323.07739926979997,
           339.0620829095,
           372.08367549269997,
           385.1228225621,
           351.1720466569,
           339.654882913
          ],
          "sizemode": "area",
          "sizeref": 15.634799124956446,
          "symbol": "circle"
         },
         "mode": "markers",
         "name": "Africa",
         "orientation": "v",
         "showlegend": true,
         "type": "scatter",
         "x": [
          33600000,
          34200000,
          20100000,
          20900000,
          8220000,
          8450000,
          1840000,
          1880000,
          7610000,
          7860000,
          18200000,
          18700000,
          469000,
          475000,
          10500000,
          10800000,
          626000,
          642000,
          795000,
          805000,
          76900000,
          78200000,
          784000,
          822000,
          2920000,
          3000000,
          78500000,
          80700000,
          1430000,
          1470000,
          1590000,
          1640000,
          22400000,
          23000000,
          9310000,
          9520000,
          1380000,
          1410000,
          37600000,
          38700000,
          1990000,
          1990000,
          3330000,
          3460000,
          5890000,
          5970000,
          18900000,
          19400000,
          13000000,
          13300000,
          13200000,
          13700000,
          3110000,
          3200000,
          1230000,
          1230000,
          30800000,
          31200000,
          21100000,
          21700000,
          1970000,
          2010000,
          14100000,
          14700000,
          143000000,
          146000000,
          9040000,
          9270000,
          11400000,
          11700000,
          89500,
          90100,
          5830000,
          5990000,
          48500000,
          49100000,
          31700000,
          32400000,
          39500000,
          40700000,
          5760000,
          5920000,
          10200000,
          10300000,
          28600000,
          29500000,
          12200000,
          12500000,
          12200000,
          12300000
         ],
         "xaxis": "x",
         "y": [
          2124.957753805,
          2155.4852310931,
          473.13634352879996,
          562.9876847798,
          360.6554107043,
          366.0449665225,
          4025.3953598635,
          4160.6625970346995,
          131.1716586681,
          133.2868779724,
          640.7628163380999,
          647.9445441937,
          1613.5844143457998,
          1735.8838914494,
          299.8800931968,
          292.14346494029996,
          354.8387555238,
          347.10003310839994,
          811.9017619485,
          837.2779295969,
          1678.9547955259,
          1765.8694269235998,
          6774.4781481104,
          7994.386394996899,
          170.8777406246,
          167.7992225575,
          161.5928951003,
          176.10740386900002,
          3999.6422162695003,
          4143.3345801188,
          593.5751773234999,
          598.0822683204,
          305.75110707970003,
          317.7363633123,
          388.1631320119,
          387.7516347428,
          154.2631682172,
          155.9948009059,
          442.02131266739997,
          461.0193747494,
          430.3513273208,
          446.3204159102,
          196.9509939499,
          217.1365281625,
          7458.7664541053,
          7736.5442742587,
          247.32222930220001,
          255.09415214979998,
          148.25699612190002,
          157.6213676142,
          255.1821601597,
          258.0305073385,
          616.106354085,
          609.9344005062001,
          4419.9122573636,
          4650.9853798196,
          1632.1342002000001,
          1658.8554000999998,
          323.7736996635,
          339.0638140439,
          2512.9272035405997,
          2598.5126545735,
          171.76448049479998,
          171.4210995312,
          458.6349172511,
          476.2141659847,
          291.05802679970003,
          304.5930038116,
          539.4896427919999,
          550.6476375761,
          7721.5416461751,
          8419.7158267965,
          242.8925155668,
          251.4170171291,
          3548.0903101176,
          3704.0842661922998,
          464.12887264,
          498.57015773,
          394.22415896,
          410.68361891,
          257.4007153657,
          257.5717900121,
          2776.2570592577003,
          2921.9935767952,
          323.07739926979997,
          339.0620829095,
          372.08367549269997,
          385.1228225621,
          351.1720466569,
          339.654882913
         ],
         "yaxis": "y"
        },
        {
         "hovertemplate": "<b>%{hovertext}</b><br><br>continent=North America<br>pop=%{x}<br>gdp=%{marker.size}<extra></extra>",
         "hovertext": [
          "Antigua and Barbuda",
          "Antigua and Barbuda",
          "Bahamas",
          "Bahamas",
          "Barbados",
          "Barbados",
          "Belize",
          "Belize",
          "Canada",
          "Canada",
          "Costa Rica",
          "Costa Rica",
          "Cuba",
          "Cuba",
          "Dominica",
          "Dominica",
          "El Salvador",
          "El Salvador",
          "Grenada",
          "Grenada",
          "Guatemala",
          "Guatemala",
          "Haiti",
          "Haiti",
          "Honduras",
          "Honduras",
          "Mexico",
          "Mexico",
          "Nicaragua",
          "Nicaragua",
          "Panama",
          "Panama",
          "Trinidad and Tobago",
          "Trinidad and Tobago"
         ],
         "legendgroup": "North America",
         "marker": {
          "color": "#00cc96",
          "size": [
           12452.2820377198,
           13495.127466298101,
           21728.7088821674,
           21721.6184097785,
           9757.4434328042,
           9783.9841732324,
           3754.1228620756,
           3680.9164292313,
           25943.7360201074,
           26229.7430814604,
           4836.674305022299,
           5137.4852561315,
           3884.7985148971998,
           4165.6003832113,
           5290.6136017697,
           5596.624040940799,
           2523.5235987597002,
           2609.0899151247,
           6102.6391316318,
           6443.5363300033,
           1810.2953347910998,
           1877.7514667656,
           384.5855208106,
           392.0942296896,
           1354.497039356,
           1409.9790457664,
           6211.9272341439,
           6333.0823886765,
           1130.9564378607001,
           1172.8601364134,
           4726.8801513047,
           5210.7190761594,
           10264.6742844562,
           10714.744222116
          ],
          "sizemode": "area",
          "sizeref": 15.634799124956446,
          "symbol": "circle"
         },
         "mode": "markers",
         "name": "North America",
         "orientation": "v",
         "showlegend": true,
         "type": "scatter",
         "x": [
          82700,
          84000,
          331000,
          337000,
          277000,
          279000,
          291000,
          299000,
          32500000,
          32900000,
          4350000,
          4400000,
          11300000,
          11300000,
          70700,
          70800,
          6080000,
          6110000,
          105000,
          105000,
          13400000,
          13700000,
          9340000,
          9500000,
          7630000,
          7810000,
          108000000,
          109000000,
          5510000,
          5590000,
          3390000,
          3450000,
          1300000,
          1310000
         ],
         "xaxis": "x",
         "y": [
          12452.2820377198,
          13495.127466298101,
          21728.7088821674,
          21721.6184097785,
          9757.4434328042,
          9783.9841732324,
          3754.1228620756,
          3680.9164292313,
          25943.7360201074,
          26229.7430814604,
          4836.674305022299,
          5137.4852561315,
          3884.7985148971998,
          4165.6003832113,
          5290.6136017697,
          5596.624040940799,
          2523.5235987597002,
          2609.0899151247,
          6102.6391316318,
          6443.5363300033,
          1810.2953347910998,
          1877.7514667656,
          384.5855208106,
          392.0942296896,
          1354.497039356,
          1409.9790457664,
          6211.9272341439,
          6333.0823886765,
          1130.9564378607001,
          1172.8601364134,
          4726.8801513047,
          5210.7190761594,
          10264.6742844562,
          10714.744222116
         ],
         "yaxis": "y"
        },
        {
         "hovertemplate": "<b>%{hovertext}</b><br><br>continent=South America<br>pop=%{x}<br>gdp=%{marker.size}<extra></extra>",
         "hovertext": [
          "Argentina",
          "Argentina",
          "Bolivia",
          "Bolivia",
          "Brazil",
          "Brazil",
          "Chile",
          "Chile",
          "Colombia",
          "Colombia",
          "Ecuador",
          "Ecuador",
          "Guyana",
          "Guyana",
          "Paraguay",
          "Paraguay",
          "Peru",
          "Peru",
          "Suriname",
          "Suriname",
          "Uruguay",
          "Uruguay",
          "Venezuela",
          "Venezuela"
         ],
         "legendgroup": "South America",
         "marker": {
          "color": "#ab63fa",
          "size": [
           8717.1762963448,
           9388.6885225844,
           1101.0384612505,
           1132.2138798098,
           4090.5558026917997,
           4297.8238539931,
           6190.1094021096,
           6410.8067317013,
           2913.4798283890004,
           3068.4772657928997,
           1610.9673434588,
           1618.8680024537,
           1037.1275432282,
           1107.3519684432001,
           1352.9756536523,
           1450.1845661937,
           2529.8407281901,
           2725.8152449751997,
           2422.8185192301003,
           2520.5867449072,
           7233.9061909065,
           7685.2245004424,
           5401.4217193332,
           5777.6285679063
          ],
          "sizemode": "area",
          "sizeref": 15.634799124956446,
          "symbol": "circle"
         },
         "mode": "markers",
         "name": "South America",
         "orientation": "v",
         "showlegend": true,
         "type": "scatter",
         "x": [
          39300000,
          39700000,
          9400000,
          9560000,
          188000000,
          190000000,
          16400000,
          16500000,
          43200000,
          43700000,
          14100000,
          14300000,
          746000,
          746000,
          5910000,
          6000000,
          28100000,
          28300000,
          505000,
          511000,
          3330000,
          3330000,
          26900000,
          27200000
         ],
         "xaxis": "x",
         "y": [
          8717.1762963448,
          9388.6885225844,
          1101.0384612505,
          1132.2138798098,
          4090.5558026917997,
          4297.8238539931,
          6190.1094021096,
          6410.8067317013,
          2913.4798283890004,
          3068.4772657928997,
          1610.9673434588,
          1618.8680024537,
          1037.1275432282,
          1107.3519684432001,
          1352.9756536523,
          1450.1845661937,
          2529.8407281901,
          2725.8152449751997,
          2422.8185192301003,
          2520.5867449072,
          7233.9061909065,
          7685.2245004424,
          5401.4217193332,
          5777.6285679063
         ],
         "yaxis": "y"
        },
        {
         "hovertemplate": "<b>%{hovertext}</b><br><br>continent=Oceania<br>pop=%{x}<br>gdp=%{marker.size}<extra></extra>",
         "hovertext": [
          "Australia",
          "Australia",
          "Fiji",
          "Fiji",
          "Kiribati",
          "Kiribati",
          "Marshall Islands",
          "Marshall Islands",
          "New Zealand",
          "New Zealand",
          "Papua New Guinea",
          "Papua New Guinea",
          "Samoa",
          "Samoa",
          "Solomon Islands",
          "Solomon Islands",
          "Tonga",
          "Tonga",
          "Vanuatu",
          "Vanuatu"
         ],
         "legendgroup": "Oceania",
         "marker": {
          "color": "#FFA15A",
          "size": [
           24295.081379913197,
           24765.548901759703,
           2335.3212532522,
           2295.4383003639,
           769.219440837,
           773.0187997201,
           2404.7364312453,
           2464.9906506526,
           15103.230383138602,
           15392.5027135627,
           627.1163523023,
           656.3571364232,
           1771.5811015581,
           1798.3857783035999,
           1014.8734660494,
           1092.9395550781,
           2067.5357050297002,
           1969.0040519308,
           1418.0752831483999,
           1472.1955298675
          ],
          "sizemode": "area",
          "sizeref": 15.634799124956446,
          "symbol": "circle"
         },
         "mode": "markers",
         "name": "Oceania",
         "orientation": "v",
         "showlegend": true,
         "type": "scatter",
         "x": [
          20500000,
          20900000,
          828000,
          836000,
          94300,
          96500,
          55800,
          56000,
          4190000,
          4230000,
          6650000,
          6810000,
          181000,
          182000,
          481000,
          492000,
          102000,
          103000,
          214000,
          219000
         ],
         "xaxis": "x",
         "y": [
          24295.081379913197,
          24765.548901759703,
          2335.3212532522,
          2295.4383003639,
          769.219440837,
          773.0187997201,
          2404.7364312453,
          2464.9906506526,
          15103.230383138602,
          15392.5027135627,
          627.1163523023,
          656.3571364232,
          1771.5811015581,
          1798.3857783035999,
          1014.8734660494,
          1092.9395550781,
          2067.5357050297002,
          1969.0040519308,
          1418.0752831483999,
          1472.1955298675
         ],
         "yaxis": "y"
        },
        {
         "hovertemplate": "<b>%{hovertext}</b><br><br>continent=Asia<br>pop=%{x}<br>gdp=%{marker.size}<extra></extra>",
         "hovertext": [
          "Bahrain",
          "Bahrain",
          "Bangladesh",
          "Bangladesh",
          "Bhutan",
          "Bhutan",
          "Brunei",
          "Brunei",
          "Cambodia",
          "Cambodia",
          "China",
          "China",
          "India",
          "India",
          "Indonesia",
          "Indonesia",
          "Iran",
          "Iran",
          "Iraq",
          "Iraq",
          "Israel",
          "Israel",
          "Japan",
          "Japan",
          "Jordan",
          "Jordan",
          "Kazakhstan",
          "Kazakhstan",
          "Kuwait",
          "Kuwait",
          "Lebanon",
          "Lebanon",
          "Malaysia",
          "Malaysia",
          "Maldives",
          "Maldives",
          "Mongolia",
          "Mongolia",
          "Nepal",
          "Nepal",
          "Oman",
          "Oman",
          "Pakistan",
          "Pakistan",
          "Philippines",
          "Philippines",
          "Qatar",
          "Qatar",
          "Saudi Arabia",
          "Saudi Arabia",
          "Singapore",
          "Singapore",
          "Sri Lanka",
          "Sri Lanka",
          "Syria",
          "Syria",
          "Tajikistan",
          "Tajikistan",
          "Thailand",
          "Thailand",
          "Turkey",
          "Turkey",
          "Turkmenistan",
          "Turkmenistan",
          "United Arab Emirates",
          "United Arab Emirates",
          "Uzbekistan",
          "Uzbekistan",
          "Vietnam",
          "Vietnam"
         ],
         "legendgroup": "Asia",
         "marker": {
          "color": "#19d3f3",
          "size": [
           14082.914599682299,
           13373.219939717601,
           459.86251388669996,
           483.9708680377,
           1017.7187305602,
           1175.9263869464999,
           18745.804774233202,
           18416.905012010702,
           468.03182696910005,
           510.0197663376,
           1640.861518285,
           1864.1027022204,
           621.8994138869,
           673.0046909673999,
           953.9355312056,
           1003.3644335905001,
           1994.6471929851998,
           2125.0302523842,
           710.2087191202,
           699.7055596282,
           20715.5680478392,
           21469.534507983797,
           39965.8555060047,
           40837.2666435385,
           2250.2742134679,
           2380.509339805,
           2166.3233017056,
           2332.2949295681,
           25034.0478950766,
           25100.0281002036,
           5103.4901751826,
           5436.6518851171995,
           4695.2297262988,
           4905.1213688551,
           3209.4693246337,
           3500.1110262589,
           653.8074697003,
           709.723423143,
           241.0469796788,
           244.53726130470002,
           10006.3030714748,
           10392.285943071,
           620.2956378416001,
           643.8585182395,
           1225.0450393894,
           1283.467370406,
           32070.9590979984,
           31424.3222932402,
           9440.1800267814,
           9364.4886724896,
           29925.5049380865,
           31246.9968487413,
           1075.6255378853,
           1138.3668385256,
           1368.9304914221,
           1418.0511464643,
           180.08927489319998,
           216.544583198,
           2458.517431376,
           2562.7221596277,
           5154.661097441,
           5323.6829875242,
           860.7116808728999,
           944.6692397228,
           31929.798166714703,
           28427.0984827746,
           725.3469456309,
           783.0274969092999,
           581.5782774498999,
           623.9574825930999
          ],
          "sizemode": "area",
          "sizeref": 15.634799124956446,
          "symbol": "circle"
         },
         "mode": "markers",
         "name": "Asia",
         "orientation": "v",
         "showlegend": true,
         "type": "scatter",
         "x": [
          958000,
          1040000,
          141000000,
          143000000,
          657000,
          665000,
          370000,
          375000,
          13500000,
          13700000,
          1340000000,
          1350000000,
          1170000000,
          1180000000,
          229000000,
          232000000,
          70600000,
          71300000,
          27400000,
          27900000,
          6680000,
          6850000,
          128000000,
          128000000,
          5990000,
          6260000,
          15600000,
          15700000,
          2370000,
          2500000,
          4760000,
          4770000,
          26200000,
          26700000,
          327000,
          335000,
          2560000,
          2590000,
          26100000,
          26400000,
          2580000,
          2660000,
          164000000,
          168000000,
          87900000,
          89400000,
          1020000,
          1220000,
          24500000,
          25200000,
          4400000,
          4580000,
          19700000,
          19800000,
          19100000,
          19900000,
          6920000,
          7060000,
          65800000,
          66200000,
          68800000,
          69600000,
          4810000,
          4870000,
          5300000,
          6170000,
          26800000,
          27200000,
          84600000,
          85400000
         ],
         "xaxis": "x",
         "y": [
          14082.914599682299,
          13373.219939717601,
          459.86251388669996,
          483.9708680377,
          1017.7187305602,
          1175.9263869464999,
          18745.804774233202,
          18416.905012010702,
          468.03182696910005,
          510.0197663376,
          1640.861518285,
          1864.1027022204,
          621.8994138869,
          673.0046909673999,
          953.9355312056,
          1003.3644335905001,
          1994.6471929851998,
          2125.0302523842,
          710.2087191202,
          699.7055596282,
          20715.5680478392,
          21469.534507983797,
          39965.8555060047,
          40837.2666435385,
          2250.2742134679,
          2380.509339805,
          2166.3233017056,
          2332.2949295681,
          25034.0478950766,
          25100.0281002036,
          5103.4901751826,
          5436.6518851171995,
          4695.2297262988,
          4905.1213688551,
          3209.4693246337,
          3500.1110262589,
          653.8074697003,
          709.723423143,
          241.0469796788,
          244.53726130470002,
          10006.3030714748,
          10392.285943071,
          620.2956378416001,
          643.8585182395,
          1225.0450393894,
          1283.467370406,
          32070.9590979984,
          31424.3222932402,
          9440.1800267814,
          9364.4886724896,
          29925.5049380865,
          31246.9968487413,
          1075.6255378853,
          1138.3668385256,
          1368.9304914221,
          1418.0511464643,
          180.08927489319998,
          216.544583198,
          2458.517431376,
          2562.7221596277,
          5154.661097441,
          5323.6829875242,
          860.7116808728999,
          944.6692397228,
          31929.798166714703,
          28427.0984827746,
          725.3469456309,
          783.0274969092999,
          581.5782774498999,
          623.9574825930999
         ],
         "yaxis": "y"
        }
       ],
       "layout": {
        "legend": {
         "itemsizing": "constant",
         "title": {
          "text": "continent"
         },
         "tracegroupgap": 0
        },
        "margin": {
         "t": 60
        },
        "template": {
         "data": {
          "bar": [
           {
            "error_x": {
             "color": "#2a3f5f"
            },
            "error_y": {
             "color": "#2a3f5f"
            },
            "marker": {
             "line": {
              "color": "#E5ECF6",
              "width": 0.5
             }
            },
            "type": "bar"
           }
          ],
          "barpolar": [
           {
            "marker": {
             "line": {
              "color": "#E5ECF6",
              "width": 0.5
             }
            },
            "type": "barpolar"
           }
          ],
          "carpet": [
           {
            "aaxis": {
             "endlinecolor": "#2a3f5f",
             "gridcolor": "white",
             "linecolor": "white",
             "minorgridcolor": "white",
             "startlinecolor": "#2a3f5f"
            },
            "baxis": {
             "endlinecolor": "#2a3f5f",
             "gridcolor": "white",
             "linecolor": "white",
             "minorgridcolor": "white",
             "startlinecolor": "#2a3f5f"
            },
            "type": "carpet"
           }
          ],
          "choropleth": [
           {
            "colorbar": {
             "outlinewidth": 0,
             "ticks": ""
            },
            "type": "choropleth"
           }
          ],
          "contour": [
           {
            "colorbar": {
             "outlinewidth": 0,
             "ticks": ""
            },
            "colorscale": [
             [
              0,
              "#0d0887"
             ],
             [
              0.1111111111111111,
              "#46039f"
             ],
             [
              0.2222222222222222,
              "#7201a8"
             ],
             [
              0.3333333333333333,
              "#9c179e"
             ],
             [
              0.4444444444444444,
              "#bd3786"
             ],
             [
              0.5555555555555556,
              "#d8576b"
             ],
             [
              0.6666666666666666,
              "#ed7953"
             ],
             [
              0.7777777777777778,
              "#fb9f3a"
             ],
             [
              0.8888888888888888,
              "#fdca26"
             ],
             [
              1,
              "#f0f921"
             ]
            ],
            "type": "contour"
           }
          ],
          "contourcarpet": [
           {
            "colorbar": {
             "outlinewidth": 0,
             "ticks": ""
            },
            "type": "contourcarpet"
           }
          ],
          "heatmap": [
           {
            "colorbar": {
             "outlinewidth": 0,
             "ticks": ""
            },
            "colorscale": [
             [
              0,
              "#0d0887"
             ],
             [
              0.1111111111111111,
              "#46039f"
             ],
             [
              0.2222222222222222,
              "#7201a8"
             ],
             [
              0.3333333333333333,
              "#9c179e"
             ],
             [
              0.4444444444444444,
              "#bd3786"
             ],
             [
              0.5555555555555556,
              "#d8576b"
             ],
             [
              0.6666666666666666,
              "#ed7953"
             ],
             [
              0.7777777777777778,
              "#fb9f3a"
             ],
             [
              0.8888888888888888,
              "#fdca26"
             ],
             [
              1,
              "#f0f921"
             ]
            ],
            "type": "heatmap"
           }
          ],
          "heatmapgl": [
           {
            "colorbar": {
             "outlinewidth": 0,
             "ticks": ""
            },
            "colorscale": [
             [
              0,
              "#0d0887"
             ],
             [
              0.1111111111111111,
              "#46039f"
             ],
             [
              0.2222222222222222,
              "#7201a8"
             ],
             [
              0.3333333333333333,
              "#9c179e"
             ],
             [
              0.4444444444444444,
              "#bd3786"
             ],
             [
              0.5555555555555556,
              "#d8576b"
             ],
             [
              0.6666666666666666,
              "#ed7953"
             ],
             [
              0.7777777777777778,
              "#fb9f3a"
             ],
             [
              0.8888888888888888,
              "#fdca26"
             ],
             [
              1,
              "#f0f921"
             ]
            ],
            "type": "heatmapgl"
           }
          ],
          "histogram": [
           {
            "marker": {
             "colorbar": {
              "outlinewidth": 0,
              "ticks": ""
             }
            },
            "type": "histogram"
           }
          ],
          "histogram2d": [
           {
            "colorbar": {
             "outlinewidth": 0,
             "ticks": ""
            },
            "colorscale": [
             [
              0,
              "#0d0887"
             ],
             [
              0.1111111111111111,
              "#46039f"
             ],
             [
              0.2222222222222222,
              "#7201a8"
             ],
             [
              0.3333333333333333,
              "#9c179e"
             ],
             [
              0.4444444444444444,
              "#bd3786"
             ],
             [
              0.5555555555555556,
              "#d8576b"
             ],
             [
              0.6666666666666666,
              "#ed7953"
             ],
             [
              0.7777777777777778,
              "#fb9f3a"
             ],
             [
              0.8888888888888888,
              "#fdca26"
             ],
             [
              1,
              "#f0f921"
             ]
            ],
            "type": "histogram2d"
           }
          ],
          "histogram2dcontour": [
           {
            "colorbar": {
             "outlinewidth": 0,
             "ticks": ""
            },
            "colorscale": [
             [
              0,
              "#0d0887"
             ],
             [
              0.1111111111111111,
              "#46039f"
             ],
             [
              0.2222222222222222,
              "#7201a8"
             ],
             [
              0.3333333333333333,
              "#9c179e"
             ],
             [
              0.4444444444444444,
              "#bd3786"
             ],
             [
              0.5555555555555556,
              "#d8576b"
             ],
             [
              0.6666666666666666,
              "#ed7953"
             ],
             [
              0.7777777777777778,
              "#fb9f3a"
             ],
             [
              0.8888888888888888,
              "#fdca26"
             ],
             [
              1,
              "#f0f921"
             ]
            ],
            "type": "histogram2dcontour"
           }
          ],
          "mesh3d": [
           {
            "colorbar": {
             "outlinewidth": 0,
             "ticks": ""
            },
            "type": "mesh3d"
           }
          ],
          "parcoords": [
           {
            "line": {
             "colorbar": {
              "outlinewidth": 0,
              "ticks": ""
             }
            },
            "type": "parcoords"
           }
          ],
          "pie": [
           {
            "automargin": true,
            "type": "pie"
           }
          ],
          "scatter": [
           {
            "marker": {
             "colorbar": {
              "outlinewidth": 0,
              "ticks": ""
             }
            },
            "type": "scatter"
           }
          ],
          "scatter3d": [
           {
            "line": {
             "colorbar": {
              "outlinewidth": 0,
              "ticks": ""
             }
            },
            "marker": {
             "colorbar": {
              "outlinewidth": 0,
              "ticks": ""
             }
            },
            "type": "scatter3d"
           }
          ],
          "scattercarpet": [
           {
            "marker": {
             "colorbar": {
              "outlinewidth": 0,
              "ticks": ""
             }
            },
            "type": "scattercarpet"
           }
          ],
          "scattergeo": [
           {
            "marker": {
             "colorbar": {
              "outlinewidth": 0,
              "ticks": ""
             }
            },
            "type": "scattergeo"
           }
          ],
          "scattergl": [
           {
            "marker": {
             "colorbar": {
              "outlinewidth": 0,
              "ticks": ""
             }
            },
            "type": "scattergl"
           }
          ],
          "scattermapbox": [
           {
            "marker": {
             "colorbar": {
              "outlinewidth": 0,
              "ticks": ""
             }
            },
            "type": "scattermapbox"
           }
          ],
          "scatterpolar": [
           {
            "marker": {
             "colorbar": {
              "outlinewidth": 0,
              "ticks": ""
             }
            },
            "type": "scatterpolar"
           }
          ],
          "scatterpolargl": [
           {
            "marker": {
             "colorbar": {
              "outlinewidth": 0,
              "ticks": ""
             }
            },
            "type": "scatterpolargl"
           }
          ],
          "scatterternary": [
           {
            "marker": {
             "colorbar": {
              "outlinewidth": 0,
              "ticks": ""
             }
            },
            "type": "scatterternary"
           }
          ],
          "surface": [
           {
            "colorbar": {
             "outlinewidth": 0,
             "ticks": ""
            },
            "colorscale": [
             [
              0,
              "#0d0887"
             ],
             [
              0.1111111111111111,
              "#46039f"
             ],
             [
              0.2222222222222222,
              "#7201a8"
             ],
             [
              0.3333333333333333,
              "#9c179e"
             ],
             [
              0.4444444444444444,
              "#bd3786"
             ],
             [
              0.5555555555555556,
              "#d8576b"
             ],
             [
              0.6666666666666666,
              "#ed7953"
             ],
             [
              0.7777777777777778,
              "#fb9f3a"
             ],
             [
              0.8888888888888888,
              "#fdca26"
             ],
             [
              1,
              "#f0f921"
             ]
            ],
            "type": "surface"
           }
          ],
          "table": [
           {
            "cells": {
             "fill": {
              "color": "#EBF0F8"
             },
             "line": {
              "color": "white"
             }
            },
            "header": {
             "fill": {
              "color": "#C8D4E3"
             },
             "line": {
              "color": "white"
             }
            },
            "type": "table"
           }
          ]
         },
         "layout": {
          "annotationdefaults": {
           "arrowcolor": "#2a3f5f",
           "arrowhead": 0,
           "arrowwidth": 1
          },
          "autotypenumbers": "strict",
          "coloraxis": {
           "colorbar": {
            "outlinewidth": 0,
            "ticks": ""
           }
          },
          "colorscale": {
           "diverging": [
            [
             0,
             "#8e0152"
            ],
            [
             0.1,
             "#c51b7d"
            ],
            [
             0.2,
             "#de77ae"
            ],
            [
             0.3,
             "#f1b6da"
            ],
            [
             0.4,
             "#fde0ef"
            ],
            [
             0.5,
             "#f7f7f7"
            ],
            [
             0.6,
             "#e6f5d0"
            ],
            [
             0.7,
             "#b8e186"
            ],
            [
             0.8,
             "#7fbc41"
            ],
            [
             0.9,
             "#4d9221"
            ],
            [
             1,
             "#276419"
            ]
           ],
           "sequential": [
            [
             0,
             "#0d0887"
            ],
            [
             0.1111111111111111,
             "#46039f"
            ],
            [
             0.2222222222222222,
             "#7201a8"
            ],
            [
             0.3333333333333333,
             "#9c179e"
            ],
            [
             0.4444444444444444,
             "#bd3786"
            ],
            [
             0.5555555555555556,
             "#d8576b"
            ],
            [
             0.6666666666666666,
             "#ed7953"
            ],
            [
             0.7777777777777778,
             "#fb9f3a"
            ],
            [
             0.8888888888888888,
             "#fdca26"
            ],
            [
             1,
             "#f0f921"
            ]
           ],
           "sequentialminus": [
            [
             0,
             "#0d0887"
            ],
            [
             0.1111111111111111,
             "#46039f"
            ],
            [
             0.2222222222222222,
             "#7201a8"
            ],
            [
             0.3333333333333333,
             "#9c179e"
            ],
            [
             0.4444444444444444,
             "#bd3786"
            ],
            [
             0.5555555555555556,
             "#d8576b"
            ],
            [
             0.6666666666666666,
             "#ed7953"
            ],
            [
             0.7777777777777778,
             "#fb9f3a"
            ],
            [
             0.8888888888888888,
             "#fdca26"
            ],
            [
             1,
             "#f0f921"
            ]
           ]
          },
          "colorway": [
           "#636efa",
           "#EF553B",
           "#00cc96",
           "#ab63fa",
           "#FFA15A",
           "#19d3f3",
           "#FF6692",
           "#B6E880",
           "#FF97FF",
           "#FECB52"
          ],
          "font": {
           "color": "#2a3f5f"
          },
          "geo": {
           "bgcolor": "white",
           "lakecolor": "white",
           "landcolor": "#E5ECF6",
           "showlakes": true,
           "showland": true,
           "subunitcolor": "white"
          },
          "hoverlabel": {
           "align": "left"
          },
          "hovermode": "closest",
          "mapbox": {
           "style": "light"
          },
          "paper_bgcolor": "white",
          "plot_bgcolor": "#E5ECF6",
          "polar": {
           "angularaxis": {
            "gridcolor": "white",
            "linecolor": "white",
            "ticks": ""
           },
           "bgcolor": "#E5ECF6",
           "radialaxis": {
            "gridcolor": "white",
            "linecolor": "white",
            "ticks": ""
           }
          },
          "scene": {
           "xaxis": {
            "backgroundcolor": "#E5ECF6",
            "gridcolor": "white",
            "gridwidth": 2,
            "linecolor": "white",
            "showbackground": true,
            "ticks": "",
            "zerolinecolor": "white"
           },
           "yaxis": {
            "backgroundcolor": "#E5ECF6",
            "gridcolor": "white",
            "gridwidth": 2,
            "linecolor": "white",
            "showbackground": true,
            "ticks": "",
            "zerolinecolor": "white"
           },
           "zaxis": {
            "backgroundcolor": "#E5ECF6",
            "gridcolor": "white",
            "gridwidth": 2,
            "linecolor": "white",
            "showbackground": true,
            "ticks": "",
            "zerolinecolor": "white"
           }
          },
          "shapedefaults": {
           "line": {
            "color": "#2a3f5f"
           }
          },
          "ternary": {
           "aaxis": {
            "gridcolor": "white",
            "linecolor": "white",
            "ticks": ""
           },
           "baxis": {
            "gridcolor": "white",
            "linecolor": "white",
            "ticks": ""
           },
           "bgcolor": "#E5ECF6",
           "caxis": {
            "gridcolor": "white",
            "linecolor": "white",
            "ticks": ""
           }
          },
          "title": {
           "x": 0.05
          },
          "xaxis": {
           "automargin": true,
           "gridcolor": "white",
           "linecolor": "white",
           "ticks": "",
           "title": {
            "standoff": 15
           },
           "zerolinecolor": "white",
           "zerolinewidth": 2
          },
          "yaxis": {
           "automargin": true,
           "gridcolor": "white",
           "linecolor": "white",
           "ticks": "",
           "title": {
            "standoff": 15
           },
           "zerolinecolor": "white",
           "zerolinewidth": 2
          }
         }
        },
        "xaxis": {
         "anchor": "y",
         "domain": [
          0,
          1
         ],
         "title": {
          "text": "pop"
         },
         "type": "log"
        },
        "yaxis": {
         "anchor": "x",
         "domain": [
          0,
          1
         ],
         "title": {
          "text": "gdp"
         }
        }
       }
      },
      "text/html": [
       "<div>                            <div id=\"c6743eb3-42a1-4be5-b3c2-8b922ea78006\" class=\"plotly-graph-div\" style=\"height:525px; width:100%;\"></div>            <script type=\"text/javascript\">                require([\"plotly\"], function(Plotly) {                    window.PLOTLYENV=window.PLOTLYENV || {};                                    if (document.getElementById(\"c6743eb3-42a1-4be5-b3c2-8b922ea78006\")) {                    Plotly.newPlot(                        \"c6743eb3-42a1-4be5-b3c2-8b922ea78006\",                        [{\"hovertemplate\": \"<b>%{hovertext}</b><br><br>continent=Europe<br>pop=%{x}<br>gdp=%{marker.size}<extra></extra>\", \"hovertext\": [\"Albania\", \"Albania\", \"Andorra\", \"Andorra\", \"Armenia\", \"Armenia\", \"Austria\", \"Austria\", \"Azerbaijan\", \"Azerbaijan\", \"Belarus\", \"Belarus\", \"Belgium\", \"Belgium\", \"Bosnia and Herzegovina\", \"Bosnia and Herzegovina\", \"Bulgaria\", \"Bulgaria\", \"Croatia\", \"Croatia\", \"Cyprus\", \"Cyprus\", \"Denmark\", \"Denmark\", \"Estonia\", \"Estonia\", \"Finland\", \"Finland\", \"France\", \"France\", \"Georgia\", \"Georgia\", \"Germany\", \"Germany\", \"Greece\", \"Greece\", \"Hungary\", \"Hungary\", \"Iceland\", \"Iceland\", \"Ireland\", \"Ireland\", \"Italy\", \"Italy\", \"Latvia\", \"Latvia\", \"Lithuania\", \"Lithuania\", \"Luxembourg\", \"Luxembourg\", \"Malta\", \"Malta\", \"Moldova\", \"Moldova\", \"Montenegro\", \"Montenegro\", \"Netherlands\", \"Netherlands\", \"Norway\", \"Norway\", \"Poland\", \"Poland\", \"Portugal\", \"Portugal\", \"Romania\", \"Romania\", \"Serbia\", \"Serbia\", \"Slovenia\", \"Slovenia\", \"Spain\", \"Spain\", \"Sweden\", \"Sweden\", \"Switzerland\", \"Switzerland\", \"Ukraine\", \"Ukraine\", \"United Kingdom\", \"United Kingdom\"], \"legendgroup\": \"Europe\", \"marker\": {\"color\": \"#636efa\", \"size\": [1594.4950670397, 1681.6139097343, 21595.3954820663, 21495.8050827331, 1253.8133004763001, 1424.1905619883998, 26171.6909118266, 27036.4873319233, 1573.6421796103, 1945.6375491109, 2067.6094246023, 2253.4641114683, 24512.4131357791, 25034.666922931698, 1969.4827380635002, 2105.5780280234, 2332.3631314786, 2494.3526539321, 6325.6742668264005, 6651.741475562801, 14719.257659, 15248.865286000002, 32400.060610408702, 32767.403492222402, 6570.3301386799, 7072.4358636901, 27495.2413640093, 28839.222406095898, 23133.3511348738, 23516.2231728751, 1083.089880206, 1219.4483194539998, 24463.8464685677, 25297.3853934236, 14352.8395369357, 14801.5542275146, 5868.301699975699, 5884.1409617931995, 36952.192069733195, 38185.3336752324, 30669.372587693702, 31543.6025270593, 20102.2302310616, 20291.2266397802, 5695.3614545149, 6296.2271161896, 5287.1365512088005, 5839.145602375601, 53628.2345546544, 56285.276849843205, 10405.8459640085, 10781.0496896617, 530.0947081268, 547.673773792, 1958.1544148325, 2164.6116289362, 26007.679137478397, 26968.6176962875, 41245.808625363905, 41904.2102149924, 5552.501269615899, 5932.474410440501, 11716.008960250801, 11965.9966113288, 2444.0484278764, 2595.5960856942, 1102.6808895589, 1166.9475670228, 12588.108384206202, 13377.9153299674, 16074.4617847975, 16351.111081205301, 32431.940398513598, 33259.262848621496, 37877.182487742, 38983.8753244592, 1037.3122590174, 1125.9597058353, 28913.096291808903, 29771.303348229198], \"sizemode\": \"area\", \"sizeref\": 15.634799124956446, \"symbol\": \"circle\"}, \"mode\": \"markers\", \"name\": \"Europe\", \"orientation\": \"v\", \"showlegend\": true, \"type\": \"scatter\", \"x\": [3060000, 3030000, 81000, 82700, 2960000, 2930000, 8290000, 8310000, 8630000, 8720000, 9520000, 9480000, 10600000, 10700000, 3770000, 3760000, 7630000, 7580000, 4370000, 4360000, 1050000, 1060000, 5440000, 5470000, 1350000, 1340000, 5280000, 5300000, 61500000, 61900000, 4190000, 4170000, 81500000, 81300000, 11200000, 11100000, 10100000, 10000000, 300000, 305000, 4230000, 4320000, 58500000, 58700000, 2230000, 2200000, 3300000, 3260000, 466000, 475000, 406000, 408000, 4150000, 4130000, 618000, 620000, 16400000, 16500000, 4670000, 4720000, 38400000, 38400000, 10500000, 10600000, 21200000, 21000000, 9150000, 9100000, 2000000, 2010000, 44700000, 45400000, 9100000, 9160000, 7460000, 7540000, 46600000, 46400000, 60800000, 61500000], \"xaxis\": \"x\", \"y\": [1594.4950670397, 1681.6139097343, 21595.3954820663, 21495.8050827331, 1253.8133004763001, 1424.1905619883998, 26171.6909118266, 27036.4873319233, 1573.6421796103, 1945.6375491109, 2067.6094246023, 2253.4641114683, 24512.4131357791, 25034.666922931698, 1969.4827380635002, 2105.5780280234, 2332.3631314786, 2494.3526539321, 6325.6742668264005, 6651.741475562801, 14719.257659, 15248.865286000002, 32400.060610408702, 32767.403492222402, 6570.3301386799, 7072.4358636901, 27495.2413640093, 28839.222406095898, 23133.3511348738, 23516.2231728751, 1083.089880206, 1219.4483194539998, 24463.8464685677, 25297.3853934236, 14352.8395369357, 14801.5542275146, 5868.301699975699, 5884.1409617931995, 36952.192069733195, 38185.3336752324, 30669.372587693702, 31543.6025270593, 20102.2302310616, 20291.2266397802, 5695.3614545149, 6296.2271161896, 5287.1365512088005, 5839.145602375601, 53628.2345546544, 56285.276849843205, 10405.8459640085, 10781.0496896617, 530.0947081268, 547.673773792, 1958.1544148325, 2164.6116289362, 26007.679137478397, 26968.6176962875, 41245.808625363905, 41904.2102149924, 5552.501269615899, 5932.474410440501, 11716.008960250801, 11965.9966113288, 2444.0484278764, 2595.5960856942, 1102.6808895589, 1166.9475670228, 12588.108384206202, 13377.9153299674, 16074.4617847975, 16351.111081205301, 32431.940398513598, 33259.262848621496, 37877.182487742, 38983.8753244592, 1037.3122590174, 1125.9597058353, 28913.096291808903, 29771.303348229198], \"yaxis\": \"y\"}, {\"hovertemplate\": \"<b>%{hovertext}</b><br><br>continent=Africa<br>pop=%{x}<br>gdp=%{marker.size}<extra></extra>\", \"hovertext\": [\"Algeria\", \"Algeria\", \"Angola\", \"Angola\", \"Benin\", \"Benin\", \"Botswana\", \"Botswana\", \"Burundi\", \"Burundi\", \"Cameroon\", \"Cameroon\", \"Cape Verde\", \"Cape Verde\", \"Chad\", \"Chad\", \"Comoros\", \"Comoros\", \"Djibouti\", \"Djibouti\", \"Egypt\", \"Egypt\", \"Equatorial Guinea\", \"Equatorial Guinea\", \"Eritrea\", \"Eritrea\", \"Ethiopia\", \"Ethiopia\", \"Gabon\", \"Gabon\", \"Gambia\", \"Gambia\", \"Ghana\", \"Ghana\", \"Guinea\", \"Guinea\", \"Guinea-Bissau\", \"Guinea-Bissau\", \"Kenya\", \"Kenya\", \"Lesotho\", \"Lesotho\", \"Liberia\", \"Liberia\", \"Libya\", \"Libya\", \"Madagascar\", \"Madagascar\", \"Malawi\", \"Malawi\", \"Mali\", \"Mali\", \"Mauritania\", \"Mauritania\", \"Mauritius\", \"Mauritius\", \"Morocco\", \"Morocco\", \"Mozambique\", \"Mozambique\", \"Namibia\", \"Namibia\", \"Niger\", \"Niger\", \"Nigeria\", \"Nigeria\", \"Rwanda\", \"Rwanda\", \"Senegal\", \"Senegal\", \"Seychelles\", \"Seychelles\", \"Sierra Leone\", \"Sierra Leone\", \"South Africa\", \"South Africa\", \"Sudan\", \"Sudan\", \"Tanzania\", \"Tanzania\", \"Togo\", \"Togo\", \"Tunisia\", \"Tunisia\", \"Uganda\", \"Uganda\", \"Zambia\", \"Zambia\", \"Zimbabwe\", \"Zimbabwe\"], \"legendgroup\": \"Africa\", \"marker\": {\"color\": \"#EF553B\", \"size\": [2124.957753805, 2155.4852310931, 473.13634352879996, 562.9876847798, 360.6554107043, 366.0449665225, 4025.3953598635, 4160.6625970346995, 131.1716586681, 133.2868779724, 640.7628163380999, 647.9445441937, 1613.5844143457998, 1735.8838914494, 299.8800931968, 292.14346494029996, 354.8387555238, 347.10003310839994, 811.9017619485, 837.2779295969, 1678.9547955259, 1765.8694269235998, 6774.4781481104, 7994.386394996899, 170.8777406246, 167.7992225575, 161.5928951003, 176.10740386900002, 3999.6422162695003, 4143.3345801188, 593.5751773234999, 598.0822683204, 305.75110707970003, 317.7363633123, 388.1631320119, 387.7516347428, 154.2631682172, 155.9948009059, 442.02131266739997, 461.0193747494, 430.3513273208, 446.3204159102, 196.9509939499, 217.1365281625, 7458.7664541053, 7736.5442742587, 247.32222930220001, 255.09415214979998, 148.25699612190002, 157.6213676142, 255.1821601597, 258.0305073385, 616.106354085, 609.9344005062001, 4419.9122573636, 4650.9853798196, 1632.1342002000001, 1658.8554000999998, 323.7736996635, 339.0638140439, 2512.9272035405997, 2598.5126545735, 171.76448049479998, 171.4210995312, 458.6349172511, 476.2141659847, 291.05802679970003, 304.5930038116, 539.4896427919999, 550.6476375761, 7721.5416461751, 8419.7158267965, 242.8925155668, 251.4170171291, 3548.0903101176, 3704.0842661922998, 464.12887264, 498.57015773, 394.22415896, 410.68361891, 257.4007153657, 257.5717900121, 2776.2570592577003, 2921.9935767952, 323.07739926979997, 339.0620829095, 372.08367549269997, 385.1228225621, 351.1720466569, 339.654882913], \"sizemode\": \"area\", \"sizeref\": 15.634799124956446, \"symbol\": \"circle\"}, \"mode\": \"markers\", \"name\": \"Africa\", \"orientation\": \"v\", \"showlegend\": true, \"type\": \"scatter\", \"x\": [33600000, 34200000, 20100000, 20900000, 8220000, 8450000, 1840000, 1880000, 7610000, 7860000, 18200000, 18700000, 469000, 475000, 10500000, 10800000, 626000, 642000, 795000, 805000, 76900000, 78200000, 784000, 822000, 2920000, 3000000, 78500000, 80700000, 1430000, 1470000, 1590000, 1640000, 22400000, 23000000, 9310000, 9520000, 1380000, 1410000, 37600000, 38700000, 1990000, 1990000, 3330000, 3460000, 5890000, 5970000, 18900000, 19400000, 13000000, 13300000, 13200000, 13700000, 3110000, 3200000, 1230000, 1230000, 30800000, 31200000, 21100000, 21700000, 1970000, 2010000, 14100000, 14700000, 143000000, 146000000, 9040000, 9270000, 11400000, 11700000, 89500, 90100, 5830000, 5990000, 48500000, 49100000, 31700000, 32400000, 39500000, 40700000, 5760000, 5920000, 10200000, 10300000, 28600000, 29500000, 12200000, 12500000, 12200000, 12300000], \"xaxis\": \"x\", \"y\": [2124.957753805, 2155.4852310931, 473.13634352879996, 562.9876847798, 360.6554107043, 366.0449665225, 4025.3953598635, 4160.6625970346995, 131.1716586681, 133.2868779724, 640.7628163380999, 647.9445441937, 1613.5844143457998, 1735.8838914494, 299.8800931968, 292.14346494029996, 354.8387555238, 347.10003310839994, 811.9017619485, 837.2779295969, 1678.9547955259, 1765.8694269235998, 6774.4781481104, 7994.386394996899, 170.8777406246, 167.7992225575, 161.5928951003, 176.10740386900002, 3999.6422162695003, 4143.3345801188, 593.5751773234999, 598.0822683204, 305.75110707970003, 317.7363633123, 388.1631320119, 387.7516347428, 154.2631682172, 155.9948009059, 442.02131266739997, 461.0193747494, 430.3513273208, 446.3204159102, 196.9509939499, 217.1365281625, 7458.7664541053, 7736.5442742587, 247.32222930220001, 255.09415214979998, 148.25699612190002, 157.6213676142, 255.1821601597, 258.0305073385, 616.106354085, 609.9344005062001, 4419.9122573636, 4650.9853798196, 1632.1342002000001, 1658.8554000999998, 323.7736996635, 339.0638140439, 2512.9272035405997, 2598.5126545735, 171.76448049479998, 171.4210995312, 458.6349172511, 476.2141659847, 291.05802679970003, 304.5930038116, 539.4896427919999, 550.6476375761, 7721.5416461751, 8419.7158267965, 242.8925155668, 251.4170171291, 3548.0903101176, 3704.0842661922998, 464.12887264, 498.57015773, 394.22415896, 410.68361891, 257.4007153657, 257.5717900121, 2776.2570592577003, 2921.9935767952, 323.07739926979997, 339.0620829095, 372.08367549269997, 385.1228225621, 351.1720466569, 339.654882913], \"yaxis\": \"y\"}, {\"hovertemplate\": \"<b>%{hovertext}</b><br><br>continent=North America<br>pop=%{x}<br>gdp=%{marker.size}<extra></extra>\", \"hovertext\": [\"Antigua and Barbuda\", \"Antigua and Barbuda\", \"Bahamas\", \"Bahamas\", \"Barbados\", \"Barbados\", \"Belize\", \"Belize\", \"Canada\", \"Canada\", \"Costa Rica\", \"Costa Rica\", \"Cuba\", \"Cuba\", \"Dominica\", \"Dominica\", \"El Salvador\", \"El Salvador\", \"Grenada\", \"Grenada\", \"Guatemala\", \"Guatemala\", \"Haiti\", \"Haiti\", \"Honduras\", \"Honduras\", \"Mexico\", \"Mexico\", \"Nicaragua\", \"Nicaragua\", \"Panama\", \"Panama\", \"Trinidad and Tobago\", \"Trinidad and Tobago\"], \"legendgroup\": \"North America\", \"marker\": {\"color\": \"#00cc96\", \"size\": [12452.2820377198, 13495.127466298101, 21728.7088821674, 21721.6184097785, 9757.4434328042, 9783.9841732324, 3754.1228620756, 3680.9164292313, 25943.7360201074, 26229.7430814604, 4836.674305022299, 5137.4852561315, 3884.7985148971998, 4165.6003832113, 5290.6136017697, 5596.624040940799, 2523.5235987597002, 2609.0899151247, 6102.6391316318, 6443.5363300033, 1810.2953347910998, 1877.7514667656, 384.5855208106, 392.0942296896, 1354.497039356, 1409.9790457664, 6211.9272341439, 6333.0823886765, 1130.9564378607001, 1172.8601364134, 4726.8801513047, 5210.7190761594, 10264.6742844562, 10714.744222116], \"sizemode\": \"area\", \"sizeref\": 15.634799124956446, \"symbol\": \"circle\"}, \"mode\": \"markers\", \"name\": \"North America\", \"orientation\": \"v\", \"showlegend\": true, \"type\": \"scatter\", \"x\": [82700, 84000, 331000, 337000, 277000, 279000, 291000, 299000, 32500000, 32900000, 4350000, 4400000, 11300000, 11300000, 70700, 70800, 6080000, 6110000, 105000, 105000, 13400000, 13700000, 9340000, 9500000, 7630000, 7810000, 108000000, 109000000, 5510000, 5590000, 3390000, 3450000, 1300000, 1310000], \"xaxis\": \"x\", \"y\": [12452.2820377198, 13495.127466298101, 21728.7088821674, 21721.6184097785, 9757.4434328042, 9783.9841732324, 3754.1228620756, 3680.9164292313, 25943.7360201074, 26229.7430814604, 4836.674305022299, 5137.4852561315, 3884.7985148971998, 4165.6003832113, 5290.6136017697, 5596.624040940799, 2523.5235987597002, 2609.0899151247, 6102.6391316318, 6443.5363300033, 1810.2953347910998, 1877.7514667656, 384.5855208106, 392.0942296896, 1354.497039356, 1409.9790457664, 6211.9272341439, 6333.0823886765, 1130.9564378607001, 1172.8601364134, 4726.8801513047, 5210.7190761594, 10264.6742844562, 10714.744222116], \"yaxis\": \"y\"}, {\"hovertemplate\": \"<b>%{hovertext}</b><br><br>continent=South America<br>pop=%{x}<br>gdp=%{marker.size}<extra></extra>\", \"hovertext\": [\"Argentina\", \"Argentina\", \"Bolivia\", \"Bolivia\", \"Brazil\", \"Brazil\", \"Chile\", \"Chile\", \"Colombia\", \"Colombia\", \"Ecuador\", \"Ecuador\", \"Guyana\", \"Guyana\", \"Paraguay\", \"Paraguay\", \"Peru\", \"Peru\", \"Suriname\", \"Suriname\", \"Uruguay\", \"Uruguay\", \"Venezuela\", \"Venezuela\"], \"legendgroup\": \"South America\", \"marker\": {\"color\": \"#ab63fa\", \"size\": [8717.1762963448, 9388.6885225844, 1101.0384612505, 1132.2138798098, 4090.5558026917997, 4297.8238539931, 6190.1094021096, 6410.8067317013, 2913.4798283890004, 3068.4772657928997, 1610.9673434588, 1618.8680024537, 1037.1275432282, 1107.3519684432001, 1352.9756536523, 1450.1845661937, 2529.8407281901, 2725.8152449751997, 2422.8185192301003, 2520.5867449072, 7233.9061909065, 7685.2245004424, 5401.4217193332, 5777.6285679063], \"sizemode\": \"area\", \"sizeref\": 15.634799124956446, \"symbol\": \"circle\"}, \"mode\": \"markers\", \"name\": \"South America\", \"orientation\": \"v\", \"showlegend\": true, \"type\": \"scatter\", \"x\": [39300000, 39700000, 9400000, 9560000, 188000000, 190000000, 16400000, 16500000, 43200000, 43700000, 14100000, 14300000, 746000, 746000, 5910000, 6000000, 28100000, 28300000, 505000, 511000, 3330000, 3330000, 26900000, 27200000], \"xaxis\": \"x\", \"y\": [8717.1762963448, 9388.6885225844, 1101.0384612505, 1132.2138798098, 4090.5558026917997, 4297.8238539931, 6190.1094021096, 6410.8067317013, 2913.4798283890004, 3068.4772657928997, 1610.9673434588, 1618.8680024537, 1037.1275432282, 1107.3519684432001, 1352.9756536523, 1450.1845661937, 2529.8407281901, 2725.8152449751997, 2422.8185192301003, 2520.5867449072, 7233.9061909065, 7685.2245004424, 5401.4217193332, 5777.6285679063], \"yaxis\": \"y\"}, {\"hovertemplate\": \"<b>%{hovertext}</b><br><br>continent=Oceania<br>pop=%{x}<br>gdp=%{marker.size}<extra></extra>\", \"hovertext\": [\"Australia\", \"Australia\", \"Fiji\", \"Fiji\", \"Kiribati\", \"Kiribati\", \"Marshall Islands\", \"Marshall Islands\", \"New Zealand\", \"New Zealand\", \"Papua New Guinea\", \"Papua New Guinea\", \"Samoa\", \"Samoa\", \"Solomon Islands\", \"Solomon Islands\", \"Tonga\", \"Tonga\", \"Vanuatu\", \"Vanuatu\"], \"legendgroup\": \"Oceania\", \"marker\": {\"color\": \"#FFA15A\", \"size\": [24295.081379913197, 24765.548901759703, 2335.3212532522, 2295.4383003639, 769.219440837, 773.0187997201, 2404.7364312453, 2464.9906506526, 15103.230383138602, 15392.5027135627, 627.1163523023, 656.3571364232, 1771.5811015581, 1798.3857783035999, 1014.8734660494, 1092.9395550781, 2067.5357050297002, 1969.0040519308, 1418.0752831483999, 1472.1955298675], \"sizemode\": \"area\", \"sizeref\": 15.634799124956446, \"symbol\": \"circle\"}, \"mode\": \"markers\", \"name\": \"Oceania\", \"orientation\": \"v\", \"showlegend\": true, \"type\": \"scatter\", \"x\": [20500000, 20900000, 828000, 836000, 94300, 96500, 55800, 56000, 4190000, 4230000, 6650000, 6810000, 181000, 182000, 481000, 492000, 102000, 103000, 214000, 219000], \"xaxis\": \"x\", \"y\": [24295.081379913197, 24765.548901759703, 2335.3212532522, 2295.4383003639, 769.219440837, 773.0187997201, 2404.7364312453, 2464.9906506526, 15103.230383138602, 15392.5027135627, 627.1163523023, 656.3571364232, 1771.5811015581, 1798.3857783035999, 1014.8734660494, 1092.9395550781, 2067.5357050297002, 1969.0040519308, 1418.0752831483999, 1472.1955298675], \"yaxis\": \"y\"}, {\"hovertemplate\": \"<b>%{hovertext}</b><br><br>continent=Asia<br>pop=%{x}<br>gdp=%{marker.size}<extra></extra>\", \"hovertext\": [\"Bahrain\", \"Bahrain\", \"Bangladesh\", \"Bangladesh\", \"Bhutan\", \"Bhutan\", \"Brunei\", \"Brunei\", \"Cambodia\", \"Cambodia\", \"China\", \"China\", \"India\", \"India\", \"Indonesia\", \"Indonesia\", \"Iran\", \"Iran\", \"Iraq\", \"Iraq\", \"Israel\", \"Israel\", \"Japan\", \"Japan\", \"Jordan\", \"Jordan\", \"Kazakhstan\", \"Kazakhstan\", \"Kuwait\", \"Kuwait\", \"Lebanon\", \"Lebanon\", \"Malaysia\", \"Malaysia\", \"Maldives\", \"Maldives\", \"Mongolia\", \"Mongolia\", \"Nepal\", \"Nepal\", \"Oman\", \"Oman\", \"Pakistan\", \"Pakistan\", \"Philippines\", \"Philippines\", \"Qatar\", \"Qatar\", \"Saudi Arabia\", \"Saudi Arabia\", \"Singapore\", \"Singapore\", \"Sri Lanka\", \"Sri Lanka\", \"Syria\", \"Syria\", \"Tajikistan\", \"Tajikistan\", \"Thailand\", \"Thailand\", \"Turkey\", \"Turkey\", \"Turkmenistan\", \"Turkmenistan\", \"United Arab Emirates\", \"United Arab Emirates\", \"Uzbekistan\", \"Uzbekistan\", \"Vietnam\", \"Vietnam\"], \"legendgroup\": \"Asia\", \"marker\": {\"color\": \"#19d3f3\", \"size\": [14082.914599682299, 13373.219939717601, 459.86251388669996, 483.9708680377, 1017.7187305602, 1175.9263869464999, 18745.804774233202, 18416.905012010702, 468.03182696910005, 510.0197663376, 1640.861518285, 1864.1027022204, 621.8994138869, 673.0046909673999, 953.9355312056, 1003.3644335905001, 1994.6471929851998, 2125.0302523842, 710.2087191202, 699.7055596282, 20715.5680478392, 21469.534507983797, 39965.8555060047, 40837.2666435385, 2250.2742134679, 2380.509339805, 2166.3233017056, 2332.2949295681, 25034.0478950766, 25100.0281002036, 5103.4901751826, 5436.6518851171995, 4695.2297262988, 4905.1213688551, 3209.4693246337, 3500.1110262589, 653.8074697003, 709.723423143, 241.0469796788, 244.53726130470002, 10006.3030714748, 10392.285943071, 620.2956378416001, 643.8585182395, 1225.0450393894, 1283.467370406, 32070.9590979984, 31424.3222932402, 9440.1800267814, 9364.4886724896, 29925.5049380865, 31246.9968487413, 1075.6255378853, 1138.3668385256, 1368.9304914221, 1418.0511464643, 180.08927489319998, 216.544583198, 2458.517431376, 2562.7221596277, 5154.661097441, 5323.6829875242, 860.7116808728999, 944.6692397228, 31929.798166714703, 28427.0984827746, 725.3469456309, 783.0274969092999, 581.5782774498999, 623.9574825930999], \"sizemode\": \"area\", \"sizeref\": 15.634799124956446, \"symbol\": \"circle\"}, \"mode\": \"markers\", \"name\": \"Asia\", \"orientation\": \"v\", \"showlegend\": true, \"type\": \"scatter\", \"x\": [958000, 1040000, 141000000, 143000000, 657000, 665000, 370000, 375000, 13500000, 13700000, 1340000000, 1350000000, 1170000000, 1180000000, 229000000, 232000000, 70600000, 71300000, 27400000, 27900000, 6680000, 6850000, 128000000, 128000000, 5990000, 6260000, 15600000, 15700000, 2370000, 2500000, 4760000, 4770000, 26200000, 26700000, 327000, 335000, 2560000, 2590000, 26100000, 26400000, 2580000, 2660000, 164000000, 168000000, 87900000, 89400000, 1020000, 1220000, 24500000, 25200000, 4400000, 4580000, 19700000, 19800000, 19100000, 19900000, 6920000, 7060000, 65800000, 66200000, 68800000, 69600000, 4810000, 4870000, 5300000, 6170000, 26800000, 27200000, 84600000, 85400000], \"xaxis\": \"x\", \"y\": [14082.914599682299, 13373.219939717601, 459.86251388669996, 483.9708680377, 1017.7187305602, 1175.9263869464999, 18745.804774233202, 18416.905012010702, 468.03182696910005, 510.0197663376, 1640.861518285, 1864.1027022204, 621.8994138869, 673.0046909673999, 953.9355312056, 1003.3644335905001, 1994.6471929851998, 2125.0302523842, 710.2087191202, 699.7055596282, 20715.5680478392, 21469.534507983797, 39965.8555060047, 40837.2666435385, 2250.2742134679, 2380.509339805, 2166.3233017056, 2332.2949295681, 25034.0478950766, 25100.0281002036, 5103.4901751826, 5436.6518851171995, 4695.2297262988, 4905.1213688551, 3209.4693246337, 3500.1110262589, 653.8074697003, 709.723423143, 241.0469796788, 244.53726130470002, 10006.3030714748, 10392.285943071, 620.2956378416001, 643.8585182395, 1225.0450393894, 1283.467370406, 32070.9590979984, 31424.3222932402, 9440.1800267814, 9364.4886724896, 29925.5049380865, 31246.9968487413, 1075.6255378853, 1138.3668385256, 1368.9304914221, 1418.0511464643, 180.08927489319998, 216.544583198, 2458.517431376, 2562.7221596277, 5154.661097441, 5323.6829875242, 860.7116808728999, 944.6692397228, 31929.798166714703, 28427.0984827746, 725.3469456309, 783.0274969092999, 581.5782774498999, 623.9574825930999], \"yaxis\": \"y\"}],                        {\"legend\": {\"itemsizing\": \"constant\", \"title\": {\"text\": \"continent\"}, \"tracegroupgap\": 0}, \"margin\": {\"t\": 60}, \"template\": {\"data\": {\"bar\": [{\"error_x\": {\"color\": \"#2a3f5f\"}, \"error_y\": {\"color\": \"#2a3f5f\"}, \"marker\": {\"line\": {\"color\": \"#E5ECF6\", \"width\": 0.5}}, \"type\": \"bar\"}], \"barpolar\": [{\"marker\": {\"line\": {\"color\": \"#E5ECF6\", \"width\": 0.5}}, \"type\": \"barpolar\"}], \"carpet\": [{\"aaxis\": {\"endlinecolor\": \"#2a3f5f\", \"gridcolor\": \"white\", \"linecolor\": \"white\", \"minorgridcolor\": \"white\", \"startlinecolor\": \"#2a3f5f\"}, \"baxis\": {\"endlinecolor\": \"#2a3f5f\", \"gridcolor\": \"white\", \"linecolor\": \"white\", \"minorgridcolor\": \"white\", \"startlinecolor\": \"#2a3f5f\"}, \"type\": \"carpet\"}], \"choropleth\": [{\"colorbar\": {\"outlinewidth\": 0, \"ticks\": \"\"}, \"type\": \"choropleth\"}], \"contour\": [{\"colorbar\": {\"outlinewidth\": 0, \"ticks\": \"\"}, \"colorscale\": [[0.0, \"#0d0887\"], [0.1111111111111111, \"#46039f\"], [0.2222222222222222, \"#7201a8\"], [0.3333333333333333, \"#9c179e\"], [0.4444444444444444, \"#bd3786\"], [0.5555555555555556, \"#d8576b\"], [0.6666666666666666, \"#ed7953\"], [0.7777777777777778, \"#fb9f3a\"], [0.8888888888888888, \"#fdca26\"], [1.0, \"#f0f921\"]], \"type\": \"contour\"}], \"contourcarpet\": [{\"colorbar\": {\"outlinewidth\": 0, \"ticks\": \"\"}, \"type\": \"contourcarpet\"}], \"heatmap\": [{\"colorbar\": {\"outlinewidth\": 0, \"ticks\": \"\"}, \"colorscale\": [[0.0, \"#0d0887\"], [0.1111111111111111, \"#46039f\"], [0.2222222222222222, \"#7201a8\"], [0.3333333333333333, \"#9c179e\"], [0.4444444444444444, \"#bd3786\"], [0.5555555555555556, \"#d8576b\"], [0.6666666666666666, \"#ed7953\"], [0.7777777777777778, \"#fb9f3a\"], [0.8888888888888888, \"#fdca26\"], [1.0, \"#f0f921\"]], \"type\": \"heatmap\"}], \"heatmapgl\": [{\"colorbar\": {\"outlinewidth\": 0, \"ticks\": \"\"}, \"colorscale\": [[0.0, \"#0d0887\"], [0.1111111111111111, \"#46039f\"], [0.2222222222222222, \"#7201a8\"], [0.3333333333333333, \"#9c179e\"], [0.4444444444444444, \"#bd3786\"], [0.5555555555555556, \"#d8576b\"], [0.6666666666666666, \"#ed7953\"], [0.7777777777777778, \"#fb9f3a\"], [0.8888888888888888, \"#fdca26\"], [1.0, \"#f0f921\"]], \"type\": \"heatmapgl\"}], \"histogram\": [{\"marker\": {\"colorbar\": {\"outlinewidth\": 0, \"ticks\": \"\"}}, \"type\": \"histogram\"}], \"histogram2d\": [{\"colorbar\": {\"outlinewidth\": 0, \"ticks\": \"\"}, \"colorscale\": [[0.0, \"#0d0887\"], [0.1111111111111111, \"#46039f\"], [0.2222222222222222, \"#7201a8\"], [0.3333333333333333, \"#9c179e\"], [0.4444444444444444, \"#bd3786\"], [0.5555555555555556, \"#d8576b\"], [0.6666666666666666, \"#ed7953\"], [0.7777777777777778, \"#fb9f3a\"], [0.8888888888888888, \"#fdca26\"], [1.0, \"#f0f921\"]], \"type\": \"histogram2d\"}], \"histogram2dcontour\": [{\"colorbar\": {\"outlinewidth\": 0, \"ticks\": \"\"}, \"colorscale\": [[0.0, \"#0d0887\"], [0.1111111111111111, \"#46039f\"], [0.2222222222222222, \"#7201a8\"], [0.3333333333333333, \"#9c179e\"], [0.4444444444444444, \"#bd3786\"], [0.5555555555555556, \"#d8576b\"], [0.6666666666666666, \"#ed7953\"], [0.7777777777777778, \"#fb9f3a\"], [0.8888888888888888, \"#fdca26\"], [1.0, \"#f0f921\"]], \"type\": \"histogram2dcontour\"}], \"mesh3d\": [{\"colorbar\": {\"outlinewidth\": 0, \"ticks\": \"\"}, \"type\": \"mesh3d\"}], \"parcoords\": [{\"line\": {\"colorbar\": {\"outlinewidth\": 0, \"ticks\": \"\"}}, \"type\": \"parcoords\"}], \"pie\": [{\"automargin\": true, \"type\": \"pie\"}], \"scatter\": [{\"marker\": {\"colorbar\": {\"outlinewidth\": 0, \"ticks\": \"\"}}, \"type\": \"scatter\"}], \"scatter3d\": [{\"line\": {\"colorbar\": {\"outlinewidth\": 0, \"ticks\": \"\"}}, \"marker\": {\"colorbar\": {\"outlinewidth\": 0, \"ticks\": \"\"}}, \"type\": \"scatter3d\"}], \"scattercarpet\": [{\"marker\": {\"colorbar\": {\"outlinewidth\": 0, \"ticks\": \"\"}}, \"type\": \"scattercarpet\"}], \"scattergeo\": [{\"marker\": {\"colorbar\": {\"outlinewidth\": 0, \"ticks\": \"\"}}, \"type\": \"scattergeo\"}], \"scattergl\": [{\"marker\": {\"colorbar\": {\"outlinewidth\": 0, \"ticks\": \"\"}}, \"type\": \"scattergl\"}], \"scattermapbox\": [{\"marker\": {\"colorbar\": {\"outlinewidth\": 0, \"ticks\": \"\"}}, \"type\": \"scattermapbox\"}], \"scatterpolar\": [{\"marker\": {\"colorbar\": {\"outlinewidth\": 0, \"ticks\": \"\"}}, \"type\": \"scatterpolar\"}], \"scatterpolargl\": [{\"marker\": {\"colorbar\": {\"outlinewidth\": 0, \"ticks\": \"\"}}, \"type\": \"scatterpolargl\"}], \"scatterternary\": [{\"marker\": {\"colorbar\": {\"outlinewidth\": 0, \"ticks\": \"\"}}, \"type\": \"scatterternary\"}], \"surface\": [{\"colorbar\": {\"outlinewidth\": 0, \"ticks\": \"\"}, \"colorscale\": [[0.0, \"#0d0887\"], [0.1111111111111111, \"#46039f\"], [0.2222222222222222, \"#7201a8\"], [0.3333333333333333, \"#9c179e\"], [0.4444444444444444, \"#bd3786\"], [0.5555555555555556, \"#d8576b\"], [0.6666666666666666, \"#ed7953\"], [0.7777777777777778, \"#fb9f3a\"], [0.8888888888888888, \"#fdca26\"], [1.0, \"#f0f921\"]], \"type\": \"surface\"}], \"table\": [{\"cells\": {\"fill\": {\"color\": \"#EBF0F8\"}, \"line\": {\"color\": \"white\"}}, \"header\": {\"fill\": {\"color\": \"#C8D4E3\"}, \"line\": {\"color\": \"white\"}}, \"type\": \"table\"}]}, \"layout\": {\"annotationdefaults\": {\"arrowcolor\": \"#2a3f5f\", \"arrowhead\": 0, \"arrowwidth\": 1}, \"autotypenumbers\": \"strict\", \"coloraxis\": {\"colorbar\": {\"outlinewidth\": 0, \"ticks\": \"\"}}, \"colorscale\": {\"diverging\": [[0, \"#8e0152\"], [0.1, \"#c51b7d\"], [0.2, \"#de77ae\"], [0.3, \"#f1b6da\"], [0.4, \"#fde0ef\"], [0.5, \"#f7f7f7\"], [0.6, \"#e6f5d0\"], [0.7, \"#b8e186\"], [0.8, \"#7fbc41\"], [0.9, \"#4d9221\"], [1, \"#276419\"]], \"sequential\": [[0.0, \"#0d0887\"], [0.1111111111111111, \"#46039f\"], [0.2222222222222222, \"#7201a8\"], [0.3333333333333333, \"#9c179e\"], [0.4444444444444444, \"#bd3786\"], [0.5555555555555556, \"#d8576b\"], [0.6666666666666666, \"#ed7953\"], [0.7777777777777778, \"#fb9f3a\"], [0.8888888888888888, \"#fdca26\"], [1.0, \"#f0f921\"]], \"sequentialminus\": [[0.0, \"#0d0887\"], [0.1111111111111111, \"#46039f\"], [0.2222222222222222, \"#7201a8\"], [0.3333333333333333, \"#9c179e\"], [0.4444444444444444, \"#bd3786\"], [0.5555555555555556, \"#d8576b\"], [0.6666666666666666, \"#ed7953\"], [0.7777777777777778, \"#fb9f3a\"], [0.8888888888888888, \"#fdca26\"], [1.0, \"#f0f921\"]]}, \"colorway\": [\"#636efa\", \"#EF553B\", \"#00cc96\", \"#ab63fa\", \"#FFA15A\", \"#19d3f3\", \"#FF6692\", \"#B6E880\", \"#FF97FF\", \"#FECB52\"], \"font\": {\"color\": \"#2a3f5f\"}, \"geo\": {\"bgcolor\": \"white\", \"lakecolor\": \"white\", \"landcolor\": \"#E5ECF6\", \"showlakes\": true, \"showland\": true, \"subunitcolor\": \"white\"}, \"hoverlabel\": {\"align\": \"left\"}, \"hovermode\": \"closest\", \"mapbox\": {\"style\": \"light\"}, \"paper_bgcolor\": \"white\", \"plot_bgcolor\": \"#E5ECF6\", \"polar\": {\"angularaxis\": {\"gridcolor\": \"white\", \"linecolor\": \"white\", \"ticks\": \"\"}, \"bgcolor\": \"#E5ECF6\", \"radialaxis\": {\"gridcolor\": \"white\", \"linecolor\": \"white\", \"ticks\": \"\"}}, \"scene\": {\"xaxis\": {\"backgroundcolor\": \"#E5ECF6\", \"gridcolor\": \"white\", \"gridwidth\": 2, \"linecolor\": \"white\", \"showbackground\": true, \"ticks\": \"\", \"zerolinecolor\": \"white\"}, \"yaxis\": {\"backgroundcolor\": \"#E5ECF6\", \"gridcolor\": \"white\", \"gridwidth\": 2, \"linecolor\": \"white\", \"showbackground\": true, \"ticks\": \"\", \"zerolinecolor\": \"white\"}, \"zaxis\": {\"backgroundcolor\": \"#E5ECF6\", \"gridcolor\": \"white\", \"gridwidth\": 2, \"linecolor\": \"white\", \"showbackground\": true, \"ticks\": \"\", \"zerolinecolor\": \"white\"}}, \"shapedefaults\": {\"line\": {\"color\": \"#2a3f5f\"}}, \"ternary\": {\"aaxis\": {\"gridcolor\": \"white\", \"linecolor\": \"white\", \"ticks\": \"\"}, \"baxis\": {\"gridcolor\": \"white\", \"linecolor\": \"white\", \"ticks\": \"\"}, \"bgcolor\": \"#E5ECF6\", \"caxis\": {\"gridcolor\": \"white\", \"linecolor\": \"white\", \"ticks\": \"\"}}, \"title\": {\"x\": 0.05}, \"xaxis\": {\"automargin\": true, \"gridcolor\": \"white\", \"linecolor\": \"white\", \"ticks\": \"\", \"title\": {\"standoff\": 15}, \"zerolinecolor\": \"white\", \"zerolinewidth\": 2}, \"yaxis\": {\"automargin\": true, \"gridcolor\": \"white\", \"linecolor\": \"white\", \"ticks\": \"\", \"title\": {\"standoff\": 15}, \"zerolinecolor\": \"white\", \"zerolinewidth\": 2}}}, \"xaxis\": {\"anchor\": \"y\", \"domain\": [0.0, 1.0], \"title\": {\"text\": \"pop\"}, \"type\": \"log\"}, \"yaxis\": {\"anchor\": \"x\", \"domain\": [0.0, 1.0], \"title\": {\"text\": \"gdp\"}}},                        {\"responsive\": true}                    ).then(function(){\n",
       "                            \n",
       "var gd = document.getElementById('c6743eb3-42a1-4be5-b3c2-8b922ea78006');\n",
       "var x = new MutationObserver(function (mutations, observer) {{\n",
       "        var display = window.getComputedStyle(gd).display;\n",
       "        if (!display || display === 'none') {{\n",
       "            console.log([gd, 'removed!']);\n",
       "            Plotly.purge(gd);\n",
       "            observer.disconnect();\n",
       "        }}\n",
       "}});\n",
       "\n",
       "// Listen for the removal of the full notebook cells\n",
       "var notebookContainer = gd.closest('#notebook-container');\n",
       "if (notebookContainer) {{\n",
       "    x.observe(notebookContainer, {childList: true});\n",
       "}}\n",
       "\n",
       "// Listen for the clearing of the current output cell\n",
       "var outputEl = gd.closest('.output');\n",
       "if (outputEl) {{\n",
       "    x.observe(outputEl, {childList: true});\n",
       "}}\n",
       "\n",
       "                        })                };                });            </script>        </div>"
      ]
     },
     "metadata": {},
     "output_type": "display_data"
    },
    {
     "data": {
      "application/vnd.plotly.v1+json": {
       "config": {
        "plotlyServerURL": "https://plot.ly"
       },
       "data": [
        {
         "hovertemplate": "<b>%{hovertext}</b><br><br>pop=%{x}<br>gdp=%{marker.size}<br>life=%{marker.color}<extra></extra>",
         "hovertext": [
          "Albania",
          "Andorra",
          "Armenia",
          "Austria",
          "Azerbaijan",
          "Belarus",
          "Belgium",
          "Bosnia and Herzegovina",
          "Bulgaria",
          "Croatia",
          "Cyprus",
          "Denmark",
          "Estonia",
          "Finland",
          "France",
          "Georgia",
          "Germany",
          "Greece",
          "Hungary",
          "Iceland",
          "Ireland",
          "Italy",
          "Latvia",
          "Lithuania",
          "Luxembourg",
          "Malta",
          "Moldova",
          "Montenegro",
          "Netherlands",
          "Norway",
          "Poland",
          "Portugal",
          "Romania",
          "Serbia",
          "Slovenia",
          "Spain",
          "Sweden",
          "Switzerland",
          "Ukraine",
          "United Kingdom"
         ],
         "legendgroup": "",
         "marker": {
          "color": [
           74.7,
           83.4,
           72.3,
           80.2,
           70.3,
           69.8,
           79.4,
           75.6,
           72.9,
           76.3,
           80.9,
           78.5,
           73.2,
           79.2,
           80.9,
           72.4,
           79.8,
           79.4,
           73.4,
           81.8,
           79.4,
           81.3,
           71.3,
           71.2,
           80.4,
           81.2,
           69.4,
           74.4,
           80.1,
           80.6,
           75.1,
           79,
           73.3,
           76.2,
           78,
           80.9,
           80.9,
           81.7,
           67.6,
           79.4
          ],
          "coloraxis": "coloraxis",
          "size": [
           1681.6139097343,
           21495.8050827331,
           1424.1905619883998,
           27036.4873319233,
           1945.6375491109,
           2253.4641114683,
           25034.666922931698,
           2105.5780280234,
           2494.3526539321,
           6651.741475562801,
           15248.865286000002,
           32767.403492222402,
           7072.4358636901,
           28839.222406095898,
           23516.2231728751,
           1219.4483194539998,
           25297.3853934236,
           14801.5542275146,
           5884.1409617931995,
           38185.3336752324,
           31543.6025270593,
           20291.2266397802,
           6296.2271161896,
           5839.145602375601,
           56285.276849843205,
           10781.0496896617,
           547.673773792,
           2164.6116289362,
           26968.6176962875,
           41904.2102149924,
           5932.474410440501,
           11965.9966113288,
           2595.5960856942,
           1166.9475670228,
           13377.9153299674,
           16351.111081205301,
           33259.262848621496,
           38983.8753244592,
           1125.9597058353,
           29771.303348229198
          ],
          "sizemode": "area",
          "sizeref": 15.634799124956446,
          "symbol": "circle"
         },
         "mode": "markers",
         "name": "",
         "orientation": "v",
         "showlegend": false,
         "type": "scatter",
         "x": [
          3030000,
          82700,
          2930000,
          8310000,
          8720000,
          9480000,
          10700000,
          3760000,
          7580000,
          4360000,
          1060000,
          5470000,
          1340000,
          5300000,
          61900000,
          4170000,
          81300000,
          11100000,
          10000000,
          305000,
          4320000,
          58700000,
          2200000,
          3260000,
          475000,
          408000,
          4130000,
          620000,
          16500000,
          4720000,
          38400000,
          10600000,
          21000000,
          9100000,
          2010000,
          45400000,
          9160000,
          7540000,
          46400000,
          61500000
         ],
         "xaxis": "x",
         "y": [
          1681.6139097343,
          21495.8050827331,
          1424.1905619883998,
          27036.4873319233,
          1945.6375491109,
          2253.4641114683,
          25034.666922931698,
          2105.5780280234,
          2494.3526539321,
          6651.741475562801,
          15248.865286000002,
          32767.403492222402,
          7072.4358636901,
          28839.222406095898,
          23516.2231728751,
          1219.4483194539998,
          25297.3853934236,
          14801.5542275146,
          5884.1409617931995,
          38185.3336752324,
          31543.6025270593,
          20291.2266397802,
          6296.2271161896,
          5839.145602375601,
          56285.276849843205,
          10781.0496896617,
          547.673773792,
          2164.6116289362,
          26968.6176962875,
          41904.2102149924,
          5932.474410440501,
          11965.9966113288,
          2595.5960856942,
          1166.9475670228,
          13377.9153299674,
          16351.111081205301,
          33259.262848621496,
          38983.8753244592,
          1125.9597058353,
          29771.303348229198
         ],
         "yaxis": "y"
        }
       ],
       "layout": {
        "coloraxis": {
         "colorbar": {
          "title": {
           "text": "life"
          }
         },
         "colorscale": [
          [
           0,
           "#0d0887"
          ],
          [
           0.1111111111111111,
           "#46039f"
          ],
          [
           0.2222222222222222,
           "#7201a8"
          ],
          [
           0.3333333333333333,
           "#9c179e"
          ],
          [
           0.4444444444444444,
           "#bd3786"
          ],
          [
           0.5555555555555556,
           "#d8576b"
          ],
          [
           0.6666666666666666,
           "#ed7953"
          ],
          [
           0.7777777777777778,
           "#fb9f3a"
          ],
          [
           0.8888888888888888,
           "#fdca26"
          ],
          [
           1,
           "#f0f921"
          ]
         ]
        },
        "legend": {
         "itemsizing": "constant",
         "tracegroupgap": 0
        },
        "margin": {
         "t": 60
        },
        "template": {
         "data": {
          "bar": [
           {
            "error_x": {
             "color": "#2a3f5f"
            },
            "error_y": {
             "color": "#2a3f5f"
            },
            "marker": {
             "line": {
              "color": "#E5ECF6",
              "width": 0.5
             }
            },
            "type": "bar"
           }
          ],
          "barpolar": [
           {
            "marker": {
             "line": {
              "color": "#E5ECF6",
              "width": 0.5
             }
            },
            "type": "barpolar"
           }
          ],
          "carpet": [
           {
            "aaxis": {
             "endlinecolor": "#2a3f5f",
             "gridcolor": "white",
             "linecolor": "white",
             "minorgridcolor": "white",
             "startlinecolor": "#2a3f5f"
            },
            "baxis": {
             "endlinecolor": "#2a3f5f",
             "gridcolor": "white",
             "linecolor": "white",
             "minorgridcolor": "white",
             "startlinecolor": "#2a3f5f"
            },
            "type": "carpet"
           }
          ],
          "choropleth": [
           {
            "colorbar": {
             "outlinewidth": 0,
             "ticks": ""
            },
            "type": "choropleth"
           }
          ],
          "contour": [
           {
            "colorbar": {
             "outlinewidth": 0,
             "ticks": ""
            },
            "colorscale": [
             [
              0,
              "#0d0887"
             ],
             [
              0.1111111111111111,
              "#46039f"
             ],
             [
              0.2222222222222222,
              "#7201a8"
             ],
             [
              0.3333333333333333,
              "#9c179e"
             ],
             [
              0.4444444444444444,
              "#bd3786"
             ],
             [
              0.5555555555555556,
              "#d8576b"
             ],
             [
              0.6666666666666666,
              "#ed7953"
             ],
             [
              0.7777777777777778,
              "#fb9f3a"
             ],
             [
              0.8888888888888888,
              "#fdca26"
             ],
             [
              1,
              "#f0f921"
             ]
            ],
            "type": "contour"
           }
          ],
          "contourcarpet": [
           {
            "colorbar": {
             "outlinewidth": 0,
             "ticks": ""
            },
            "type": "contourcarpet"
           }
          ],
          "heatmap": [
           {
            "colorbar": {
             "outlinewidth": 0,
             "ticks": ""
            },
            "colorscale": [
             [
              0,
              "#0d0887"
             ],
             [
              0.1111111111111111,
              "#46039f"
             ],
             [
              0.2222222222222222,
              "#7201a8"
             ],
             [
              0.3333333333333333,
              "#9c179e"
             ],
             [
              0.4444444444444444,
              "#bd3786"
             ],
             [
              0.5555555555555556,
              "#d8576b"
             ],
             [
              0.6666666666666666,
              "#ed7953"
             ],
             [
              0.7777777777777778,
              "#fb9f3a"
             ],
             [
              0.8888888888888888,
              "#fdca26"
             ],
             [
              1,
              "#f0f921"
             ]
            ],
            "type": "heatmap"
           }
          ],
          "heatmapgl": [
           {
            "colorbar": {
             "outlinewidth": 0,
             "ticks": ""
            },
            "colorscale": [
             [
              0,
              "#0d0887"
             ],
             [
              0.1111111111111111,
              "#46039f"
             ],
             [
              0.2222222222222222,
              "#7201a8"
             ],
             [
              0.3333333333333333,
              "#9c179e"
             ],
             [
              0.4444444444444444,
              "#bd3786"
             ],
             [
              0.5555555555555556,
              "#d8576b"
             ],
             [
              0.6666666666666666,
              "#ed7953"
             ],
             [
              0.7777777777777778,
              "#fb9f3a"
             ],
             [
              0.8888888888888888,
              "#fdca26"
             ],
             [
              1,
              "#f0f921"
             ]
            ],
            "type": "heatmapgl"
           }
          ],
          "histogram": [
           {
            "marker": {
             "colorbar": {
              "outlinewidth": 0,
              "ticks": ""
             }
            },
            "type": "histogram"
           }
          ],
          "histogram2d": [
           {
            "colorbar": {
             "outlinewidth": 0,
             "ticks": ""
            },
            "colorscale": [
             [
              0,
              "#0d0887"
             ],
             [
              0.1111111111111111,
              "#46039f"
             ],
             [
              0.2222222222222222,
              "#7201a8"
             ],
             [
              0.3333333333333333,
              "#9c179e"
             ],
             [
              0.4444444444444444,
              "#bd3786"
             ],
             [
              0.5555555555555556,
              "#d8576b"
             ],
             [
              0.6666666666666666,
              "#ed7953"
             ],
             [
              0.7777777777777778,
              "#fb9f3a"
             ],
             [
              0.8888888888888888,
              "#fdca26"
             ],
             [
              1,
              "#f0f921"
             ]
            ],
            "type": "histogram2d"
           }
          ],
          "histogram2dcontour": [
           {
            "colorbar": {
             "outlinewidth": 0,
             "ticks": ""
            },
            "colorscale": [
             [
              0,
              "#0d0887"
             ],
             [
              0.1111111111111111,
              "#46039f"
             ],
             [
              0.2222222222222222,
              "#7201a8"
             ],
             [
              0.3333333333333333,
              "#9c179e"
             ],
             [
              0.4444444444444444,
              "#bd3786"
             ],
             [
              0.5555555555555556,
              "#d8576b"
             ],
             [
              0.6666666666666666,
              "#ed7953"
             ],
             [
              0.7777777777777778,
              "#fb9f3a"
             ],
             [
              0.8888888888888888,
              "#fdca26"
             ],
             [
              1,
              "#f0f921"
             ]
            ],
            "type": "histogram2dcontour"
           }
          ],
          "mesh3d": [
           {
            "colorbar": {
             "outlinewidth": 0,
             "ticks": ""
            },
            "type": "mesh3d"
           }
          ],
          "parcoords": [
           {
            "line": {
             "colorbar": {
              "outlinewidth": 0,
              "ticks": ""
             }
            },
            "type": "parcoords"
           }
          ],
          "pie": [
           {
            "automargin": true,
            "type": "pie"
           }
          ],
          "scatter": [
           {
            "marker": {
             "colorbar": {
              "outlinewidth": 0,
              "ticks": ""
             }
            },
            "type": "scatter"
           }
          ],
          "scatter3d": [
           {
            "line": {
             "colorbar": {
              "outlinewidth": 0,
              "ticks": ""
             }
            },
            "marker": {
             "colorbar": {
              "outlinewidth": 0,
              "ticks": ""
             }
            },
            "type": "scatter3d"
           }
          ],
          "scattercarpet": [
           {
            "marker": {
             "colorbar": {
              "outlinewidth": 0,
              "ticks": ""
             }
            },
            "type": "scattercarpet"
           }
          ],
          "scattergeo": [
           {
            "marker": {
             "colorbar": {
              "outlinewidth": 0,
              "ticks": ""
             }
            },
            "type": "scattergeo"
           }
          ],
          "scattergl": [
           {
            "marker": {
             "colorbar": {
              "outlinewidth": 0,
              "ticks": ""
             }
            },
            "type": "scattergl"
           }
          ],
          "scattermapbox": [
           {
            "marker": {
             "colorbar": {
              "outlinewidth": 0,
              "ticks": ""
             }
            },
            "type": "scattermapbox"
           }
          ],
          "scatterpolar": [
           {
            "marker": {
             "colorbar": {
              "outlinewidth": 0,
              "ticks": ""
             }
            },
            "type": "scatterpolar"
           }
          ],
          "scatterpolargl": [
           {
            "marker": {
             "colorbar": {
              "outlinewidth": 0,
              "ticks": ""
             }
            },
            "type": "scatterpolargl"
           }
          ],
          "scatterternary": [
           {
            "marker": {
             "colorbar": {
              "outlinewidth": 0,
              "ticks": ""
             }
            },
            "type": "scatterternary"
           }
          ],
          "surface": [
           {
            "colorbar": {
             "outlinewidth": 0,
             "ticks": ""
            },
            "colorscale": [
             [
              0,
              "#0d0887"
             ],
             [
              0.1111111111111111,
              "#46039f"
             ],
             [
              0.2222222222222222,
              "#7201a8"
             ],
             [
              0.3333333333333333,
              "#9c179e"
             ],
             [
              0.4444444444444444,
              "#bd3786"
             ],
             [
              0.5555555555555556,
              "#d8576b"
             ],
             [
              0.6666666666666666,
              "#ed7953"
             ],
             [
              0.7777777777777778,
              "#fb9f3a"
             ],
             [
              0.8888888888888888,
              "#fdca26"
             ],
             [
              1,
              "#f0f921"
             ]
            ],
            "type": "surface"
           }
          ],
          "table": [
           {
            "cells": {
             "fill": {
              "color": "#EBF0F8"
             },
             "line": {
              "color": "white"
             }
            },
            "header": {
             "fill": {
              "color": "#C8D4E3"
             },
             "line": {
              "color": "white"
             }
            },
            "type": "table"
           }
          ]
         },
         "layout": {
          "annotationdefaults": {
           "arrowcolor": "#2a3f5f",
           "arrowhead": 0,
           "arrowwidth": 1
          },
          "autotypenumbers": "strict",
          "coloraxis": {
           "colorbar": {
            "outlinewidth": 0,
            "ticks": ""
           }
          },
          "colorscale": {
           "diverging": [
            [
             0,
             "#8e0152"
            ],
            [
             0.1,
             "#c51b7d"
            ],
            [
             0.2,
             "#de77ae"
            ],
            [
             0.3,
             "#f1b6da"
            ],
            [
             0.4,
             "#fde0ef"
            ],
            [
             0.5,
             "#f7f7f7"
            ],
            [
             0.6,
             "#e6f5d0"
            ],
            [
             0.7,
             "#b8e186"
            ],
            [
             0.8,
             "#7fbc41"
            ],
            [
             0.9,
             "#4d9221"
            ],
            [
             1,
             "#276419"
            ]
           ],
           "sequential": [
            [
             0,
             "#0d0887"
            ],
            [
             0.1111111111111111,
             "#46039f"
            ],
            [
             0.2222222222222222,
             "#7201a8"
            ],
            [
             0.3333333333333333,
             "#9c179e"
            ],
            [
             0.4444444444444444,
             "#bd3786"
            ],
            [
             0.5555555555555556,
             "#d8576b"
            ],
            [
             0.6666666666666666,
             "#ed7953"
            ],
            [
             0.7777777777777778,
             "#fb9f3a"
            ],
            [
             0.8888888888888888,
             "#fdca26"
            ],
            [
             1,
             "#f0f921"
            ]
           ],
           "sequentialminus": [
            [
             0,
             "#0d0887"
            ],
            [
             0.1111111111111111,
             "#46039f"
            ],
            [
             0.2222222222222222,
             "#7201a8"
            ],
            [
             0.3333333333333333,
             "#9c179e"
            ],
            [
             0.4444444444444444,
             "#bd3786"
            ],
            [
             0.5555555555555556,
             "#d8576b"
            ],
            [
             0.6666666666666666,
             "#ed7953"
            ],
            [
             0.7777777777777778,
             "#fb9f3a"
            ],
            [
             0.8888888888888888,
             "#fdca26"
            ],
            [
             1,
             "#f0f921"
            ]
           ]
          },
          "colorway": [
           "#636efa",
           "#EF553B",
           "#00cc96",
           "#ab63fa",
           "#FFA15A",
           "#19d3f3",
           "#FF6692",
           "#B6E880",
           "#FF97FF",
           "#FECB52"
          ],
          "font": {
           "color": "#2a3f5f"
          },
          "geo": {
           "bgcolor": "white",
           "lakecolor": "white",
           "landcolor": "#E5ECF6",
           "showlakes": true,
           "showland": true,
           "subunitcolor": "white"
          },
          "hoverlabel": {
           "align": "left"
          },
          "hovermode": "closest",
          "mapbox": {
           "style": "light"
          },
          "paper_bgcolor": "white",
          "plot_bgcolor": "#E5ECF6",
          "polar": {
           "angularaxis": {
            "gridcolor": "white",
            "linecolor": "white",
            "ticks": ""
           },
           "bgcolor": "#E5ECF6",
           "radialaxis": {
            "gridcolor": "white",
            "linecolor": "white",
            "ticks": ""
           }
          },
          "scene": {
           "xaxis": {
            "backgroundcolor": "#E5ECF6",
            "gridcolor": "white",
            "gridwidth": 2,
            "linecolor": "white",
            "showbackground": true,
            "ticks": "",
            "zerolinecolor": "white"
           },
           "yaxis": {
            "backgroundcolor": "#E5ECF6",
            "gridcolor": "white",
            "gridwidth": 2,
            "linecolor": "white",
            "showbackground": true,
            "ticks": "",
            "zerolinecolor": "white"
           },
           "zaxis": {
            "backgroundcolor": "#E5ECF6",
            "gridcolor": "white",
            "gridwidth": 2,
            "linecolor": "white",
            "showbackground": true,
            "ticks": "",
            "zerolinecolor": "white"
           }
          },
          "shapedefaults": {
           "line": {
            "color": "#2a3f5f"
           }
          },
          "ternary": {
           "aaxis": {
            "gridcolor": "white",
            "linecolor": "white",
            "ticks": ""
           },
           "baxis": {
            "gridcolor": "white",
            "linecolor": "white",
            "ticks": ""
           },
           "bgcolor": "#E5ECF6",
           "caxis": {
            "gridcolor": "white",
            "linecolor": "white",
            "ticks": ""
           }
          },
          "title": {
           "x": 0.05
          },
          "xaxis": {
           "automargin": true,
           "gridcolor": "white",
           "linecolor": "white",
           "ticks": "",
           "title": {
            "standoff": 15
           },
           "zerolinecolor": "white",
           "zerolinewidth": 2
          },
          "yaxis": {
           "automargin": true,
           "gridcolor": "white",
           "linecolor": "white",
           "ticks": "",
           "title": {
            "standoff": 15
           },
           "zerolinecolor": "white",
           "zerolinewidth": 2
          }
         }
        },
        "xaxis": {
         "anchor": "y",
         "domain": [
          0,
          1
         ],
         "title": {
          "text": "pop"
         },
         "type": "log"
        },
        "yaxis": {
         "anchor": "x",
         "domain": [
          0,
          1
         ],
         "title": {
          "text": "gdp"
         }
        }
       }
      },
      "text/html": [
       "<div>                            <div id=\"763f932a-ce7c-4d18-b5af-44515813c2e9\" class=\"plotly-graph-div\" style=\"height:525px; width:100%;\"></div>            <script type=\"text/javascript\">                require([\"plotly\"], function(Plotly) {                    window.PLOTLYENV=window.PLOTLYENV || {};                                    if (document.getElementById(\"763f932a-ce7c-4d18-b5af-44515813c2e9\")) {                    Plotly.newPlot(                        \"763f932a-ce7c-4d18-b5af-44515813c2e9\",                        [{\"hovertemplate\": \"<b>%{hovertext}</b><br><br>pop=%{x}<br>gdp=%{marker.size}<br>life=%{marker.color}<extra></extra>\", \"hovertext\": [\"Albania\", \"Andorra\", \"Armenia\", \"Austria\", \"Azerbaijan\", \"Belarus\", \"Belgium\", \"Bosnia and Herzegovina\", \"Bulgaria\", \"Croatia\", \"Cyprus\", \"Denmark\", \"Estonia\", \"Finland\", \"France\", \"Georgia\", \"Germany\", \"Greece\", \"Hungary\", \"Iceland\", \"Ireland\", \"Italy\", \"Latvia\", \"Lithuania\", \"Luxembourg\", \"Malta\", \"Moldova\", \"Montenegro\", \"Netherlands\", \"Norway\", \"Poland\", \"Portugal\", \"Romania\", \"Serbia\", \"Slovenia\", \"Spain\", \"Sweden\", \"Switzerland\", \"Ukraine\", \"United Kingdom\"], \"legendgroup\": \"\", \"marker\": {\"color\": [74.7, 83.4, 72.3, 80.2, 70.3, 69.8, 79.4, 75.6, 72.9, 76.3, 80.9, 78.5, 73.2, 79.2, 80.9, 72.4, 79.8, 79.4, 73.4, 81.8, 79.4, 81.3, 71.3, 71.2, 80.4, 81.2, 69.4, 74.4, 80.1, 80.6, 75.1, 79.0, 73.3, 76.2, 78.0, 80.9, 80.9, 81.7, 67.6, 79.4], \"coloraxis\": \"coloraxis\", \"size\": [1681.6139097343, 21495.8050827331, 1424.1905619883998, 27036.4873319233, 1945.6375491109, 2253.4641114683, 25034.666922931698, 2105.5780280234, 2494.3526539321, 6651.741475562801, 15248.865286000002, 32767.403492222402, 7072.4358636901, 28839.222406095898, 23516.2231728751, 1219.4483194539998, 25297.3853934236, 14801.5542275146, 5884.1409617931995, 38185.3336752324, 31543.6025270593, 20291.2266397802, 6296.2271161896, 5839.145602375601, 56285.276849843205, 10781.0496896617, 547.673773792, 2164.6116289362, 26968.6176962875, 41904.2102149924, 5932.474410440501, 11965.9966113288, 2595.5960856942, 1166.9475670228, 13377.9153299674, 16351.111081205301, 33259.262848621496, 38983.8753244592, 1125.9597058353, 29771.303348229198], \"sizemode\": \"area\", \"sizeref\": 15.634799124956446, \"symbol\": \"circle\"}, \"mode\": \"markers\", \"name\": \"\", \"orientation\": \"v\", \"showlegend\": false, \"type\": \"scatter\", \"x\": [3030000, 82700, 2930000, 8310000, 8720000, 9480000, 10700000, 3760000, 7580000, 4360000, 1060000, 5470000, 1340000, 5300000, 61900000, 4170000, 81300000, 11100000, 10000000, 305000, 4320000, 58700000, 2200000, 3260000, 475000, 408000, 4130000, 620000, 16500000, 4720000, 38400000, 10600000, 21000000, 9100000, 2010000, 45400000, 9160000, 7540000, 46400000, 61500000], \"xaxis\": \"x\", \"y\": [1681.6139097343, 21495.8050827331, 1424.1905619883998, 27036.4873319233, 1945.6375491109, 2253.4641114683, 25034.666922931698, 2105.5780280234, 2494.3526539321, 6651.741475562801, 15248.865286000002, 32767.403492222402, 7072.4358636901, 28839.222406095898, 23516.2231728751, 1219.4483194539998, 25297.3853934236, 14801.5542275146, 5884.1409617931995, 38185.3336752324, 31543.6025270593, 20291.2266397802, 6296.2271161896, 5839.145602375601, 56285.276849843205, 10781.0496896617, 547.673773792, 2164.6116289362, 26968.6176962875, 41904.2102149924, 5932.474410440501, 11965.9966113288, 2595.5960856942, 1166.9475670228, 13377.9153299674, 16351.111081205301, 33259.262848621496, 38983.8753244592, 1125.9597058353, 29771.303348229198], \"yaxis\": \"y\"}],                        {\"coloraxis\": {\"colorbar\": {\"title\": {\"text\": \"life\"}}, \"colorscale\": [[0.0, \"#0d0887\"], [0.1111111111111111, \"#46039f\"], [0.2222222222222222, \"#7201a8\"], [0.3333333333333333, \"#9c179e\"], [0.4444444444444444, \"#bd3786\"], [0.5555555555555556, \"#d8576b\"], [0.6666666666666666, \"#ed7953\"], [0.7777777777777778, \"#fb9f3a\"], [0.8888888888888888, \"#fdca26\"], [1.0, \"#f0f921\"]]}, \"legend\": {\"itemsizing\": \"constant\", \"tracegroupgap\": 0}, \"margin\": {\"t\": 60}, \"template\": {\"data\": {\"bar\": [{\"error_x\": {\"color\": \"#2a3f5f\"}, \"error_y\": {\"color\": \"#2a3f5f\"}, \"marker\": {\"line\": {\"color\": \"#E5ECF6\", \"width\": 0.5}}, \"type\": \"bar\"}], \"barpolar\": [{\"marker\": {\"line\": {\"color\": \"#E5ECF6\", \"width\": 0.5}}, \"type\": \"barpolar\"}], \"carpet\": [{\"aaxis\": {\"endlinecolor\": \"#2a3f5f\", \"gridcolor\": \"white\", \"linecolor\": \"white\", \"minorgridcolor\": \"white\", \"startlinecolor\": \"#2a3f5f\"}, \"baxis\": {\"endlinecolor\": \"#2a3f5f\", \"gridcolor\": \"white\", \"linecolor\": \"white\", \"minorgridcolor\": \"white\", \"startlinecolor\": \"#2a3f5f\"}, \"type\": \"carpet\"}], \"choropleth\": [{\"colorbar\": {\"outlinewidth\": 0, \"ticks\": \"\"}, \"type\": \"choropleth\"}], \"contour\": [{\"colorbar\": {\"outlinewidth\": 0, \"ticks\": \"\"}, \"colorscale\": [[0.0, \"#0d0887\"], [0.1111111111111111, \"#46039f\"], [0.2222222222222222, \"#7201a8\"], [0.3333333333333333, \"#9c179e\"], [0.4444444444444444, \"#bd3786\"], [0.5555555555555556, \"#d8576b\"], [0.6666666666666666, \"#ed7953\"], [0.7777777777777778, \"#fb9f3a\"], [0.8888888888888888, \"#fdca26\"], [1.0, \"#f0f921\"]], \"type\": \"contour\"}], \"contourcarpet\": [{\"colorbar\": {\"outlinewidth\": 0, \"ticks\": \"\"}, \"type\": \"contourcarpet\"}], \"heatmap\": [{\"colorbar\": {\"outlinewidth\": 0, \"ticks\": \"\"}, \"colorscale\": [[0.0, \"#0d0887\"], [0.1111111111111111, \"#46039f\"], [0.2222222222222222, \"#7201a8\"], [0.3333333333333333, \"#9c179e\"], [0.4444444444444444, \"#bd3786\"], [0.5555555555555556, \"#d8576b\"], [0.6666666666666666, \"#ed7953\"], [0.7777777777777778, \"#fb9f3a\"], [0.8888888888888888, \"#fdca26\"], [1.0, \"#f0f921\"]], \"type\": \"heatmap\"}], \"heatmapgl\": [{\"colorbar\": {\"outlinewidth\": 0, \"ticks\": \"\"}, \"colorscale\": [[0.0, \"#0d0887\"], [0.1111111111111111, \"#46039f\"], [0.2222222222222222, \"#7201a8\"], [0.3333333333333333, \"#9c179e\"], [0.4444444444444444, \"#bd3786\"], [0.5555555555555556, \"#d8576b\"], [0.6666666666666666, \"#ed7953\"], [0.7777777777777778, \"#fb9f3a\"], [0.8888888888888888, \"#fdca26\"], [1.0, \"#f0f921\"]], \"type\": \"heatmapgl\"}], \"histogram\": [{\"marker\": {\"colorbar\": {\"outlinewidth\": 0, \"ticks\": \"\"}}, \"type\": \"histogram\"}], \"histogram2d\": [{\"colorbar\": {\"outlinewidth\": 0, \"ticks\": \"\"}, \"colorscale\": [[0.0, \"#0d0887\"], [0.1111111111111111, \"#46039f\"], [0.2222222222222222, \"#7201a8\"], [0.3333333333333333, \"#9c179e\"], [0.4444444444444444, \"#bd3786\"], [0.5555555555555556, \"#d8576b\"], [0.6666666666666666, \"#ed7953\"], [0.7777777777777778, \"#fb9f3a\"], [0.8888888888888888, \"#fdca26\"], [1.0, \"#f0f921\"]], \"type\": \"histogram2d\"}], \"histogram2dcontour\": [{\"colorbar\": {\"outlinewidth\": 0, \"ticks\": \"\"}, \"colorscale\": [[0.0, \"#0d0887\"], [0.1111111111111111, \"#46039f\"], [0.2222222222222222, \"#7201a8\"], [0.3333333333333333, \"#9c179e\"], [0.4444444444444444, \"#bd3786\"], [0.5555555555555556, \"#d8576b\"], [0.6666666666666666, \"#ed7953\"], [0.7777777777777778, \"#fb9f3a\"], [0.8888888888888888, \"#fdca26\"], [1.0, \"#f0f921\"]], \"type\": \"histogram2dcontour\"}], \"mesh3d\": [{\"colorbar\": {\"outlinewidth\": 0, \"ticks\": \"\"}, \"type\": \"mesh3d\"}], \"parcoords\": [{\"line\": {\"colorbar\": {\"outlinewidth\": 0, \"ticks\": \"\"}}, \"type\": \"parcoords\"}], \"pie\": [{\"automargin\": true, \"type\": \"pie\"}], \"scatter\": [{\"marker\": {\"colorbar\": {\"outlinewidth\": 0, \"ticks\": \"\"}}, \"type\": \"scatter\"}], \"scatter3d\": [{\"line\": {\"colorbar\": {\"outlinewidth\": 0, \"ticks\": \"\"}}, \"marker\": {\"colorbar\": {\"outlinewidth\": 0, \"ticks\": \"\"}}, \"type\": \"scatter3d\"}], \"scattercarpet\": [{\"marker\": {\"colorbar\": {\"outlinewidth\": 0, \"ticks\": \"\"}}, \"type\": \"scattercarpet\"}], \"scattergeo\": [{\"marker\": {\"colorbar\": {\"outlinewidth\": 0, \"ticks\": \"\"}}, \"type\": \"scattergeo\"}], \"scattergl\": [{\"marker\": {\"colorbar\": {\"outlinewidth\": 0, \"ticks\": \"\"}}, \"type\": \"scattergl\"}], \"scattermapbox\": [{\"marker\": {\"colorbar\": {\"outlinewidth\": 0, \"ticks\": \"\"}}, \"type\": \"scattermapbox\"}], \"scatterpolar\": [{\"marker\": {\"colorbar\": {\"outlinewidth\": 0, \"ticks\": \"\"}}, \"type\": \"scatterpolar\"}], \"scatterpolargl\": [{\"marker\": {\"colorbar\": {\"outlinewidth\": 0, \"ticks\": \"\"}}, \"type\": \"scatterpolargl\"}], \"scatterternary\": [{\"marker\": {\"colorbar\": {\"outlinewidth\": 0, \"ticks\": \"\"}}, \"type\": \"scatterternary\"}], \"surface\": [{\"colorbar\": {\"outlinewidth\": 0, \"ticks\": \"\"}, \"colorscale\": [[0.0, \"#0d0887\"], [0.1111111111111111, \"#46039f\"], [0.2222222222222222, \"#7201a8\"], [0.3333333333333333, \"#9c179e\"], [0.4444444444444444, \"#bd3786\"], [0.5555555555555556, \"#d8576b\"], [0.6666666666666666, \"#ed7953\"], [0.7777777777777778, \"#fb9f3a\"], [0.8888888888888888, \"#fdca26\"], [1.0, \"#f0f921\"]], \"type\": \"surface\"}], \"table\": [{\"cells\": {\"fill\": {\"color\": \"#EBF0F8\"}, \"line\": {\"color\": \"white\"}}, \"header\": {\"fill\": {\"color\": \"#C8D4E3\"}, \"line\": {\"color\": \"white\"}}, \"type\": \"table\"}]}, \"layout\": {\"annotationdefaults\": {\"arrowcolor\": \"#2a3f5f\", \"arrowhead\": 0, \"arrowwidth\": 1}, \"autotypenumbers\": \"strict\", \"coloraxis\": {\"colorbar\": {\"outlinewidth\": 0, \"ticks\": \"\"}}, \"colorscale\": {\"diverging\": [[0, \"#8e0152\"], [0.1, \"#c51b7d\"], [0.2, \"#de77ae\"], [0.3, \"#f1b6da\"], [0.4, \"#fde0ef\"], [0.5, \"#f7f7f7\"], [0.6, \"#e6f5d0\"], [0.7, \"#b8e186\"], [0.8, \"#7fbc41\"], [0.9, \"#4d9221\"], [1, \"#276419\"]], \"sequential\": [[0.0, \"#0d0887\"], [0.1111111111111111, \"#46039f\"], [0.2222222222222222, \"#7201a8\"], [0.3333333333333333, \"#9c179e\"], [0.4444444444444444, \"#bd3786\"], [0.5555555555555556, \"#d8576b\"], [0.6666666666666666, \"#ed7953\"], [0.7777777777777778, \"#fb9f3a\"], [0.8888888888888888, \"#fdca26\"], [1.0, \"#f0f921\"]], \"sequentialminus\": [[0.0, \"#0d0887\"], [0.1111111111111111, \"#46039f\"], [0.2222222222222222, \"#7201a8\"], [0.3333333333333333, \"#9c179e\"], [0.4444444444444444, \"#bd3786\"], [0.5555555555555556, \"#d8576b\"], [0.6666666666666666, \"#ed7953\"], [0.7777777777777778, \"#fb9f3a\"], [0.8888888888888888, \"#fdca26\"], [1.0, \"#f0f921\"]]}, \"colorway\": [\"#636efa\", \"#EF553B\", \"#00cc96\", \"#ab63fa\", \"#FFA15A\", \"#19d3f3\", \"#FF6692\", \"#B6E880\", \"#FF97FF\", \"#FECB52\"], \"font\": {\"color\": \"#2a3f5f\"}, \"geo\": {\"bgcolor\": \"white\", \"lakecolor\": \"white\", \"landcolor\": \"#E5ECF6\", \"showlakes\": true, \"showland\": true, \"subunitcolor\": \"white\"}, \"hoverlabel\": {\"align\": \"left\"}, \"hovermode\": \"closest\", \"mapbox\": {\"style\": \"light\"}, \"paper_bgcolor\": \"white\", \"plot_bgcolor\": \"#E5ECF6\", \"polar\": {\"angularaxis\": {\"gridcolor\": \"white\", \"linecolor\": \"white\", \"ticks\": \"\"}, \"bgcolor\": \"#E5ECF6\", \"radialaxis\": {\"gridcolor\": \"white\", \"linecolor\": \"white\", \"ticks\": \"\"}}, \"scene\": {\"xaxis\": {\"backgroundcolor\": \"#E5ECF6\", \"gridcolor\": \"white\", \"gridwidth\": 2, \"linecolor\": \"white\", \"showbackground\": true, \"ticks\": \"\", \"zerolinecolor\": \"white\"}, \"yaxis\": {\"backgroundcolor\": \"#E5ECF6\", \"gridcolor\": \"white\", \"gridwidth\": 2, \"linecolor\": \"white\", \"showbackground\": true, \"ticks\": \"\", \"zerolinecolor\": \"white\"}, \"zaxis\": {\"backgroundcolor\": \"#E5ECF6\", \"gridcolor\": \"white\", \"gridwidth\": 2, \"linecolor\": \"white\", \"showbackground\": true, \"ticks\": \"\", \"zerolinecolor\": \"white\"}}, \"shapedefaults\": {\"line\": {\"color\": \"#2a3f5f\"}}, \"ternary\": {\"aaxis\": {\"gridcolor\": \"white\", \"linecolor\": \"white\", \"ticks\": \"\"}, \"baxis\": {\"gridcolor\": \"white\", \"linecolor\": \"white\", \"ticks\": \"\"}, \"bgcolor\": \"#E5ECF6\", \"caxis\": {\"gridcolor\": \"white\", \"linecolor\": \"white\", \"ticks\": \"\"}}, \"title\": {\"x\": 0.05}, \"xaxis\": {\"automargin\": true, \"gridcolor\": \"white\", \"linecolor\": \"white\", \"ticks\": \"\", \"title\": {\"standoff\": 15}, \"zerolinecolor\": \"white\", \"zerolinewidth\": 2}, \"yaxis\": {\"automargin\": true, \"gridcolor\": \"white\", \"linecolor\": \"white\", \"ticks\": \"\", \"title\": {\"standoff\": 15}, \"zerolinecolor\": \"white\", \"zerolinewidth\": 2}}}, \"xaxis\": {\"anchor\": \"y\", \"domain\": [0.0, 1.0], \"title\": {\"text\": \"pop\"}, \"type\": \"log\"}, \"yaxis\": {\"anchor\": \"x\", \"domain\": [0.0, 1.0], \"title\": {\"text\": \"gdp\"}}},                        {\"responsive\": true}                    ).then(function(){\n",
       "                            \n",
       "var gd = document.getElementById('763f932a-ce7c-4d18-b5af-44515813c2e9');\n",
       "var x = new MutationObserver(function (mutations, observer) {{\n",
       "        var display = window.getComputedStyle(gd).display;\n",
       "        if (!display || display === 'none') {{\n",
       "            console.log([gd, 'removed!']);\n",
       "            Plotly.purge(gd);\n",
       "            observer.disconnect();\n",
       "        }}\n",
       "}});\n",
       "\n",
       "// Listen for the removal of the full notebook cells\n",
       "var notebookContainer = gd.closest('#notebook-container');\n",
       "if (notebookContainer) {{\n",
       "    x.observe(notebookContainer, {childList: true});\n",
       "}}\n",
       "\n",
       "// Listen for the clearing of the current output cell\n",
       "var outputEl = gd.closest('.output');\n",
       "if (outputEl) {{\n",
       "    x.observe(outputEl, {childList: true});\n",
       "}}\n",
       "\n",
       "                        })                };                });            </script>        </div>"
      ]
     },
     "metadata": {},
     "output_type": "display_data"
    }
   ],
   "source": [
    "fig1 = px.scatter(combined.query(\"year in ('2006', '2007')\").dropna(), x=\"pop\", y=\"gdp\",\n",
    "                size=\"gdp\", \n",
    "                color=\"continent\",\n",
    "                hover_name=\"country\", log_x=True, size_max=60)\n",
    "\n",
    "fig2 = px.scatter(combined.query(\"year == '2007'\").query(\"continent == 'Europe'\").dropna(), x=\"pop\", y=\"gdp\",\n",
    "                size=\"gdp\", \n",
    "                color=\"life\",\n",
    "                hover_name=\"country\", log_x=True, size_max=60)\n",
    "fig1.show()\n",
    "fig2.show()"
   ]
  },
  {
   "cell_type": "markdown",
   "metadata": {},
   "source": [
    "> **Tip**: You should _not_ perform too many operations in each cell. Create cells freely to explore your data. One option that you can take with this project is to do a lot of explorations in an initial notebook. These don't have to be organized, but make sure you use enough comments to understand the purpose of each code cell. Then, after you're done with your analysis, create a duplicate notebook where you will trim the excess and organize your steps so that you have a flowing, cohesive report.\n",
    "\n",
    "> **Tip**: Make sure that you keep your reader informed on the steps that you are taking in your investigation. Follow every code cell, or every set of related code cells, with a markdown cell to describe to the reader what was found in the preceding cell(s). Try to make it so that the reader can then understand what they will be seeing in the following cell(s).\n",
    "\n",
    "### Data Cleaning (Replace this with more specific notes!)"
   ]
  },
  {
   "cell_type": "code",
   "execution_count": 139,
   "metadata": {},
   "outputs": [],
   "source": [
    "# After discussing the structure of the data and any problems that need to be\n",
    "#   cleaned, perform those cleaning steps in the second part of this section.\n"
   ]
  },
  {
   "cell_type": "markdown",
   "metadata": {},
   "source": [
    "<a id='eda'></a>\n",
    "## Exploratory Data Analysis\n",
    "\n",
    "> **Tip**: Now that you've trimmed and cleaned your data, you're ready to move on to exploration. Compute statistics and create visualizations with the goal of addressing the research questions that you posed in the Introduction section. It is recommended that you be systematic with your approach. Look at one variable at a time, and then follow it up by looking at relationships between variables.\n",
    "\n",
    "### Research Question 1 (Replace this header name!)"
   ]
  },
  {
   "cell_type": "code",
   "execution_count": null,
   "metadata": {
    "collapsed": true
   },
   "outputs": [],
   "source": [
    "# Use this, and more code cells, to explore your data. Don't forget to add\n",
    "#   Markdown cells to document your observations and findings.\n"
   ]
  },
  {
   "cell_type": "markdown",
   "metadata": {},
   "source": [
    "### Research Question 2  (Replace this header name!)"
   ]
  },
  {
   "cell_type": "code",
   "execution_count": null,
   "metadata": {
    "collapsed": true
   },
   "outputs": [],
   "source": [
    "# Continue to explore the data to address your additional research\n",
    "#   questions. Add more headers as needed if you have more questions to\n",
    "#   investigate.\n"
   ]
  },
  {
   "cell_type": "markdown",
   "metadata": {},
   "source": [
    "<a id='conclusions'></a>\n",
    "## Conclusions\n",
    "\n",
    "> **Tip**: Finally, summarize your findings and the results that have been performed. Make sure that you are clear with regards to the limitations of your exploration. If you haven't done any statistical tests, do not imply any statistical conclusions. And make sure you avoid implying causation from correlation!\n",
    "\n",
    "> **Tip**: Once you are satisfied with your work, you should save a copy of the report in HTML or PDF form via the **File** > **Download as** submenu. Before exporting your report, check over it to make sure that the flow of the report is complete. You should probably remove all of the \"Tip\" quotes like this one so that the presentation is as tidy as possible. Congratulations!"
   ]
  },
  {
   "cell_type": "code",
   "execution_count": null,
   "metadata": {
    "collapsed": true
   },
   "outputs": [],
   "source": []
  }
 ],
 "metadata": {
  "kernelspec": {
   "display_name": "Python 3",
   "language": "python",
   "name": "python3"
  },
  "language_info": {
   "codemirror_mode": {
    "name": "ipython",
    "version": 3
   },
   "file_extension": ".py",
   "mimetype": "text/x-python",
   "name": "python",
   "nbconvert_exporter": "python",
   "pygments_lexer": "ipython3",
   "version": "3.8.5"
  }
 },
 "nbformat": 4,
 "nbformat_minor": 2
}
