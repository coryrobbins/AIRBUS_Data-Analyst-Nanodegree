{
 "cells": [
  {
   "cell_type": "markdown",
   "metadata": {},
   "source": [
    "\n",
    "# Gapminder CO2 emissions Data - Carbon Dioxide Analysis and Driver Exploration\n",
    "\n",
    "## Udacity Data Analytics Nano Degree | Project 1 - Data Wrangling\n",
    "\n",
    "### By: Cory Robbins |  Jan 15, 2021\n",
    "\n",
    "\n",
    "# Table of Contents\n",
    "<ul>\n",
    "<li><a href=\"#intro\">Introduction</a></li>\n",
    "<li><a href=\"#wrangling\">Data Wrangling</a></li>\n",
    "<li><a href=\"#eda\">Exploratory Data Analysis</a></li>\n",
    "<li><a href=\"#conclusions\">Conclusions</a></li>\n",
    "</ul>"
   ]
  },
  {
   "cell_type": "markdown",
   "metadata": {},
   "source": [
    "<a id='intro'></a>\n",
    "# Introduction\n",
    "\n",
    "In this project we investigate Gapminder CO2 emissions data as well life expectency, population, gdp, and, income -- data sets of know indicators of leading CO2 emissions -- and compare data of carrier departures and passanger flights to help us understand CO2 emissions.\n",
    "\n",
    "### Gapminder Data sets used \n",
    "\n",
    "* Countries-Continents.csv\n",
    "* life_expectancy_years.csv\n",
    "* population_total.csv\n",
    "* total_gdp_ppp_inflation_adjusted.csv\n",
    "* co2_emissions_tonnes_per_person.csv\n",
    "* consumption_co2_emissions_1000_tonnes.csv\n",
    "* income_per_person_gdppercapita_ppp_inflation_adjusted.csv\n",
    "* air_dprt.csv\n",
    "* air_psgr.csv\n",
    "\n",
    "In late 2020 Airbus announced three new Hydrogen, \"zero-emission' concept aircrafts, each representing a different approach to exploring various technology pathways towards meeting future climate-neutral targets as set by the company and in accorence with European Green Deal standards. The company expressed that the time is prime for new develoment in areas such as Hydrogen to take hold so that companies such as Airbus and the overall industry governments can work in accordance to meet innovation requirments and move towards an entirely new way to fly by 2030.\n",
    "\n",
    "> https://ec.europa.eu/info/strategy/priorities-2019-2024/european-green-deal_en \n",
    "\n",
    "We hope to gain insights into known drivers of CO2 emissions across countries and regions including identify potential connections between known driving indicators of increased CO2 emissions as well as flight data and see how total passangers and total departures.  \n",
    "\n",
    "Natrurally, I wanted to check if there are any potential relationship beween flights and CO2 emissions, but before we analyze flights we pulled in known variables life expectancy, gdp, population and income. \n",
    "\n",
    "Questions we would like to answer in this exploration are the following:\n",
    "\n",
    "* Can we generalize something about the top-25 CO2 emitting countries?  \n",
    "* Can we identify which variables are correlated or strong associated with CO2 emissions?\n",
    "* Can we prodice a correlation coefficient heatmap?\n",
    "* Can we plot the variables in a bubble plotto play with the data?\n"
   ]
  },
  {
   "cell_type": "code",
   "execution_count": 54,
   "metadata": {},
   "outputs": [],
   "source": [
    "# In this cell are the import statements for all of the packages used\n",
    "\n",
    "import plotly\n",
    "import numpy as np\n",
    "import pandas as pd\n",
    "import itertools \n",
    "import os\n",
    "import matplotlib.pyplot as plt\n",
    "import seaborn as sns\n",
    "import plotly.express as px\n",
    "# %matplotlib inline\n",
    "\n",
    "pd.options.display.float_format = \"{:,.2f}\".format"
   ]
  },
  {
   "cell_type": "markdown",
   "metadata": {},
   "source": [
    "<a id='wrangling'></a>\n",
    "# Data Wrangling\n",
    "\n",
    "In this section of the report, the data is laoded, check for cleanliness, and then trim and clean your dataset for analysis. Make sure that you document your steps carefully and justify your cleaning decisions.\n"
   ]
  },
  {
   "cell_type": "markdown",
   "metadata": {},
   "source": [
    "### importing the CSV data files including a list of continents so we can group counties by regions"
   ]
  },
  {
   "cell_type": "code",
   "execution_count": 55,
   "metadata": {},
   "outputs": [],
   "source": [
    "path = '/Users/coryrobbins/Desktop/gapminder_data/'\n",
    "\n",
    "continents = pd.read_csv(path + 'Countries-Continents.csv')\n",
    "continents.set_index(\"Country\", inplace=True)\n",
    "\n",
    "co2 = pd.read_csv(path + 'co2_emissions_tonnes_per_person.csv', index_col='country')\n",
    "consumption = pd.read_csv(path + 'consumption_co2_emissions_1000_tonnes.csv', index_col='country')\n",
    "\n",
    "income = pd.read_csv(path + 'income_per_person_gdppercapita_ppp_inflation_adjusted.csv', index_col='country')\n",
    "life = pd.read_csv(path + 'life_expectancy_years.csv', index_col='country')\n",
    "population = pd.read_csv(path + 'population_total.csv', index_col='country')\n",
    "gdp = pd.read_csv(path + 'total_gdp_ppp_inflation_adjusted.csv', index_col='country')\n",
    "\n",
    "dprt =pd.read_csv(path + 'is_air_dprt.csv', index_col='country')\n",
    "psgr =pd.read_csv(path + 'is_air_psgr.csv', index_col='country')\n"
   ]
  },
  {
   "cell_type": "code",
   "execution_count": 56,
   "metadata": {},
   "outputs": [],
   "source": [
    "all_data = {\n",
    "    'co2' : co2,\n",
    "    'consumption' : consumption,\n",
    "    \n",
    "    'income' : income,\n",
    "    'life' : life,\n",
    "    'population' : population,\n",
    "    'gdp' : gdp,\n",
    "    \n",
    "    'dprt' : dprt,\n",
    "    'psgr' : psgr,\n",
    "}\n",
    "\n",
    "all_data = {name:value.transpose() for name, value in all_data.items()}"
   ]
  },
  {
   "cell_type": "markdown",
   "metadata": {},
   "source": [
    "### transforming the data "
   ]
  },
  {
   "cell_type": "markdown",
   "metadata": {},
   "source": [
    "\n",
    "Now we want a flatten (tall and skinny) representation of the data \n",
    "to be more similar to other online resoources.\n",
    "\n",
    "For this we need the stack / unstack operations. "
   ]
  },
  {
   "cell_type": "code",
   "execution_count": 57,
   "metadata": {},
   "outputs": [],
   "source": [
    "all_data.keys()\n",
    "all_data['continent'] = continents #['Continent']\n",
    "# means['continent'] = continents['Continent']"
   ]
  },
  {
   "cell_type": "markdown",
   "metadata": {},
   "source": [
    "### stacking the data "
   ]
  },
  {
   "cell_type": "code",
   "execution_count": 58,
   "metadata": {},
   "outputs": [
    {
     "data": {
      "text/html": [
       "<div>\n",
       "<style scoped>\n",
       "    .dataframe tbody tr th:only-of-type {\n",
       "        vertical-align: middle;\n",
       "    }\n",
       "\n",
       "    .dataframe tbody tr th {\n",
       "        vertical-align: top;\n",
       "    }\n",
       "\n",
       "    .dataframe thead th {\n",
       "        text-align: right;\n",
       "    }\n",
       "</style>\n",
       "<table border=\"1\" class=\"dataframe\">\n",
       "  <thead>\n",
       "    <tr style=\"text-align: right;\">\n",
       "      <th></th>\n",
       "      <th></th>\n",
       "      <th></th>\n",
       "      <th>consumption</th>\n",
       "    </tr>\n",
       "    <tr>\n",
       "      <th>continent</th>\n",
       "      <th>country</th>\n",
       "      <th>year</th>\n",
       "      <th></th>\n",
       "    </tr>\n",
       "  </thead>\n",
       "  <tbody>\n",
       "    <tr>\n",
       "      <th rowspan=\"5\" valign=\"top\">Europe</th>\n",
       "      <th rowspan=\"5\" valign=\"top\">Albania</th>\n",
       "      <th>1990</th>\n",
       "      <td>5620</td>\n",
       "    </tr>\n",
       "    <tr>\n",
       "      <th>1991</th>\n",
       "      <td>4570</td>\n",
       "    </tr>\n",
       "    <tr>\n",
       "      <th>1992</th>\n",
       "      <td>2840</td>\n",
       "    </tr>\n",
       "    <tr>\n",
       "      <th>1993</th>\n",
       "      <td>2630</td>\n",
       "    </tr>\n",
       "    <tr>\n",
       "      <th>1994</th>\n",
       "      <td>2290</td>\n",
       "    </tr>\n",
       "    <tr>\n",
       "      <th>...</th>\n",
       "      <th>...</th>\n",
       "      <th>...</th>\n",
       "      <td>...</td>\n",
       "    </tr>\n",
       "    <tr>\n",
       "      <th rowspan=\"5\" valign=\"top\">Africa</th>\n",
       "      <th rowspan=\"5\" valign=\"top\">Zimbabwe</th>\n",
       "      <th>2013</th>\n",
       "      <td>12100</td>\n",
       "    </tr>\n",
       "    <tr>\n",
       "      <th>2014</th>\n",
       "      <td>12800</td>\n",
       "    </tr>\n",
       "    <tr>\n",
       "      <th>2015</th>\n",
       "      <td>13000</td>\n",
       "    </tr>\n",
       "    <tr>\n",
       "      <th>2016</th>\n",
       "      <td>11800</td>\n",
       "    </tr>\n",
       "    <tr>\n",
       "      <th>2017</th>\n",
       "      <td>12500</td>\n",
       "    </tr>\n",
       "  </tbody>\n",
       "</table>\n",
       "<p>3276 rows × 1 columns</p>\n",
       "</div>"
      ],
      "text/plain": [
       "                         consumption\n",
       "continent country  year             \n",
       "Europe    Albania  1990         5620\n",
       "                   1991         4570\n",
       "                   1992         2840\n",
       "                   1993         2630\n",
       "                   1994         2290\n",
       "...                              ...\n",
       "Africa    Zimbabwe 2013        12100\n",
       "                   2014        12800\n",
       "                   2015        13000\n",
       "                   2016        11800\n",
       "                   2017        12500\n",
       "\n",
       "[3276 rows x 1 columns]"
      ]
     },
     "execution_count": 58,
     "metadata": {},
     "output_type": "execute_result"
    }
   ],
   "source": [
    "\n",
    "name = \"consumption\"\n",
    "datanow = all_data[name].transpose()\n",
    "datanow[\"continent\"] = all_data[\"continent\"]\n",
    "datanow = datanow.reset_index().set_index(['country', 'continent'])\n",
    "# datanow = datanow.transpose()\n",
    "\n",
    "datanow = (\n",
    "    datanow\n",
    "        .stack()\n",
    "        .reset_index()\n",
    "        .rename(columns={\"level_2\":\"year\", 0:name})\n",
    "        .set_index( [\"continent\", \"country\", \"year\"]) #.transpose()\n",
    ")\n",
    "datanow "
   ]
  },
  {
   "cell_type": "markdown",
   "metadata": {},
   "source": [
    "## Combining the data into its own DataFrame"
   ]
  },
  {
   "cell_type": "code",
   "execution_count": 59,
   "metadata": {},
   "outputs": [
    {
     "data": {
      "text/html": [
       "<div>\n",
       "<style scoped>\n",
       "    .dataframe tbody tr th:only-of-type {\n",
       "        vertical-align: middle;\n",
       "    }\n",
       "\n",
       "    .dataframe tbody tr th {\n",
       "        vertical-align: top;\n",
       "    }\n",
       "\n",
       "    .dataframe thead th {\n",
       "        text-align: right;\n",
       "    }\n",
       "</style>\n",
       "<table border=\"1\" class=\"dataframe\">\n",
       "  <thead>\n",
       "    <tr style=\"text-align: right;\">\n",
       "      <th></th>\n",
       "      <th>continent</th>\n",
       "      <th>country</th>\n",
       "      <th>year</th>\n",
       "      <th>co2</th>\n",
       "      <th>consumption</th>\n",
       "      <th>income</th>\n",
       "      <th>life</th>\n",
       "      <th>population</th>\n",
       "      <th>gdp</th>\n",
       "      <th>dprt</th>\n",
       "      <th>psgr</th>\n",
       "    </tr>\n",
       "  </thead>\n",
       "  <tbody>\n",
       "    <tr>\n",
       "      <th>2759</th>\n",
       "      <td>Africa</td>\n",
       "      <td>Burundi</td>\n",
       "      <td>1997</td>\n",
       "      <td>0.04</td>\n",
       "      <td>nan</td>\n",
       "      <td>728.00</td>\n",
       "      <td>43.60</td>\n",
       "      <td>6120000</td>\n",
       "      <td>4,390,000,000.00</td>\n",
       "      <td>1,400.00</td>\n",
       "      <td>12,000.00</td>\n",
       "    </tr>\n",
       "    <tr>\n",
       "      <th>7290</th>\n",
       "      <td>Asia</td>\n",
       "      <td>India</td>\n",
       "      <td>1891</td>\n",
       "      <td>0.02</td>\n",
       "      <td>nan</td>\n",
       "      <td>705.00</td>\n",
       "      <td>23.10</td>\n",
       "      <td>285000000</td>\n",
       "      <td>166,000,000,000.00</td>\n",
       "      <td>nan</td>\n",
       "      <td>nan</td>\n",
       "    </tr>\n",
       "    <tr>\n",
       "      <th>5522</th>\n",
       "      <td>Europe</td>\n",
       "      <td>Finland</td>\n",
       "      <td>1959</td>\n",
       "      <td>3.08</td>\n",
       "      <td>nan</td>\n",
       "      <td>9,320.00</td>\n",
       "      <td>68.70</td>\n",
       "      <td>4400000</td>\n",
       "      <td>42,200,000,000.00</td>\n",
       "      <td>nan</td>\n",
       "      <td>nan</td>\n",
       "    </tr>\n",
       "    <tr>\n",
       "      <th>2018</th>\n",
       "      <td>Africa</td>\n",
       "      <td>Benin</td>\n",
       "      <td>1971</td>\n",
       "      <td>0.10</td>\n",
       "      <td>nan</td>\n",
       "      <td>1,250.00</td>\n",
       "      <td>47.40</td>\n",
       "      <td>2980000</td>\n",
       "      <td>3,380,000,000.00</td>\n",
       "      <td>1,300.00</td>\n",
       "      <td>31,000.00</td>\n",
       "    </tr>\n",
       "    <tr>\n",
       "      <th>5571</th>\n",
       "      <td>Europe</td>\n",
       "      <td>Finland</td>\n",
       "      <td>2008</td>\n",
       "      <td>11.00</td>\n",
       "      <td>83,100.00</td>\n",
       "      <td>42,600.00</td>\n",
       "      <td>79.80</td>\n",
       "      <td>5320000</td>\n",
       "      <td>214,000,000,000.00</td>\n",
       "      <td>114,000.00</td>\n",
       "      <td>7,920,000.00</td>\n",
       "    </tr>\n",
       "    <tr>\n",
       "      <th>6688</th>\n",
       "      <td>Africa</td>\n",
       "      <td>Guinea</td>\n",
       "      <td>1984</td>\n",
       "      <td>0.18</td>\n",
       "      <td>nan</td>\n",
       "      <td>1,250.00</td>\n",
       "      <td>49.40</td>\n",
       "      <td>5330000</td>\n",
       "      <td>5,040,000,000.00</td>\n",
       "      <td>3,600.00</td>\n",
       "      <td>132,000.00</td>\n",
       "    </tr>\n",
       "    <tr>\n",
       "      <th>2341</th>\n",
       "      <td>South America</td>\n",
       "      <td>Brazil</td>\n",
       "      <td>1929</td>\n",
       "      <td>0.19</td>\n",
       "      <td>nan</td>\n",
       "      <td>1,900.00</td>\n",
       "      <td>32.50</td>\n",
       "      <td>33100000</td>\n",
       "      <td>52,800,000,000.00</td>\n",
       "      <td>nan</td>\n",
       "      <td>nan</td>\n",
       "    </tr>\n",
       "    <tr>\n",
       "      <th>16787</th>\n",
       "      <td>Asia</td>\n",
       "      <td>United Arab Emirates</td>\n",
       "      <td>1978</td>\n",
       "      <td>53.60</td>\n",
       "      <td>nan</td>\n",
       "      <td>140,000.00</td>\n",
       "      <td>68.30</td>\n",
       "      <td>835000</td>\n",
       "      <td>67,200,000,000.00</td>\n",
       "      <td>7,200.00</td>\n",
       "      <td>375,000.00</td>\n",
       "    </tr>\n",
       "    <tr>\n",
       "      <th>5937</th>\n",
       "      <td>Europe</td>\n",
       "      <td>Georgia</td>\n",
       "      <td>1867</td>\n",
       "      <td>0.01</td>\n",
       "      <td>nan</td>\n",
       "      <td>681.00</td>\n",
       "      <td>29.80</td>\n",
       "      <td>1650000</td>\n",
       "      <td>1,170,000,000.00</td>\n",
       "      <td>nan</td>\n",
       "      <td>nan</td>\n",
       "    </tr>\n",
       "    <tr>\n",
       "      <th>14360</th>\n",
       "      <td>Africa</td>\n",
       "      <td>South Africa</td>\n",
       "      <td>2015</td>\n",
       "      <td>8.35</td>\n",
       "      <td>339,000.00</td>\n",
       "      <td>12,400.00</td>\n",
       "      <td>63.40</td>\n",
       "      <td>55400000</td>\n",
       "      <td>nan</td>\n",
       "      <td>210,000.00</td>\n",
       "      <td>18,900,000.00</td>\n",
       "    </tr>\n",
       "    <tr>\n",
       "      <th>8893</th>\n",
       "      <td>NaN</td>\n",
       "      <td>Kyrgyz Republic</td>\n",
       "      <td>1974</td>\n",
       "      <td>5.23</td>\n",
       "      <td>nan</td>\n",
       "      <td>4,240.00</td>\n",
       "      <td>61.80</td>\n",
       "      <td>3230000</td>\n",
       "      <td>11,700,000,000.00</td>\n",
       "      <td>nan</td>\n",
       "      <td>nan</td>\n",
       "    </tr>\n",
       "    <tr>\n",
       "      <th>556</th>\n",
       "      <td>South America</td>\n",
       "      <td>Argentina</td>\n",
       "      <td>2018</td>\n",
       "      <td>4.41</td>\n",
       "      <td>nan</td>\n",
       "      <td>18,300.00</td>\n",
       "      <td>76.80</td>\n",
       "      <td>44400000</td>\n",
       "      <td>nan</td>\n",
       "      <td>162,000.00</td>\n",
       "      <td>18,100,000.00</td>\n",
       "    </tr>\n",
       "    <tr>\n",
       "      <th>10364</th>\n",
       "      <td>Europe</td>\n",
       "      <td>Moldova</td>\n",
       "      <td>1934</td>\n",
       "      <td>0.90</td>\n",
       "      <td>nan</td>\n",
       "      <td>1,590.00</td>\n",
       "      <td>40.40</td>\n",
       "      <td>2000000</td>\n",
       "      <td>3,340,000,000.00</td>\n",
       "      <td>nan</td>\n",
       "      <td>nan</td>\n",
       "    </tr>\n",
       "    <tr>\n",
       "      <th>1413</th>\n",
       "      <td>Asia</td>\n",
       "      <td>Bahrain</td>\n",
       "      <td>2017</td>\n",
       "      <td>21.30</td>\n",
       "      <td>18,900.00</td>\n",
       "      <td>43,300.00</td>\n",
       "      <td>79.50</td>\n",
       "      <td>1490000</td>\n",
       "      <td>nan</td>\n",
       "      <td>54,500.00</td>\n",
       "      <td>5,190,000.00</td>\n",
       "    </tr>\n",
       "    <tr>\n",
       "      <th>7819</th>\n",
       "      <td>Europe</td>\n",
       "      <td>Ireland</td>\n",
       "      <td>1971</td>\n",
       "      <td>7.64</td>\n",
       "      <td>nan</td>\n",
       "      <td>12,400.00</td>\n",
       "      <td>71.30</td>\n",
       "      <td>2940000</td>\n",
       "      <td>32,900,000,000.00</td>\n",
       "      <td>27,500.00</td>\n",
       "      <td>1,540,000.00</td>\n",
       "    </tr>\n",
       "    <tr>\n",
       "      <th>5205</th>\n",
       "      <td>Europe</td>\n",
       "      <td>Estonia</td>\n",
       "      <td>2011</td>\n",
       "      <td>14.40</td>\n",
       "      <td>18,800.00</td>\n",
       "      <td>24,500.00</td>\n",
       "      <td>76.20</td>\n",
       "      <td>1330000</td>\n",
       "      <td>31,100,000,000.00</td>\n",
       "      <td>13,500.00</td>\n",
       "      <td>615,000.00</td>\n",
       "    </tr>\n",
       "    <tr>\n",
       "      <th>503</th>\n",
       "      <td>South America</td>\n",
       "      <td>Argentina</td>\n",
       "      <td>1965</td>\n",
       "      <td>2.66</td>\n",
       "      <td>nan</td>\n",
       "      <td>11,200.00</td>\n",
       "      <td>64.70</td>\n",
       "      <td>22200000</td>\n",
       "      <td>195,000,000,000.00</td>\n",
       "      <td>nan</td>\n",
       "      <td>nan</td>\n",
       "    </tr>\n",
       "    <tr>\n",
       "      <th>17909</th>\n",
       "      <td>Africa</td>\n",
       "      <td>Zambia</td>\n",
       "      <td>1996</td>\n",
       "      <td>0.20</td>\n",
       "      <td>3,790.00</td>\n",
       "      <td>2,110.00</td>\n",
       "      <td>45.70</td>\n",
       "      <td>9340000</td>\n",
       "      <td>19,700,000,000.00</td>\n",
       "      <td>nan</td>\n",
       "      <td>nan</td>\n",
       "    </tr>\n",
       "    <tr>\n",
       "      <th>10903</th>\n",
       "      <td>Oceania</td>\n",
       "      <td>Nauru</td>\n",
       "      <td>1987</td>\n",
       "      <td>17.80</td>\n",
       "      <td>nan</td>\n",
       "      <td>29,600.00</td>\n",
       "      <td>nan</td>\n",
       "      <td>8870</td>\n",
       "      <td>120,000,000.00</td>\n",
       "      <td>nan</td>\n",
       "      <td>nan</td>\n",
       "    </tr>\n",
       "    <tr>\n",
       "      <th>4431</th>\n",
       "      <td>Europe</td>\n",
       "      <td>Denmark</td>\n",
       "      <td>1897</td>\n",
       "      <td>1.87</td>\n",
       "      <td>nan</td>\n",
       "      <td>5,140.00</td>\n",
       "      <td>51.80</td>\n",
       "      <td>2480000</td>\n",
       "      <td>10,800,000,000.00</td>\n",
       "      <td>nan</td>\n",
       "      <td>nan</td>\n",
       "    </tr>\n",
       "  </tbody>\n",
       "</table>\n",
       "</div>"
      ],
      "text/plain": [
       "           continent               country  year   co2  consumption  \\\n",
       "2759          Africa               Burundi  1997  0.04          nan   \n",
       "7290            Asia                 India  1891  0.02          nan   \n",
       "5522          Europe               Finland  1959  3.08          nan   \n",
       "2018          Africa                 Benin  1971  0.10          nan   \n",
       "5571          Europe               Finland  2008 11.00    83,100.00   \n",
       "6688          Africa                Guinea  1984  0.18          nan   \n",
       "2341   South America                Brazil  1929  0.19          nan   \n",
       "16787           Asia  United Arab Emirates  1978 53.60          nan   \n",
       "5937          Europe               Georgia  1867  0.01          nan   \n",
       "14360         Africa          South Africa  2015  8.35   339,000.00   \n",
       "8893             NaN       Kyrgyz Republic  1974  5.23          nan   \n",
       "556    South America             Argentina  2018  4.41          nan   \n",
       "10364         Europe               Moldova  1934  0.90          nan   \n",
       "1413            Asia               Bahrain  2017 21.30    18,900.00   \n",
       "7819          Europe               Ireland  1971  7.64          nan   \n",
       "5205          Europe               Estonia  2011 14.40    18,800.00   \n",
       "503    South America             Argentina  1965  2.66          nan   \n",
       "17909         Africa                Zambia  1996  0.20     3,790.00   \n",
       "10903        Oceania                 Nauru  1987 17.80          nan   \n",
       "4431          Europe               Denmark  1897  1.87          nan   \n",
       "\n",
       "          income  life  population                gdp       dprt          psgr  \n",
       "2759      728.00 43.60     6120000   4,390,000,000.00   1,400.00     12,000.00  \n",
       "7290      705.00 23.10   285000000 166,000,000,000.00        nan           nan  \n",
       "5522    9,320.00 68.70     4400000  42,200,000,000.00        nan           nan  \n",
       "2018    1,250.00 47.40     2980000   3,380,000,000.00   1,300.00     31,000.00  \n",
       "5571   42,600.00 79.80     5320000 214,000,000,000.00 114,000.00  7,920,000.00  \n",
       "6688    1,250.00 49.40     5330000   5,040,000,000.00   3,600.00    132,000.00  \n",
       "2341    1,900.00 32.50    33100000  52,800,000,000.00        nan           nan  \n",
       "16787 140,000.00 68.30      835000  67,200,000,000.00   7,200.00    375,000.00  \n",
       "5937      681.00 29.80     1650000   1,170,000,000.00        nan           nan  \n",
       "14360  12,400.00 63.40    55400000                nan 210,000.00 18,900,000.00  \n",
       "8893    4,240.00 61.80     3230000  11,700,000,000.00        nan           nan  \n",
       "556    18,300.00 76.80    44400000                nan 162,000.00 18,100,000.00  \n",
       "10364   1,590.00 40.40     2000000   3,340,000,000.00        nan           nan  \n",
       "1413   43,300.00 79.50     1490000                nan  54,500.00  5,190,000.00  \n",
       "7819   12,400.00 71.30     2940000  32,900,000,000.00  27,500.00  1,540,000.00  \n",
       "5205   24,500.00 76.20     1330000  31,100,000,000.00  13,500.00    615,000.00  \n",
       "503    11,200.00 64.70    22200000 195,000,000,000.00        nan           nan  \n",
       "17909   2,110.00 45.70     9340000  19,700,000,000.00        nan           nan  \n",
       "10903  29,600.00   nan        8870     120,000,000.00        nan           nan  \n",
       "4431    5,140.00 51.80     2480000  10,800,000,000.00        nan           nan  "
      ]
     },
     "execution_count": 59,
     "metadata": {},
     "output_type": "execute_result"
    }
   ],
   "source": [
    "combined = pd.DataFrame()\n",
    "for name in all_data:\n",
    "    if name  == \"continent\":\n",
    "        continue\n",
    "    datanow = all_data[name].transpose()\n",
    "    datanow[\"continent\"] = all_data[\"continent\"]\n",
    "    datanow = datanow.reset_index().set_index(['country', 'continent'])\n",
    "    # datanow = datanow.transpose()\n",
    "    datanow = (\n",
    "        datanow\n",
    "        .stack()\n",
    "        .reset_index()\n",
    "        .rename(columns={\"level_2\":\"year\", 0:name})\n",
    "        .set_index( [\"continent\", \"country\", \"year\"]) #.transpose()\n",
    "    )\n",
    "    combined[name] = datanow[name] \n",
    "combined.head()\n",
    "combined = combined.reset_index()\n",
    "combined.sample(n=20)"
   ]
  },
  {
   "cell_type": "markdown",
   "metadata": {},
   "source": [
    "<a id='eda'></a>\n",
    "# Exploratory Data Analysis\n",
    "\n",
    "In this section we will explore the data in differnet ways and to compute statistics and create visualizations with the goal of addressing the research questions posed in the Introduction section. \n",
    "\n",
    "It is recommended that you be systematic with your approach. Look at one variable at a time, and then follow it up by looking at relationships between variables.\n"
   ]
  },
  {
   "cell_type": "markdown",
   "metadata": {
    "collapsed": true
   },
   "source": [
    "## Top_25 CO2 emitters per capita\n",
    "Fasters growing consumers of \n",
    "\n"
   ]
  },
  {
   "cell_type": "code",
   "execution_count": 60,
   "metadata": {},
   "outputs": [
    {
     "data": {
      "text/plain": [
       "1800     337.34\n",
       "1801     342.58\n",
       "1802     350.00\n",
       "1803     398.41\n",
       "1804     405.02\n",
       "         ...   \n",
       "2014   1,124.33\n",
       "2015   1,124.34\n",
       "2016   1,514.75\n",
       "2017   1,630.15\n",
       "2018   1,562.79\n",
       "Length: 219, dtype: float64"
      ]
     },
     "execution_count": 60,
     "metadata": {},
     "output_type": "execute_result"
    }
   ],
   "source": [
    "top_25_growers = (co2.max() - co2.min()) / co2.min()\n",
    "top_25_growers"
   ]
  },
  {
   "cell_type": "code",
   "execution_count": 61,
   "metadata": {},
   "outputs": [],
   "source": [
    "top_25_columns = {}\n",
    "for name, df in all_data.items():\n",
    "    top_25 = df.mean().dropna().sort_values().iloc[-25:]\n",
    "    top_25_columns[name] = top_25.index\n",
    "    "
   ]
  },
  {
   "cell_type": "code",
   "execution_count": 62,
   "metadata": {},
   "outputs": [
    {
     "data": {
      "text/plain": [
       "{'co2': Index(['Liechtenstein', 'Libya', 'Slovenia', 'Andorra', 'Canada', 'Australia',\n",
       "        'Iceland', 'Czech Republic', 'United Kingdom', 'Belgium', 'Oman',\n",
       "        'Singapore', 'Saudi Arabia', 'United States', 'Nauru', 'Bahamas',\n",
       "        'Estonia', 'Palau', 'Trinidad and Tobago', 'Bahrain', 'Brunei',\n",
       "        'Kuwait', 'Luxembourg', 'United Arab Emirates', 'Qatar'],\n",
       "       dtype='object', name='country'),\n",
       " 'consumption': Index(['Belgium', 'Netherlands', 'Thailand', 'Ukraine', 'South Africa',\n",
       "        'Turkey', 'Poland', 'Australia', 'Spain', 'Saudi Arabia', 'Indonesia',\n",
       "        'Brazil', 'Iran', 'Mexico', 'France', 'South Korea', 'Italy', 'Canada',\n",
       "        'United Kingdom', 'Germany', 'India', 'Russia', 'Japan', 'China',\n",
       "        'United States'],\n",
       "       dtype='object', name='country'),\n",
       " 'income': Index(['France', 'United Kingdom', 'Austria', 'Belgium', 'Sweden', 'Canada',\n",
       "        'Germany', 'Bahrain', 'Australia', 'Andorra', 'Denmark', 'Netherlands',\n",
       "        'Ireland', 'Saudi Arabia', 'United States', 'San Marino', 'Monaco',\n",
       "        'Singapore', 'Norway', 'Switzerland', 'Kuwait', 'Luxembourg',\n",
       "        'United Arab Emirates', 'Brunei', 'Qatar'],\n",
       "       dtype='object', name='country'),\n",
       " 'life': Index(['Italy', 'Austria', 'Greece', 'Japan', 'Cyprus', 'Finland', 'Germany',\n",
       "        'Luxembourg', 'Marshall Islands', 'New Zealand', 'United States',\n",
       "        'France', 'Ireland', 'Australia', 'Belgium', 'Iceland',\n",
       "        'United Kingdom', 'Netherlands', 'Canada', 'Switzerland', 'Denmark',\n",
       "        'Sweden', 'Norway', 'Dominica', 'Andorra'],\n",
       "       dtype='object', name='country'),\n",
       " 'population': Index(['Uganda', 'Kenya', 'Italy', 'Iran', 'Turkey', 'Vietnam', 'France',\n",
       "        'United Kingdom', 'Tanzania', 'Philippines', 'Germany', 'Egypt',\n",
       "        'Mexico', 'Japan', 'Congo, Dem. Rep.', 'Ethiopia', 'Bangladesh',\n",
       "        'Russia', 'Brazil', 'Pakistan', 'Indonesia', 'Nigeria', 'United States',\n",
       "        'India', 'China'],\n",
       "       dtype='object', name='country'),\n",
       " 'gdp': Index(['Argentina', 'Nigeria', 'Egypt', 'Ukraine', 'Netherlands', 'Australia',\n",
       "        'South Korea', 'Iran', 'Poland', 'Saudi Arabia', 'Turkey', 'Canada',\n",
       "        'Spain', 'Indonesia', 'Mexico', 'Brazil', 'Italy', 'United Kingdom',\n",
       "        'France', 'India', 'Russia', 'Germany', 'Japan', 'China',\n",
       "        'United States'],\n",
       "       dtype='object', name='country'),\n",
       " 'dprt': Index(['New Zealand', 'Sweden', 'Switzerland', 'Colombia', 'South Korea',\n",
       "        'Turkey', 'Malaysia', 'Netherlands', 'Norway', 'Ireland', 'Mexico',\n",
       "        'Italy', 'Indonesia', 'India', 'Spain', 'Australia', 'France', 'Brazil',\n",
       "        'Russia', 'Germany', 'Japan', 'Canada', 'United Kingdom', 'China',\n",
       "        'United States'],\n",
       "       dtype='object', name='country'),\n",
       " 'psgr': Index(['Switzerland', 'Singapore', 'Saudi Arabia', 'Netherlands', 'Thailand',\n",
       "        'Malaysia', 'Mexico', 'United Arab Emirates', 'Italy', 'Turkey',\n",
       "        'Indonesia', 'South Korea', 'Spain', 'Australia', 'India', 'Ireland',\n",
       "        'Canada', 'Brazil', 'France', 'Russia', 'Germany', 'United Kingdom',\n",
       "        'Japan', 'China', 'United States'],\n",
       "       dtype='object', name='country'),\n",
       " 'continent': Index([], dtype='object')}"
      ]
     },
     "execution_count": 62,
     "metadata": {},
     "output_type": "execute_result"
    }
   ],
   "source": [
    "\n",
    "top_25_columns"
   ]
  },
  {
   "cell_type": "markdown",
   "metadata": {},
   "source": [
    "## box plots of top-25 CO2 emitters\n",
    "In order to quickly compare known indicators we plotted the top-25 growers of CO2 emmiting countries to understand the data better as a starting to point \n",
    "\n"
   ]
  },
  {
   "cell_type": "code",
   "execution_count": 63,
   "metadata": {},
   "outputs": [
    {
     "data": {
      "image/png": "[encoded data removed]",
      "text/plain": [
       "<Figure size 1296x3600 with 9 Axes>"
      ]
     },
     "metadata": {
      "needs_background": "light"
     },
     "output_type": "display_data"
    }
   ],
   "source": [
    "plt.figure(figsize=(18, 50), tight_layout=True)\n",
    "\n",
    "for num, name_df in enumerate(all_data.items(), start=1):\n",
    "    name, df = name_df\n",
    "    plt.subplot(10,2,num)\n",
    "    plt.tight_layout()\n",
    "    \n",
    "    df[top_25_columns[name]].boxplot(vert=False)\n",
    "    plt.title(name)\n",
    "  "
   ]
  },
  {
   "cell_type": "markdown",
   "metadata": {},
   "source": [
    "### What are the relatonships between the various indicators?\n",
    "\n",
    "In order to plot the variables in a correlation coefficient heat map so we can see a highly correlated variable to the other we need to first group the data into means and putting it into its own statistics dataframe. \n",
    "\n"
   ]
  },
  {
   "cell_type": "markdown",
   "metadata": {},
   "source": [
    "### Finding the Means"
   ]
  },
  {
   "cell_type": "code",
   "execution_count": 64,
   "metadata": {},
   "outputs": [
    {
     "data": {
      "text/html": [
       "<div>\n",
       "<style scoped>\n",
       "    .dataframe tbody tr th:only-of-type {\n",
       "        vertical-align: middle;\n",
       "    }\n",
       "\n",
       "    .dataframe tbody tr th {\n",
       "        vertical-align: top;\n",
       "    }\n",
       "\n",
       "    .dataframe thead th {\n",
       "        text-align: right;\n",
       "    }\n",
       "</style>\n",
       "<table border=\"1\" class=\"dataframe\">\n",
       "  <thead>\n",
       "    <tr style=\"text-align: right;\">\n",
       "      <th></th>\n",
       "      <th>co2</th>\n",
       "      <th>consumption</th>\n",
       "      <th>income</th>\n",
       "      <th>life</th>\n",
       "      <th>population</th>\n",
       "      <th>gdp</th>\n",
       "      <th>dprt</th>\n",
       "      <th>psgr</th>\n",
       "      <th>continent</th>\n",
       "    </tr>\n",
       "  </thead>\n",
       "  <tbody>\n",
       "    <tr>\n",
       "      <th>Kyrgyzstan</th>\n",
       "      <td>nan</td>\n",
       "      <td>nan</td>\n",
       "      <td>nan</td>\n",
       "      <td>nan</td>\n",
       "      <td>nan</td>\n",
       "      <td>nan</td>\n",
       "      <td>nan</td>\n",
       "      <td>nan</td>\n",
       "      <td>Asia</td>\n",
       "    </tr>\n",
       "    <tr>\n",
       "      <th>South Africa</th>\n",
       "      <td>5.13</td>\n",
       "      <td>277,464.29</td>\n",
       "      <td>5,639.05</td>\n",
       "      <td>50.69</td>\n",
       "      <td>30,396,245.85</td>\n",
       "      <td>95,856,542,056.07</td>\n",
       "      <td>110,456.00</td>\n",
       "      <td>8,607,200.00</td>\n",
       "      <td>Africa</td>\n",
       "    </tr>\n",
       "    <tr>\n",
       "      <th>Slovak Republic</th>\n",
       "      <td>5.61</td>\n",
       "      <td>49,267.86</td>\n",
       "      <td>9,560.54</td>\n",
       "      <td>58.81</td>\n",
       "      <td>3,717,674.42</td>\n",
       "      <td>25,723,271,028.04</td>\n",
       "      <td>6,703.48</td>\n",
       "      <td>481,361.20</td>\n",
       "      <td>NaN</td>\n",
       "    </tr>\n",
       "    <tr>\n",
       "      <th>Turkey</th>\n",
       "      <td>1.14</td>\n",
       "      <td>303,607.14</td>\n",
       "      <td>6,805.77</td>\n",
       "      <td>55.49</td>\n",
       "      <td>42,908,372.09</td>\n",
       "      <td>179,212,616,822.43</td>\n",
       "      <td>182,116.00</td>\n",
       "      <td>22,894,000.00</td>\n",
       "      <td>Asia</td>\n",
       "    </tr>\n",
       "    <tr>\n",
       "      <th>Belgium</th>\n",
       "      <td>7.65</td>\n",
       "      <td>182,321.43</td>\n",
       "      <td>15,035.56</td>\n",
       "      <td>63.50</td>\n",
       "      <td>8,399,800.66</td>\n",
       "      <td>93,533,224,299.07</td>\n",
       "      <td>107,012.00</td>\n",
       "      <td>5,048,400.00</td>\n",
       "      <td>Europe</td>\n",
       "    </tr>\n",
       "  </tbody>\n",
       "</table>\n",
       "</div>"
      ],
      "text/plain": [
       "                 co2  consumption    income  life    population  \\\n",
       "Kyrgyzstan       nan          nan       nan   nan           nan   \n",
       "South Africa    5.13   277,464.29  5,639.05 50.69 30,396,245.85   \n",
       "Slovak Republic 5.61    49,267.86  9,560.54 58.81  3,717,674.42   \n",
       "Turkey          1.14   303,607.14  6,805.77 55.49 42,908,372.09   \n",
       "Belgium         7.65   182,321.43 15,035.56 63.50  8,399,800.66   \n",
       "\n",
       "                               gdp       dprt          psgr continent  \n",
       "Kyrgyzstan                     nan        nan           nan      Asia  \n",
       "South Africa     95,856,542,056.07 110,456.00  8,607,200.00    Africa  \n",
       "Slovak Republic  25,723,271,028.04   6,703.48    481,361.20       NaN  \n",
       "Turkey          179,212,616,822.43 182,116.00 22,894,000.00      Asia  \n",
       "Belgium          93,533,224,299.07 107,012.00  5,048,400.00    Europe  "
      ]
     },
     "execution_count": 64,
     "metadata": {},
     "output_type": "execute_result"
    }
   ],
   "source": [
    "# Want to find the averages of all the indicators and plot them and then generate a stats dataframe\n",
    "\n",
    "means = {name:df.mean() for name, df in all_data.items()}\n",
    "means['continent'] = continents['Continent']\n",
    "means = pd.DataFrame(means)\n",
    "means.sample(n=5)"
   ]
  },
  {
   "cell_type": "markdown",
   "metadata": {},
   "source": [
    "### Correlation matrix\n",
    "\n",
    "Run correlation matrix to see how closely related the indicators are\n"
   ]
  },
  {
   "cell_type": "code",
   "execution_count": 65,
   "metadata": {},
   "outputs": [
    {
     "data": {
      "text/html": [
       "<style  type=\"text/css\" >\n",
       "#T_66c39a18_5743_11eb_9223_acbc3280df4brow0_col0,#T_66c39a18_5743_11eb_9223_acbc3280df4brow1_col1,#T_66c39a18_5743_11eb_9223_acbc3280df4brow2_col2,#T_66c39a18_5743_11eb_9223_acbc3280df4brow3_col3,#T_66c39a18_5743_11eb_9223_acbc3280df4brow4_col4,#T_66c39a18_5743_11eb_9223_acbc3280df4brow5_col5,#T_66c39a18_5743_11eb_9223_acbc3280df4brow6_col6,#T_66c39a18_5743_11eb_9223_acbc3280df4brow7_col7{\n",
       "            background-color:  #b40426;\n",
       "            color:  #f1f1f1;\n",
       "        }#T_66c39a18_5743_11eb_9223_acbc3280df4brow0_col1,#T_66c39a18_5743_11eb_9223_acbc3280df4brow0_col5,#T_66c39a18_5743_11eb_9223_acbc3280df4brow0_col6,#T_66c39a18_5743_11eb_9223_acbc3280df4brow0_col7,#T_66c39a18_5743_11eb_9223_acbc3280df4brow3_col4,#T_66c39a18_5743_11eb_9223_acbc3280df4brow4_col0,#T_66c39a18_5743_11eb_9223_acbc3280df4brow4_col2,#T_66c39a18_5743_11eb_9223_acbc3280df4brow4_col3{\n",
       "            background-color:  #3b4cc0;\n",
       "            color:  #f1f1f1;\n",
       "        }#T_66c39a18_5743_11eb_9223_acbc3280df4brow0_col2,#T_66c39a18_5743_11eb_9223_acbc3280df4brow6_col1{\n",
       "            background-color:  #e7745b;\n",
       "            color:  #000000;\n",
       "        }#T_66c39a18_5743_11eb_9223_acbc3280df4brow0_col3{\n",
       "            background-color:  #b6cefa;\n",
       "            color:  #000000;\n",
       "        }#T_66c39a18_5743_11eb_9223_acbc3280df4brow0_col4{\n",
       "            background-color:  #3c4ec2;\n",
       "            color:  #f1f1f1;\n",
       "        }#T_66c39a18_5743_11eb_9223_acbc3280df4brow1_col0,#T_66c39a18_5743_11eb_9223_acbc3280df4brow3_col1{\n",
       "            background-color:  #5b7ae5;\n",
       "            color:  #000000;\n",
       "        }#T_66c39a18_5743_11eb_9223_acbc3280df4brow1_col2,#T_66c39a18_5743_11eb_9223_acbc3280df4brow7_col0{\n",
       "            background-color:  #7295f4;\n",
       "            color:  #000000;\n",
       "        }#T_66c39a18_5743_11eb_9223_acbc3280df4brow1_col3,#T_66c39a18_5743_11eb_9223_acbc3280df4brow4_col6{\n",
       "            background-color:  #7ea1fa;\n",
       "            color:  #000000;\n",
       "        }#T_66c39a18_5743_11eb_9223_acbc3280df4brow1_col4{\n",
       "            background-color:  #f7b497;\n",
       "            color:  #000000;\n",
       "        }#T_66c39a18_5743_11eb_9223_acbc3280df4brow1_col5{\n",
       "            background-color:  #cb3e38;\n",
       "            color:  #f1f1f1;\n",
       "        }#T_66c39a18_5743_11eb_9223_acbc3280df4brow1_col6{\n",
       "            background-color:  #e97a5f;\n",
       "            color:  #000000;\n",
       "        }#T_66c39a18_5743_11eb_9223_acbc3280df4brow1_col7{\n",
       "            background-color:  #dd5f4b;\n",
       "            color:  #000000;\n",
       "        }#T_66c39a18_5743_11eb_9223_acbc3280df4brow2_col0{\n",
       "            background-color:  #e67259;\n",
       "            color:  #000000;\n",
       "        }#T_66c39a18_5743_11eb_9223_acbc3280df4brow2_col1{\n",
       "            background-color:  #536edd;\n",
       "            color:  #000000;\n",
       "        }#T_66c39a18_5743_11eb_9223_acbc3280df4brow2_col3{\n",
       "            background-color:  #f6bda2;\n",
       "            color:  #000000;\n",
       "        }#T_66c39a18_5743_11eb_9223_acbc3280df4brow2_col4{\n",
       "            background-color:  #3f53c6;\n",
       "            color:  #f1f1f1;\n",
       "        }#T_66c39a18_5743_11eb_9223_acbc3280df4brow2_col5{\n",
       "            background-color:  #6687ed;\n",
       "            color:  #000000;\n",
       "        }#T_66c39a18_5743_11eb_9223_acbc3280df4brow2_col6{\n",
       "            background-color:  #5f7fe8;\n",
       "            color:  #000000;\n",
       "        }#T_66c39a18_5743_11eb_9223_acbc3280df4brow2_col7{\n",
       "            background-color:  #6180e9;\n",
       "            color:  #000000;\n",
       "        }#T_66c39a18_5743_11eb_9223_acbc3280df4brow3_col0{\n",
       "            background-color:  #b5cdfa;\n",
       "            color:  #000000;\n",
       "        }#T_66c39a18_5743_11eb_9223_acbc3280df4brow3_col2{\n",
       "            background-color:  #f6bfa6;\n",
       "            color:  #000000;\n",
       "        }#T_66c39a18_5743_11eb_9223_acbc3280df4brow3_col5{\n",
       "            background-color:  #688aef;\n",
       "            color:  #000000;\n",
       "        }#T_66c39a18_5743_11eb_9223_acbc3280df4brow3_col6,#T_66c39a18_5743_11eb_9223_acbc3280df4brow3_col7{\n",
       "            background-color:  #6282ea;\n",
       "            color:  #000000;\n",
       "        }#T_66c39a18_5743_11eb_9223_acbc3280df4brow4_col1{\n",
       "            background-color:  #f5c0a7;\n",
       "            color:  #000000;\n",
       "        }#T_66c39a18_5743_11eb_9223_acbc3280df4brow4_col5{\n",
       "            background-color:  #dedcdb;\n",
       "            color:  #000000;\n",
       "        }#T_66c39a18_5743_11eb_9223_acbc3280df4brow4_col7{\n",
       "            background-color:  #9abbff;\n",
       "            color:  #000000;\n",
       "        }#T_66c39a18_5743_11eb_9223_acbc3280df4brow5_col0{\n",
       "            background-color:  #6788ee;\n",
       "            color:  #000000;\n",
       "        }#T_66c39a18_5743_11eb_9223_acbc3280df4brow5_col1{\n",
       "            background-color:  #ca3b37;\n",
       "            color:  #f1f1f1;\n",
       "        }#T_66c39a18_5743_11eb_9223_acbc3280df4brow5_col2{\n",
       "            background-color:  #8db0fe;\n",
       "            color:  #000000;\n",
       "        }#T_66c39a18_5743_11eb_9223_acbc3280df4brow5_col3{\n",
       "            background-color:  #94b6ff;\n",
       "            color:  #000000;\n",
       "        }#T_66c39a18_5743_11eb_9223_acbc3280df4brow5_col4{\n",
       "            background-color:  #eed0c0;\n",
       "            color:  #000000;\n",
       "        }#T_66c39a18_5743_11eb_9223_acbc3280df4brow5_col6{\n",
       "            background-color:  #df634e;\n",
       "            color:  #000000;\n",
       "        }#T_66c39a18_5743_11eb_9223_acbc3280df4brow5_col7{\n",
       "            background-color:  #d24b40;\n",
       "            color:  #f1f1f1;\n",
       "        }#T_66c39a18_5743_11eb_9223_acbc3280df4brow6_col0{\n",
       "            background-color:  #6f92f3;\n",
       "            color:  #000000;\n",
       "        }#T_66c39a18_5743_11eb_9223_acbc3280df4brow6_col2{\n",
       "            background-color:  #8fb1fe;\n",
       "            color:  #000000;\n",
       "        }#T_66c39a18_5743_11eb_9223_acbc3280df4brow6_col3{\n",
       "            background-color:  #96b7ff;\n",
       "            color:  #000000;\n",
       "        }#T_66c39a18_5743_11eb_9223_acbc3280df4brow6_col4{\n",
       "            background-color:  #aec9fc;\n",
       "            color:  #000000;\n",
       "        }#T_66c39a18_5743_11eb_9223_acbc3280df4brow6_col5{\n",
       "            background-color:  #de614d;\n",
       "            color:  #000000;\n",
       "        }#T_66c39a18_5743_11eb_9223_acbc3280df4brow6_col7,#T_66c39a18_5743_11eb_9223_acbc3280df4brow7_col6{\n",
       "            background-color:  #b70d28;\n",
       "            color:  #f1f1f1;\n",
       "        }#T_66c39a18_5743_11eb_9223_acbc3280df4brow7_col1{\n",
       "            background-color:  #da5a49;\n",
       "            color:  #000000;\n",
       "        }#T_66c39a18_5743_11eb_9223_acbc3280df4brow7_col2{\n",
       "            background-color:  #93b5fe;\n",
       "            color:  #000000;\n",
       "        }#T_66c39a18_5743_11eb_9223_acbc3280df4brow7_col3{\n",
       "            background-color:  #98b9ff;\n",
       "            color:  #000000;\n",
       "        }#T_66c39a18_5743_11eb_9223_acbc3280df4brow7_col4{\n",
       "            background-color:  #c4d5f3;\n",
       "            color:  #000000;\n",
       "        }#T_66c39a18_5743_11eb_9223_acbc3280df4brow7_col5{\n",
       "            background-color:  #d1493f;\n",
       "            color:  #f1f1f1;\n",
       "        }</style><table id=\"T_66c39a18_5743_11eb_9223_acbc3280df4b\" ><thead>    <tr>        <th class=\"blank level0\" ></th>        <th class=\"col_heading level0 col0\" >co2</th>        <th class=\"col_heading level0 col1\" >consumption</th>        <th class=\"col_heading level0 col2\" >income</th>        <th class=\"col_heading level0 col3\" >life</th>        <th class=\"col_heading level0 col4\" >population</th>        <th class=\"col_heading level0 col5\" >gdp</th>        <th class=\"col_heading level0 col6\" >dprt</th>        <th class=\"col_heading level0 col7\" >psgr</th>    </tr></thead><tbody>\n",
       "                <tr>\n",
       "                        <th id=\"T_66c39a18_5743_11eb_9223_acbc3280df4blevel0_row0\" class=\"row_heading level0 row0\" >co2</th>\n",
       "                        <td id=\"T_66c39a18_5743_11eb_9223_acbc3280df4brow0_col0\" class=\"data row0 col0\" >1.00</td>\n",
       "                        <td id=\"T_66c39a18_5743_11eb_9223_acbc3280df4brow0_col1\" class=\"data row0 col1\" >0.05</td>\n",
       "                        <td id=\"T_66c39a18_5743_11eb_9223_acbc3280df4brow0_col2\" class=\"data row0 col2\" >0.83</td>\n",
       "                        <td id=\"T_66c39a18_5743_11eb_9223_acbc3280df4brow0_col3\" class=\"data row0 col3\" >0.32</td>\n",
       "                        <td id=\"T_66c39a18_5743_11eb_9223_acbc3280df4brow0_col4\" class=\"data row0 col4\" >-0.07</td>\n",
       "                        <td id=\"T_66c39a18_5743_11eb_9223_acbc3280df4brow0_col5\" class=\"data row0 col5\" >0.08</td>\n",
       "                        <td id=\"T_66c39a18_5743_11eb_9223_acbc3280df4brow0_col6\" class=\"data row0 col6\" >0.11</td>\n",
       "                        <td id=\"T_66c39a18_5743_11eb_9223_acbc3280df4brow0_col7\" class=\"data row0 col7\" >0.12</td>\n",
       "            </tr>\n",
       "            <tr>\n",
       "                        <th id=\"T_66c39a18_5743_11eb_9223_acbc3280df4blevel0_row1\" class=\"row_heading level0 row1\" >consumption</th>\n",
       "                        <td id=\"T_66c39a18_5743_11eb_9223_acbc3280df4brow1_col0\" class=\"data row1 col0\" >0.05</td>\n",
       "                        <td id=\"T_66c39a18_5743_11eb_9223_acbc3280df4brow1_col1\" class=\"data row1 col1\" >1.00</td>\n",
       "                        <td id=\"T_66c39a18_5743_11eb_9223_acbc3280df4brow1_col2\" class=\"data row1 col2\" >0.12</td>\n",
       "                        <td id=\"T_66c39a18_5743_11eb_9223_acbc3280df4brow1_col3\" class=\"data row1 col3\" >0.15</td>\n",
       "                        <td id=\"T_66c39a18_5743_11eb_9223_acbc3280df4brow1_col4\" class=\"data row1 col4\" >0.65</td>\n",
       "                        <td id=\"T_66c39a18_5743_11eb_9223_acbc3280df4brow1_col5\" class=\"data row1 col5\" >0.94</td>\n",
       "                        <td id=\"T_66c39a18_5743_11eb_9223_acbc3280df4brow1_col6\" class=\"data row1 col6\" >0.84</td>\n",
       "                        <td id=\"T_66c39a18_5743_11eb_9223_acbc3280df4brow1_col7\" class=\"data row1 col7\" >0.89</td>\n",
       "            </tr>\n",
       "            <tr>\n",
       "                        <th id=\"T_66c39a18_5743_11eb_9223_acbc3280df4blevel0_row2\" class=\"row_heading level0 row2\" >income</th>\n",
       "                        <td id=\"T_66c39a18_5743_11eb_9223_acbc3280df4brow2_col0\" class=\"data row2 col0\" >0.83</td>\n",
       "                        <td id=\"T_66c39a18_5743_11eb_9223_acbc3280df4brow2_col1\" class=\"data row2 col1\" >0.12</td>\n",
       "                        <td id=\"T_66c39a18_5743_11eb_9223_acbc3280df4brow2_col2\" class=\"data row2 col2\" >1.00</td>\n",
       "                        <td id=\"T_66c39a18_5743_11eb_9223_acbc3280df4brow2_col3\" class=\"data row2 col3\" >0.62</td>\n",
       "                        <td id=\"T_66c39a18_5743_11eb_9223_acbc3280df4brow2_col4\" class=\"data row2 col4\" >-0.06</td>\n",
       "                        <td id=\"T_66c39a18_5743_11eb_9223_acbc3280df4brow2_col5\" class=\"data row2 col5\" >0.21</td>\n",
       "                        <td id=\"T_66c39a18_5743_11eb_9223_acbc3280df4brow2_col6\" class=\"data row2 col6\" >0.21</td>\n",
       "                        <td id=\"T_66c39a18_5743_11eb_9223_acbc3280df4brow2_col7\" class=\"data row2 col7\" >0.22</td>\n",
       "            </tr>\n",
       "            <tr>\n",
       "                        <th id=\"T_66c39a18_5743_11eb_9223_acbc3280df4blevel0_row3\" class=\"row_heading level0 row3\" >life</th>\n",
       "                        <td id=\"T_66c39a18_5743_11eb_9223_acbc3280df4brow3_col0\" class=\"data row3 col0\" >0.32</td>\n",
       "                        <td id=\"T_66c39a18_5743_11eb_9223_acbc3280df4brow3_col1\" class=\"data row3 col1\" >0.15</td>\n",
       "                        <td id=\"T_66c39a18_5743_11eb_9223_acbc3280df4brow3_col2\" class=\"data row3 col2\" >0.62</td>\n",
       "                        <td id=\"T_66c39a18_5743_11eb_9223_acbc3280df4brow3_col3\" class=\"data row3 col3\" >1.00</td>\n",
       "                        <td id=\"T_66c39a18_5743_11eb_9223_acbc3280df4brow3_col4\" class=\"data row3 col4\" >-0.08</td>\n",
       "                        <td id=\"T_66c39a18_5743_11eb_9223_acbc3280df4brow3_col5\" class=\"data row3 col5\" >0.21</td>\n",
       "                        <td id=\"T_66c39a18_5743_11eb_9223_acbc3280df4brow3_col6\" class=\"data row3 col6\" >0.22</td>\n",
       "                        <td id=\"T_66c39a18_5743_11eb_9223_acbc3280df4brow3_col7\" class=\"data row3 col7\" >0.23</td>\n",
       "            </tr>\n",
       "            <tr>\n",
       "                        <th id=\"T_66c39a18_5743_11eb_9223_acbc3280df4blevel0_row4\" class=\"row_heading level0 row4\" >population</th>\n",
       "                        <td id=\"T_66c39a18_5743_11eb_9223_acbc3280df4brow4_col0\" class=\"data row4 col0\" >-0.07</td>\n",
       "                        <td id=\"T_66c39a18_5743_11eb_9223_acbc3280df4brow4_col1\" class=\"data row4 col1\" >0.65</td>\n",
       "                        <td id=\"T_66c39a18_5743_11eb_9223_acbc3280df4brow4_col2\" class=\"data row4 col2\" >-0.06</td>\n",
       "                        <td id=\"T_66c39a18_5743_11eb_9223_acbc3280df4brow4_col3\" class=\"data row4 col3\" >-0.08</td>\n",
       "                        <td id=\"T_66c39a18_5743_11eb_9223_acbc3280df4brow4_col4\" class=\"data row4 col4\" >1.00</td>\n",
       "                        <td id=\"T_66c39a18_5743_11eb_9223_acbc3280df4brow4_col5\" class=\"data row4 col5\" >0.55</td>\n",
       "                        <td id=\"T_66c39a18_5743_11eb_9223_acbc3280df4brow4_col6\" class=\"data row4 col6\" >0.29</td>\n",
       "                        <td id=\"T_66c39a18_5743_11eb_9223_acbc3280df4brow4_col7\" class=\"data row4 col7\" >0.37</td>\n",
       "            </tr>\n",
       "            <tr>\n",
       "                        <th id=\"T_66c39a18_5743_11eb_9223_acbc3280df4blevel0_row5\" class=\"row_heading level0 row5\" >gdp</th>\n",
       "                        <td id=\"T_66c39a18_5743_11eb_9223_acbc3280df4brow5_col0\" class=\"data row5 col0\" >0.08</td>\n",
       "                        <td id=\"T_66c39a18_5743_11eb_9223_acbc3280df4brow5_col1\" class=\"data row5 col1\" >0.94</td>\n",
       "                        <td id=\"T_66c39a18_5743_11eb_9223_acbc3280df4brow5_col2\" class=\"data row5 col2\" >0.21</td>\n",
       "                        <td id=\"T_66c39a18_5743_11eb_9223_acbc3280df4brow5_col3\" class=\"data row5 col3\" >0.21</td>\n",
       "                        <td id=\"T_66c39a18_5743_11eb_9223_acbc3280df4brow5_col4\" class=\"data row5 col4\" >0.55</td>\n",
       "                        <td id=\"T_66c39a18_5743_11eb_9223_acbc3280df4brow5_col5\" class=\"data row5 col5\" >1.00</td>\n",
       "                        <td id=\"T_66c39a18_5743_11eb_9223_acbc3280df4brow5_col6\" class=\"data row5 col6\" >0.88</td>\n",
       "                        <td id=\"T_66c39a18_5743_11eb_9223_acbc3280df4brow5_col7\" class=\"data row5 col7\" >0.92</td>\n",
       "            </tr>\n",
       "            <tr>\n",
       "                        <th id=\"T_66c39a18_5743_11eb_9223_acbc3280df4blevel0_row6\" class=\"row_heading level0 row6\" >dprt</th>\n",
       "                        <td id=\"T_66c39a18_5743_11eb_9223_acbc3280df4brow6_col0\" class=\"data row6 col0\" >0.11</td>\n",
       "                        <td id=\"T_66c39a18_5743_11eb_9223_acbc3280df4brow6_col1\" class=\"data row6 col1\" >0.84</td>\n",
       "                        <td id=\"T_66c39a18_5743_11eb_9223_acbc3280df4brow6_col2\" class=\"data row6 col2\" >0.21</td>\n",
       "                        <td id=\"T_66c39a18_5743_11eb_9223_acbc3280df4brow6_col3\" class=\"data row6 col3\" >0.22</td>\n",
       "                        <td id=\"T_66c39a18_5743_11eb_9223_acbc3280df4brow6_col4\" class=\"data row6 col4\" >0.29</td>\n",
       "                        <td id=\"T_66c39a18_5743_11eb_9223_acbc3280df4brow6_col5\" class=\"data row6 col5\" >0.88</td>\n",
       "                        <td id=\"T_66c39a18_5743_11eb_9223_acbc3280df4brow6_col6\" class=\"data row6 col6\" >1.00</td>\n",
       "                        <td id=\"T_66c39a18_5743_11eb_9223_acbc3280df4brow6_col7\" class=\"data row6 col7\" >0.99</td>\n",
       "            </tr>\n",
       "            <tr>\n",
       "                        <th id=\"T_66c39a18_5743_11eb_9223_acbc3280df4blevel0_row7\" class=\"row_heading level0 row7\" >psgr</th>\n",
       "                        <td id=\"T_66c39a18_5743_11eb_9223_acbc3280df4brow7_col0\" class=\"data row7 col0\" >0.12</td>\n",
       "                        <td id=\"T_66c39a18_5743_11eb_9223_acbc3280df4brow7_col1\" class=\"data row7 col1\" >0.89</td>\n",
       "                        <td id=\"T_66c39a18_5743_11eb_9223_acbc3280df4brow7_col2\" class=\"data row7 col2\" >0.22</td>\n",
       "                        <td id=\"T_66c39a18_5743_11eb_9223_acbc3280df4brow7_col3\" class=\"data row7 col3\" >0.23</td>\n",
       "                        <td id=\"T_66c39a18_5743_11eb_9223_acbc3280df4brow7_col4\" class=\"data row7 col4\" >0.37</td>\n",
       "                        <td id=\"T_66c39a18_5743_11eb_9223_acbc3280df4brow7_col5\" class=\"data row7 col5\" >0.92</td>\n",
       "                        <td id=\"T_66c39a18_5743_11eb_9223_acbc3280df4brow7_col6\" class=\"data row7 col6\" >0.99</td>\n",
       "                        <td id=\"T_66c39a18_5743_11eb_9223_acbc3280df4brow7_col7\" class=\"data row7 col7\" >1.00</td>\n",
       "            </tr>\n",
       "    </tbody></table>"
      ],
      "text/plain": [
       "<pandas.io.formats.style.Styler at 0x7f91e2794a60>"
      ]
     },
     "execution_count": 65,
     "metadata": {},
     "output_type": "execute_result"
    }
   ],
   "source": [
    "corr = means.corr()\n",
    "corr.style.background_gradient(cmap='coolwarm').set_precision(2)"
   ]
  },
  {
   "cell_type": "markdown",
   "metadata": {},
   "source": [
    "### Itertools\n",
    "\n",
    "We use the itertools module in python, to loop over the various combinations which have a positive coefficient and plot them along with a regularly fitting curve to show which variables indicate a possible or near relationship.   \n",
    "\n",
    "Without making difinitive assumptions about the data, we only want to visualize the possoble relationships so we can make some kind of indication on our own how these possible indicators may impact eachother. By plotting the relationships, you can also see the skewness in the points and for think about what posssible outliers exist."
   ]
  },
  {
   "cell_type": "code",
   "execution_count": 66,
   "metadata": {},
   "outputs": [
    {
     "data": {
      "image/png": "[encoded data removed]",
      "text/plain": [
       "<Figure size 360x360 with 1 Axes>"
      ]
     },
     "metadata": {
      "needs_background": "light"
     },
     "output_type": "display_data"
    },
    {
     "data": {
      "image/png": "[encoded data removed]",
      "text/plain": [
       "<Figure size 360x360 with 1 Axes>"
      ]
     },
     "metadata": {
      "needs_background": "light"
     },
     "output_type": "display_data"
    },
    {
     "data": {
      "image/png": "[encoded data removed]",
      "text/plain": [
       "<Figure size 360x360 with 1 Axes>"
      ]
     },
     "metadata": {
      "needs_background": "light"
     },
     "output_type": "display_data"
    },
    {
     "data": {
      "image/png": "[encoded data removed]",
      "text/plain": [
       "<Figure size 360x360 with 1 Axes>"
      ]
     },
     "metadata": {
      "needs_background": "light"
     },
     "output_type": "display_data"
    },
    {
     "data": {
      "image/png": "[encoded data removed]",
      "text/plain": [
       "<Figure size 360x360 with 1 Axes>"
      ]
     },
     "metadata": {
      "needs_background": "light"
     },
     "output_type": "display_data"
    },
    {
     "data": {
      "image/png": "[encoded data removed]",
      "text/plain": [
       "<Figure size 360x360 with 1 Axes>"
      ]
     },
     "metadata": {
      "needs_background": "light"
     },
     "output_type": "display_data"
    },
    {
     "data": {
      "image/png": "[encoded data removed]",
      "text/plain": [
       "<Figure size 360x360 with 1 Axes>"
      ]
     },
     "metadata": {
      "needs_background": "light"
     },
     "output_type": "display_data"
    },
    {
     "ename": "TypeError",
     "evalue": "can only concatenate str (not \"int\") to str",
     "output_type": "error",
     "traceback": [
      "\u001b[0;31m---------------------------------------------------------------------------\u001b[0m",
      "\u001b[0;31mTypeError\u001b[0m                                 Traceback (most recent call last)",
      "\u001b[0;32m<ipython-input-66-e9f43bf02d7f>\u001b[0m in \u001b[0;36m<module>\u001b[0;34m\u001b[0m\n\u001b[1;32m      1\u001b[0m \u001b[0;32mfor\u001b[0m \u001b[0mname1\u001b[0m\u001b[0;34m,\u001b[0m \u001b[0mname2\u001b[0m \u001b[0;32min\u001b[0m \u001b[0mitertools\u001b[0m\u001b[0;34m.\u001b[0m\u001b[0mcombinations\u001b[0m\u001b[0;34m(\u001b[0m\u001b[0mall_data\u001b[0m\u001b[0;34m,\u001b[0m \u001b[0;36m2\u001b[0m\u001b[0;34m)\u001b[0m\u001b[0;34m:\u001b[0m\u001b[0;34m\u001b[0m\u001b[0;34m\u001b[0m\u001b[0m\n\u001b[1;32m      2\u001b[0m     \u001b[0;31m#plt.figure()\u001b[0m\u001b[0;34m\u001b[0m\u001b[0;34m\u001b[0m\u001b[0;34m\u001b[0m\u001b[0m\n\u001b[0;32m----> 3\u001b[0;31m     \u001b[0msns\u001b[0m\u001b[0;34m.\u001b[0m\u001b[0mlmplot\u001b[0m\u001b[0;34m(\u001b[0m\u001b[0mx\u001b[0m\u001b[0;34m=\u001b[0m\u001b[0mname1\u001b[0m\u001b[0;34m,\u001b[0m \u001b[0my\u001b[0m\u001b[0;34m=\u001b[0m\u001b[0mname2\u001b[0m\u001b[0;34m,\u001b[0m \u001b[0mdata\u001b[0m\u001b[0;34m=\u001b[0m\u001b[0mmeans\u001b[0m\u001b[0;34m,\u001b[0m \u001b[0mfit_reg\u001b[0m\u001b[0;34m=\u001b[0m\u001b[0;32mTrue\u001b[0m\u001b[0;34m)\u001b[0m\u001b[0;34m\u001b[0m\u001b[0;34m\u001b[0m\u001b[0m\n\u001b[0m\u001b[1;32m      4\u001b[0m     \u001b[0;31m#plt.scatter(means[name1], means[name2])\u001b[0m\u001b[0;34m\u001b[0m\u001b[0;34m\u001b[0m\u001b[0;34m\u001b[0m\u001b[0m\n\u001b[1;32m      5\u001b[0m     \u001b[0;31m#plt.xlabel(name1)\u001b[0m\u001b[0;34m\u001b[0m\u001b[0;34m\u001b[0m\u001b[0;34m\u001b[0m\u001b[0m\n",
      "\u001b[0;32m~/opt/anaconda3/lib/python3.8/site-packages/seaborn/_decorators.py\u001b[0m in \u001b[0;36minner_f\u001b[0;34m(*args, **kwargs)\u001b[0m\n\u001b[1;32m     44\u001b[0m             )\n\u001b[1;32m     45\u001b[0m         \u001b[0mkwargs\u001b[0m\u001b[0;34m.\u001b[0m\u001b[0mupdate\u001b[0m\u001b[0;34m(\u001b[0m\u001b[0;34m{\u001b[0m\u001b[0mk\u001b[0m\u001b[0;34m:\u001b[0m \u001b[0marg\u001b[0m \u001b[0;32mfor\u001b[0m \u001b[0mk\u001b[0m\u001b[0;34m,\u001b[0m \u001b[0marg\u001b[0m \u001b[0;32min\u001b[0m \u001b[0mzip\u001b[0m\u001b[0;34m(\u001b[0m\u001b[0msig\u001b[0m\u001b[0;34m.\u001b[0m\u001b[0mparameters\u001b[0m\u001b[0;34m,\u001b[0m \u001b[0margs\u001b[0m\u001b[0;34m)\u001b[0m\u001b[0;34m}\u001b[0m\u001b[0;34m)\u001b[0m\u001b[0;34m\u001b[0m\u001b[0;34m\u001b[0m\u001b[0m\n\u001b[0;32m---> 46\u001b[0;31m         \u001b[0;32mreturn\u001b[0m \u001b[0mf\u001b[0m\u001b[0;34m(\u001b[0m\u001b[0;34m**\u001b[0m\u001b[0mkwargs\u001b[0m\u001b[0;34m)\u001b[0m\u001b[0;34m\u001b[0m\u001b[0;34m\u001b[0m\u001b[0m\n\u001b[0m\u001b[1;32m     47\u001b[0m     \u001b[0;32mreturn\u001b[0m \u001b[0minner_f\u001b[0m\u001b[0;34m\u001b[0m\u001b[0;34m\u001b[0m\u001b[0m\n\u001b[1;32m     48\u001b[0m \u001b[0;34m\u001b[0m\u001b[0m\n",
      "\u001b[0;32m~/opt/anaconda3/lib/python3.8/site-packages/seaborn/regression.py\u001b[0m in \u001b[0;36mlmplot\u001b[0;34m(x, y, data, hue, col, row, palette, col_wrap, height, aspect, markers, sharex, sharey, hue_order, col_order, row_order, legend, legend_out, x_estimator, x_bins, x_ci, scatter, fit_reg, ci, n_boot, units, seed, order, logistic, lowess, robust, logx, x_partial, y_partial, truncate, x_jitter, y_jitter, scatter_kws, line_kws, size)\u001b[0m\n\u001b[1;32m    612\u001b[0m     \u001b[0;32mif\u001b[0m \u001b[0msharex\u001b[0m\u001b[0;34m:\u001b[0m\u001b[0;34m\u001b[0m\u001b[0;34m\u001b[0m\u001b[0m\n\u001b[1;32m    613\u001b[0m         \u001b[0;32mfor\u001b[0m \u001b[0max\u001b[0m \u001b[0;32min\u001b[0m \u001b[0mfacets\u001b[0m\u001b[0;34m.\u001b[0m\u001b[0maxes\u001b[0m\u001b[0;34m.\u001b[0m\u001b[0mflat\u001b[0m\u001b[0;34m:\u001b[0m\u001b[0;34m\u001b[0m\u001b[0;34m\u001b[0m\u001b[0m\n\u001b[0;32m--> 614\u001b[0;31m             \u001b[0max\u001b[0m\u001b[0;34m.\u001b[0m\u001b[0mscatter\u001b[0m\u001b[0;34m(\u001b[0m\u001b[0mdata\u001b[0m\u001b[0;34m[\u001b[0m\u001b[0mx\u001b[0m\u001b[0;34m]\u001b[0m\u001b[0;34m,\u001b[0m \u001b[0mnp\u001b[0m\u001b[0;34m.\u001b[0m\u001b[0mones\u001b[0m\u001b[0;34m(\u001b[0m\u001b[0mlen\u001b[0m\u001b[0;34m(\u001b[0m\u001b[0mdata\u001b[0m\u001b[0;34m)\u001b[0m\u001b[0;34m)\u001b[0m \u001b[0;34m*\u001b[0m \u001b[0mdata\u001b[0m\u001b[0;34m[\u001b[0m\u001b[0my\u001b[0m\u001b[0;34m]\u001b[0m\u001b[0;34m.\u001b[0m\u001b[0mmean\u001b[0m\u001b[0;34m(\u001b[0m\u001b[0;34m)\u001b[0m\u001b[0;34m)\u001b[0m\u001b[0;34m.\u001b[0m\u001b[0mremove\u001b[0m\u001b[0;34m(\u001b[0m\u001b[0;34m)\u001b[0m\u001b[0;34m\u001b[0m\u001b[0;34m\u001b[0m\u001b[0m\n\u001b[0m\u001b[1;32m    615\u001b[0m \u001b[0;34m\u001b[0m\u001b[0m\n\u001b[1;32m    616\u001b[0m     \u001b[0;31m# Draw the regression plot on each facet\u001b[0m\u001b[0;34m\u001b[0m\u001b[0;34m\u001b[0m\u001b[0;34m\u001b[0m\u001b[0m\n",
      "\u001b[0;32m~/opt/anaconda3/lib/python3.8/site-packages/pandas/core/generic.py\u001b[0m in \u001b[0;36mstat_func\u001b[0;34m(self, axis, skipna, level, numeric_only, **kwargs)\u001b[0m\n\u001b[1;32m  11466\u001b[0m         \u001b[0;32mif\u001b[0m \u001b[0mlevel\u001b[0m \u001b[0;32mis\u001b[0m \u001b[0;32mnot\u001b[0m \u001b[0;32mNone\u001b[0m\u001b[0;34m:\u001b[0m\u001b[0;34m\u001b[0m\u001b[0;34m\u001b[0m\u001b[0m\n\u001b[1;32m  11467\u001b[0m             \u001b[0;32mreturn\u001b[0m \u001b[0mself\u001b[0m\u001b[0;34m.\u001b[0m\u001b[0m_agg_by_level\u001b[0m\u001b[0;34m(\u001b[0m\u001b[0mname\u001b[0m\u001b[0;34m,\u001b[0m \u001b[0maxis\u001b[0m\u001b[0;34m=\u001b[0m\u001b[0maxis\u001b[0m\u001b[0;34m,\u001b[0m \u001b[0mlevel\u001b[0m\u001b[0;34m=\u001b[0m\u001b[0mlevel\u001b[0m\u001b[0;34m,\u001b[0m \u001b[0mskipna\u001b[0m\u001b[0;34m=\u001b[0m\u001b[0mskipna\u001b[0m\u001b[0;34m)\u001b[0m\u001b[0;34m\u001b[0m\u001b[0;34m\u001b[0m\u001b[0m\n\u001b[0;32m> 11468\u001b[0;31m         return self._reduce(\n\u001b[0m\u001b[1;32m  11469\u001b[0m             \u001b[0mfunc\u001b[0m\u001b[0;34m,\u001b[0m \u001b[0mname\u001b[0m\u001b[0;34m=\u001b[0m\u001b[0mname\u001b[0m\u001b[0;34m,\u001b[0m \u001b[0maxis\u001b[0m\u001b[0;34m=\u001b[0m\u001b[0maxis\u001b[0m\u001b[0;34m,\u001b[0m \u001b[0mskipna\u001b[0m\u001b[0;34m=\u001b[0m\u001b[0mskipna\u001b[0m\u001b[0;34m,\u001b[0m \u001b[0mnumeric_only\u001b[0m\u001b[0;34m=\u001b[0m\u001b[0mnumeric_only\u001b[0m\u001b[0;34m\u001b[0m\u001b[0;34m\u001b[0m\u001b[0m\n\u001b[1;32m  11470\u001b[0m         )\n",
      "\u001b[0;32m~/opt/anaconda3/lib/python3.8/site-packages/pandas/core/series.py\u001b[0m in \u001b[0;36m_reduce\u001b[0;34m(self, op, name, axis, skipna, numeric_only, filter_type, **kwds)\u001b[0m\n\u001b[1;32m   4234\u001b[0m                 )\n\u001b[1;32m   4235\u001b[0m             \u001b[0;32mwith\u001b[0m \u001b[0mnp\u001b[0m\u001b[0;34m.\u001b[0m\u001b[0merrstate\u001b[0m\u001b[0;34m(\u001b[0m\u001b[0mall\u001b[0m\u001b[0;34m=\u001b[0m\u001b[0;34m\"ignore\"\u001b[0m\u001b[0;34m)\u001b[0m\u001b[0;34m:\u001b[0m\u001b[0;34m\u001b[0m\u001b[0;34m\u001b[0m\u001b[0m\n\u001b[0;32m-> 4236\u001b[0;31m                 \u001b[0;32mreturn\u001b[0m \u001b[0mop\u001b[0m\u001b[0;34m(\u001b[0m\u001b[0mdelegate\u001b[0m\u001b[0;34m,\u001b[0m \u001b[0mskipna\u001b[0m\u001b[0;34m=\u001b[0m\u001b[0mskipna\u001b[0m\u001b[0;34m,\u001b[0m \u001b[0;34m**\u001b[0m\u001b[0mkwds\u001b[0m\u001b[0;34m)\u001b[0m\u001b[0;34m\u001b[0m\u001b[0;34m\u001b[0m\u001b[0m\n\u001b[0m\u001b[1;32m   4237\u001b[0m \u001b[0;34m\u001b[0m\u001b[0m\n\u001b[1;32m   4238\u001b[0m     \u001b[0;32mdef\u001b[0m \u001b[0m_reindex_indexer\u001b[0m\u001b[0;34m(\u001b[0m\u001b[0mself\u001b[0m\u001b[0;34m,\u001b[0m \u001b[0mnew_index\u001b[0m\u001b[0;34m,\u001b[0m \u001b[0mindexer\u001b[0m\u001b[0;34m,\u001b[0m \u001b[0mcopy\u001b[0m\u001b[0;34m)\u001b[0m\u001b[0;34m:\u001b[0m\u001b[0;34m\u001b[0m\u001b[0;34m\u001b[0m\u001b[0m\n",
      "\u001b[0;32m~/opt/anaconda3/lib/python3.8/site-packages/pandas/core/nanops.py\u001b[0m in \u001b[0;36m_f\u001b[0;34m(*args, **kwargs)\u001b[0m\n\u001b[1;32m     69\u001b[0m             \u001b[0;32mtry\u001b[0m\u001b[0;34m:\u001b[0m\u001b[0;34m\u001b[0m\u001b[0;34m\u001b[0m\u001b[0m\n\u001b[1;32m     70\u001b[0m                 \u001b[0;32mwith\u001b[0m \u001b[0mnp\u001b[0m\u001b[0;34m.\u001b[0m\u001b[0merrstate\u001b[0m\u001b[0;34m(\u001b[0m\u001b[0minvalid\u001b[0m\u001b[0;34m=\u001b[0m\u001b[0;34m\"ignore\"\u001b[0m\u001b[0;34m)\u001b[0m\u001b[0;34m:\u001b[0m\u001b[0;34m\u001b[0m\u001b[0;34m\u001b[0m\u001b[0m\n\u001b[0;32m---> 71\u001b[0;31m                     \u001b[0;32mreturn\u001b[0m \u001b[0mf\u001b[0m\u001b[0;34m(\u001b[0m\u001b[0;34m*\u001b[0m\u001b[0margs\u001b[0m\u001b[0;34m,\u001b[0m \u001b[0;34m**\u001b[0m\u001b[0mkwargs\u001b[0m\u001b[0;34m)\u001b[0m\u001b[0;34m\u001b[0m\u001b[0;34m\u001b[0m\u001b[0m\n\u001b[0m\u001b[1;32m     72\u001b[0m             \u001b[0;32mexcept\u001b[0m \u001b[0mValueError\u001b[0m \u001b[0;32mas\u001b[0m \u001b[0me\u001b[0m\u001b[0;34m:\u001b[0m\u001b[0;34m\u001b[0m\u001b[0;34m\u001b[0m\u001b[0m\n\u001b[1;32m     73\u001b[0m                 \u001b[0;31m# we want to transform an object array\u001b[0m\u001b[0;34m\u001b[0m\u001b[0;34m\u001b[0m\u001b[0;34m\u001b[0m\u001b[0m\n",
      "\u001b[0;32m~/opt/anaconda3/lib/python3.8/site-packages/pandas/core/nanops.py\u001b[0m in \u001b[0;36mf\u001b[0;34m(values, axis, skipna, **kwds)\u001b[0m\n\u001b[1;32m    127\u001b[0m                     \u001b[0mresult\u001b[0m \u001b[0;34m=\u001b[0m \u001b[0malt\u001b[0m\u001b[0;34m(\u001b[0m\u001b[0mvalues\u001b[0m\u001b[0;34m,\u001b[0m \u001b[0maxis\u001b[0m\u001b[0;34m=\u001b[0m\u001b[0maxis\u001b[0m\u001b[0;34m,\u001b[0m \u001b[0mskipna\u001b[0m\u001b[0;34m=\u001b[0m\u001b[0mskipna\u001b[0m\u001b[0;34m,\u001b[0m \u001b[0;34m**\u001b[0m\u001b[0mkwds\u001b[0m\u001b[0;34m)\u001b[0m\u001b[0;34m\u001b[0m\u001b[0;34m\u001b[0m\u001b[0m\n\u001b[1;32m    128\u001b[0m             \u001b[0;32melse\u001b[0m\u001b[0;34m:\u001b[0m\u001b[0;34m\u001b[0m\u001b[0;34m\u001b[0m\u001b[0m\n\u001b[0;32m--> 129\u001b[0;31m                 \u001b[0mresult\u001b[0m \u001b[0;34m=\u001b[0m \u001b[0malt\u001b[0m\u001b[0;34m(\u001b[0m\u001b[0mvalues\u001b[0m\u001b[0;34m,\u001b[0m \u001b[0maxis\u001b[0m\u001b[0;34m=\u001b[0m\u001b[0maxis\u001b[0m\u001b[0;34m,\u001b[0m \u001b[0mskipna\u001b[0m\u001b[0;34m=\u001b[0m\u001b[0mskipna\u001b[0m\u001b[0;34m,\u001b[0m \u001b[0;34m**\u001b[0m\u001b[0mkwds\u001b[0m\u001b[0;34m)\u001b[0m\u001b[0;34m\u001b[0m\u001b[0;34m\u001b[0m\u001b[0m\n\u001b[0m\u001b[1;32m    130\u001b[0m \u001b[0;34m\u001b[0m\u001b[0m\n\u001b[1;32m    131\u001b[0m             \u001b[0;32mreturn\u001b[0m \u001b[0mresult\u001b[0m\u001b[0;34m\u001b[0m\u001b[0;34m\u001b[0m\u001b[0m\n",
      "\u001b[0;32m~/opt/anaconda3/lib/python3.8/site-packages/pandas/core/nanops.py\u001b[0m in \u001b[0;36mnanmean\u001b[0;34m(values, axis, skipna, mask)\u001b[0m\n\u001b[1;32m    561\u001b[0m         \u001b[0mdtype_count\u001b[0m \u001b[0;34m=\u001b[0m \u001b[0mdtype\u001b[0m\u001b[0;34m\u001b[0m\u001b[0;34m\u001b[0m\u001b[0m\n\u001b[1;32m    562\u001b[0m     \u001b[0mcount\u001b[0m \u001b[0;34m=\u001b[0m \u001b[0m_get_counts\u001b[0m\u001b[0;34m(\u001b[0m\u001b[0mvalues\u001b[0m\u001b[0;34m.\u001b[0m\u001b[0mshape\u001b[0m\u001b[0;34m,\u001b[0m \u001b[0mmask\u001b[0m\u001b[0;34m,\u001b[0m \u001b[0maxis\u001b[0m\u001b[0;34m,\u001b[0m \u001b[0mdtype\u001b[0m\u001b[0;34m=\u001b[0m\u001b[0mdtype_count\u001b[0m\u001b[0;34m)\u001b[0m\u001b[0;34m\u001b[0m\u001b[0;34m\u001b[0m\u001b[0m\n\u001b[0;32m--> 563\u001b[0;31m     \u001b[0mthe_sum\u001b[0m \u001b[0;34m=\u001b[0m \u001b[0m_ensure_numeric\u001b[0m\u001b[0;34m(\u001b[0m\u001b[0mvalues\u001b[0m\u001b[0;34m.\u001b[0m\u001b[0msum\u001b[0m\u001b[0;34m(\u001b[0m\u001b[0maxis\u001b[0m\u001b[0;34m,\u001b[0m \u001b[0mdtype\u001b[0m\u001b[0;34m=\u001b[0m\u001b[0mdtype_sum\u001b[0m\u001b[0;34m)\u001b[0m\u001b[0;34m)\u001b[0m\u001b[0;34m\u001b[0m\u001b[0;34m\u001b[0m\u001b[0m\n\u001b[0m\u001b[1;32m    564\u001b[0m \u001b[0;34m\u001b[0m\u001b[0m\n\u001b[1;32m    565\u001b[0m     \u001b[0;32mif\u001b[0m \u001b[0maxis\u001b[0m \u001b[0;32mis\u001b[0m \u001b[0;32mnot\u001b[0m \u001b[0;32mNone\u001b[0m \u001b[0;32mand\u001b[0m \u001b[0mgetattr\u001b[0m\u001b[0;34m(\u001b[0m\u001b[0mthe_sum\u001b[0m\u001b[0;34m,\u001b[0m \u001b[0;34m\"ndim\"\u001b[0m\u001b[0;34m,\u001b[0m \u001b[0;32mFalse\u001b[0m\u001b[0;34m)\u001b[0m\u001b[0;34m:\u001b[0m\u001b[0;34m\u001b[0m\u001b[0;34m\u001b[0m\u001b[0m\n",
      "\u001b[0;32m~/opt/anaconda3/lib/python3.8/site-packages/numpy/core/_methods.py\u001b[0m in \u001b[0;36m_sum\u001b[0;34m(a, axis, dtype, out, keepdims, initial, where)\u001b[0m\n\u001b[1;32m     45\u001b[0m def _sum(a, axis=None, dtype=None, out=None, keepdims=False,\n\u001b[1;32m     46\u001b[0m          initial=_NoValue, where=True):\n\u001b[0;32m---> 47\u001b[0;31m     \u001b[0;32mreturn\u001b[0m \u001b[0mumr_sum\u001b[0m\u001b[0;34m(\u001b[0m\u001b[0ma\u001b[0m\u001b[0;34m,\u001b[0m \u001b[0maxis\u001b[0m\u001b[0;34m,\u001b[0m \u001b[0mdtype\u001b[0m\u001b[0;34m,\u001b[0m \u001b[0mout\u001b[0m\u001b[0;34m,\u001b[0m \u001b[0mkeepdims\u001b[0m\u001b[0;34m,\u001b[0m \u001b[0minitial\u001b[0m\u001b[0;34m,\u001b[0m \u001b[0mwhere\u001b[0m\u001b[0;34m)\u001b[0m\u001b[0;34m\u001b[0m\u001b[0;34m\u001b[0m\u001b[0m\n\u001b[0m\u001b[1;32m     48\u001b[0m \u001b[0;34m\u001b[0m\u001b[0m\n\u001b[1;32m     49\u001b[0m def _prod(a, axis=None, dtype=None, out=None, keepdims=False,\n",
      "\u001b[0;31mTypeError\u001b[0m: can only concatenate str (not \"int\") to str"
     ]
    },
    {
     "data": {
      "image/png": "[encoded data removed]",
      "text/plain": [
       "<Figure size 360x360 with 1 Axes>"
      ]
     },
     "metadata": {
      "needs_background": "light"
     },
     "output_type": "display_data"
    }
   ],
   "source": [
    "for name1, name2 in itertools.combinations(all_data, 2):\n",
    "    #plt.figure()\n",
    "    sns.lmplot(x=name1, y=name2, data=means, fit_reg=True)\n",
    "    #plt.scatter(means[name1], means[name2])\n",
    "    #plt.xlabel(name1)\n",
    "    #plt.ylabel(name2)\n",
    "    plt.title(f\"{name1} vs {name2}\")\n",
    "    plt.show()"
   ]
  },
  {
   "cell_type": "markdown",
   "metadata": {},
   "source": [
    "### grouped analysis by continental or econic region\n",
    "A further analaysis could be made by continent and economic region.. "
   ]
  },
  {
   "cell_type": "code",
   "execution_count": 109,
   "metadata": {},
   "outputs": [
    {
     "data": {
      "text/html": [
       "<div>\n",
       "<style scoped>\n",
       "    .dataframe tbody tr th:only-of-type {\n",
       "        vertical-align: middle;\n",
       "    }\n",
       "\n",
       "    .dataframe tbody tr th {\n",
       "        vertical-align: top;\n",
       "    }\n",
       "\n",
       "    .dataframe thead th {\n",
       "        text-align: right;\n",
       "    }\n",
       "</style>\n",
       "<table border=\"1\" class=\"dataframe\">\n",
       "  <thead>\n",
       "    <tr style=\"text-align: right;\">\n",
       "      <th></th>\n",
       "      <th>co2</th>\n",
       "      <th>consumption</th>\n",
       "      <th>income</th>\n",
       "      <th>life</th>\n",
       "      <th>population</th>\n",
       "      <th>gdp</th>\n",
       "      <th>dprt</th>\n",
       "      <th>psgr</th>\n",
       "    </tr>\n",
       "    <tr>\n",
       "      <th>continent</th>\n",
       "      <th></th>\n",
       "      <th></th>\n",
       "      <th></th>\n",
       "      <th></th>\n",
       "      <th></th>\n",
       "      <th></th>\n",
       "      <th></th>\n",
       "      <th></th>\n",
       "    </tr>\n",
       "  </thead>\n",
       "  <tbody>\n",
       "    <tr>\n",
       "      <th>Africa</th>\n",
       "      <td>0.81</td>\n",
       "      <td>29,024.17</td>\n",
       "      <td>2,254.09</td>\n",
       "      <td>48.32</td>\n",
       "      <td>17,583,126.60</td>\n",
       "      <td>13,020,080,268.93</td>\n",
       "      <td>11,834.75</td>\n",
       "      <td>754,477.74</td>\n",
       "    </tr>\n",
       "    <tr>\n",
       "      <th>Asia</th>\n",
       "      <td>5.97</td>\n",
       "      <td>386,330.75</td>\n",
       "      <td>8,693.91</td>\n",
       "      <td>51.96</td>\n",
       "      <td>64,927,276.17</td>\n",
       "      <td>130,028,426,139.28</td>\n",
       "      <td>103,762.95</td>\n",
       "      <td>12,061,230.51</td>\n",
       "    </tr>\n",
       "    <tr>\n",
       "      <th>Europe</th>\n",
       "      <td>4.63</td>\n",
       "      <td>151,161.40</td>\n",
       "      <td>11,442.06</td>\n",
       "      <td>60.21</td>\n",
       "      <td>9,733,677.60</td>\n",
       "      <td>89,904,554,434.61</td>\n",
       "      <td>109,504.08</td>\n",
       "      <td>8,822,183.32</td>\n",
       "    </tr>\n",
       "    <tr>\n",
       "      <th>North America</th>\n",
       "      <td>2.87</td>\n",
       "      <td>100,160.25</td>\n",
       "      <td>5,396.84</td>\n",
       "      <td>55.62</td>\n",
       "      <td>6,875,999.56</td>\n",
       "      <td>33,205,514,318.21</td>\n",
       "      <td>73,241.16</td>\n",
       "      <td>3,997,936.45</td>\n",
       "    </tr>\n",
       "    <tr>\n",
       "      <th>Oceania</th>\n",
       "      <td>3.12</td>\n",
       "      <td>175,051.79</td>\n",
       "      <td>4,837.50</td>\n",
       "      <td>52.13</td>\n",
       "      <td>1,860,593.01</td>\n",
       "      <td>13,152,763,290.91</td>\n",
       "      <td>56,894.51</td>\n",
       "      <td>3,950,858.38</td>\n",
       "    </tr>\n",
       "    <tr>\n",
       "      <th>South America</th>\n",
       "      <td>1.72</td>\n",
       "      <td>87,244.54</td>\n",
       "      <td>5,339.23</td>\n",
       "      <td>55.11</td>\n",
       "      <td>17,229,357.92</td>\n",
       "      <td>65,002,397,468.85</td>\n",
       "      <td>89,980.51</td>\n",
       "      <td>6,111,055.84</td>\n",
       "    </tr>\n",
       "  </tbody>\n",
       "</table>\n",
       "</div>"
      ],
      "text/plain": [
       "               co2  consumption    income  life    population  \\\n",
       "continent                                                       \n",
       "Africa        0.81    29,024.17  2,254.09 48.32 17,583,126.60   \n",
       "Asia          5.97   386,330.75  8,693.91 51.96 64,927,276.17   \n",
       "Europe        4.63   151,161.40 11,442.06 60.21  9,733,677.60   \n",
       "North America 2.87   100,160.25  5,396.84 55.62  6,875,999.56   \n",
       "Oceania       3.12   175,051.79  4,837.50 52.13  1,860,593.01   \n",
       "South America 1.72    87,244.54  5,339.23 55.11 17,229,357.92   \n",
       "\n",
       "                             gdp       dprt          psgr  \n",
       "continent                                                  \n",
       "Africa         13,020,080,268.93  11,834.75    754,477.74  \n",
       "Asia          130,028,426,139.28 103,762.95 12,061,230.51  \n",
       "Europe         89,904,554,434.61 109,504.08  8,822,183.32  \n",
       "North America  33,205,514,318.21  73,241.16  3,997,936.45  \n",
       "Oceania        13,152,763,290.91  56,894.51  3,950,858.38  \n",
       "South America  65,002,397,468.85  89,980.51  6,111,055.84  "
      ]
     },
     "execution_count": 109,
     "metadata": {},
     "output_type": "execute_result"
    }
   ],
   "source": [
    "# Once data has a column that you can group on (categorical data)\n",
    "category_column = 'continent'\n",
    "unique_group_names = means[category_column].unique() #['asia', 'europe', 'north america', .e..] # dataframe[category_column].unique()\n",
    "\n",
    "\"\"\"\n",
    "# To Do: Analyse of each continent in isolation: \n",
    "\n",
    "for group in unique_group_names:\n",
    "    data = dataframe[dataframe[category_column] == group]\n",
    "    # Now data is just the subdataframe for this group \n",
    "    # e.g. \n",
    "    data.corr()\n",
    "\"\"\"\n",
    "\n",
    "means.groupby(category_column).mean() # For each group (e.g. continent), generate the group mean"
   ]
  },
  {
   "cell_type": "markdown",
   "metadata": {},
   "source": [
    "# Visualization of Data"
   ]
  },
  {
   "cell_type": "markdown",
   "metadata": {},
   "source": [
    "## Plotly scatter plots\n",
    "\n",
    "We will fist plot the means after importing the module plotly module to produce various figures to represent the data"
   ]
  },
  {
   "cell_type": "code",
   "execution_count": 120,
   "metadata": {},
   "outputs": [],
   "source": [
    "import plotly.express as px\n",
    "\n",
    "plot_means = means.reset_index().rename(columns={'index':'country'}).dropna()"
   ]
  },
  {
   "cell_type": "markdown",
   "metadata": {},
   "source": [
    "### Figure 1: Total CO2 consumption on the virtical axis, with population represented by the size of the bubble "
   ]
  },
  {
   "cell_type": "code",
   "execution_count": 121,
   "metadata": {},
   "outputs": [
    {
     "data": {
      "application/vnd.plotly.v1+json": {
       "config": {
        "plotlyServerURL": "https://plot.ly"
       },
       "data": [
        {
         "hovertemplate": "<b>%{hovertext}</b><br><br>continent=Europe<br>population=%{x}<br>gdp=%{y}<br>consumption=%{marker.size}<extra></extra>",
         "hovertext": [
          "Albania",
          "Armenia",
          "Austria",
          "Azerbaijan",
          "Belarus",
          "Belgium",
          "Bulgaria",
          "Croatia",
          "Cyprus",
          "Denmark",
          "Estonia",
          "Finland",
          "France",
          "Georgia",
          "Germany",
          "Greece",
          "Hungary",
          "Ireland",
          "Italy",
          "Latvia",
          "Lithuania",
          "Luxembourg",
          "Malta",
          "Netherlands",
          "Norway",
          "Poland",
          "Portugal",
          "Romania",
          "Slovenia",
          "Spain",
          "Sweden",
          "Switzerland",
          "Ukraine",
          "United Kingdom"
         ],
         "legendgroup": "Europe",
         "marker": {
          "color": "#636efa",
          "size": [
           4722.5,
           5472.5,
           93717.85714285714,
           32803.57142857143,
           56385.71428571428,
           182321.42857142858,
           44192.857142857145,
           22850,
           8659.642857142857,
           62582.142857142855,
           18992.85714285714,
           76121.42857142857,
           507357.14285714284,
           8513.57142857143,
           1027214.2857142857,
           94207.14285714286,
           73910.71428571429,
           50314.28571428572,
           551000,
           13828.57142857143,
           24207.14285714286,
           14792.5,
           4223.214285714285,
           192892.85714285713,
           44075,
           310321.4285714286,
           67492.85714285714,
           101810.71428571429,
           18571.428571428572,
           325142.85714285716,
           80489.28571428571,
           103728.57142857143,
           253785.7142857143,
           662785.7142857143
          ],
          "sizemode": "area",
          "sizeref": 3090.1785714285716,
          "symbol": "circle"
         },
         "mode": "markers",
         "name": "Europe",
         "orientation": "v",
         "showlegend": true,
         "type": "scatter",
         "x": [
          1506747.5083056479,
          1701996.6777408638,
          6672026.57807309,
          5115219.26910299,
          6499568.106312293,
          8399800.664451826,
          5031661.1295681065,
          2929534.88372093,
          658897.0099667774,
          3989501.6611295682,
          955079.7342192691,
          3677205.980066445,
          49027242.52491695,
          2884551.495016611,
          61485714.28571428,
          6609900.332225913,
          7644518.272425249,
          4985946.843853821,
          41243853.820598006,
          1612262.4584717609,
          2144279.069767442,
          418830.56478405313,
          289006.6445182724,
          10092491.69435216,
          3740275.7475083056,
          25580830.564784054,
          6940797.342192691,
          13850764.11960133,
          1339318.9368770765,
          28366777.408637874,
          7274152.823920266,
          5655249.169435216,
          29788704.318936877,
          49991362.12624585
         ],
         "xaxis": "x",
         "y": [
          4473397196.2616825,
          3661397196.261682,
          72994392523.36449,
          15951943925.233644,
          24221214953.271027,
          93533224299.06541,
          27241588785.04673,
          23101822429.906544,
          4721280373.831776,
          50408457943.92523,
          5892345794.392524,
          37821028037.38318,
          508160280373.8318,
          8424313084.112149,
          773705607476.6355,
          57893738317.75701,
          61213878504.6729,
          30992663551.40187,
          428094392523.3645,
          8986378504.672897,
          16405093457.943926,
          6466593457.943925,
          1733710280.3738317,
          127682242990.6542,
          51795560747.66355,
          155076635514.01868,
          52750981308.41122,
          101527616822.4299,
          11190565420.560747,
          241755607476.63553,
          78409672897.19626,
          89886261682.243,
          127102056074.76636,
          507014953271.028
         ],
         "yaxis": "y"
        },
        {
         "hovertemplate": "<b>%{hovertext}</b><br><br>continent=South America<br>population=%{x}<br>gdp=%{y}<br>consumption=%{marker.size}<extra></extra>",
         "hovertext": [
          "Argentina",
          "Bolivia",
          "Brazil",
          "Chile",
          "Colombia",
          "Ecuador",
          "Paraguay",
          "Peru",
          "Uruguay",
          "Venezuela"
         ],
         "legendgroup": "South America",
         "marker": {
          "color": "#EF553B",
          "size": [
           148792.85714285713,
           11219.642857142857,
           377928.5714285714,
           59689.28571428572,
           76453.57142857143,
           31828.571428571428,
           6245.714285714285,
           39514.28571428572,
           8833.57142857143,
           111939.28571428571
          ],
          "sizemode": "area",
          "sizeref": 3090.1785714285716,
          "symbol": "circle"
         },
         "mode": "markers",
         "name": "South America",
         "orientation": "v",
         "showlegend": true,
         "type": "scatter",
         "x": [
          23961644.518272426,
          6653458.471760797,
          96660897.00996678,
          9361860.46511628,
          23149734.219269104,
          9064657.80730897,
          3534853.8205980067,
          16826578.0730897,
          1978859.1362126246,
          14764385.382059801
         ],
         "xaxis": "x",
         "y": [
          108556186915.88785,
          9529897196.261683,
          380873457943.92523,
          44242682242.990654,
          67426485981.30841,
          22568457943.925232,
          7409869158.878505,
          45853457943.92523,
          11436414485.981308,
          79523121495.3271
         ],
         "yaxis": "y"
        },
        {
         "hovertemplate": "<b>%{hovertext}</b><br><br>continent=Oceania<br>population=%{x}<br>gdp=%{y}<br>consumption=%{marker.size}<extra></extra>",
         "hovertext": [
          "Australia",
          "New Zealand"
         ],
         "legendgroup": "Oceania",
         "marker": {
          "color": "#00cc96",
          "size": [
           314214.28571428574,
           35889.28571428572
          ],
          "sizemode": "area",
          "sizeref": 3090.1785714285716,
          "symbol": "circle"
         },
         "mode": "markers",
         "name": "Oceania",
         "orientation": "v",
         "showlegend": true,
         "type": "scatter",
         "x": [
          14382495.016611295,
          2597147.8405315615
         ],
         "xaxis": "x",
         "y": [
          139749425233.64487,
          26639007943.925232
         ],
         "yaxis": "y"
        },
        {
         "hovertemplate": "<b>%{hovertext}</b><br><br>continent=Asia<br>population=%{x}<br>gdp=%{y}<br>consumption=%{marker.size}<extra></extra>",
         "hovertext": [
          "Bahrain",
          "Bangladesh",
          "Brunei",
          "Cambodia",
          "China",
          "India",
          "Indonesia",
          "Iran",
          "Israel",
          "Japan",
          "Jordan",
          "Kazakhstan",
          "Kuwait",
          "Malaysia",
          "Mongolia",
          "Nepal",
          "Oman",
          "Pakistan",
          "Philippines",
          "Qatar",
          "Saudi Arabia",
          "Singapore",
          "Sri Lanka",
          "Thailand",
          "Turkey",
          "United Arab Emirates",
          "Vietnam"
         ],
         "legendgroup": "Asia",
         "marker": {
          "color": "#ab63fa",
          "size": [
           14227.857142857143,
           50546.42857142857,
           4787.5,
           6423.928571428572,
           4944285.714285715,
           1245142.857142857,
           342535.71428571426,
           395607.14285714284,
           71664.28571428571,
           1450000,
           23878.571428571428,
           139942.85714285713,
           56010.71428571428,
           150582.14285714287,
           13814.642857142857,
           6262.142857142857,
           31296.428571428572,
           136875,
           94578.57142857143,
           38014.28571428572,
           340535.71428571426,
           104921.42857142857,
           17789.285714285714,
           203428.57142857142,
           303607.14285714284,
           148121.42857142858,
           96050
          ],
          "sizemode": "area",
          "sizeref": 3090.1785714285716,
          "symbol": "circle"
         },
         "mode": "markers",
         "name": "Asia",
         "orientation": "v",
         "showlegend": true,
         "type": "scatter",
         "x": [
          774467.7740863787,
          82683388.70431894,
          183501.42857142858,
          9178106.312292358,
          799392026.5780731,
          746053156.1461794,
          141308305.64784053,
          42445847.176079735,
          4919544.850498339,
          74394352.15946844,
          4459305.647840532,
          11654617.940199336,
          1884375.7475083056,
          15547478.405315615,
          2007073.0897009966,
          15122890.365448505,
          2441661.1295681065,
          126611295.68106312,
          54776943.52159468,
          1191285.7142857143,
          16030764.11960133,
          2468239.534883721,
          10678239.202657808,
          31414584.717607975,
          42908372.093023255,
          3626185.0498338873,
          47915282.39202658
         ],
         "xaxis": "x",
         "y": [
          4945811682.2429905,
          52229439252.33645,
          4964161401.869159,
          5819065420.560748,
          1342476635514.0188,
          642285046728.9719,
          244592990654.2056,
          149079205607.47662,
          25439504672.897198,
          1256987628865.9795,
          7670957943.925234,
          56017429906.54205,
          38473981308.41122,
          59353219626.16822,
          2776686915.8878503,
          10618084112.149532,
          14092443925.233644,
          99445794392.52336,
          71441261682.243,
          13028399065.42056,
          170882616822.4299,
          31866714485.981308,
          20427934579.43925,
          99326915887.85046,
          179212616822.4299,
          32316854205.607475,
          45270607476.63551
         ],
         "yaxis": "y"
        },
        {
         "hovertemplate": "<b>%{hovertext}</b><br><br>continent=Africa<br>population=%{x}<br>gdp=%{y}<br>consumption=%{marker.size}<extra></extra>",
         "hovertext": [
          "Benin",
          "Botswana",
          "Cameroon",
          "Egypt",
          "Ethiopia",
          "Ghana",
          "Guinea",
          "Kenya",
          "Madagascar",
          "Malawi",
          "Mauritius",
          "Morocco",
          "Mozambique",
          "Namibia",
          "Nigeria",
          "Rwanda",
          "Senegal",
          "South Africa",
          "Tanzania",
          "Togo",
          "Tunisia",
          "Uganda",
          "Zambia",
          "Zimbabwe"
         ],
         "legendgroup": "Africa",
         "marker": {
          "color": "#FFA15A",
          "size": [
           4370.321428571428,
           7945,
           6026.785714285715,
           158567.85714285713,
           8675,
           12715.714285714286,
           1777.857142857143,
           14195.714285714286,
           3001.4285714285716,
           2342.1428571428573,
           4521.428571428572,
           48825,
           7232.5,
           4599.285714285715,
           69975,
           594.8571428571429,
           6363.928571428572,
           277464.28571428574,
           9145.714285714286,
           3411.0714285714284,
           21164.285714285714,
           4057.8571428571427,
           5380.357142857143,
           14226.785714285714
          ],
          "sizemode": "area",
          "sizeref": 3090.1785714285716,
          "symbol": "circle"
         },
         "mode": "markers",
         "name": "Africa",
         "orientation": "v",
         "showlegend": true,
         "type": "scatter",
         "x": [
          9632368.77076412,
          1319368.7707641197,
          20007508.30564784,
          62770564.784053154,
          79800664.45182724,
          20157009.96677741,
          10304405.315614618,
          33474186.046511628,
          21255215.946843855,
          14805827.242524916,
          658638.8704318937,
          19423887.04318937,
          26229235.880398672,
          1556112.9568106313,
          158514285.7142857,
          8878382.059800664,
          13056661.129568106,
          30396245.84717608,
          52331262.45847176,
          6012435.215946844,
          6135870.431893688,
          32339966.777408637,
          15554023.255813954,
          9335029.900332225
         ],
         "xaxis": "x",
         "y": [
          2667616822.4299064,
          2758307009.345794,
          8827943925.233644,
          112391121495.3271,
          12781775700.93458,
          11237570093.457945,
          2448602803.738318,
          12879018691.588785,
          6938228971.962617,
          1623186915.8878505,
          2431094859.813084,
          31067009345.79439,
          3283808411.2149534,
          2780285046.728972,
          109612616822.4299,
          1955616822.4299066,
          4617373831.775701,
          95856542056.07477,
          9908364485.981308,
          1915976635.5140188,
          14023584112.149532,
          5782990654.205607,
          6159088785.046729,
          5326738317.7570095
         ],
         "yaxis": "y"
        },
        {
         "hovertemplate": "<b>%{hovertext}</b><br><br>continent=North America<br>population=%{x}<br>gdp=%{y}<br>consumption=%{marker.size}<extra></extra>",
         "hovertext": [
          "Canada",
          "Costa Rica",
          "Dominican Republic",
          "El Salvador",
          "Guatemala",
          "Honduras",
          "Jamaica",
          "Mexico",
          "Nicaragua",
          "Panama",
          "Trinidad and Tobago"
         ],
         "legendgroup": "North America",
         "marker": {
          "color": "#19d3f3",
          "size": [
           556642.8571428572,
           10667.5,
           20591.428571428572,
           7828.571428571428,
           13329.642857142857,
           8108.214285714285,
           8605,
           442928.5714285714,
           4876.071428571428,
           9147.714285714286,
           19037.14285714286
          ],
          "sizemode": "area",
          "sizeref": 3090.1785714285716,
          "symbol": "circle"
         },
         "mode": "markers",
         "name": "North America",
         "orientation": "v",
         "showlegend": true,
         "type": "scatter",
         "x": [
          21230730.897009965,
          2261397.6744186045,
          5041113.953488372,
          3175471.7607973423,
          10071847.176079733,
          5045388.704318937,
          1552803.9867109635,
          63321063.12292359,
          3334186.0465116277,
          2245558.1395348837,
          694017.2757475083
         ],
         "xaxis": "x",
         "y": [
          233063088785.04672,
          6901520560.7476635,
          10996307476.635513,
          9234299065.42056,
          15680649532.71028,
          5319557009.345795,
          5825046728.971963,
          276849018691.5888,
          5275644859.813084,
          5931850467.28972,
          5319582242.990654
         ],
         "yaxis": "y"
        }
       ],
       "layout": {
        "legend": {
         "itemsizing": "constant",
         "title": {
          "text": "continent"
         },
         "tracegroupgap": 0
        },
        "template": {
         "data": {
          "bar": [
           {
            "error_x": {
             "color": "#2a3f5f"
            },
            "error_y": {
             "color": "#2a3f5f"
            },
            "marker": {
             "line": {
              "color": "#E5ECF6",
              "width": 0.5
             }
            },
            "type": "bar"
           }
          ],
          "barpolar": [
           {
            "marker": {
             "line": {
              "color": "#E5ECF6",
              "width": 0.5
             }
            },
            "type": "barpolar"
           }
          ],
          "carpet": [
           {
            "aaxis": {
             "endlinecolor": "#2a3f5f",
             "gridcolor": "white",
             "linecolor": "white",
             "minorgridcolor": "white",
             "startlinecolor": "#2a3f5f"
            },
            "baxis": {
             "endlinecolor": "#2a3f5f",
             "gridcolor": "white",
             "linecolor": "white",
             "minorgridcolor": "white",
             "startlinecolor": "#2a3f5f"
            },
            "type": "carpet"
           }
          ],
          "choropleth": [
           {
            "colorbar": {
             "outlinewidth": 0,
             "ticks": ""
            },
            "type": "choropleth"
           }
          ],
          "contour": [
           {
            "colorbar": {
             "outlinewidth": 0,
             "ticks": ""
            },
            "colorscale": [
             [
              0,
              "#0d0887"
             ],
             [
              0.1111111111111111,
              "#46039f"
             ],
             [
              0.2222222222222222,
              "#7201a8"
             ],
             [
              0.3333333333333333,
              "#9c179e"
             ],
             [
              0.4444444444444444,
              "#bd3786"
             ],
             [
              0.5555555555555556,
              "#d8576b"
             ],
             [
              0.6666666666666666,
              "#ed7953"
             ],
             [
              0.7777777777777778,
              "#fb9f3a"
             ],
             [
              0.8888888888888888,
              "#fdca26"
             ],
             [
              1,
              "#f0f921"
             ]
            ],
            "type": "contour"
           }
          ],
          "contourcarpet": [
           {
            "colorbar": {
             "outlinewidth": 0,
             "ticks": ""
            },
            "type": "contourcarpet"
           }
          ],
          "heatmap": [
           {
            "colorbar": {
             "outlinewidth": 0,
             "ticks": ""
            },
            "colorscale": [
             [
              0,
              "#0d0887"
             ],
             [
              0.1111111111111111,
              "#46039f"
             ],
             [
              0.2222222222222222,
              "#7201a8"
             ],
             [
              0.3333333333333333,
              "#9c179e"
             ],
             [
              0.4444444444444444,
              "#bd3786"
             ],
             [
              0.5555555555555556,
              "#d8576b"
             ],
             [
              0.6666666666666666,
              "#ed7953"
             ],
             [
              0.7777777777777778,
              "#fb9f3a"
             ],
             [
              0.8888888888888888,
              "#fdca26"
             ],
             [
              1,
              "#f0f921"
             ]
            ],
            "type": "heatmap"
           }
          ],
          "heatmapgl": [
           {
            "colorbar": {
             "outlinewidth": 0,
             "ticks": ""
            },
            "colorscale": [
             [
              0,
              "#0d0887"
             ],
             [
              0.1111111111111111,
              "#46039f"
             ],
             [
              0.2222222222222222,
              "#7201a8"
             ],
             [
              0.3333333333333333,
              "#9c179e"
             ],
             [
              0.4444444444444444,
              "#bd3786"
             ],
             [
              0.5555555555555556,
              "#d8576b"
             ],
             [
              0.6666666666666666,
              "#ed7953"
             ],
             [
              0.7777777777777778,
              "#fb9f3a"
             ],
             [
              0.8888888888888888,
              "#fdca26"
             ],
             [
              1,
              "#f0f921"
             ]
            ],
            "type": "heatmapgl"
           }
          ],
          "histogram": [
           {
            "marker": {
             "colorbar": {
              "outlinewidth": 0,
              "ticks": ""
             }
            },
            "type": "histogram"
           }
          ],
          "histogram2d": [
           {
            "colorbar": {
             "outlinewidth": 0,
             "ticks": ""
            },
            "colorscale": [
             [
              0,
              "#0d0887"
             ],
             [
              0.1111111111111111,
              "#46039f"
             ],
             [
              0.2222222222222222,
              "#7201a8"
             ],
             [
              0.3333333333333333,
              "#9c179e"
             ],
             [
              0.4444444444444444,
              "#bd3786"
             ],
             [
              0.5555555555555556,
              "#d8576b"
             ],
             [
              0.6666666666666666,
              "#ed7953"
             ],
             [
              0.7777777777777778,
              "#fb9f3a"
             ],
             [
              0.8888888888888888,
              "#fdca26"
             ],
             [
              1,
              "#f0f921"
             ]
            ],
            "type": "histogram2d"
           }
          ],
          "histogram2dcontour": [
           {
            "colorbar": {
             "outlinewidth": 0,
             "ticks": ""
            },
            "colorscale": [
             [
              0,
              "#0d0887"
             ],
             [
              0.1111111111111111,
              "#46039f"
             ],
             [
              0.2222222222222222,
              "#7201a8"
             ],
             [
              0.3333333333333333,
              "#9c179e"
             ],
             [
              0.4444444444444444,
              "#bd3786"
             ],
             [
              0.5555555555555556,
              "#d8576b"
             ],
             [
              0.6666666666666666,
              "#ed7953"
             ],
             [
              0.7777777777777778,
              "#fb9f3a"
             ],
             [
              0.8888888888888888,
              "#fdca26"
             ],
             [
              1,
              "#f0f921"
             ]
            ],
            "type": "histogram2dcontour"
           }
          ],
          "mesh3d": [
           {
            "colorbar": {
             "outlinewidth": 0,
             "ticks": ""
            },
            "type": "mesh3d"
           }
          ],
          "parcoords": [
           {
            "line": {
             "colorbar": {
              "outlinewidth": 0,
              "ticks": ""
             }
            },
            "type": "parcoords"
           }
          ],
          "pie": [
           {
            "automargin": true,
            "type": "pie"
           }
          ],
          "scatter": [
           {
            "marker": {
             "colorbar": {
              "outlinewidth": 0,
              "ticks": ""
             }
            },
            "type": "scatter"
           }
          ],
          "scatter3d": [
           {
            "line": {
             "colorbar": {
              "outlinewidth": 0,
              "ticks": ""
             }
            },
            "marker": {
             "colorbar": {
              "outlinewidth": 0,
              "ticks": ""
             }
            },
            "type": "scatter3d"
           }
          ],
          "scattercarpet": [
           {
            "marker": {
             "colorbar": {
              "outlinewidth": 0,
              "ticks": ""
             }
            },
            "type": "scattercarpet"
           }
          ],
          "scattergeo": [
           {
            "marker": {
             "colorbar": {
              "outlinewidth": 0,
              "ticks": ""
             }
            },
            "type": "scattergeo"
           }
          ],
          "scattergl": [
           {
            "marker": {
             "colorbar": {
              "outlinewidth": 0,
              "ticks": ""
             }
            },
            "type": "scattergl"
           }
          ],
          "scattermapbox": [
           {
            "marker": {
             "colorbar": {
              "outlinewidth": 0,
              "ticks": ""
             }
            },
            "type": "scattermapbox"
           }
          ],
          "scatterpolar": [
           {
            "marker": {
             "colorbar": {
              "outlinewidth": 0,
              "ticks": ""
             }
            },
            "type": "scatterpolar"
           }
          ],
          "scatterpolargl": [
           {
            "marker": {
             "colorbar": {
              "outlinewidth": 0,
              "ticks": ""
             }
            },
            "type": "scatterpolargl"
           }
          ],
          "scatterternary": [
           {
            "marker": {
             "colorbar": {
              "outlinewidth": 0,
              "ticks": ""
             }
            },
            "type": "scatterternary"
           }
          ],
          "surface": [
           {
            "colorbar": {
             "outlinewidth": 0,
             "ticks": ""
            },
            "colorscale": [
             [
              0,
              "#0d0887"
             ],
             [
              0.1111111111111111,
              "#46039f"
             ],
             [
              0.2222222222222222,
              "#7201a8"
             ],
             [
              0.3333333333333333,
              "#9c179e"
             ],
             [
              0.4444444444444444,
              "#bd3786"
             ],
             [
              0.5555555555555556,
              "#d8576b"
             ],
             [
              0.6666666666666666,
              "#ed7953"
             ],
             [
              0.7777777777777778,
              "#fb9f3a"
             ],
             [
              0.8888888888888888,
              "#fdca26"
             ],
             [
              1,
              "#f0f921"
             ]
            ],
            "type": "surface"
           }
          ],
          "table": [
           {
            "cells": {
             "fill": {
              "color": "#EBF0F8"
             },
             "line": {
              "color": "white"
             }
            },
            "header": {
             "fill": {
              "color": "#C8D4E3"
             },
             "line": {
              "color": "white"
             }
            },
            "type": "table"
           }
          ]
         },
         "layout": {
          "annotationdefaults": {
           "arrowcolor": "#2a3f5f",
           "arrowhead": 0,
           "arrowwidth": 1
          },
          "autotypenumbers": "strict",
          "coloraxis": {
           "colorbar": {
            "outlinewidth": 0,
            "ticks": ""
           }
          },
          "colorscale": {
           "diverging": [
            [
             0,
             "#8e0152"
            ],
            [
             0.1,
             "#c51b7d"
            ],
            [
             0.2,
             "#de77ae"
            ],
            [
             0.3,
             "#f1b6da"
            ],
            [
             0.4,
             "#fde0ef"
            ],
            [
             0.5,
             "#f7f7f7"
            ],
            [
             0.6,
             "#e6f5d0"
            ],
            [
             0.7,
             "#b8e186"
            ],
            [
             0.8,
             "#7fbc41"
            ],
            [
             0.9,
             "#4d9221"
            ],
            [
             1,
             "#276419"
            ]
           ],
           "sequential": [
            [
             0,
             "#0d0887"
            ],
            [
             0.1111111111111111,
             "#46039f"
            ],
            [
             0.2222222222222222,
             "#7201a8"
            ],
            [
             0.3333333333333333,
             "#9c179e"
            ],
            [
             0.4444444444444444,
             "#bd3786"
            ],
            [
             0.5555555555555556,
             "#d8576b"
            ],
            [
             0.6666666666666666,
             "#ed7953"
            ],
            [
             0.7777777777777778,
             "#fb9f3a"
            ],
            [
             0.8888888888888888,
             "#fdca26"
            ],
            [
             1,
             "#f0f921"
            ]
           ],
           "sequentialminus": [
            [
             0,
             "#0d0887"
            ],
            [
             0.1111111111111111,
             "#46039f"
            ],
            [
             0.2222222222222222,
             "#7201a8"
            ],
            [
             0.3333333333333333,
             "#9c179e"
            ],
            [
             0.4444444444444444,
             "#bd3786"
            ],
            [
             0.5555555555555556,
             "#d8576b"
            ],
            [
             0.6666666666666666,
             "#ed7953"
            ],
            [
             0.7777777777777778,
             "#fb9f3a"
            ],
            [
             0.8888888888888888,
             "#fdca26"
            ],
            [
             1,
             "#f0f921"
            ]
           ]
          },
          "colorway": [
           "#636efa",
           "#EF553B",
           "#00cc96",
           "#ab63fa",
           "#FFA15A",
           "#19d3f3",
           "#FF6692",
           "#B6E880",
           "#FF97FF",
           "#FECB52"
          ],
          "font": {
           "color": "#2a3f5f"
          },
          "geo": {
           "bgcolor": "white",
           "lakecolor": "white",
           "landcolor": "#E5ECF6",
           "showlakes": true,
           "showland": true,
           "subunitcolor": "white"
          },
          "hoverlabel": {
           "align": "left"
          },
          "hovermode": "closest",
          "mapbox": {
           "style": "light"
          },
          "paper_bgcolor": "white",
          "plot_bgcolor": "#E5ECF6",
          "polar": {
           "angularaxis": {
            "gridcolor": "white",
            "linecolor": "white",
            "ticks": ""
           },
           "bgcolor": "#E5ECF6",
           "radialaxis": {
            "gridcolor": "white",
            "linecolor": "white",
            "ticks": ""
           }
          },
          "scene": {
           "xaxis": {
            "backgroundcolor": "#E5ECF6",
            "gridcolor": "white",
            "gridwidth": 2,
            "linecolor": "white",
            "showbackground": true,
            "ticks": "",
            "zerolinecolor": "white"
           },
           "yaxis": {
            "backgroundcolor": "#E5ECF6",
            "gridcolor": "white",
            "gridwidth": 2,
            "linecolor": "white",
            "showbackground": true,
            "ticks": "",
            "zerolinecolor": "white"
           },
           "zaxis": {
            "backgroundcolor": "#E5ECF6",
            "gridcolor": "white",
            "gridwidth": 2,
            "linecolor": "white",
            "showbackground": true,
            "ticks": "",
            "zerolinecolor": "white"
           }
          },
          "shapedefaults": {
           "line": {
            "color": "#2a3f5f"
           }
          },
          "ternary": {
           "aaxis": {
            "gridcolor": "white",
            "linecolor": "white",
            "ticks": ""
           },
           "baxis": {
            "gridcolor": "white",
            "linecolor": "white",
            "ticks": ""
           },
           "bgcolor": "#E5ECF6",
           "caxis": {
            "gridcolor": "white",
            "linecolor": "white",
            "ticks": ""
           }
          },
          "title": {
           "x": 0.05
          },
          "xaxis": {
           "automargin": true,
           "gridcolor": "white",
           "linecolor": "white",
           "ticks": "",
           "title": {
            "standoff": 15
           },
           "zerolinecolor": "white",
           "zerolinewidth": 2
          },
          "yaxis": {
           "automargin": true,
           "gridcolor": "white",
           "linecolor": "white",
           "ticks": "",
           "title": {
            "standoff": 15
           },
           "zerolinecolor": "white",
           "zerolinewidth": 2
          }
         }
        },
        "title": {
         "text": "Total CO2 consumption v. GDP and population is size of bubble"
        },
        "xaxis": {
         "anchor": "y",
         "domain": [
          0,
          1
         ],
         "title": {
          "text": "population"
         },
         "type": "log"
        },
        "yaxis": {
         "anchor": "x",
         "domain": [
          0,
          1
         ],
         "title": {
          "text": "gdp"
         },
         "type": "log"
        }
       }
      },
      "text/html": [
       "<div>                            <div id=\"57537293-8367-4c7f-84b0-9f6799d10a4a\" class=\"plotly-graph-div\" style=\"height:525px; width:100%;\"></div>            <script type=\"text/javascript\">                require([\"plotly\"], function(Plotly) {                    window.PLOTLYENV=window.PLOTLYENV || {};                                    if (document.getElementById(\"57537293-8367-4c7f-84b0-9f6799d10a4a\")) {                    Plotly.newPlot(                        \"57537293-8367-4c7f-84b0-9f6799d10a4a\",                        [{\"hovertemplate\": \"<b>%{hovertext}</b><br><br>continent=Europe<br>population=%{x}<br>gdp=%{y}<br>consumption=%{marker.size}<extra></extra>\", \"hovertext\": [\"Albania\", \"Armenia\", \"Austria\", \"Azerbaijan\", \"Belarus\", \"Belgium\", \"Bulgaria\", \"Croatia\", \"Cyprus\", \"Denmark\", \"Estonia\", \"Finland\", \"France\", \"Georgia\", \"Germany\", \"Greece\", \"Hungary\", \"Ireland\", \"Italy\", \"Latvia\", \"Lithuania\", \"Luxembourg\", \"Malta\", \"Netherlands\", \"Norway\", \"Poland\", \"Portugal\", \"Romania\", \"Slovenia\", \"Spain\", \"Sweden\", \"Switzerland\", \"Ukraine\", \"United Kingdom\"], \"legendgroup\": \"Europe\", \"marker\": {\"color\": \"#636efa\", \"size\": [4722.5, 5472.5, 93717.85714285714, 32803.57142857143, 56385.71428571428, 182321.42857142858, 44192.857142857145, 22850.0, 8659.642857142857, 62582.142857142855, 18992.85714285714, 76121.42857142857, 507357.14285714284, 8513.57142857143, 1027214.2857142857, 94207.14285714286, 73910.71428571429, 50314.28571428572, 551000.0, 13828.57142857143, 24207.14285714286, 14792.5, 4223.214285714285, 192892.85714285713, 44075.0, 310321.4285714286, 67492.85714285714, 101810.71428571429, 18571.428571428572, 325142.85714285716, 80489.28571428571, 103728.57142857143, 253785.7142857143, 662785.7142857143], \"sizemode\": \"area\", \"sizeref\": 3090.1785714285716, \"symbol\": \"circle\"}, \"mode\": \"markers\", \"name\": \"Europe\", \"orientation\": \"v\", \"showlegend\": true, \"type\": \"scatter\", \"x\": [1506747.5083056479, 1701996.6777408638, 6672026.57807309, 5115219.26910299, 6499568.106312293, 8399800.664451826, 5031661.1295681065, 2929534.88372093, 658897.0099667774, 3989501.6611295682, 955079.7342192691, 3677205.980066445, 49027242.52491695, 2884551.495016611, 61485714.28571428, 6609900.332225913, 7644518.272425249, 4985946.843853821, 41243853.820598006, 1612262.4584717609, 2144279.069767442, 418830.56478405313, 289006.6445182724, 10092491.69435216, 3740275.7475083056, 25580830.564784054, 6940797.342192691, 13850764.11960133, 1339318.9368770765, 28366777.408637874, 7274152.823920266, 5655249.169435216, 29788704.318936877, 49991362.12624585], \"xaxis\": \"x\", \"y\": [4473397196.2616825, 3661397196.261682, 72994392523.36449, 15951943925.233644, 24221214953.271027, 93533224299.06541, 27241588785.04673, 23101822429.906544, 4721280373.831776, 50408457943.92523, 5892345794.392524, 37821028037.38318, 508160280373.8318, 8424313084.112149, 773705607476.6355, 57893738317.75701, 61213878504.6729, 30992663551.40187, 428094392523.3645, 8986378504.672897, 16405093457.943926, 6466593457.943925, 1733710280.3738317, 127682242990.6542, 51795560747.66355, 155076635514.01868, 52750981308.41122, 101527616822.4299, 11190565420.560747, 241755607476.63553, 78409672897.19626, 89886261682.243, 127102056074.76636, 507014953271.028], \"yaxis\": \"y\"}, {\"hovertemplate\": \"<b>%{hovertext}</b><br><br>continent=South America<br>population=%{x}<br>gdp=%{y}<br>consumption=%{marker.size}<extra></extra>\", \"hovertext\": [\"Argentina\", \"Bolivia\", \"Brazil\", \"Chile\", \"Colombia\", \"Ecuador\", \"Paraguay\", \"Peru\", \"Uruguay\", \"Venezuela\"], \"legendgroup\": \"South America\", \"marker\": {\"color\": \"#EF553B\", \"size\": [148792.85714285713, 11219.642857142857, 377928.5714285714, 59689.28571428572, 76453.57142857143, 31828.571428571428, 6245.714285714285, 39514.28571428572, 8833.57142857143, 111939.28571428571], \"sizemode\": \"area\", \"sizeref\": 3090.1785714285716, \"symbol\": \"circle\"}, \"mode\": \"markers\", \"name\": \"South America\", \"orientation\": \"v\", \"showlegend\": true, \"type\": \"scatter\", \"x\": [23961644.518272426, 6653458.471760797, 96660897.00996678, 9361860.46511628, 23149734.219269104, 9064657.80730897, 3534853.8205980067, 16826578.0730897, 1978859.1362126246, 14764385.382059801], \"xaxis\": \"x\", \"y\": [108556186915.88785, 9529897196.261683, 380873457943.92523, 44242682242.990654, 67426485981.30841, 22568457943.925232, 7409869158.878505, 45853457943.92523, 11436414485.981308, 79523121495.3271], \"yaxis\": \"y\"}, {\"hovertemplate\": \"<b>%{hovertext}</b><br><br>continent=Oceania<br>population=%{x}<br>gdp=%{y}<br>consumption=%{marker.size}<extra></extra>\", \"hovertext\": [\"Australia\", \"New Zealand\"], \"legendgroup\": \"Oceania\", \"marker\": {\"color\": \"#00cc96\", \"size\": [314214.28571428574, 35889.28571428572], \"sizemode\": \"area\", \"sizeref\": 3090.1785714285716, \"symbol\": \"circle\"}, \"mode\": \"markers\", \"name\": \"Oceania\", \"orientation\": \"v\", \"showlegend\": true, \"type\": \"scatter\", \"x\": [14382495.016611295, 2597147.8405315615], \"xaxis\": \"x\", \"y\": [139749425233.64487, 26639007943.925232], \"yaxis\": \"y\"}, {\"hovertemplate\": \"<b>%{hovertext}</b><br><br>continent=Asia<br>population=%{x}<br>gdp=%{y}<br>consumption=%{marker.size}<extra></extra>\", \"hovertext\": [\"Bahrain\", \"Bangladesh\", \"Brunei\", \"Cambodia\", \"China\", \"India\", \"Indonesia\", \"Iran\", \"Israel\", \"Japan\", \"Jordan\", \"Kazakhstan\", \"Kuwait\", \"Malaysia\", \"Mongolia\", \"Nepal\", \"Oman\", \"Pakistan\", \"Philippines\", \"Qatar\", \"Saudi Arabia\", \"Singapore\", \"Sri Lanka\", \"Thailand\", \"Turkey\", \"United Arab Emirates\", \"Vietnam\"], \"legendgroup\": \"Asia\", \"marker\": {\"color\": \"#ab63fa\", \"size\": [14227.857142857143, 50546.42857142857, 4787.5, 6423.928571428572, 4944285.714285715, 1245142.857142857, 342535.71428571426, 395607.14285714284, 71664.28571428571, 1450000.0, 23878.571428571428, 139942.85714285713, 56010.71428571428, 150582.14285714287, 13814.642857142857, 6262.142857142857, 31296.428571428572, 136875.0, 94578.57142857143, 38014.28571428572, 340535.71428571426, 104921.42857142857, 17789.285714285714, 203428.57142857142, 303607.14285714284, 148121.42857142858, 96050.0], \"sizemode\": \"area\", \"sizeref\": 3090.1785714285716, \"symbol\": \"circle\"}, \"mode\": \"markers\", \"name\": \"Asia\", \"orientation\": \"v\", \"showlegend\": true, \"type\": \"scatter\", \"x\": [774467.7740863787, 82683388.70431894, 183501.42857142858, 9178106.312292358, 799392026.5780731, 746053156.1461794, 141308305.64784053, 42445847.176079735, 4919544.850498339, 74394352.15946844, 4459305.647840532, 11654617.940199336, 1884375.7475083056, 15547478.405315615, 2007073.0897009966, 15122890.365448505, 2441661.1295681065, 126611295.68106312, 54776943.52159468, 1191285.7142857143, 16030764.11960133, 2468239.534883721, 10678239.202657808, 31414584.717607975, 42908372.093023255, 3626185.0498338873, 47915282.39202658], \"xaxis\": \"x\", \"y\": [4945811682.2429905, 52229439252.33645, 4964161401.869159, 5819065420.560748, 1342476635514.0188, 642285046728.9719, 244592990654.2056, 149079205607.47662, 25439504672.897198, 1256987628865.9795, 7670957943.925234, 56017429906.54205, 38473981308.41122, 59353219626.16822, 2776686915.8878503, 10618084112.149532, 14092443925.233644, 99445794392.52336, 71441261682.243, 13028399065.42056, 170882616822.4299, 31866714485.981308, 20427934579.43925, 99326915887.85046, 179212616822.4299, 32316854205.607475, 45270607476.63551], \"yaxis\": \"y\"}, {\"hovertemplate\": \"<b>%{hovertext}</b><br><br>continent=Africa<br>population=%{x}<br>gdp=%{y}<br>consumption=%{marker.size}<extra></extra>\", \"hovertext\": [\"Benin\", \"Botswana\", \"Cameroon\", \"Egypt\", \"Ethiopia\", \"Ghana\", \"Guinea\", \"Kenya\", \"Madagascar\", \"Malawi\", \"Mauritius\", \"Morocco\", \"Mozambique\", \"Namibia\", \"Nigeria\", \"Rwanda\", \"Senegal\", \"South Africa\", \"Tanzania\", \"Togo\", \"Tunisia\", \"Uganda\", \"Zambia\", \"Zimbabwe\"], \"legendgroup\": \"Africa\", \"marker\": {\"color\": \"#FFA15A\", \"size\": [4370.321428571428, 7945.0, 6026.785714285715, 158567.85714285713, 8675.0, 12715.714285714286, 1777.857142857143, 14195.714285714286, 3001.4285714285716, 2342.1428571428573, 4521.428571428572, 48825.0, 7232.5, 4599.285714285715, 69975.0, 594.8571428571429, 6363.928571428572, 277464.28571428574, 9145.714285714286, 3411.0714285714284, 21164.285714285714, 4057.8571428571427, 5380.357142857143, 14226.785714285714], \"sizemode\": \"area\", \"sizeref\": 3090.1785714285716, \"symbol\": \"circle\"}, \"mode\": \"markers\", \"name\": \"Africa\", \"orientation\": \"v\", \"showlegend\": true, \"type\": \"scatter\", \"x\": [9632368.77076412, 1319368.7707641197, 20007508.30564784, 62770564.784053154, 79800664.45182724, 20157009.96677741, 10304405.315614618, 33474186.046511628, 21255215.946843855, 14805827.242524916, 658638.8704318937, 19423887.04318937, 26229235.880398672, 1556112.9568106313, 158514285.7142857, 8878382.059800664, 13056661.129568106, 30396245.84717608, 52331262.45847176, 6012435.215946844, 6135870.431893688, 32339966.777408637, 15554023.255813954, 9335029.900332225], \"xaxis\": \"x\", \"y\": [2667616822.4299064, 2758307009.345794, 8827943925.233644, 112391121495.3271, 12781775700.93458, 11237570093.457945, 2448602803.738318, 12879018691.588785, 6938228971.962617, 1623186915.8878505, 2431094859.813084, 31067009345.79439, 3283808411.2149534, 2780285046.728972, 109612616822.4299, 1955616822.4299066, 4617373831.775701, 95856542056.07477, 9908364485.981308, 1915976635.5140188, 14023584112.149532, 5782990654.205607, 6159088785.046729, 5326738317.7570095], \"yaxis\": \"y\"}, {\"hovertemplate\": \"<b>%{hovertext}</b><br><br>continent=North America<br>population=%{x}<br>gdp=%{y}<br>consumption=%{marker.size}<extra></extra>\", \"hovertext\": [\"Canada\", \"Costa Rica\", \"Dominican Republic\", \"El Salvador\", \"Guatemala\", \"Honduras\", \"Jamaica\", \"Mexico\", \"Nicaragua\", \"Panama\", \"Trinidad and Tobago\"], \"legendgroup\": \"North America\", \"marker\": {\"color\": \"#19d3f3\", \"size\": [556642.8571428572, 10667.5, 20591.428571428572, 7828.571428571428, 13329.642857142857, 8108.214285714285, 8605.0, 442928.5714285714, 4876.071428571428, 9147.714285714286, 19037.14285714286], \"sizemode\": \"area\", \"sizeref\": 3090.1785714285716, \"symbol\": \"circle\"}, \"mode\": \"markers\", \"name\": \"North America\", \"orientation\": \"v\", \"showlegend\": true, \"type\": \"scatter\", \"x\": [21230730.897009965, 2261397.6744186045, 5041113.953488372, 3175471.7607973423, 10071847.176079733, 5045388.704318937, 1552803.9867109635, 63321063.12292359, 3334186.0465116277, 2245558.1395348837, 694017.2757475083], \"xaxis\": \"x\", \"y\": [233063088785.04672, 6901520560.7476635, 10996307476.635513, 9234299065.42056, 15680649532.71028, 5319557009.345795, 5825046728.971963, 276849018691.5888, 5275644859.813084, 5931850467.28972, 5319582242.990654], \"yaxis\": \"y\"}],                        {\"legend\": {\"itemsizing\": \"constant\", \"title\": {\"text\": \"continent\"}, \"tracegroupgap\": 0}, \"template\": {\"data\": {\"bar\": [{\"error_x\": {\"color\": \"#2a3f5f\"}, \"error_y\": {\"color\": \"#2a3f5f\"}, \"marker\": {\"line\": {\"color\": \"#E5ECF6\", \"width\": 0.5}}, \"type\": \"bar\"}], \"barpolar\": [{\"marker\": {\"line\": {\"color\": \"#E5ECF6\", \"width\": 0.5}}, \"type\": \"barpolar\"}], \"carpet\": [{\"aaxis\": {\"endlinecolor\": \"#2a3f5f\", \"gridcolor\": \"white\", \"linecolor\": \"white\", \"minorgridcolor\": \"white\", \"startlinecolor\": \"#2a3f5f\"}, \"baxis\": {\"endlinecolor\": \"#2a3f5f\", \"gridcolor\": \"white\", \"linecolor\": \"white\", \"minorgridcolor\": \"white\", \"startlinecolor\": \"#2a3f5f\"}, \"type\": \"carpet\"}], \"choropleth\": [{\"colorbar\": {\"outlinewidth\": 0, \"ticks\": \"\"}, \"type\": \"choropleth\"}], \"contour\": [{\"colorbar\": {\"outlinewidth\": 0, \"ticks\": \"\"}, \"colorscale\": [[0.0, \"#0d0887\"], [0.1111111111111111, \"#46039f\"], [0.2222222222222222, \"#7201a8\"], [0.3333333333333333, \"#9c179e\"], [0.4444444444444444, \"#bd3786\"], [0.5555555555555556, \"#d8576b\"], [0.6666666666666666, \"#ed7953\"], [0.7777777777777778, \"#fb9f3a\"], [0.8888888888888888, \"#fdca26\"], [1.0, \"#f0f921\"]], \"type\": \"contour\"}], \"contourcarpet\": [{\"colorbar\": {\"outlinewidth\": 0, \"ticks\": \"\"}, \"type\": \"contourcarpet\"}], \"heatmap\": [{\"colorbar\": {\"outlinewidth\": 0, \"ticks\": \"\"}, \"colorscale\": [[0.0, \"#0d0887\"], [0.1111111111111111, \"#46039f\"], [0.2222222222222222, \"#7201a8\"], [0.3333333333333333, \"#9c179e\"], [0.4444444444444444, \"#bd3786\"], [0.5555555555555556, \"#d8576b\"], [0.6666666666666666, \"#ed7953\"], [0.7777777777777778, \"#fb9f3a\"], [0.8888888888888888, \"#fdca26\"], [1.0, \"#f0f921\"]], \"type\": \"heatmap\"}], \"heatmapgl\": [{\"colorbar\": {\"outlinewidth\": 0, \"ticks\": \"\"}, \"colorscale\": [[0.0, \"#0d0887\"], [0.1111111111111111, \"#46039f\"], [0.2222222222222222, \"#7201a8\"], [0.3333333333333333, \"#9c179e\"], [0.4444444444444444, \"#bd3786\"], [0.5555555555555556, \"#d8576b\"], [0.6666666666666666, \"#ed7953\"], [0.7777777777777778, \"#fb9f3a\"], [0.8888888888888888, \"#fdca26\"], [1.0, \"#f0f921\"]], \"type\": \"heatmapgl\"}], \"histogram\": [{\"marker\": {\"colorbar\": {\"outlinewidth\": 0, \"ticks\": \"\"}}, \"type\": \"histogram\"}], \"histogram2d\": [{\"colorbar\": {\"outlinewidth\": 0, \"ticks\": \"\"}, \"colorscale\": [[0.0, \"#0d0887\"], [0.1111111111111111, \"#46039f\"], [0.2222222222222222, \"#7201a8\"], [0.3333333333333333, \"#9c179e\"], [0.4444444444444444, \"#bd3786\"], [0.5555555555555556, \"#d8576b\"], [0.6666666666666666, \"#ed7953\"], [0.7777777777777778, \"#fb9f3a\"], [0.8888888888888888, \"#fdca26\"], [1.0, \"#f0f921\"]], \"type\": \"histogram2d\"}], \"histogram2dcontour\": [{\"colorbar\": {\"outlinewidth\": 0, \"ticks\": \"\"}, \"colorscale\": [[0.0, \"#0d0887\"], [0.1111111111111111, \"#46039f\"], [0.2222222222222222, \"#7201a8\"], [0.3333333333333333, \"#9c179e\"], [0.4444444444444444, \"#bd3786\"], [0.5555555555555556, \"#d8576b\"], [0.6666666666666666, \"#ed7953\"], [0.7777777777777778, \"#fb9f3a\"], [0.8888888888888888, \"#fdca26\"], [1.0, \"#f0f921\"]], \"type\": \"histogram2dcontour\"}], \"mesh3d\": [{\"colorbar\": {\"outlinewidth\": 0, \"ticks\": \"\"}, \"type\": \"mesh3d\"}], \"parcoords\": [{\"line\": {\"colorbar\": {\"outlinewidth\": 0, \"ticks\": \"\"}}, \"type\": \"parcoords\"}], \"pie\": [{\"automargin\": true, \"type\": \"pie\"}], \"scatter\": [{\"marker\": {\"colorbar\": {\"outlinewidth\": 0, \"ticks\": \"\"}}, \"type\": \"scatter\"}], \"scatter3d\": [{\"line\": {\"colorbar\": {\"outlinewidth\": 0, \"ticks\": \"\"}}, \"marker\": {\"colorbar\": {\"outlinewidth\": 0, \"ticks\": \"\"}}, \"type\": \"scatter3d\"}], \"scattercarpet\": [{\"marker\": {\"colorbar\": {\"outlinewidth\": 0, \"ticks\": \"\"}}, \"type\": \"scattercarpet\"}], \"scattergeo\": [{\"marker\": {\"colorbar\": {\"outlinewidth\": 0, \"ticks\": \"\"}}, \"type\": \"scattergeo\"}], \"scattergl\": [{\"marker\": {\"colorbar\": {\"outlinewidth\": 0, \"ticks\": \"\"}}, \"type\": \"scattergl\"}], \"scattermapbox\": [{\"marker\": {\"colorbar\": {\"outlinewidth\": 0, \"ticks\": \"\"}}, \"type\": \"scattermapbox\"}], \"scatterpolar\": [{\"marker\": {\"colorbar\": {\"outlinewidth\": 0, \"ticks\": \"\"}}, \"type\": \"scatterpolar\"}], \"scatterpolargl\": [{\"marker\": {\"colorbar\": {\"outlinewidth\": 0, \"ticks\": \"\"}}, \"type\": \"scatterpolargl\"}], \"scatterternary\": [{\"marker\": {\"colorbar\": {\"outlinewidth\": 0, \"ticks\": \"\"}}, \"type\": \"scatterternary\"}], \"surface\": [{\"colorbar\": {\"outlinewidth\": 0, \"ticks\": \"\"}, \"colorscale\": [[0.0, \"#0d0887\"], [0.1111111111111111, \"#46039f\"], [0.2222222222222222, \"#7201a8\"], [0.3333333333333333, \"#9c179e\"], [0.4444444444444444, \"#bd3786\"], [0.5555555555555556, \"#d8576b\"], [0.6666666666666666, \"#ed7953\"], [0.7777777777777778, \"#fb9f3a\"], [0.8888888888888888, \"#fdca26\"], [1.0, \"#f0f921\"]], \"type\": \"surface\"}], \"table\": [{\"cells\": {\"fill\": {\"color\": \"#EBF0F8\"}, \"line\": {\"color\": \"white\"}}, \"header\": {\"fill\": {\"color\": \"#C8D4E3\"}, \"line\": {\"color\": \"white\"}}, \"type\": \"table\"}]}, \"layout\": {\"annotationdefaults\": {\"arrowcolor\": \"#2a3f5f\", \"arrowhead\": 0, \"arrowwidth\": 1}, \"autotypenumbers\": \"strict\", \"coloraxis\": {\"colorbar\": {\"outlinewidth\": 0, \"ticks\": \"\"}}, \"colorscale\": {\"diverging\": [[0, \"#8e0152\"], [0.1, \"#c51b7d\"], [0.2, \"#de77ae\"], [0.3, \"#f1b6da\"], [0.4, \"#fde0ef\"], [0.5, \"#f7f7f7\"], [0.6, \"#e6f5d0\"], [0.7, \"#b8e186\"], [0.8, \"#7fbc41\"], [0.9, \"#4d9221\"], [1, \"#276419\"]], \"sequential\": [[0.0, \"#0d0887\"], [0.1111111111111111, \"#46039f\"], [0.2222222222222222, \"#7201a8\"], [0.3333333333333333, \"#9c179e\"], [0.4444444444444444, \"#bd3786\"], [0.5555555555555556, \"#d8576b\"], [0.6666666666666666, \"#ed7953\"], [0.7777777777777778, \"#fb9f3a\"], [0.8888888888888888, \"#fdca26\"], [1.0, \"#f0f921\"]], \"sequentialminus\": [[0.0, \"#0d0887\"], [0.1111111111111111, \"#46039f\"], [0.2222222222222222, \"#7201a8\"], [0.3333333333333333, \"#9c179e\"], [0.4444444444444444, \"#bd3786\"], [0.5555555555555556, \"#d8576b\"], [0.6666666666666666, \"#ed7953\"], [0.7777777777777778, \"#fb9f3a\"], [0.8888888888888888, \"#fdca26\"], [1.0, \"#f0f921\"]]}, \"colorway\": [\"#636efa\", \"#EF553B\", \"#00cc96\", \"#ab63fa\", \"#FFA15A\", \"#19d3f3\", \"#FF6692\", \"#B6E880\", \"#FF97FF\", \"#FECB52\"], \"font\": {\"color\": \"#2a3f5f\"}, \"geo\": {\"bgcolor\": \"white\", \"lakecolor\": \"white\", \"landcolor\": \"#E5ECF6\", \"showlakes\": true, \"showland\": true, \"subunitcolor\": \"white\"}, \"hoverlabel\": {\"align\": \"left\"}, \"hovermode\": \"closest\", \"mapbox\": {\"style\": \"light\"}, \"paper_bgcolor\": \"white\", \"plot_bgcolor\": \"#E5ECF6\", \"polar\": {\"angularaxis\": {\"gridcolor\": \"white\", \"linecolor\": \"white\", \"ticks\": \"\"}, \"bgcolor\": \"#E5ECF6\", \"radialaxis\": {\"gridcolor\": \"white\", \"linecolor\": \"white\", \"ticks\": \"\"}}, \"scene\": {\"xaxis\": {\"backgroundcolor\": \"#E5ECF6\", \"gridcolor\": \"white\", \"gridwidth\": 2, \"linecolor\": \"white\", \"showbackground\": true, \"ticks\": \"\", \"zerolinecolor\": \"white\"}, \"yaxis\": {\"backgroundcolor\": \"#E5ECF6\", \"gridcolor\": \"white\", \"gridwidth\": 2, \"linecolor\": \"white\", \"showbackground\": true, \"ticks\": \"\", \"zerolinecolor\": \"white\"}, \"zaxis\": {\"backgroundcolor\": \"#E5ECF6\", \"gridcolor\": \"white\", \"gridwidth\": 2, \"linecolor\": \"white\", \"showbackground\": true, \"ticks\": \"\", \"zerolinecolor\": \"white\"}}, \"shapedefaults\": {\"line\": {\"color\": \"#2a3f5f\"}}, \"ternary\": {\"aaxis\": {\"gridcolor\": \"white\", \"linecolor\": \"white\", \"ticks\": \"\"}, \"baxis\": {\"gridcolor\": \"white\", \"linecolor\": \"white\", \"ticks\": \"\"}, \"bgcolor\": \"#E5ECF6\", \"caxis\": {\"gridcolor\": \"white\", \"linecolor\": \"white\", \"ticks\": \"\"}}, \"title\": {\"x\": 0.05}, \"xaxis\": {\"automargin\": true, \"gridcolor\": \"white\", \"linecolor\": \"white\", \"ticks\": \"\", \"title\": {\"standoff\": 15}, \"zerolinecolor\": \"white\", \"zerolinewidth\": 2}, \"yaxis\": {\"automargin\": true, \"gridcolor\": \"white\", \"linecolor\": \"white\", \"ticks\": \"\", \"title\": {\"standoff\": 15}, \"zerolinecolor\": \"white\", \"zerolinewidth\": 2}}}, \"title\": {\"text\": \"Total CO2 consumption v. GDP and population is size of bubble\"}, \"xaxis\": {\"anchor\": \"y\", \"domain\": [0.0, 1.0], \"title\": {\"text\": \"population\"}, \"type\": \"log\"}, \"yaxis\": {\"anchor\": \"x\", \"domain\": [0.0, 1.0], \"title\": {\"text\": \"gdp\"}, \"type\": \"log\"}},                        {\"responsive\": true}                    ).then(function(){\n",
       "                            \n",
       "var gd = document.getElementById('57537293-8367-4c7f-84b0-9f6799d10a4a');\n",
       "var x = new MutationObserver(function (mutations, observer) {{\n",
       "        var display = window.getComputedStyle(gd).display;\n",
       "        if (!display || display === 'none') {{\n",
       "            console.log([gd, 'removed!']);\n",
       "            Plotly.purge(gd);\n",
       "            observer.disconnect();\n",
       "        }}\n",
       "}});\n",
       "\n",
       "// Listen for the removal of the full notebook cells\n",
       "var notebookContainer = gd.closest('#notebook-container');\n",
       "if (notebookContainer) {{\n",
       "    x.observe(notebookContainer, {childList: true});\n",
       "}}\n",
       "\n",
       "// Listen for the clearing of the current output cell\n",
       "var outputEl = gd.closest('.output');\n",
       "if (outputEl) {{\n",
       "    x.observe(outputEl, {childList: true});\n",
       "}}\n",
       "\n",
       "                        })                };                });            </script>        </div>"
      ]
     },
     "metadata": {},
     "output_type": "display_data"
    }
   ],
   "source": [
    "fig = px.scatter(\n",
    "    plot_means,\n",
    "    x=\"population\",\n",
    "    y=\"gdp\", \n",
    "    size=\"consumption\", #np.sqrt(plot_means[\"gdp\"]), \n",
    "    size_max = 40,\n",
    "    color=\"continent\", \n",
    "    hover_name=\"country\", \n",
    "    log_y=True, \n",
    "    log_x=True,\n",
    "title=\"Total CO2 consumption v. GDP and population is size of bubble\")\n",
    "fig.show()"
   ]
  },
  {
   "cell_type": "markdown",
   "metadata": {},
   "source": [
    "### Figure 2: Total CO2 consumption on the virtical axis, with population represented by the size of the bubble "
   ]
  },
  {
   "cell_type": "code",
   "execution_count": 108,
   "metadata": {},
   "outputs": [
    {
     "data": {
      "application/vnd.plotly.v1+json": {
       "config": {
        "plotlyServerURL": "https://plot.ly"
       },
       "data": [
        {
         "hovertemplate": "<b>%{hovertext}</b><br><br>psgr=%{x}<br>co2=%{y}<br>population=%{marker.size}<br>dprt=%{marker.color}<extra></extra>",
         "hovertext": [
          "Argentina",
          "Bahrain",
          "Bangladesh",
          "Bolivia",
          "Brazil",
          "Brunei",
          "Cambodia",
          "Canada",
          "Chile",
          "China",
          "Colombia",
          "Costa Rica",
          "Dominican Republic",
          "Ecuador",
          "El Salvador",
          "Guatemala",
          "Honduras",
          "India",
          "Indonesia",
          "Iran",
          "Israel",
          "Jamaica",
          "Japan",
          "Jordan",
          "Kazakhstan",
          "Kuwait",
          "Malaysia",
          "Mexico",
          "Mongolia",
          "Nepal",
          "Oman",
          "Pakistan",
          "Panama",
          "Paraguay",
          "Peru",
          "Philippines",
          "Qatar",
          "Saudi Arabia",
          "Singapore",
          "Sri Lanka",
          "Thailand",
          "Trinidad and Tobago",
          "Turkey",
          "United Arab Emirates",
          "Venezuela",
          "Vietnam"
         ],
         "legendgroup": "",
         "marker": {
          "color": [
           92800,
           62500,
           19300,
           37000,
           842000,
           12300,
           5100,
           1230000,
           109000,
           2380000,
           226000,
           41600,
           1550,
           60800,
           21000,
           8880,
           21600,
           623000,
           521000,
           158000,
           47800,
           0,
           934000,
           39300,
           33500,
           41800,
           302000,
           446000,
           6530,
           46000,
           32900,
           64900,
           73300,
           6460,
           84400,
           205000,
           90800,
           178000,
           132000,
           20900,
           201000,
           28900,
           369000,
           241000,
           84100,
           109000
          ],
          "coloraxis": "coloraxis",
          "size": [
           40900000,
           1240000,
           148000000,
           10000000,
           196000000,
           389000,
           14300000,
           34100000,
           17100000,
           1370000000,
           45200000,
           4580000,
           9700000,
           15000000,
           6180000,
           14600000,
           8320000,
           1230000000,
           242000000,
           73800000,
           7350000,
           2810000,
           129000000,
           7260000,
           16300000,
           2990000,
           28200000,
           114000000,
           2720000,
           27000000,
           3040000,
           179000000,
           3640000,
           6250000,
           29000000,
           94000000,
           1860000,
           27400000,
           5130000,
           20300000,
           67200000,
           1330000,
           72300000,
           8550000,
           28400000,
           88000000
          ],
          "sizemode": "area",
          "sizeref": 548000,
          "symbol": "circle"
         },
         "mode": "markers",
         "name": "",
         "orientation": "v",
         "showlegend": false,
         "type": "scatter",
         "x": [
          9030000,
          6030000,
          1820000,
          1780000,
          74600000,
          1260000,
          278000,
          63300000,
          9270000,
          266000000,
          16900000,
          1700000,
          19200,
          4820000,
          1820000,
          314000,
          502000,
          64400000,
          59400000,
          18800000,
          5080000,
          0,
          110000000,
          3080000,
          3100000,
          4560000,
          34200000,
          31300000,
          391000,
          918000,
          3260000,
          6590000,
          5520000,
          715000,
          7110000,
          22600000,
          12400000,
          20300000,
          24900000,
          3010000,
          28800000,
          1840000,
          45700000,
          44900000,
          6430000,
          14400000
         ],
         "xaxis": "x",
         "y": [
          4.57,
          23.5,
          0.366,
          1.49,
          2.1,
          20.8,
          0.35200000000000004,
          16.3,
          4.18,
          6.22,
          1.69,
          1.62,
          2.12,
          2.39,
          1.02,
          0.759,
          0.9540000000000001,
          1.38,
          1.77,
          7.65,
          9.3,
          2.54,
          9.46,
          2.84,
          14.5,
          29.9,
          7.68,
          4.07,
          5.09,
          0.18100000000000002,
          15.4,
          0.925,
          2.49,
          0.804,
          1.97,
          0.883,
          38.8,
          18.9,
          11.4,
          0.645,
          3.82,
          36,
          4.35,
          18.3,
          6.67,
          1.55
         ],
         "yaxis": "y"
        }
       ],
       "layout": {
        "coloraxis": {
         "colorbar": {
          "title": {
           "text": "dprt"
          }
         },
         "colorscale": [
          [
           0,
           "#0d0887"
          ],
          [
           0.1111111111111111,
           "#46039f"
          ],
          [
           0.2222222222222222,
           "#7201a8"
          ],
          [
           0.3333333333333333,
           "#9c179e"
          ],
          [
           0.4444444444444444,
           "#bd3786"
          ],
          [
           0.5555555555555556,
           "#d8576b"
          ],
          [
           0.6666666666666666,
           "#ed7953"
          ],
          [
           0.7777777777777778,
           "#fb9f3a"
          ],
          [
           0.8888888888888888,
           "#fdca26"
          ],
          [
           1,
           "#f0f921"
          ]
         ]
        },
        "legend": {
         "itemsizing": "constant",
         "tracegroupgap": 0
        },
        "template": {
         "data": {
          "bar": [
           {
            "error_x": {
             "color": "#2a3f5f"
            },
            "error_y": {
             "color": "#2a3f5f"
            },
            "marker": {
             "line": {
              "color": "#E5ECF6",
              "width": 0.5
             }
            },
            "type": "bar"
           }
          ],
          "barpolar": [
           {
            "marker": {
             "line": {
              "color": "#E5ECF6",
              "width": 0.5
             }
            },
            "type": "barpolar"
           }
          ],
          "carpet": [
           {
            "aaxis": {
             "endlinecolor": "#2a3f5f",
             "gridcolor": "white",
             "linecolor": "white",
             "minorgridcolor": "white",
             "startlinecolor": "#2a3f5f"
            },
            "baxis": {
             "endlinecolor": "#2a3f5f",
             "gridcolor": "white",
             "linecolor": "white",
             "minorgridcolor": "white",
             "startlinecolor": "#2a3f5f"
            },
            "type": "carpet"
           }
          ],
          "choropleth": [
           {
            "colorbar": {
             "outlinewidth": 0,
             "ticks": ""
            },
            "type": "choropleth"
           }
          ],
          "contour": [
           {
            "colorbar": {
             "outlinewidth": 0,
             "ticks": ""
            },
            "colorscale": [
             [
              0,
              "#0d0887"
             ],
             [
              0.1111111111111111,
              "#46039f"
             ],
             [
              0.2222222222222222,
              "#7201a8"
             ],
             [
              0.3333333333333333,
              "#9c179e"
             ],
             [
              0.4444444444444444,
              "#bd3786"
             ],
             [
              0.5555555555555556,
              "#d8576b"
             ],
             [
              0.6666666666666666,
              "#ed7953"
             ],
             [
              0.7777777777777778,
              "#fb9f3a"
             ],
             [
              0.8888888888888888,
              "#fdca26"
             ],
             [
              1,
              "#f0f921"
             ]
            ],
            "type": "contour"
           }
          ],
          "contourcarpet": [
           {
            "colorbar": {
             "outlinewidth": 0,
             "ticks": ""
            },
            "type": "contourcarpet"
           }
          ],
          "heatmap": [
           {
            "colorbar": {
             "outlinewidth": 0,
             "ticks": ""
            },
            "colorscale": [
             [
              0,
              "#0d0887"
             ],
             [
              0.1111111111111111,
              "#46039f"
             ],
             [
              0.2222222222222222,
              "#7201a8"
             ],
             [
              0.3333333333333333,
              "#9c179e"
             ],
             [
              0.4444444444444444,
              "#bd3786"
             ],
             [
              0.5555555555555556,
              "#d8576b"
             ],
             [
              0.6666666666666666,
              "#ed7953"
             ],
             [
              0.7777777777777778,
              "#fb9f3a"
             ],
             [
              0.8888888888888888,
              "#fdca26"
             ],
             [
              1,
              "#f0f921"
             ]
            ],
            "type": "heatmap"
           }
          ],
          "heatmapgl": [
           {
            "colorbar": {
             "outlinewidth": 0,
             "ticks": ""
            },
            "colorscale": [
             [
              0,
              "#0d0887"
             ],
             [
              0.1111111111111111,
              "#46039f"
             ],
             [
              0.2222222222222222,
              "#7201a8"
             ],
             [
              0.3333333333333333,
              "#9c179e"
             ],
             [
              0.4444444444444444,
              "#bd3786"
             ],
             [
              0.5555555555555556,
              "#d8576b"
             ],
             [
              0.6666666666666666,
              "#ed7953"
             ],
             [
              0.7777777777777778,
              "#fb9f3a"
             ],
             [
              0.8888888888888888,
              "#fdca26"
             ],
             [
              1,
              "#f0f921"
             ]
            ],
            "type": "heatmapgl"
           }
          ],
          "histogram": [
           {
            "marker": {
             "colorbar": {
              "outlinewidth": 0,
              "ticks": ""
             }
            },
            "type": "histogram"
           }
          ],
          "histogram2d": [
           {
            "colorbar": {
             "outlinewidth": 0,
             "ticks": ""
            },
            "colorscale": [
             [
              0,
              "#0d0887"
             ],
             [
              0.1111111111111111,
              "#46039f"
             ],
             [
              0.2222222222222222,
              "#7201a8"
             ],
             [
              0.3333333333333333,
              "#9c179e"
             ],
             [
              0.4444444444444444,
              "#bd3786"
             ],
             [
              0.5555555555555556,
              "#d8576b"
             ],
             [
              0.6666666666666666,
              "#ed7953"
             ],
             [
              0.7777777777777778,
              "#fb9f3a"
             ],
             [
              0.8888888888888888,
              "#fdca26"
             ],
             [
              1,
              "#f0f921"
             ]
            ],
            "type": "histogram2d"
           }
          ],
          "histogram2dcontour": [
           {
            "colorbar": {
             "outlinewidth": 0,
             "ticks": ""
            },
            "colorscale": [
             [
              0,
              "#0d0887"
             ],
             [
              0.1111111111111111,
              "#46039f"
             ],
             [
              0.2222222222222222,
              "#7201a8"
             ],
             [
              0.3333333333333333,
              "#9c179e"
             ],
             [
              0.4444444444444444,
              "#bd3786"
             ],
             [
              0.5555555555555556,
              "#d8576b"
             ],
             [
              0.6666666666666666,
              "#ed7953"
             ],
             [
              0.7777777777777778,
              "#fb9f3a"
             ],
             [
              0.8888888888888888,
              "#fdca26"
             ],
             [
              1,
              "#f0f921"
             ]
            ],
            "type": "histogram2dcontour"
           }
          ],
          "mesh3d": [
           {
            "colorbar": {
             "outlinewidth": 0,
             "ticks": ""
            },
            "type": "mesh3d"
           }
          ],
          "parcoords": [
           {
            "line": {
             "colorbar": {
              "outlinewidth": 0,
              "ticks": ""
             }
            },
            "type": "parcoords"
           }
          ],
          "pie": [
           {
            "automargin": true,
            "type": "pie"
           }
          ],
          "scatter": [
           {
            "marker": {
             "colorbar": {
              "outlinewidth": 0,
              "ticks": ""
             }
            },
            "type": "scatter"
           }
          ],
          "scatter3d": [
           {
            "line": {
             "colorbar": {
              "outlinewidth": 0,
              "ticks": ""
             }
            },
            "marker": {
             "colorbar": {
              "outlinewidth": 0,
              "ticks": ""
             }
            },
            "type": "scatter3d"
           }
          ],
          "scattercarpet": [
           {
            "marker": {
             "colorbar": {
              "outlinewidth": 0,
              "ticks": ""
             }
            },
            "type": "scattercarpet"
           }
          ],
          "scattergeo": [
           {
            "marker": {
             "colorbar": {
              "outlinewidth": 0,
              "ticks": ""
             }
            },
            "type": "scattergeo"
           }
          ],
          "scattergl": [
           {
            "marker": {
             "colorbar": {
              "outlinewidth": 0,
              "ticks": ""
             }
            },
            "type": "scattergl"
           }
          ],
          "scattermapbox": [
           {
            "marker": {
             "colorbar": {
              "outlinewidth": 0,
              "ticks": ""
             }
            },
            "type": "scattermapbox"
           }
          ],
          "scatterpolar": [
           {
            "marker": {
             "colorbar": {
              "outlinewidth": 0,
              "ticks": ""
             }
            },
            "type": "scatterpolar"
           }
          ],
          "scatterpolargl": [
           {
            "marker": {
             "colorbar": {
              "outlinewidth": 0,
              "ticks": ""
             }
            },
            "type": "scatterpolargl"
           }
          ],
          "scatterternary": [
           {
            "marker": {
             "colorbar": {
              "outlinewidth": 0,
              "ticks": ""
             }
            },
            "type": "scatterternary"
           }
          ],
          "surface": [
           {
            "colorbar": {
             "outlinewidth": 0,
             "ticks": ""
            },
            "colorscale": [
             [
              0,
              "#0d0887"
             ],
             [
              0.1111111111111111,
              "#46039f"
             ],
             [
              0.2222222222222222,
              "#7201a8"
             ],
             [
              0.3333333333333333,
              "#9c179e"
             ],
             [
              0.4444444444444444,
              "#bd3786"
             ],
             [
              0.5555555555555556,
              "#d8576b"
             ],
             [
              0.6666666666666666,
              "#ed7953"
             ],
             [
              0.7777777777777778,
              "#fb9f3a"
             ],
             [
              0.8888888888888888,
              "#fdca26"
             ],
             [
              1,
              "#f0f921"
             ]
            ],
            "type": "surface"
           }
          ],
          "table": [
           {
            "cells": {
             "fill": {
              "color": "#EBF0F8"
             },
             "line": {
              "color": "white"
             }
            },
            "header": {
             "fill": {
              "color": "#C8D4E3"
             },
             "line": {
              "color": "white"
             }
            },
            "type": "table"
           }
          ]
         },
         "layout": {
          "annotationdefaults": {
           "arrowcolor": "#2a3f5f",
           "arrowhead": 0,
           "arrowwidth": 1
          },
          "autotypenumbers": "strict",
          "coloraxis": {
           "colorbar": {
            "outlinewidth": 0,
            "ticks": ""
           }
          },
          "colorscale": {
           "diverging": [
            [
             0,
             "#8e0152"
            ],
            [
             0.1,
             "#c51b7d"
            ],
            [
             0.2,
             "#de77ae"
            ],
            [
             0.3,
             "#f1b6da"
            ],
            [
             0.4,
             "#fde0ef"
            ],
            [
             0.5,
             "#f7f7f7"
            ],
            [
             0.6,
             "#e6f5d0"
            ],
            [
             0.7,
             "#b8e186"
            ],
            [
             0.8,
             "#7fbc41"
            ],
            [
             0.9,
             "#4d9221"
            ],
            [
             1,
             "#276419"
            ]
           ],
           "sequential": [
            [
             0,
             "#0d0887"
            ],
            [
             0.1111111111111111,
             "#46039f"
            ],
            [
             0.2222222222222222,
             "#7201a8"
            ],
            [
             0.3333333333333333,
             "#9c179e"
            ],
            [
             0.4444444444444444,
             "#bd3786"
            ],
            [
             0.5555555555555556,
             "#d8576b"
            ],
            [
             0.6666666666666666,
             "#ed7953"
            ],
            [
             0.7777777777777778,
             "#fb9f3a"
            ],
            [
             0.8888888888888888,
             "#fdca26"
            ],
            [
             1,
             "#f0f921"
            ]
           ],
           "sequentialminus": [
            [
             0,
             "#0d0887"
            ],
            [
             0.1111111111111111,
             "#46039f"
            ],
            [
             0.2222222222222222,
             "#7201a8"
            ],
            [
             0.3333333333333333,
             "#9c179e"
            ],
            [
             0.4444444444444444,
             "#bd3786"
            ],
            [
             0.5555555555555556,
             "#d8576b"
            ],
            [
             0.6666666666666666,
             "#ed7953"
            ],
            [
             0.7777777777777778,
             "#fb9f3a"
            ],
            [
             0.8888888888888888,
             "#fdca26"
            ],
            [
             1,
             "#f0f921"
            ]
           ]
          },
          "colorway": [
           "#636efa",
           "#EF553B",
           "#00cc96",
           "#ab63fa",
           "#FFA15A",
           "#19d3f3",
           "#FF6692",
           "#B6E880",
           "#FF97FF",
           "#FECB52"
          ],
          "font": {
           "color": "#2a3f5f"
          },
          "geo": {
           "bgcolor": "white",
           "lakecolor": "white",
           "landcolor": "#E5ECF6",
           "showlakes": true,
           "showland": true,
           "subunitcolor": "white"
          },
          "hoverlabel": {
           "align": "left"
          },
          "hovermode": "closest",
          "mapbox": {
           "style": "light"
          },
          "paper_bgcolor": "white",
          "plot_bgcolor": "#E5ECF6",
          "polar": {
           "angularaxis": {
            "gridcolor": "white",
            "linecolor": "white",
            "ticks": ""
           },
           "bgcolor": "#E5ECF6",
           "radialaxis": {
            "gridcolor": "white",
            "linecolor": "white",
            "ticks": ""
           }
          },
          "scene": {
           "xaxis": {
            "backgroundcolor": "#E5ECF6",
            "gridcolor": "white",
            "gridwidth": 2,
            "linecolor": "white",
            "showbackground": true,
            "ticks": "",
            "zerolinecolor": "white"
           },
           "yaxis": {
            "backgroundcolor": "#E5ECF6",
            "gridcolor": "white",
            "gridwidth": 2,
            "linecolor": "white",
            "showbackground": true,
            "ticks": "",
            "zerolinecolor": "white"
           },
           "zaxis": {
            "backgroundcolor": "#E5ECF6",
            "gridcolor": "white",
            "gridwidth": 2,
            "linecolor": "white",
            "showbackground": true,
            "ticks": "",
            "zerolinecolor": "white"
           }
          },
          "shapedefaults": {
           "line": {
            "color": "#2a3f5f"
           }
          },
          "ternary": {
           "aaxis": {
            "gridcolor": "white",
            "linecolor": "white",
            "ticks": ""
           },
           "baxis": {
            "gridcolor": "white",
            "linecolor": "white",
            "ticks": ""
           },
           "bgcolor": "#E5ECF6",
           "caxis": {
            "gridcolor": "white",
            "linecolor": "white",
            "ticks": ""
           }
          },
          "title": {
           "x": 0.05
          },
          "xaxis": {
           "automargin": true,
           "gridcolor": "white",
           "linecolor": "white",
           "ticks": "",
           "title": {
            "standoff": 15
           },
           "zerolinecolor": "white",
           "zerolinewidth": 2
          },
          "yaxis": {
           "automargin": true,
           "gridcolor": "white",
           "linecolor": "white",
           "ticks": "",
           "title": {
            "standoff": 15
           },
           "zerolinecolor": "white",
           "zerolinewidth": 2
          }
         }
        },
        "title": {
         "text": "Titel"
        },
        "xaxis": {
         "anchor": "y",
         "domain": [
          0,
          1
         ],
         "title": {
          "text": "psgr"
         },
         "type": "log"
        },
        "yaxis": {
         "anchor": "x",
         "domain": [
          0,
          1
         ],
         "title": {
          "text": "co2"
         }
        }
       }
      },
      "text/html": [
       "<div>                            <div id=\"90729d4e-1006-40ea-9f5d-67e628b5eff5\" class=\"plotly-graph-div\" style=\"height:525px; width:100%;\"></div>            <script type=\"text/javascript\">                require([\"plotly\"], function(Plotly) {                    window.PLOTLYENV=window.PLOTLYENV || {};                                    if (document.getElementById(\"90729d4e-1006-40ea-9f5d-67e628b5eff5\")) {                    Plotly.newPlot(                        \"90729d4e-1006-40ea-9f5d-67e628b5eff5\",                        [{\"hovertemplate\": \"<b>%{hovertext}</b><br><br>psgr=%{x}<br>co2=%{y}<br>population=%{marker.size}<br>dprt=%{marker.color}<extra></extra>\", \"hovertext\": [\"Argentina\", \"Bahrain\", \"Bangladesh\", \"Bolivia\", \"Brazil\", \"Brunei\", \"Cambodia\", \"Canada\", \"Chile\", \"China\", \"Colombia\", \"Costa Rica\", \"Dominican Republic\", \"Ecuador\", \"El Salvador\", \"Guatemala\", \"Honduras\", \"India\", \"Indonesia\", \"Iran\", \"Israel\", \"Jamaica\", \"Japan\", \"Jordan\", \"Kazakhstan\", \"Kuwait\", \"Malaysia\", \"Mexico\", \"Mongolia\", \"Nepal\", \"Oman\", \"Pakistan\", \"Panama\", \"Paraguay\", \"Peru\", \"Philippines\", \"Qatar\", \"Saudi Arabia\", \"Singapore\", \"Sri Lanka\", \"Thailand\", \"Trinidad and Tobago\", \"Turkey\", \"United Arab Emirates\", \"Venezuela\", \"Vietnam\"], \"legendgroup\": \"\", \"marker\": {\"color\": [92800.0, 62500.0, 19300.0, 37000.0, 842000.0, 12300.0, 5100.0, 1230000.0, 109000.0, 2380000.0, 226000.0, 41600.0, 1550.0, 60800.0, 21000.0, 8880.0, 21600.0, 623000.0, 521000.0, 158000.0, 47800.0, 0.0, 934000.0, 39300.0, 33500.0, 41800.0, 302000.0, 446000.0, 6530.0, 46000.0, 32900.0, 64900.0, 73300.0, 6460.0, 84400.0, 205000.0, 90800.0, 178000.0, 132000.0, 20900.0, 201000.0, 28900.0, 369000.0, 241000.0, 84100.0, 109000.0], \"coloraxis\": \"coloraxis\", \"size\": [40900000, 1240000, 148000000, 10000000, 196000000, 389000, 14300000, 34100000, 17100000, 1370000000, 45200000, 4580000, 9700000, 15000000, 6180000, 14600000, 8320000, 1230000000, 242000000, 73800000, 7350000, 2810000, 129000000, 7260000, 16300000, 2990000, 28200000, 114000000, 2720000, 27000000, 3040000, 179000000, 3640000, 6250000, 29000000, 94000000, 1860000, 27400000, 5130000, 20300000, 67200000, 1330000, 72300000, 8550000, 28400000, 88000000], \"sizemode\": \"area\", \"sizeref\": 548000.0, \"symbol\": \"circle\"}, \"mode\": \"markers\", \"name\": \"\", \"orientation\": \"v\", \"showlegend\": false, \"type\": \"scatter\", \"x\": [9030000.0, 6030000.0, 1820000.0, 1780000.0, 74600000.0, 1260000.0, 278000.0, 63300000.0, 9270000.0, 266000000.0, 16900000.0, 1700000.0, 19200.0, 4820000.0, 1820000.0, 314000.0, 502000.0, 64400000.0, 59400000.0, 18800000.0, 5080000.0, 0.0, 110000000.0, 3080000.0, 3100000.0, 4560000.0, 34200000.0, 31300000.0, 391000.0, 918000.0, 3260000.0, 6590000.0, 5520000.0, 715000.0, 7110000.0, 22600000.0, 12400000.0, 20300000.0, 24900000.0, 3010000.0, 28800000.0, 1840000.0, 45700000.0, 44900000.0, 6430000.0, 14400000.0], \"xaxis\": \"x\", \"y\": [4.57, 23.5, 0.366, 1.49, 2.1, 20.8, 0.35200000000000004, 16.3, 4.18, 6.22, 1.69, 1.62, 2.12, 2.39, 1.02, 0.759, 0.9540000000000001, 1.38, 1.77, 7.65, 9.3, 2.54, 9.46, 2.84, 14.5, 29.9, 7.68, 4.07, 5.09, 0.18100000000000002, 15.4, 0.925, 2.49, 0.804, 1.97, 0.883, 38.8, 18.9, 11.4, 0.645, 3.82, 36.0, 4.35, 18.3, 6.67, 1.55], \"yaxis\": \"y\"}],                        {\"coloraxis\": {\"colorbar\": {\"title\": {\"text\": \"dprt\"}}, \"colorscale\": [[0.0, \"#0d0887\"], [0.1111111111111111, \"#46039f\"], [0.2222222222222222, \"#7201a8\"], [0.3333333333333333, \"#9c179e\"], [0.4444444444444444, \"#bd3786\"], [0.5555555555555556, \"#d8576b\"], [0.6666666666666666, \"#ed7953\"], [0.7777777777777778, \"#fb9f3a\"], [0.8888888888888888, \"#fdca26\"], [1.0, \"#f0f921\"]]}, \"legend\": {\"itemsizing\": \"constant\", \"tracegroupgap\": 0}, \"template\": {\"data\": {\"bar\": [{\"error_x\": {\"color\": \"#2a3f5f\"}, \"error_y\": {\"color\": \"#2a3f5f\"}, \"marker\": {\"line\": {\"color\": \"#E5ECF6\", \"width\": 0.5}}, \"type\": \"bar\"}], \"barpolar\": [{\"marker\": {\"line\": {\"color\": \"#E5ECF6\", \"width\": 0.5}}, \"type\": \"barpolar\"}], \"carpet\": [{\"aaxis\": {\"endlinecolor\": \"#2a3f5f\", \"gridcolor\": \"white\", \"linecolor\": \"white\", \"minorgridcolor\": \"white\", \"startlinecolor\": \"#2a3f5f\"}, \"baxis\": {\"endlinecolor\": \"#2a3f5f\", \"gridcolor\": \"white\", \"linecolor\": \"white\", \"minorgridcolor\": \"white\", \"startlinecolor\": \"#2a3f5f\"}, \"type\": \"carpet\"}], \"choropleth\": [{\"colorbar\": {\"outlinewidth\": 0, \"ticks\": \"\"}, \"type\": \"choropleth\"}], \"contour\": [{\"colorbar\": {\"outlinewidth\": 0, \"ticks\": \"\"}, \"colorscale\": [[0.0, \"#0d0887\"], [0.1111111111111111, \"#46039f\"], [0.2222222222222222, \"#7201a8\"], [0.3333333333333333, \"#9c179e\"], [0.4444444444444444, \"#bd3786\"], [0.5555555555555556, \"#d8576b\"], [0.6666666666666666, \"#ed7953\"], [0.7777777777777778, \"#fb9f3a\"], [0.8888888888888888, \"#fdca26\"], [1.0, \"#f0f921\"]], \"type\": \"contour\"}], \"contourcarpet\": [{\"colorbar\": {\"outlinewidth\": 0, \"ticks\": \"\"}, \"type\": \"contourcarpet\"}], \"heatmap\": [{\"colorbar\": {\"outlinewidth\": 0, \"ticks\": \"\"}, \"colorscale\": [[0.0, \"#0d0887\"], [0.1111111111111111, \"#46039f\"], [0.2222222222222222, \"#7201a8\"], [0.3333333333333333, \"#9c179e\"], [0.4444444444444444, \"#bd3786\"], [0.5555555555555556, \"#d8576b\"], [0.6666666666666666, \"#ed7953\"], [0.7777777777777778, \"#fb9f3a\"], [0.8888888888888888, \"#fdca26\"], [1.0, \"#f0f921\"]], \"type\": \"heatmap\"}], \"heatmapgl\": [{\"colorbar\": {\"outlinewidth\": 0, \"ticks\": \"\"}, \"colorscale\": [[0.0, \"#0d0887\"], [0.1111111111111111, \"#46039f\"], [0.2222222222222222, \"#7201a8\"], [0.3333333333333333, \"#9c179e\"], [0.4444444444444444, \"#bd3786\"], [0.5555555555555556, \"#d8576b\"], [0.6666666666666666, \"#ed7953\"], [0.7777777777777778, \"#fb9f3a\"], [0.8888888888888888, \"#fdca26\"], [1.0, \"#f0f921\"]], \"type\": \"heatmapgl\"}], \"histogram\": [{\"marker\": {\"colorbar\": {\"outlinewidth\": 0, \"ticks\": \"\"}}, \"type\": \"histogram\"}], \"histogram2d\": [{\"colorbar\": {\"outlinewidth\": 0, \"ticks\": \"\"}, \"colorscale\": [[0.0, \"#0d0887\"], [0.1111111111111111, \"#46039f\"], [0.2222222222222222, \"#7201a8\"], [0.3333333333333333, \"#9c179e\"], [0.4444444444444444, \"#bd3786\"], [0.5555555555555556, \"#d8576b\"], [0.6666666666666666, \"#ed7953\"], [0.7777777777777778, \"#fb9f3a\"], [0.8888888888888888, \"#fdca26\"], [1.0, \"#f0f921\"]], \"type\": \"histogram2d\"}], \"histogram2dcontour\": [{\"colorbar\": {\"outlinewidth\": 0, \"ticks\": \"\"}, \"colorscale\": [[0.0, \"#0d0887\"], [0.1111111111111111, \"#46039f\"], [0.2222222222222222, \"#7201a8\"], [0.3333333333333333, \"#9c179e\"], [0.4444444444444444, \"#bd3786\"], [0.5555555555555556, \"#d8576b\"], [0.6666666666666666, \"#ed7953\"], [0.7777777777777778, \"#fb9f3a\"], [0.8888888888888888, \"#fdca26\"], [1.0, \"#f0f921\"]], \"type\": \"histogram2dcontour\"}], \"mesh3d\": [{\"colorbar\": {\"outlinewidth\": 0, \"ticks\": \"\"}, \"type\": \"mesh3d\"}], \"parcoords\": [{\"line\": {\"colorbar\": {\"outlinewidth\": 0, \"ticks\": \"\"}}, \"type\": \"parcoords\"}], \"pie\": [{\"automargin\": true, \"type\": \"pie\"}], \"scatter\": [{\"marker\": {\"colorbar\": {\"outlinewidth\": 0, \"ticks\": \"\"}}, \"type\": \"scatter\"}], \"scatter3d\": [{\"line\": {\"colorbar\": {\"outlinewidth\": 0, \"ticks\": \"\"}}, \"marker\": {\"colorbar\": {\"outlinewidth\": 0, \"ticks\": \"\"}}, \"type\": \"scatter3d\"}], \"scattercarpet\": [{\"marker\": {\"colorbar\": {\"outlinewidth\": 0, \"ticks\": \"\"}}, \"type\": \"scattercarpet\"}], \"scattergeo\": [{\"marker\": {\"colorbar\": {\"outlinewidth\": 0, \"ticks\": \"\"}}, \"type\": \"scattergeo\"}], \"scattergl\": [{\"marker\": {\"colorbar\": {\"outlinewidth\": 0, \"ticks\": \"\"}}, \"type\": \"scattergl\"}], \"scattermapbox\": [{\"marker\": {\"colorbar\": {\"outlinewidth\": 0, \"ticks\": \"\"}}, \"type\": \"scattermapbox\"}], \"scatterpolar\": [{\"marker\": {\"colorbar\": {\"outlinewidth\": 0, \"ticks\": \"\"}}, \"type\": \"scatterpolar\"}], \"scatterpolargl\": [{\"marker\": {\"colorbar\": {\"outlinewidth\": 0, \"ticks\": \"\"}}, \"type\": \"scatterpolargl\"}], \"scatterternary\": [{\"marker\": {\"colorbar\": {\"outlinewidth\": 0, \"ticks\": \"\"}}, \"type\": \"scatterternary\"}], \"surface\": [{\"colorbar\": {\"outlinewidth\": 0, \"ticks\": \"\"}, \"colorscale\": [[0.0, \"#0d0887\"], [0.1111111111111111, \"#46039f\"], [0.2222222222222222, \"#7201a8\"], [0.3333333333333333, \"#9c179e\"], [0.4444444444444444, \"#bd3786\"], [0.5555555555555556, \"#d8576b\"], [0.6666666666666666, \"#ed7953\"], [0.7777777777777778, \"#fb9f3a\"], [0.8888888888888888, \"#fdca26\"], [1.0, \"#f0f921\"]], \"type\": \"surface\"}], \"table\": [{\"cells\": {\"fill\": {\"color\": \"#EBF0F8\"}, \"line\": {\"color\": \"white\"}}, \"header\": {\"fill\": {\"color\": \"#C8D4E3\"}, \"line\": {\"color\": \"white\"}}, \"type\": \"table\"}]}, \"layout\": {\"annotationdefaults\": {\"arrowcolor\": \"#2a3f5f\", \"arrowhead\": 0, \"arrowwidth\": 1}, \"autotypenumbers\": \"strict\", \"coloraxis\": {\"colorbar\": {\"outlinewidth\": 0, \"ticks\": \"\"}}, \"colorscale\": {\"diverging\": [[0, \"#8e0152\"], [0.1, \"#c51b7d\"], [0.2, \"#de77ae\"], [0.3, \"#f1b6da\"], [0.4, \"#fde0ef\"], [0.5, \"#f7f7f7\"], [0.6, \"#e6f5d0\"], [0.7, \"#b8e186\"], [0.8, \"#7fbc41\"], [0.9, \"#4d9221\"], [1, \"#276419\"]], \"sequential\": [[0.0, \"#0d0887\"], [0.1111111111111111, \"#46039f\"], [0.2222222222222222, \"#7201a8\"], [0.3333333333333333, \"#9c179e\"], [0.4444444444444444, \"#bd3786\"], [0.5555555555555556, \"#d8576b\"], [0.6666666666666666, \"#ed7953\"], [0.7777777777777778, \"#fb9f3a\"], [0.8888888888888888, \"#fdca26\"], [1.0, \"#f0f921\"]], \"sequentialminus\": [[0.0, \"#0d0887\"], [0.1111111111111111, \"#46039f\"], [0.2222222222222222, \"#7201a8\"], [0.3333333333333333, \"#9c179e\"], [0.4444444444444444, \"#bd3786\"], [0.5555555555555556, \"#d8576b\"], [0.6666666666666666, \"#ed7953\"], [0.7777777777777778, \"#fb9f3a\"], [0.8888888888888888, \"#fdca26\"], [1.0, \"#f0f921\"]]}, \"colorway\": [\"#636efa\", \"#EF553B\", \"#00cc96\", \"#ab63fa\", \"#FFA15A\", \"#19d3f3\", \"#FF6692\", \"#B6E880\", \"#FF97FF\", \"#FECB52\"], \"font\": {\"color\": \"#2a3f5f\"}, \"geo\": {\"bgcolor\": \"white\", \"lakecolor\": \"white\", \"landcolor\": \"#E5ECF6\", \"showlakes\": true, \"showland\": true, \"subunitcolor\": \"white\"}, \"hoverlabel\": {\"align\": \"left\"}, \"hovermode\": \"closest\", \"mapbox\": {\"style\": \"light\"}, \"paper_bgcolor\": \"white\", \"plot_bgcolor\": \"#E5ECF6\", \"polar\": {\"angularaxis\": {\"gridcolor\": \"white\", \"linecolor\": \"white\", \"ticks\": \"\"}, \"bgcolor\": \"#E5ECF6\", \"radialaxis\": {\"gridcolor\": \"white\", \"linecolor\": \"white\", \"ticks\": \"\"}}, \"scene\": {\"xaxis\": {\"backgroundcolor\": \"#E5ECF6\", \"gridcolor\": \"white\", \"gridwidth\": 2, \"linecolor\": \"white\", \"showbackground\": true, \"ticks\": \"\", \"zerolinecolor\": \"white\"}, \"yaxis\": {\"backgroundcolor\": \"#E5ECF6\", \"gridcolor\": \"white\", \"gridwidth\": 2, \"linecolor\": \"white\", \"showbackground\": true, \"ticks\": \"\", \"zerolinecolor\": \"white\"}, \"zaxis\": {\"backgroundcolor\": \"#E5ECF6\", \"gridcolor\": \"white\", \"gridwidth\": 2, \"linecolor\": \"white\", \"showbackground\": true, \"ticks\": \"\", \"zerolinecolor\": \"white\"}}, \"shapedefaults\": {\"line\": {\"color\": \"#2a3f5f\"}}, \"ternary\": {\"aaxis\": {\"gridcolor\": \"white\", \"linecolor\": \"white\", \"ticks\": \"\"}, \"baxis\": {\"gridcolor\": \"white\", \"linecolor\": \"white\", \"ticks\": \"\"}, \"bgcolor\": \"#E5ECF6\", \"caxis\": {\"gridcolor\": \"white\", \"linecolor\": \"white\", \"ticks\": \"\"}}, \"title\": {\"x\": 0.05}, \"xaxis\": {\"automargin\": true, \"gridcolor\": \"white\", \"linecolor\": \"white\", \"ticks\": \"\", \"title\": {\"standoff\": 15}, \"zerolinecolor\": \"white\", \"zerolinewidth\": 2}, \"yaxis\": {\"automargin\": true, \"gridcolor\": \"white\", \"linecolor\": \"white\", \"ticks\": \"\", \"title\": {\"standoff\": 15}, \"zerolinecolor\": \"white\", \"zerolinewidth\": 2}}}, \"title\": {\"text\": \"Titel\"}, \"xaxis\": {\"anchor\": \"y\", \"domain\": [0.0, 1.0], \"title\": {\"text\": \"psgr\"}, \"type\": \"log\"}, \"yaxis\": {\"anchor\": \"x\", \"domain\": [0.0, 1.0], \"title\": {\"text\": \"co2\"}}},                        {\"responsive\": true}                    ).then(function(){\n",
       "                            \n",
       "var gd = document.getElementById('90729d4e-1006-40ea-9f5d-67e628b5eff5');\n",
       "var x = new MutationObserver(function (mutations, observer) {{\n",
       "        var display = window.getComputedStyle(gd).display;\n",
       "        if (!display || display === 'none') {{\n",
       "            console.log([gd, 'removed!']);\n",
       "            Plotly.purge(gd);\n",
       "            observer.disconnect();\n",
       "        }}\n",
       "}});\n",
       "\n",
       "// Listen for the removal of the full notebook cells\n",
       "var notebookContainer = gd.closest('#notebook-container');\n",
       "if (notebookContainer) {{\n",
       "    x.observe(notebookContainer, {childList: true});\n",
       "}}\n",
       "\n",
       "// Listen for the clearing of the current output cell\n",
       "var outputEl = gd.closest('.output');\n",
       "if (outputEl) {{\n",
       "    x.observe(outputEl, {childList: true});\n",
       "}}\n",
       "\n",
       "                        })                };                });            </script>        </div>"
      ]
     },
     "metadata": {},
     "output_type": "display_data"
    }
   ],
   "source": [
    "fig1 = px.scatter(combined.query(\"year == '2010'\").query(\"continent in ('North America', 'South America', 'Asia', 'Euope')\").dropna(), x=\"psgr\", y=\"co2\",\n",
    "                size=\"population\", \n",
    "                color=\"dprt\",\n",
    "                hover_name=\"country\", log_x=True, size_max=50,\n",
    "\n",
    "title=\"Titel\")\n",
    "fig1.show()"
   ]
  },
  {
   "cell_type": "markdown",
   "metadata": {},
   "source": [
    "### Figure 3: Total CO2 consumption on the virtical axis, with population represented by the size of the bubble "
   ]
  },
  {
   "cell_type": "code",
   "execution_count": 73,
   "metadata": {},
   "outputs": [
    {
     "data": {
      "application/vnd.plotly.v1+json": {
       "config": {
        "plotlyServerURL": "https://plot.ly"
       },
       "data": [
        {
         "hovertemplate": "<b>%{hovertext}</b><br><br>continent=Europe<br>dprt=%{x}<br>co2=%{y}<br>gdp=%{marker.size}<extra></extra>",
         "hovertext": [
          "Albania",
          "Albania",
          "Armenia",
          "Armenia",
          "Austria",
          "Austria",
          "Azerbaijan",
          "Azerbaijan",
          "Belarus",
          "Belarus",
          "Belgium",
          "Belgium",
          "Bulgaria",
          "Bulgaria",
          "Croatia",
          "Croatia",
          "Cyprus",
          "Cyprus",
          "Estonia",
          "Estonia",
          "Finland",
          "Finland",
          "France",
          "France",
          "Georgia",
          "Georgia",
          "Germany",
          "Germany",
          "Greece",
          "Greece",
          "Hungary",
          "Hungary",
          "Ireland",
          "Ireland",
          "Italy",
          "Italy",
          "Latvia",
          "Latvia",
          "Lithuania",
          "Lithuania",
          "Luxembourg",
          "Luxembourg",
          "Malta",
          "Malta",
          "Netherlands",
          "Netherlands",
          "Poland",
          "Poland",
          "Portugal",
          "Portugal",
          "Romania",
          "Romania",
          "Slovenia",
          "Slovenia",
          "Spain",
          "Spain",
          "Switzerland",
          "Switzerland",
          "Ukraine",
          "Ukraine",
          "United Kingdom",
          "United Kingdom"
         ],
         "legendgroup": "Europe",
         "marker": {
          "color": "#636efa",
          "size": [
           23500000000,
           24900000000,
           19400000000,
           22000000000,
           341000000000,
           354000000000,
           91800000000,
           115000000000,
           116000000000,
           125000000000,
           415000000000,
           426000000000,
           104000000000,
           111000000000,
           91500000000,
           96000000000,
           34200000000,
           35600000000,
           31400000000,
           33700000000,
           203000000000,
           214000000000,
           2230000000000,
           2280000000000,
           22700000000,
           25300000000,
           3170000000000,
           3280000000000,
           353000000000,
           366000000000,
           231000000000,
           231000000000,
           200000000000,
           207000000000,
           2130000000000,
           2170000000000,
           46800000000,
           51500000000,
           65700000000,
           72200000000,
           42800000000,
           45900000000,
           10900000000,
           11300000000,
           690000000000,
           718000000000,
           678000000000,
           725000000000,
           274000000000,
           281000000000,
           342000000000,
           363000000000,
           55700000000,
           59600000000,
           1450000000000,
           1500000000000,
           374000000000,
           389000000000,
           367000000000,
           395000000000,
           2170000000000,
           2240000000000
          ],
          "sizemode": "area",
          "sizeref": 3027777777.7777777,
          "symbol": "circle"
         },
         "mode": "markers",
         "name": "Europe",
         "orientation": "v",
         "showlegend": true,
         "type": "scatter",
         "x": [
          4480,
          4930,
          6180,
          5980,
          150000,
          151000,
          12800,
          13000,
          5650,
          6210,
          158000,
          174000,
          12500,
          12200,
          21600,
          22400,
          17500,
          19100,
          8180,
          9210,
          115000,
          119000,
          806000,
          825000,
          4860,
          5350,
          1080000,
          1130000,
          133000,
          138000,
          45800,
          51000,
          350000,
          416000,
          448000,
          432000,
          29100,
          28200,
          11100,
          10800,
          43800,
          47200,
          15400,
          16900,
          251000,
          260000,
          83500,
          89300,
          120000,
          138000,
          42800,
          51200,
          19500,
          23200,
          603000,
          658000,
          125000,
          139000,
          48600,
          30000,
          1040000,
          1040000
         ],
         "xaxis": "x",
         "y": [
          1.27,
          1.29,
          1.49,
          1.74,
          9.31,
          8.96,
          4.54,
          3.49,
          6.82,
          6.78,
          11.7,
          11.3,
          6.8,
          7.35,
          5.4,
          5.72,
          7.84,
          8.01,
          12.2,
          14.9,
          13,
          12.6,
          6.77,
          6.56,
          1.46,
          1.53,
          10.8,
          10.5,
          10.1,
          10.3,
          5.96,
          5.85,
          11.3,
          11,
          8.36,
          8.16,
          3.74,
          3.93,
          4.36,
          4.84,
          25.7,
          23.9,
          6.41,
          6.58,
          10.5,
          10.5,
          8.76,
          8.76,
          6.15,
          5.9,
          4.95,
          5.09,
          8.57,
          8.59,
          8.04,
          8.09,
          6.09,
          5.76,
          7.14,
          7.26,
          9.33,
          9.1
         ],
         "yaxis": "y"
        },
        {
         "hovertemplate": "<b>%{hovertext}</b><br><br>continent=South America<br>dprt=%{x}<br>co2=%{y}<br>gdp=%{marker.size}<extra></extra>",
         "hovertext": [
          "Argentina",
          "Argentina",
          "Bolivia",
          "Bolivia",
          "Brazil",
          "Brazil",
          "Chile",
          "Chile",
          "Colombia",
          "Colombia",
          "Ecuador",
          "Ecuador",
          "Paraguay",
          "Paraguay",
          "Peru",
          "Peru",
          "Uruguay",
          "Uruguay",
          "Venezuela",
          "Venezuela"
         ],
         "legendgroup": "South America",
         "marker": {
          "color": "#EF553B",
          "size": [
           504000000000,
           546000000000,
           44700000000,
           46500000000,
           2290000000000,
           2430000000000,
           290000000000,
           305000000000,
           422000000000,
           453000000000,
           115000000000,
           117000000000,
           38800000000,
           40800000000,
           238000000000,
           257000000000,
           43600000000,
           46400000000,
           438000000000,
           477000000000
          ],
          "sizemode": "area",
          "sizeref": 3027777777.7777777,
          "symbol": "circle"
         },
         "mode": "markers",
         "name": "South America",
         "orientation": "v",
         "showlegend": true,
         "type": "scatter",
         "x": [
          74200,
          79500,
          22000,
          24100,
          561000,
          650000,
          94800,
          101000,
          175000,
          186000,
          31000,
          44800,
          9810,
          10400,
          56100,
          62000,
          8670,
          9190,
          140000,
          141000
         ],
         "xaxis": "x",
         "y": [
          4.45,
          4.39,
          1.59,
          1.27,
          1.82,
          1.88,
          3.91,
          4.28,
          1.44,
          1.41,
          2.03,
          2.21,
          0.662,
          0.674,
          1.01,
          1.22,
          1.99,
          1.79,
          6.32,
          5.92
         ],
         "yaxis": "y"
        },
        {
         "hovertemplate": "<b>%{hovertext}</b><br><br>continent=Oceania<br>dprt=%{x}<br>co2=%{y}<br>gdp=%{marker.size}<extra></extra>",
         "hovertext": [
          "Australia",
          "Australia",
          "New Zealand",
          "New Zealand"
         ],
         "legendgroup": "Oceania",
         "marker": {
          "color": "#00cc96",
          "size": [
           813000000000,
           852000000000,
           133000000000,
           138000000000
          ],
          "sizemode": "area",
          "sizeref": 3027777777.7777777,
          "symbol": "circle"
         },
         "mode": "markers",
         "name": "Oceania",
         "orientation": "v",
         "showlegend": true,
         "type": "scatter",
         "x": [
          353000,
          354000,
          221000,
          219000
         ],
         "xaxis": "x",
         "y": [
          19.1,
          19.2,
          8.96,
          8.65
         ],
         "yaxis": "y"
        },
        {
         "hovertemplate": "<b>%{hovertext}</b><br><br>continent=Asia<br>dprt=%{x}<br>co2=%{y}<br>gdp=%{marker.size}<extra></extra>",
         "hovertext": [
          "Bangladesh",
          "Bangladesh",
          "Brunei",
          "Brunei",
          "Cambodia",
          "Cambodia",
          "China",
          "China",
          "India",
          "India",
          "Indonesia",
          "Indonesia",
          "Iran",
          "Iran",
          "Israel",
          "Israel",
          "Japan",
          "Japan",
          "Jordan",
          "Jordan",
          "Kazakhstan",
          "Kazakhstan",
          "Kuwait",
          "Kuwait",
          "Malaysia",
          "Malaysia",
          "Mongolia",
          "Mongolia",
          "Nepal",
          "Nepal",
          "Pakistan",
          "Pakistan",
          "Philippines",
          "Philippines",
          "Qatar",
          "Qatar",
          "Saudi Arabia",
          "Saudi Arabia",
          "Singapore",
          "Singapore",
          "Sri Lanka",
          "Sri Lanka",
          "Thailand",
          "Thailand",
          "Turkey",
          "Turkey",
          "Vietnam",
          "Vietnam"
         ],
         "legendgroup": "Asia",
         "marker": {
          "color": "#ab63fa",
          "size": [
           250000000000,
           266000000000,
           27800000000,
           28000000000,
           28500000000,
           31400000000,
           9770000000000,
           10900000000000,
           4120000000000,
           4490000000000,
           1560000000000,
           1660000000000,
           990000000000,
           1050000000000,
           186000000000,
           197000000000,
           4360000000000,
           4450000000000,
           54000000000,
           58900000000,
           261000000000,
           284000000000,
           214000000000,
           221000000000,
           489000000000,
           523000000000,
           14100000000,
           15600000000,
           50200000000,
           51900000000,
           649000000000,
           694000000000,
           430000000000,
           457000000000,
           109000000000,
           132000000000,
           1050000000000,
           1110000000000,
           278000000000,
           299000000000,
           123000000000,
           132000000000,
           774000000000,
           817000000000,
           1120000000000,
           1170000000000,
           307000000000,
           332000000000
          ],
          "sizemode": "area",
          "sizeref": 3027777777.7777777,
          "symbol": "circle"
         },
         "mode": "markers",
         "name": "Asia",
         "orientation": "v",
         "showlegend": true,
         "type": "scatter",
         "x": [
          7970,
          11100,
          12400,
          12100,
          4000,
          4320,
          1540000,
          1750000,
          454000,
          569000,
          357000,
          358000,
          136000,
          138000,
          36300,
          47000,
          670000,
          657000,
          26500,
          29400,
          19200,
          19100,
          20700,
          17700,
          164000,
          185000,
          6170,
          6160,
          6920,
          6920,
          51300,
          51000,
          61700,
          65200,
          53300,
          62700,
          132000,
          151000,
          84700,
          87600,
          21000,
          21000,
          127000,
          130000,
          177000,
          197000,
          50800,
          60200
         ],
         "xaxis": "x",
         "y": [
          0.29600000000000004,
          0.299,
          12.8,
          22.2,
          0.223,
          0.253,
          4.77,
          5.1,
          1.11,
          1.18,
          1.51,
          1.62,
          7.15,
          7.2,
          9.31,
          9.18,
          9.88,
          10.1,
          3.43,
          3.43,
          13.3,
          13.6,
          30.9,
          29.9,
          6.83,
          6.85,
          3.68,
          4.66,
          0.0971,
          0.0978,
          0.877,
          0.929,
          0.758,
          0.792,
          61.8,
          51.7,
          17.6,
          15.4,
          7,
          4.35,
          0.599,
          0.613,
          3.46,
          3.49,
          4.1,
          4.5,
          1.17,
          1.18
         ],
         "yaxis": "y"
        },
        {
         "hovertemplate": "<b>%{hovertext}</b><br><br>continent=Africa<br>dprt=%{x}<br>co2=%{y}<br>gdp=%{marker.size}<extra></extra>",
         "hovertext": [
          "Botswana",
          "Botswana",
          "Cameroon",
          "Cameroon",
          "Egypt",
          "Egypt",
          "Ethiopia",
          "Ethiopia",
          "Kenya",
          "Kenya",
          "Madagascar",
          "Madagascar",
          "Malawi",
          "Malawi",
          "Mauritius",
          "Mauritius",
          "Morocco",
          "Morocco",
          "Mozambique",
          "Mozambique",
          "Namibia",
          "Namibia",
          "Nigeria",
          "Nigeria",
          "Senegal",
          "South Africa",
          "South Africa",
          "Tanzania",
          "Tanzania",
          "Tunisia",
          "Tunisia",
          "Uganda",
          "Uganda",
          "Zambia",
          "Zambia",
          "Zimbabwe",
          "Zimbabwe"
         ],
         "legendgroup": "Africa",
         "marker": {
          "color": "#FFA15A",
          "size": [
           24400000000,
           25600000000,
           43900000000,
           44900000000,
           705000000000,
           744000000000,
           59400000000,
           65800000000,
           70000000000,
           74900000000,
           25900000000,
           27600000000,
           7960000000,
           8720000000,
           16500000000,
           17400000000,
           176000000000,
           180000000000,
           15600000000,
           16800000000,
           16700000000,
           17700000000,
           608000000000,
           647000000000,
           23200000000,
           518000000000,
           548000000000,
           53000000000,
           56800000000,
           94300000000,
           100000000000,
           32700000000,
           35500000000,
           28400000000,
           30200000000,
           17000000000,
           16300000000
          ],
          "sizemode": "area",
          "sizeref": 3027777777.7777777,
          "symbol": "circle"
         },
         "mode": "markers",
         "name": "Africa",
         "orientation": "v",
         "showlegend": true,
         "type": "scatter",
         "x": [
          6910,
          7370,
          10900,
          11700,
          47400,
          51400,
          33600,
          37500,
          29000,
          32300,
          14100,
          37300,
          5530,
          5890,
          13700,
          12100,
          55200,
          68800,
          10500,
          10800,
          6510,
          6940,
          16000,
          16900,
          0,
          147000,
          153000,
          5070,
          5460,
          21700,
          21700,
          330,
          353,
          6010,
          6400,
          6820,
          7270
         ],
         "xaxis": "x",
         "y": [
          2.25,
          2.26,
          0.20600000000000002,
          0.305,
          2.29,
          2.38,
          0.0678,
          0.0724,
          0.248,
          0.247,
          0.0883,
          0.0918,
          0.0708,
          0.0727,
          2.96,
          2.99,
          1.54,
          1.61,
          0.0909,
          0.10099999999999999,
          1.18,
          1.18,
          0.687,
          0.645,
          0.389,
          9.22,
          9.47,
          0.149,
          0.14,
          2.22,
          2.3,
          0.0865,
          0.0956,
          0.183,
          0.149,
          0.853,
          0.8029999999999999
         ],
         "yaxis": "y"
        },
        {
         "hovertemplate": "<b>%{hovertext}</b><br><br>continent=North America<br>dprt=%{x}<br>co2=%{y}<br>gdp=%{marker.size}<extra></extra>",
         "hovertext": [
          "Canada",
          "Canada",
          "Costa Rica",
          "Costa Rica",
          "El Salvador",
          "El Salvador",
          "Jamaica",
          "Jamaica",
          "Mexico",
          "Mexico",
          "Panama",
          "Panama",
          "Trinidad and Tobago",
          "Trinidad and Tobago"
         ],
         "legendgroup": "North America",
         "marker": {
          "color": "#19d3f3",
          "size": [
           1310000000000,
           1340000000000,
           49000000000,
           52700000000,
           43400000000,
           45000000000,
           24000000000,
           24300000000,
           1710000000000,
           1760000000000,
           36100000000,
           40400000000,
           38300000000,
           40100000000
          ],
          "sizemode": "area",
          "sizeref": 3027777777.7777777,
          "symbol": "circle"
         },
         "mode": "markers",
         "name": "North America",
         "orientation": "v",
         "showlegend": true,
         "type": "scatter",
         "x": [
          1040000,
          1190000,
          36200,
          37300,
          24900,
          22500,
          21100,
          22400,
          318000,
          310000,
          33000,
          40600,
          13900,
          14700
         ],
         "xaxis": "x",
         "y": [
          17.6,
          18.1,
          1.6,
          1.79,
          1.11,
          1.12,
          4.15,
          3.48,
          4.43,
          4.4,
          2.17,
          2.09,
          32.7,
          34.7
         ],
         "yaxis": "y"
        }
       ],
       "layout": {
        "legend": {
         "itemsizing": "constant",
         "title": {
          "text": "continent"
         },
         "tracegroupgap": 0
        },
        "template": {
         "data": {
          "bar": [
           {
            "error_x": {
             "color": "#2a3f5f"
            },
            "error_y": {
             "color": "#2a3f5f"
            },
            "marker": {
             "line": {
              "color": "#E5ECF6",
              "width": 0.5
             }
            },
            "type": "bar"
           }
          ],
          "barpolar": [
           {
            "marker": {
             "line": {
              "color": "#E5ECF6",
              "width": 0.5
             }
            },
            "type": "barpolar"
           }
          ],
          "carpet": [
           {
            "aaxis": {
             "endlinecolor": "#2a3f5f",
             "gridcolor": "white",
             "linecolor": "white",
             "minorgridcolor": "white",
             "startlinecolor": "#2a3f5f"
            },
            "baxis": {
             "endlinecolor": "#2a3f5f",
             "gridcolor": "white",
             "linecolor": "white",
             "minorgridcolor": "white",
             "startlinecolor": "#2a3f5f"
            },
            "type": "carpet"
           }
          ],
          "choropleth": [
           {
            "colorbar": {
             "outlinewidth": 0,
             "ticks": ""
            },
            "type": "choropleth"
           }
          ],
          "contour": [
           {
            "colorbar": {
             "outlinewidth": 0,
             "ticks": ""
            },
            "colorscale": [
             [
              0,
              "#0d0887"
             ],
             [
              0.1111111111111111,
              "#46039f"
             ],
             [
              0.2222222222222222,
              "#7201a8"
             ],
             [
              0.3333333333333333,
              "#9c179e"
             ],
             [
              0.4444444444444444,
              "#bd3786"
             ],
             [
              0.5555555555555556,
              "#d8576b"
             ],
             [
              0.6666666666666666,
              "#ed7953"
             ],
             [
              0.7777777777777778,
              "#fb9f3a"
             ],
             [
              0.8888888888888888,
              "#fdca26"
             ],
             [
              1,
              "#f0f921"
             ]
            ],
            "type": "contour"
           }
          ],
          "contourcarpet": [
           {
            "colorbar": {
             "outlinewidth": 0,
             "ticks": ""
            },
            "type": "contourcarpet"
           }
          ],
          "heatmap": [
           {
            "colorbar": {
             "outlinewidth": 0,
             "ticks": ""
            },
            "colorscale": [
             [
              0,
              "#0d0887"
             ],
             [
              0.1111111111111111,
              "#46039f"
             ],
             [
              0.2222222222222222,
              "#7201a8"
             ],
             [
              0.3333333333333333,
              "#9c179e"
             ],
             [
              0.4444444444444444,
              "#bd3786"
             ],
             [
              0.5555555555555556,
              "#d8576b"
             ],
             [
              0.6666666666666666,
              "#ed7953"
             ],
             [
              0.7777777777777778,
              "#fb9f3a"
             ],
             [
              0.8888888888888888,
              "#fdca26"
             ],
             [
              1,
              "#f0f921"
             ]
            ],
            "type": "heatmap"
           }
          ],
          "heatmapgl": [
           {
            "colorbar": {
             "outlinewidth": 0,
             "ticks": ""
            },
            "colorscale": [
             [
              0,
              "#0d0887"
             ],
             [
              0.1111111111111111,
              "#46039f"
             ],
             [
              0.2222222222222222,
              "#7201a8"
             ],
             [
              0.3333333333333333,
              "#9c179e"
             ],
             [
              0.4444444444444444,
              "#bd3786"
             ],
             [
              0.5555555555555556,
              "#d8576b"
             ],
             [
              0.6666666666666666,
              "#ed7953"
             ],
             [
              0.7777777777777778,
              "#fb9f3a"
             ],
             [
              0.8888888888888888,
              "#fdca26"
             ],
             [
              1,
              "#f0f921"
             ]
            ],
            "type": "heatmapgl"
           }
          ],
          "histogram": [
           {
            "marker": {
             "colorbar": {
              "outlinewidth": 0,
              "ticks": ""
             }
            },
            "type": "histogram"
           }
          ],
          "histogram2d": [
           {
            "colorbar": {
             "outlinewidth": 0,
             "ticks": ""
            },
            "colorscale": [
             [
              0,
              "#0d0887"
             ],
             [
              0.1111111111111111,
              "#46039f"
             ],
             [
              0.2222222222222222,
              "#7201a8"
             ],
             [
              0.3333333333333333,
              "#9c179e"
             ],
             [
              0.4444444444444444,
              "#bd3786"
             ],
             [
              0.5555555555555556,
              "#d8576b"
             ],
             [
              0.6666666666666666,
              "#ed7953"
             ],
             [
              0.7777777777777778,
              "#fb9f3a"
             ],
             [
              0.8888888888888888,
              "#fdca26"
             ],
             [
              1,
              "#f0f921"
             ]
            ],
            "type": "histogram2d"
           }
          ],
          "histogram2dcontour": [
           {
            "colorbar": {
             "outlinewidth": 0,
             "ticks": ""
            },
            "colorscale": [
             [
              0,
              "#0d0887"
             ],
             [
              0.1111111111111111,
              "#46039f"
             ],
             [
              0.2222222222222222,
              "#7201a8"
             ],
             [
              0.3333333333333333,
              "#9c179e"
             ],
             [
              0.4444444444444444,
              "#bd3786"
             ],
             [
              0.5555555555555556,
              "#d8576b"
             ],
             [
              0.6666666666666666,
              "#ed7953"
             ],
             [
              0.7777777777777778,
              "#fb9f3a"
             ],
             [
              0.8888888888888888,
              "#fdca26"
             ],
             [
              1,
              "#f0f921"
             ]
            ],
            "type": "histogram2dcontour"
           }
          ],
          "mesh3d": [
           {
            "colorbar": {
             "outlinewidth": 0,
             "ticks": ""
            },
            "type": "mesh3d"
           }
          ],
          "parcoords": [
           {
            "line": {
             "colorbar": {
              "outlinewidth": 0,
              "ticks": ""
             }
            },
            "type": "parcoords"
           }
          ],
          "pie": [
           {
            "automargin": true,
            "type": "pie"
           }
          ],
          "scatter": [
           {
            "marker": {
             "colorbar": {
              "outlinewidth": 0,
              "ticks": ""
             }
            },
            "type": "scatter"
           }
          ],
          "scatter3d": [
           {
            "line": {
             "colorbar": {
              "outlinewidth": 0,
              "ticks": ""
             }
            },
            "marker": {
             "colorbar": {
              "outlinewidth": 0,
              "ticks": ""
             }
            },
            "type": "scatter3d"
           }
          ],
          "scattercarpet": [
           {
            "marker": {
             "colorbar": {
              "outlinewidth": 0,
              "ticks": ""
             }
            },
            "type": "scattercarpet"
           }
          ],
          "scattergeo": [
           {
            "marker": {
             "colorbar": {
              "outlinewidth": 0,
              "ticks": ""
             }
            },
            "type": "scattergeo"
           }
          ],
          "scattergl": [
           {
            "marker": {
             "colorbar": {
              "outlinewidth": 0,
              "ticks": ""
             }
            },
            "type": "scattergl"
           }
          ],
          "scattermapbox": [
           {
            "marker": {
             "colorbar": {
              "outlinewidth": 0,
              "ticks": ""
             }
            },
            "type": "scattermapbox"
           }
          ],
          "scatterpolar": [
           {
            "marker": {
             "colorbar": {
              "outlinewidth": 0,
              "ticks": ""
             }
            },
            "type": "scatterpolar"
           }
          ],
          "scatterpolargl": [
           {
            "marker": {
             "colorbar": {
              "outlinewidth": 0,
              "ticks": ""
             }
            },
            "type": "scatterpolargl"
           }
          ],
          "scatterternary": [
           {
            "marker": {
             "colorbar": {
              "outlinewidth": 0,
              "ticks": ""
             }
            },
            "type": "scatterternary"
           }
          ],
          "surface": [
           {
            "colorbar": {
             "outlinewidth": 0,
             "ticks": ""
            },
            "colorscale": [
             [
              0,
              "#0d0887"
             ],
             [
              0.1111111111111111,
              "#46039f"
             ],
             [
              0.2222222222222222,
              "#7201a8"
             ],
             [
              0.3333333333333333,
              "#9c179e"
             ],
             [
              0.4444444444444444,
              "#bd3786"
             ],
             [
              0.5555555555555556,
              "#d8576b"
             ],
             [
              0.6666666666666666,
              "#ed7953"
             ],
             [
              0.7777777777777778,
              "#fb9f3a"
             ],
             [
              0.8888888888888888,
              "#fdca26"
             ],
             [
              1,
              "#f0f921"
             ]
            ],
            "type": "surface"
           }
          ],
          "table": [
           {
            "cells": {
             "fill": {
              "color": "#EBF0F8"
             },
             "line": {
              "color": "white"
             }
            },
            "header": {
             "fill": {
              "color": "#C8D4E3"
             },
             "line": {
              "color": "white"
             }
            },
            "type": "table"
           }
          ]
         },
         "layout": {
          "annotationdefaults": {
           "arrowcolor": "#2a3f5f",
           "arrowhead": 0,
           "arrowwidth": 1
          },
          "autotypenumbers": "strict",
          "coloraxis": {
           "colorbar": {
            "outlinewidth": 0,
            "ticks": ""
           }
          },
          "colorscale": {
           "diverging": [
            [
             0,
             "#8e0152"
            ],
            [
             0.1,
             "#c51b7d"
            ],
            [
             0.2,
             "#de77ae"
            ],
            [
             0.3,
             "#f1b6da"
            ],
            [
             0.4,
             "#fde0ef"
            ],
            [
             0.5,
             "#f7f7f7"
            ],
            [
             0.6,
             "#e6f5d0"
            ],
            [
             0.7,
             "#b8e186"
            ],
            [
             0.8,
             "#7fbc41"
            ],
            [
             0.9,
             "#4d9221"
            ],
            [
             1,
             "#276419"
            ]
           ],
           "sequential": [
            [
             0,
             "#0d0887"
            ],
            [
             0.1111111111111111,
             "#46039f"
            ],
            [
             0.2222222222222222,
             "#7201a8"
            ],
            [
             0.3333333333333333,
             "#9c179e"
            ],
            [
             0.4444444444444444,
             "#bd3786"
            ],
            [
             0.5555555555555556,
             "#d8576b"
            ],
            [
             0.6666666666666666,
             "#ed7953"
            ],
            [
             0.7777777777777778,
             "#fb9f3a"
            ],
            [
             0.8888888888888888,
             "#fdca26"
            ],
            [
             1,
             "#f0f921"
            ]
           ],
           "sequentialminus": [
            [
             0,
             "#0d0887"
            ],
            [
             0.1111111111111111,
             "#46039f"
            ],
            [
             0.2222222222222222,
             "#7201a8"
            ],
            [
             0.3333333333333333,
             "#9c179e"
            ],
            [
             0.4444444444444444,
             "#bd3786"
            ],
            [
             0.5555555555555556,
             "#d8576b"
            ],
            [
             0.6666666666666666,
             "#ed7953"
            ],
            [
             0.7777777777777778,
             "#fb9f3a"
            ],
            [
             0.8888888888888888,
             "#fdca26"
            ],
            [
             1,
             "#f0f921"
            ]
           ]
          },
          "colorway": [
           "#636efa",
           "#EF553B",
           "#00cc96",
           "#ab63fa",
           "#FFA15A",
           "#19d3f3",
           "#FF6692",
           "#B6E880",
           "#FF97FF",
           "#FECB52"
          ],
          "font": {
           "color": "#2a3f5f"
          },
          "geo": {
           "bgcolor": "white",
           "lakecolor": "white",
           "landcolor": "#E5ECF6",
           "showlakes": true,
           "showland": true,
           "subunitcolor": "white"
          },
          "hoverlabel": {
           "align": "left"
          },
          "hovermode": "closest",
          "mapbox": {
           "style": "light"
          },
          "paper_bgcolor": "white",
          "plot_bgcolor": "#E5ECF6",
          "polar": {
           "angularaxis": {
            "gridcolor": "white",
            "linecolor": "white",
            "ticks": ""
           },
           "bgcolor": "#E5ECF6",
           "radialaxis": {
            "gridcolor": "white",
            "linecolor": "white",
            "ticks": ""
           }
          },
          "scene": {
           "xaxis": {
            "backgroundcolor": "#E5ECF6",
            "gridcolor": "white",
            "gridwidth": 2,
            "linecolor": "white",
            "showbackground": true,
            "ticks": "",
            "zerolinecolor": "white"
           },
           "yaxis": {
            "backgroundcolor": "#E5ECF6",
            "gridcolor": "white",
            "gridwidth": 2,
            "linecolor": "white",
            "showbackground": true,
            "ticks": "",
            "zerolinecolor": "white"
           },
           "zaxis": {
            "backgroundcolor": "#E5ECF6",
            "gridcolor": "white",
            "gridwidth": 2,
            "linecolor": "white",
            "showbackground": true,
            "ticks": "",
            "zerolinecolor": "white"
           }
          },
          "shapedefaults": {
           "line": {
            "color": "#2a3f5f"
           }
          },
          "ternary": {
           "aaxis": {
            "gridcolor": "white",
            "linecolor": "white",
            "ticks": ""
           },
           "baxis": {
            "gridcolor": "white",
            "linecolor": "white",
            "ticks": ""
           },
           "bgcolor": "#E5ECF6",
           "caxis": {
            "gridcolor": "white",
            "linecolor": "white",
            "ticks": ""
           }
          },
          "title": {
           "x": 0.05
          },
          "xaxis": {
           "automargin": true,
           "gridcolor": "white",
           "linecolor": "white",
           "ticks": "",
           "title": {
            "standoff": 15
           },
           "zerolinecolor": "white",
           "zerolinewidth": 2
          },
          "yaxis": {
           "automargin": true,
           "gridcolor": "white",
           "linecolor": "white",
           "ticks": "",
           "title": {
            "standoff": 15
           },
           "zerolinecolor": "white",
           "zerolinewidth": 2
          }
         }
        },
        "title": {
         "text": "Title"
        },
        "xaxis": {
         "anchor": "y",
         "domain": [
          0,
          1
         ],
         "title": {
          "text": "dprt"
         },
         "type": "log"
        },
        "yaxis": {
         "anchor": "x",
         "domain": [
          0,
          1
         ],
         "title": {
          "text": "co2"
         }
        }
       }
      },
      "text/html": [
       "<div>                            <div id=\"a9c17348-a5ac-4b89-9444-a158e5e463d8\" class=\"plotly-graph-div\" style=\"height:525px; width:100%;\"></div>            <script type=\"text/javascript\">                require([\"plotly\"], function(Plotly) {                    window.PLOTLYENV=window.PLOTLYENV || {};                                    if (document.getElementById(\"a9c17348-a5ac-4b89-9444-a158e5e463d8\")) {                    Plotly.newPlot(                        \"a9c17348-a5ac-4b89-9444-a158e5e463d8\",                        [{\"hovertemplate\": \"<b>%{hovertext}</b><br><br>continent=Europe<br>dprt=%{x}<br>co2=%{y}<br>gdp=%{marker.size}<extra></extra>\", \"hovertext\": [\"Albania\", \"Albania\", \"Armenia\", \"Armenia\", \"Austria\", \"Austria\", \"Azerbaijan\", \"Azerbaijan\", \"Belarus\", \"Belarus\", \"Belgium\", \"Belgium\", \"Bulgaria\", \"Bulgaria\", \"Croatia\", \"Croatia\", \"Cyprus\", \"Cyprus\", \"Estonia\", \"Estonia\", \"Finland\", \"Finland\", \"France\", \"France\", \"Georgia\", \"Georgia\", \"Germany\", \"Germany\", \"Greece\", \"Greece\", \"Hungary\", \"Hungary\", \"Ireland\", \"Ireland\", \"Italy\", \"Italy\", \"Latvia\", \"Latvia\", \"Lithuania\", \"Lithuania\", \"Luxembourg\", \"Luxembourg\", \"Malta\", \"Malta\", \"Netherlands\", \"Netherlands\", \"Poland\", \"Poland\", \"Portugal\", \"Portugal\", \"Romania\", \"Romania\", \"Slovenia\", \"Slovenia\", \"Spain\", \"Spain\", \"Switzerland\", \"Switzerland\", \"Ukraine\", \"Ukraine\", \"United Kingdom\", \"United Kingdom\"], \"legendgroup\": \"Europe\", \"marker\": {\"color\": \"#636efa\", \"size\": [23500000000.0, 24900000000.0, 19400000000.0, 22000000000.0, 341000000000.0, 354000000000.0, 91800000000.0, 115000000000.0, 116000000000.0, 125000000000.0, 415000000000.0, 426000000000.0, 104000000000.0, 111000000000.0, 91500000000.0, 96000000000.0, 34200000000.0, 35600000000.0, 31400000000.0, 33700000000.0, 203000000000.0, 214000000000.0, 2230000000000.0, 2280000000000.0, 22700000000.0, 25300000000.0, 3170000000000.0, 3280000000000.0, 353000000000.0, 366000000000.0, 231000000000.0, 231000000000.0, 200000000000.0, 207000000000.0, 2130000000000.0, 2170000000000.0, 46800000000.0, 51500000000.0, 65700000000.0, 72200000000.0, 42800000000.0, 45900000000.0, 10900000000.0, 11300000000.0, 690000000000.0, 718000000000.0, 678000000000.0, 725000000000.0, 274000000000.0, 281000000000.0, 342000000000.0, 363000000000.0, 55700000000.0, 59600000000.0, 1450000000000.0, 1500000000000.0, 374000000000.0, 389000000000.0, 367000000000.0, 395000000000.0, 2170000000000.0, 2240000000000.0], \"sizemode\": \"area\", \"sizeref\": 3027777777.7777777, \"symbol\": \"circle\"}, \"mode\": \"markers\", \"name\": \"Europe\", \"orientation\": \"v\", \"showlegend\": true, \"type\": \"scatter\", \"x\": [4480.0, 4930.0, 6180.0, 5980.0, 150000.0, 151000.0, 12800.0, 13000.0, 5650.0, 6210.0, 158000.0, 174000.0, 12500.0, 12200.0, 21600.0, 22400.0, 17500.0, 19100.0, 8180.0, 9210.0, 115000.0, 119000.0, 806000.0, 825000.0, 4860.0, 5350.0, 1080000.0, 1130000.0, 133000.0, 138000.0, 45800.0, 51000.0, 350000.0, 416000.0, 448000.0, 432000.0, 29100.0, 28200.0, 11100.0, 10800.0, 43800.0, 47200.0, 15400.0, 16900.0, 251000.0, 260000.0, 83500.0, 89300.0, 120000.0, 138000.0, 42800.0, 51200.0, 19500.0, 23200.0, 603000.0, 658000.0, 125000.0, 139000.0, 48600.0, 30000.0, 1040000.0, 1040000.0], \"xaxis\": \"x\", \"y\": [1.27, 1.29, 1.49, 1.74, 9.31, 8.96, 4.54, 3.49, 6.82, 6.78, 11.7, 11.3, 6.8, 7.35, 5.4, 5.72, 7.84, 8.01, 12.2, 14.9, 13.0, 12.6, 6.77, 6.56, 1.46, 1.53, 10.8, 10.5, 10.1, 10.3, 5.96, 5.85, 11.3, 11.0, 8.36, 8.16, 3.74, 3.93, 4.36, 4.84, 25.7, 23.9, 6.41, 6.58, 10.5, 10.5, 8.76, 8.76, 6.15, 5.9, 4.95, 5.09, 8.57, 8.59, 8.04, 8.09, 6.09, 5.76, 7.14, 7.26, 9.33, 9.1], \"yaxis\": \"y\"}, {\"hovertemplate\": \"<b>%{hovertext}</b><br><br>continent=South America<br>dprt=%{x}<br>co2=%{y}<br>gdp=%{marker.size}<extra></extra>\", \"hovertext\": [\"Argentina\", \"Argentina\", \"Bolivia\", \"Bolivia\", \"Brazil\", \"Brazil\", \"Chile\", \"Chile\", \"Colombia\", \"Colombia\", \"Ecuador\", \"Ecuador\", \"Paraguay\", \"Paraguay\", \"Peru\", \"Peru\", \"Uruguay\", \"Uruguay\", \"Venezuela\", \"Venezuela\"], \"legendgroup\": \"South America\", \"marker\": {\"color\": \"#EF553B\", \"size\": [504000000000.0, 546000000000.0, 44700000000.0, 46500000000.0, 2290000000000.0, 2430000000000.0, 290000000000.0, 305000000000.0, 422000000000.0, 453000000000.0, 115000000000.0, 117000000000.0, 38800000000.0, 40800000000.0, 238000000000.0, 257000000000.0, 43600000000.0, 46400000000.0, 438000000000.0, 477000000000.0], \"sizemode\": \"area\", \"sizeref\": 3027777777.7777777, \"symbol\": \"circle\"}, \"mode\": \"markers\", \"name\": \"South America\", \"orientation\": \"v\", \"showlegend\": true, \"type\": \"scatter\", \"x\": [74200.0, 79500.0, 22000.0, 24100.0, 561000.0, 650000.0, 94800.0, 101000.0, 175000.0, 186000.0, 31000.0, 44800.0, 9810.0, 10400.0, 56100.0, 62000.0, 8670.0, 9190.0, 140000.0, 141000.0], \"xaxis\": \"x\", \"y\": [4.45, 4.39, 1.59, 1.27, 1.82, 1.88, 3.91, 4.28, 1.44, 1.41, 2.03, 2.21, 0.662, 0.674, 1.01, 1.22, 1.99, 1.79, 6.32, 5.92], \"yaxis\": \"y\"}, {\"hovertemplate\": \"<b>%{hovertext}</b><br><br>continent=Oceania<br>dprt=%{x}<br>co2=%{y}<br>gdp=%{marker.size}<extra></extra>\", \"hovertext\": [\"Australia\", \"Australia\", \"New Zealand\", \"New Zealand\"], \"legendgroup\": \"Oceania\", \"marker\": {\"color\": \"#00cc96\", \"size\": [813000000000.0, 852000000000.0, 133000000000.0, 138000000000.0], \"sizemode\": \"area\", \"sizeref\": 3027777777.7777777, \"symbol\": \"circle\"}, \"mode\": \"markers\", \"name\": \"Oceania\", \"orientation\": \"v\", \"showlegend\": true, \"type\": \"scatter\", \"x\": [353000.0, 354000.0, 221000.0, 219000.0], \"xaxis\": \"x\", \"y\": [19.1, 19.2, 8.96, 8.65], \"yaxis\": \"y\"}, {\"hovertemplate\": \"<b>%{hovertext}</b><br><br>continent=Asia<br>dprt=%{x}<br>co2=%{y}<br>gdp=%{marker.size}<extra></extra>\", \"hovertext\": [\"Bangladesh\", \"Bangladesh\", \"Brunei\", \"Brunei\", \"Cambodia\", \"Cambodia\", \"China\", \"China\", \"India\", \"India\", \"Indonesia\", \"Indonesia\", \"Iran\", \"Iran\", \"Israel\", \"Israel\", \"Japan\", \"Japan\", \"Jordan\", \"Jordan\", \"Kazakhstan\", \"Kazakhstan\", \"Kuwait\", \"Kuwait\", \"Malaysia\", \"Malaysia\", \"Mongolia\", \"Mongolia\", \"Nepal\", \"Nepal\", \"Pakistan\", \"Pakistan\", \"Philippines\", \"Philippines\", \"Qatar\", \"Qatar\", \"Saudi Arabia\", \"Saudi Arabia\", \"Singapore\", \"Singapore\", \"Sri Lanka\", \"Sri Lanka\", \"Thailand\", \"Thailand\", \"Turkey\", \"Turkey\", \"Vietnam\", \"Vietnam\"], \"legendgroup\": \"Asia\", \"marker\": {\"color\": \"#ab63fa\", \"size\": [250000000000.0, 266000000000.0, 27800000000.0, 28000000000.0, 28500000000.0, 31400000000.0, 9770000000000.0, 10900000000000.0, 4120000000000.0, 4490000000000.0, 1560000000000.0, 1660000000000.0, 990000000000.0, 1050000000000.0, 186000000000.0, 197000000000.0, 4360000000000.0, 4450000000000.0, 54000000000.0, 58900000000.0, 261000000000.0, 284000000000.0, 214000000000.0, 221000000000.0, 489000000000.0, 523000000000.0, 14100000000.0, 15600000000.0, 50200000000.0, 51900000000.0, 649000000000.0, 694000000000.0, 430000000000.0, 457000000000.0, 109000000000.0, 132000000000.0, 1050000000000.0, 1110000000000.0, 278000000000.0, 299000000000.0, 123000000000.0, 132000000000.0, 774000000000.0, 817000000000.0, 1120000000000.0, 1170000000000.0, 307000000000.0, 332000000000.0], \"sizemode\": \"area\", \"sizeref\": 3027777777.7777777, \"symbol\": \"circle\"}, \"mode\": \"markers\", \"name\": \"Asia\", \"orientation\": \"v\", \"showlegend\": true, \"type\": \"scatter\", \"x\": [7970.0, 11100.0, 12400.0, 12100.0, 4000.0, 4320.0, 1540000.0, 1750000.0, 454000.0, 569000.0, 357000.0, 358000.0, 136000.0, 138000.0, 36300.0, 47000.0, 670000.0, 657000.0, 26500.0, 29400.0, 19200.0, 19100.0, 20700.0, 17700.0, 164000.0, 185000.0, 6170.0, 6160.0, 6920.0, 6920.0, 51300.0, 51000.0, 61700.0, 65200.0, 53300.0, 62700.0, 132000.0, 151000.0, 84700.0, 87600.0, 21000.0, 21000.0, 127000.0, 130000.0, 177000.0, 197000.0, 50800.0, 60200.0], \"xaxis\": \"x\", \"y\": [0.29600000000000004, 0.299, 12.8, 22.2, 0.223, 0.253, 4.77, 5.1, 1.11, 1.18, 1.51, 1.62, 7.15, 7.2, 9.31, 9.18, 9.88, 10.1, 3.43, 3.43, 13.3, 13.6, 30.9, 29.9, 6.83, 6.85, 3.68, 4.66, 0.0971, 0.0978, 0.877, 0.929, 0.758, 0.792, 61.8, 51.7, 17.6, 15.4, 7.0, 4.35, 0.599, 0.613, 3.46, 3.49, 4.1, 4.5, 1.17, 1.18], \"yaxis\": \"y\"}, {\"hovertemplate\": \"<b>%{hovertext}</b><br><br>continent=Africa<br>dprt=%{x}<br>co2=%{y}<br>gdp=%{marker.size}<extra></extra>\", \"hovertext\": [\"Botswana\", \"Botswana\", \"Cameroon\", \"Cameroon\", \"Egypt\", \"Egypt\", \"Ethiopia\", \"Ethiopia\", \"Kenya\", \"Kenya\", \"Madagascar\", \"Madagascar\", \"Malawi\", \"Malawi\", \"Mauritius\", \"Mauritius\", \"Morocco\", \"Morocco\", \"Mozambique\", \"Mozambique\", \"Namibia\", \"Namibia\", \"Nigeria\", \"Nigeria\", \"Senegal\", \"South Africa\", \"South Africa\", \"Tanzania\", \"Tanzania\", \"Tunisia\", \"Tunisia\", \"Uganda\", \"Uganda\", \"Zambia\", \"Zambia\", \"Zimbabwe\", \"Zimbabwe\"], \"legendgroup\": \"Africa\", \"marker\": {\"color\": \"#FFA15A\", \"size\": [24400000000.0, 25600000000.0, 43900000000.0, 44900000000.0, 705000000000.0, 744000000000.0, 59400000000.0, 65800000000.0, 70000000000.0, 74900000000.0, 25900000000.0, 27600000000.0, 7960000000.0, 8720000000.0, 16500000000.0, 17400000000.0, 176000000000.0, 180000000000.0, 15600000000.0, 16800000000.0, 16700000000.0, 17700000000.0, 608000000000.0, 647000000000.0, 23200000000.0, 518000000000.0, 548000000000.0, 53000000000.0, 56800000000.0, 94300000000.0, 100000000000.0, 32700000000.0, 35500000000.0, 28400000000.0, 30200000000.0, 17000000000.0, 16300000000.0], \"sizemode\": \"area\", \"sizeref\": 3027777777.7777777, \"symbol\": \"circle\"}, \"mode\": \"markers\", \"name\": \"Africa\", \"orientation\": \"v\", \"showlegend\": true, \"type\": \"scatter\", \"x\": [6910.0, 7370.0, 10900.0, 11700.0, 47400.0, 51400.0, 33600.0, 37500.0, 29000.0, 32300.0, 14100.0, 37300.0, 5530.0, 5890.0, 13700.0, 12100.0, 55200.0, 68800.0, 10500.0, 10800.0, 6510.0, 6940.0, 16000.0, 16900.0, 0.0, 147000.0, 153000.0, 5070.0, 5460.0, 21700.0, 21700.0, 330.0, 353.0, 6010.0, 6400.0, 6820.0, 7270.0], \"xaxis\": \"x\", \"y\": [2.25, 2.26, 0.20600000000000002, 0.305, 2.29, 2.38, 0.0678, 0.0724, 0.248, 0.247, 0.0883, 0.0918, 0.0708, 0.0727, 2.96, 2.99, 1.54, 1.61, 0.0909, 0.10099999999999999, 1.18, 1.18, 0.687, 0.645, 0.389, 9.22, 9.47, 0.149, 0.14, 2.22, 2.3, 0.0865, 0.0956, 0.183, 0.149, 0.853, 0.8029999999999999], \"yaxis\": \"y\"}, {\"hovertemplate\": \"<b>%{hovertext}</b><br><br>continent=North America<br>dprt=%{x}<br>co2=%{y}<br>gdp=%{marker.size}<extra></extra>\", \"hovertext\": [\"Canada\", \"Canada\", \"Costa Rica\", \"Costa Rica\", \"El Salvador\", \"El Salvador\", \"Jamaica\", \"Jamaica\", \"Mexico\", \"Mexico\", \"Panama\", \"Panama\", \"Trinidad and Tobago\", \"Trinidad and Tobago\"], \"legendgroup\": \"North America\", \"marker\": {\"color\": \"#19d3f3\", \"size\": [1310000000000.0, 1340000000000.0, 49000000000.0, 52700000000.0, 43400000000.0, 45000000000.0, 24000000000.0, 24300000000.0, 1710000000000.0, 1760000000000.0, 36100000000.0, 40400000000.0, 38300000000.0, 40100000000.0], \"sizemode\": \"area\", \"sizeref\": 3027777777.7777777, \"symbol\": \"circle\"}, \"mode\": \"markers\", \"name\": \"North America\", \"orientation\": \"v\", \"showlegend\": true, \"type\": \"scatter\", \"x\": [1040000.0, 1190000.0, 36200.0, 37300.0, 24900.0, 22500.0, 21100.0, 22400.0, 318000.0, 310000.0, 33000.0, 40600.0, 13900.0, 14700.0], \"xaxis\": \"x\", \"y\": [17.6, 18.1, 1.6, 1.79, 1.11, 1.12, 4.15, 3.48, 4.43, 4.4, 2.17, 2.09, 32.7, 34.7], \"yaxis\": \"y\"}],                        {\"legend\": {\"itemsizing\": \"constant\", \"title\": {\"text\": \"continent\"}, \"tracegroupgap\": 0}, \"template\": {\"data\": {\"bar\": [{\"error_x\": {\"color\": \"#2a3f5f\"}, \"error_y\": {\"color\": \"#2a3f5f\"}, \"marker\": {\"line\": {\"color\": \"#E5ECF6\", \"width\": 0.5}}, \"type\": \"bar\"}], \"barpolar\": [{\"marker\": {\"line\": {\"color\": \"#E5ECF6\", \"width\": 0.5}}, \"type\": \"barpolar\"}], \"carpet\": [{\"aaxis\": {\"endlinecolor\": \"#2a3f5f\", \"gridcolor\": \"white\", \"linecolor\": \"white\", \"minorgridcolor\": \"white\", \"startlinecolor\": \"#2a3f5f\"}, \"baxis\": {\"endlinecolor\": \"#2a3f5f\", \"gridcolor\": \"white\", \"linecolor\": \"white\", \"minorgridcolor\": \"white\", \"startlinecolor\": \"#2a3f5f\"}, \"type\": \"carpet\"}], \"choropleth\": [{\"colorbar\": {\"outlinewidth\": 0, \"ticks\": \"\"}, \"type\": \"choropleth\"}], \"contour\": [{\"colorbar\": {\"outlinewidth\": 0, \"ticks\": \"\"}, \"colorscale\": [[0.0, \"#0d0887\"], [0.1111111111111111, \"#46039f\"], [0.2222222222222222, \"#7201a8\"], [0.3333333333333333, \"#9c179e\"], [0.4444444444444444, \"#bd3786\"], [0.5555555555555556, \"#d8576b\"], [0.6666666666666666, \"#ed7953\"], [0.7777777777777778, \"#fb9f3a\"], [0.8888888888888888, \"#fdca26\"], [1.0, \"#f0f921\"]], \"type\": \"contour\"}], \"contourcarpet\": [{\"colorbar\": {\"outlinewidth\": 0, \"ticks\": \"\"}, \"type\": \"contourcarpet\"}], \"heatmap\": [{\"colorbar\": {\"outlinewidth\": 0, \"ticks\": \"\"}, \"colorscale\": [[0.0, \"#0d0887\"], [0.1111111111111111, \"#46039f\"], [0.2222222222222222, \"#7201a8\"], [0.3333333333333333, \"#9c179e\"], [0.4444444444444444, \"#bd3786\"], [0.5555555555555556, \"#d8576b\"], [0.6666666666666666, \"#ed7953\"], [0.7777777777777778, \"#fb9f3a\"], [0.8888888888888888, \"#fdca26\"], [1.0, \"#f0f921\"]], \"type\": \"heatmap\"}], \"heatmapgl\": [{\"colorbar\": {\"outlinewidth\": 0, \"ticks\": \"\"}, \"colorscale\": [[0.0, \"#0d0887\"], [0.1111111111111111, \"#46039f\"], [0.2222222222222222, \"#7201a8\"], [0.3333333333333333, \"#9c179e\"], [0.4444444444444444, \"#bd3786\"], [0.5555555555555556, \"#d8576b\"], [0.6666666666666666, \"#ed7953\"], [0.7777777777777778, \"#fb9f3a\"], [0.8888888888888888, \"#fdca26\"], [1.0, \"#f0f921\"]], \"type\": \"heatmapgl\"}], \"histogram\": [{\"marker\": {\"colorbar\": {\"outlinewidth\": 0, \"ticks\": \"\"}}, \"type\": \"histogram\"}], \"histogram2d\": [{\"colorbar\": {\"outlinewidth\": 0, \"ticks\": \"\"}, \"colorscale\": [[0.0, \"#0d0887\"], [0.1111111111111111, \"#46039f\"], [0.2222222222222222, \"#7201a8\"], [0.3333333333333333, \"#9c179e\"], [0.4444444444444444, \"#bd3786\"], [0.5555555555555556, \"#d8576b\"], [0.6666666666666666, \"#ed7953\"], [0.7777777777777778, \"#fb9f3a\"], [0.8888888888888888, \"#fdca26\"], [1.0, \"#f0f921\"]], \"type\": \"histogram2d\"}], \"histogram2dcontour\": [{\"colorbar\": {\"outlinewidth\": 0, \"ticks\": \"\"}, \"colorscale\": [[0.0, \"#0d0887\"], [0.1111111111111111, \"#46039f\"], [0.2222222222222222, \"#7201a8\"], [0.3333333333333333, \"#9c179e\"], [0.4444444444444444, \"#bd3786\"], [0.5555555555555556, \"#d8576b\"], [0.6666666666666666, \"#ed7953\"], [0.7777777777777778, \"#fb9f3a\"], [0.8888888888888888, \"#fdca26\"], [1.0, \"#f0f921\"]], \"type\": \"histogram2dcontour\"}], \"mesh3d\": [{\"colorbar\": {\"outlinewidth\": 0, \"ticks\": \"\"}, \"type\": \"mesh3d\"}], \"parcoords\": [{\"line\": {\"colorbar\": {\"outlinewidth\": 0, \"ticks\": \"\"}}, \"type\": \"parcoords\"}], \"pie\": [{\"automargin\": true, \"type\": \"pie\"}], \"scatter\": [{\"marker\": {\"colorbar\": {\"outlinewidth\": 0, \"ticks\": \"\"}}, \"type\": \"scatter\"}], \"scatter3d\": [{\"line\": {\"colorbar\": {\"outlinewidth\": 0, \"ticks\": \"\"}}, \"marker\": {\"colorbar\": {\"outlinewidth\": 0, \"ticks\": \"\"}}, \"type\": \"scatter3d\"}], \"scattercarpet\": [{\"marker\": {\"colorbar\": {\"outlinewidth\": 0, \"ticks\": \"\"}}, \"type\": \"scattercarpet\"}], \"scattergeo\": [{\"marker\": {\"colorbar\": {\"outlinewidth\": 0, \"ticks\": \"\"}}, \"type\": \"scattergeo\"}], \"scattergl\": [{\"marker\": {\"colorbar\": {\"outlinewidth\": 0, \"ticks\": \"\"}}, \"type\": \"scattergl\"}], \"scattermapbox\": [{\"marker\": {\"colorbar\": {\"outlinewidth\": 0, \"ticks\": \"\"}}, \"type\": \"scattermapbox\"}], \"scatterpolar\": [{\"marker\": {\"colorbar\": {\"outlinewidth\": 0, \"ticks\": \"\"}}, \"type\": \"scatterpolar\"}], \"scatterpolargl\": [{\"marker\": {\"colorbar\": {\"outlinewidth\": 0, \"ticks\": \"\"}}, \"type\": \"scatterpolargl\"}], \"scatterternary\": [{\"marker\": {\"colorbar\": {\"outlinewidth\": 0, \"ticks\": \"\"}}, \"type\": \"scatterternary\"}], \"surface\": [{\"colorbar\": {\"outlinewidth\": 0, \"ticks\": \"\"}, \"colorscale\": [[0.0, \"#0d0887\"], [0.1111111111111111, \"#46039f\"], [0.2222222222222222, \"#7201a8\"], [0.3333333333333333, \"#9c179e\"], [0.4444444444444444, \"#bd3786\"], [0.5555555555555556, \"#d8576b\"], [0.6666666666666666, \"#ed7953\"], [0.7777777777777778, \"#fb9f3a\"], [0.8888888888888888, \"#fdca26\"], [1.0, \"#f0f921\"]], \"type\": \"surface\"}], \"table\": [{\"cells\": {\"fill\": {\"color\": \"#EBF0F8\"}, \"line\": {\"color\": \"white\"}}, \"header\": {\"fill\": {\"color\": \"#C8D4E3\"}, \"line\": {\"color\": \"white\"}}, \"type\": \"table\"}]}, \"layout\": {\"annotationdefaults\": {\"arrowcolor\": \"#2a3f5f\", \"arrowhead\": 0, \"arrowwidth\": 1}, \"autotypenumbers\": \"strict\", \"coloraxis\": {\"colorbar\": {\"outlinewidth\": 0, \"ticks\": \"\"}}, \"colorscale\": {\"diverging\": [[0, \"#8e0152\"], [0.1, \"#c51b7d\"], [0.2, \"#de77ae\"], [0.3, \"#f1b6da\"], [0.4, \"#fde0ef\"], [0.5, \"#f7f7f7\"], [0.6, \"#e6f5d0\"], [0.7, \"#b8e186\"], [0.8, \"#7fbc41\"], [0.9, \"#4d9221\"], [1, \"#276419\"]], \"sequential\": [[0.0, \"#0d0887\"], [0.1111111111111111, \"#46039f\"], [0.2222222222222222, \"#7201a8\"], [0.3333333333333333, \"#9c179e\"], [0.4444444444444444, \"#bd3786\"], [0.5555555555555556, \"#d8576b\"], [0.6666666666666666, \"#ed7953\"], [0.7777777777777778, \"#fb9f3a\"], [0.8888888888888888, \"#fdca26\"], [1.0, \"#f0f921\"]], \"sequentialminus\": [[0.0, \"#0d0887\"], [0.1111111111111111, \"#46039f\"], [0.2222222222222222, \"#7201a8\"], [0.3333333333333333, \"#9c179e\"], [0.4444444444444444, \"#bd3786\"], [0.5555555555555556, \"#d8576b\"], [0.6666666666666666, \"#ed7953\"], [0.7777777777777778, \"#fb9f3a\"], [0.8888888888888888, \"#fdca26\"], [1.0, \"#f0f921\"]]}, \"colorway\": [\"#636efa\", \"#EF553B\", \"#00cc96\", \"#ab63fa\", \"#FFA15A\", \"#19d3f3\", \"#FF6692\", \"#B6E880\", \"#FF97FF\", \"#FECB52\"], \"font\": {\"color\": \"#2a3f5f\"}, \"geo\": {\"bgcolor\": \"white\", \"lakecolor\": \"white\", \"landcolor\": \"#E5ECF6\", \"showlakes\": true, \"showland\": true, \"subunitcolor\": \"white\"}, \"hoverlabel\": {\"align\": \"left\"}, \"hovermode\": \"closest\", \"mapbox\": {\"style\": \"light\"}, \"paper_bgcolor\": \"white\", \"plot_bgcolor\": \"#E5ECF6\", \"polar\": {\"angularaxis\": {\"gridcolor\": \"white\", \"linecolor\": \"white\", \"ticks\": \"\"}, \"bgcolor\": \"#E5ECF6\", \"radialaxis\": {\"gridcolor\": \"white\", \"linecolor\": \"white\", \"ticks\": \"\"}}, \"scene\": {\"xaxis\": {\"backgroundcolor\": \"#E5ECF6\", \"gridcolor\": \"white\", \"gridwidth\": 2, \"linecolor\": \"white\", \"showbackground\": true, \"ticks\": \"\", \"zerolinecolor\": \"white\"}, \"yaxis\": {\"backgroundcolor\": \"#E5ECF6\", \"gridcolor\": \"white\", \"gridwidth\": 2, \"linecolor\": \"white\", \"showbackground\": true, \"ticks\": \"\", \"zerolinecolor\": \"white\"}, \"zaxis\": {\"backgroundcolor\": \"#E5ECF6\", \"gridcolor\": \"white\", \"gridwidth\": 2, \"linecolor\": \"white\", \"showbackground\": true, \"ticks\": \"\", \"zerolinecolor\": \"white\"}}, \"shapedefaults\": {\"line\": {\"color\": \"#2a3f5f\"}}, \"ternary\": {\"aaxis\": {\"gridcolor\": \"white\", \"linecolor\": \"white\", \"ticks\": \"\"}, \"baxis\": {\"gridcolor\": \"white\", \"linecolor\": \"white\", \"ticks\": \"\"}, \"bgcolor\": \"#E5ECF6\", \"caxis\": {\"gridcolor\": \"white\", \"linecolor\": \"white\", \"ticks\": \"\"}}, \"title\": {\"x\": 0.05}, \"xaxis\": {\"automargin\": true, \"gridcolor\": \"white\", \"linecolor\": \"white\", \"ticks\": \"\", \"title\": {\"standoff\": 15}, \"zerolinecolor\": \"white\", \"zerolinewidth\": 2}, \"yaxis\": {\"automargin\": true, \"gridcolor\": \"white\", \"linecolor\": \"white\", \"ticks\": \"\", \"title\": {\"standoff\": 15}, \"zerolinecolor\": \"white\", \"zerolinewidth\": 2}}}, \"title\": {\"text\": \"Title\"}, \"xaxis\": {\"anchor\": \"y\", \"domain\": [0.0, 1.0], \"title\": {\"text\": \"dprt\"}, \"type\": \"log\"}, \"yaxis\": {\"anchor\": \"x\", \"domain\": [0.0, 1.0], \"title\": {\"text\": \"co2\"}}},                        {\"responsive\": true}                    ).then(function(){\n",
       "                            \n",
       "var gd = document.getElementById('a9c17348-a5ac-4b89-9444-a158e5e463d8');\n",
       "var x = new MutationObserver(function (mutations, observer) {{\n",
       "        var display = window.getComputedStyle(gd).display;\n",
       "        if (!display || display === 'none') {{\n",
       "            console.log([gd, 'removed!']);\n",
       "            Plotly.purge(gd);\n",
       "            observer.disconnect();\n",
       "        }}\n",
       "}});\n",
       "\n",
       "// Listen for the removal of the full notebook cells\n",
       "var notebookContainer = gd.closest('#notebook-container');\n",
       "if (notebookContainer) {{\n",
       "    x.observe(notebookContainer, {childList: true});\n",
       "}}\n",
       "\n",
       "// Listen for the clearing of the current output cell\n",
       "var outputEl = gd.closest('.output');\n",
       "if (outputEl) {{\n",
       "    x.observe(outputEl, {childList: true});\n",
       "}}\n",
       "\n",
       "                        })                };                });            </script>        </div>"
      ]
     },
     "metadata": {},
     "output_type": "display_data"
    }
   ],
   "source": [
    "fig3 = px.scatter(combined.query(\"year in ('2006', '2007')\").dropna(), x=\"dprt\", y=\"co2\",\n",
    "                size=\"gdp\", \n",
    "                color=\"continent\",\n",
    "                hover_name=\"country\", log_x=True, size_max=60,\n",
    "title=\"Title\")\n",
    "fig3.show()"
   ]
  },
  {
   "cell_type": "markdown",
   "metadata": {},
   "source": [
    "### Figure 4: Total CO2 consumption on the virtical axis, with population represented by the size of the bubble "
   ]
  },
  {
   "cell_type": "code",
   "execution_count": 74,
   "metadata": {},
   "outputs": [
    {
     "data": {
      "application/vnd.plotly.v1+json": {
       "config": {
        "plotlyServerURL": "https://plot.ly"
       },
       "data": [
        {
         "hovertemplate": "<b>%{hovertext}</b><br><br>co2=%{x}<br>gdp=%{marker.size}<br>life=%{marker.color}<extra></extra>",
         "hovertext": [
          "Albania",
          "Armenia",
          "Austria",
          "Azerbaijan",
          "Belarus",
          "Belgium",
          "Bulgaria",
          "Croatia",
          "Cyprus",
          "Estonia",
          "Finland",
          "France",
          "Georgia",
          "Germany",
          "Greece",
          "Hungary",
          "Ireland",
          "Italy",
          "Latvia",
          "Lithuania",
          "Luxembourg",
          "Malta",
          "Netherlands",
          "Poland",
          "Portugal",
          "Romania",
          "Slovenia",
          "Spain",
          "Switzerland",
          "Ukraine",
          "United Kingdom"
         ],
         "legendgroup": "",
         "marker": {
          "color": [
           76.9,
           73.9,
           80.2,
           68.5,
           70.2,
           79.6,
           73,
           75.7,
           78.8,
           73.2,
           79.5,
           81,
           73.8,
           80.1,
           79.4,
           73.5,
           79.6,
           81.4,
           70.8,
           70.7,
           80.1,
           79.6,
           80.2,
           75.3,
           79.3,
           73.2,
           78.2,
           81,
           81.9,
           68.1,
           79.7
          ],
          "coloraxis": "coloraxis",
          "size": [
           24900000000,
           22000000000,
           354000000000,
           115000000000,
           125000000000,
           426000000000,
           111000000000,
           96000000000,
           35600000000,
           33700000000,
           214000000000,
           2280000000000,
           25300000000,
           3280000000000,
           366000000000,
           231000000000,
           207000000000,
           2170000000000,
           51500000000,
           72200000000,
           45900000000,
           11300000000,
           718000000000,
           725000000000,
           281000000000,
           363000000000,
           59600000000,
           1500000000000,
           389000000000,
           395000000000,
           2240000000000
          ],
          "sizemode": "area",
          "sizeref": 911111111.1111112,
          "symbol": "circle"
         },
         "mode": "markers",
         "name": "",
         "orientation": "v",
         "showlegend": false,
         "type": "scatter",
         "x": [
          1.29,
          1.74,
          8.96,
          3.49,
          6.78,
          11.3,
          7.35,
          5.72,
          8.01,
          14.9,
          12.6,
          6.56,
          1.53,
          10.5,
          10.3,
          5.85,
          11,
          8.16,
          3.93,
          4.84,
          23.9,
          6.58,
          10.5,
          8.76,
          5.9,
          5.09,
          8.59,
          8.09,
          5.76,
          7.26,
          9.1
         ],
         "xaxis": "x",
         "y": [
          24900000000,
          22000000000,
          354000000000,
          115000000000,
          125000000000,
          426000000000,
          111000000000,
          96000000000,
          35600000000,
          33700000000,
          214000000000,
          2280000000000,
          25300000000,
          3280000000000,
          366000000000,
          231000000000,
          207000000000,
          2170000000000,
          51500000000,
          72200000000,
          45900000000,
          11300000000,
          718000000000,
          725000000000,
          281000000000,
          363000000000,
          59600000000,
          1500000000000,
          389000000000,
          395000000000,
          2240000000000
         ],
         "yaxis": "y"
        }
       ],
       "layout": {
        "coloraxis": {
         "colorbar": {
          "title": {
           "text": "life"
          }
         },
         "colorscale": [
          [
           0,
           "#0d0887"
          ],
          [
           0.1111111111111111,
           "#46039f"
          ],
          [
           0.2222222222222222,
           "#7201a8"
          ],
          [
           0.3333333333333333,
           "#9c179e"
          ],
          [
           0.4444444444444444,
           "#bd3786"
          ],
          [
           0.5555555555555556,
           "#d8576b"
          ],
          [
           0.6666666666666666,
           "#ed7953"
          ],
          [
           0.7777777777777778,
           "#fb9f3a"
          ],
          [
           0.8888888888888888,
           "#fdca26"
          ],
          [
           1,
           "#f0f921"
          ]
         ]
        },
        "legend": {
         "itemsizing": "constant",
         "tracegroupgap": 0
        },
        "template": {
         "data": {
          "bar": [
           {
            "error_x": {
             "color": "#2a3f5f"
            },
            "error_y": {
             "color": "#2a3f5f"
            },
            "marker": {
             "line": {
              "color": "#E5ECF6",
              "width": 0.5
             }
            },
            "type": "bar"
           }
          ],
          "barpolar": [
           {
            "marker": {
             "line": {
              "color": "#E5ECF6",
              "width": 0.5
             }
            },
            "type": "barpolar"
           }
          ],
          "carpet": [
           {
            "aaxis": {
             "endlinecolor": "#2a3f5f",
             "gridcolor": "white",
             "linecolor": "white",
             "minorgridcolor": "white",
             "startlinecolor": "#2a3f5f"
            },
            "baxis": {
             "endlinecolor": "#2a3f5f",
             "gridcolor": "white",
             "linecolor": "white",
             "minorgridcolor": "white",
             "startlinecolor": "#2a3f5f"
            },
            "type": "carpet"
           }
          ],
          "choropleth": [
           {
            "colorbar": {
             "outlinewidth": 0,
             "ticks": ""
            },
            "type": "choropleth"
           }
          ],
          "contour": [
           {
            "colorbar": {
             "outlinewidth": 0,
             "ticks": ""
            },
            "colorscale": [
             [
              0,
              "#0d0887"
             ],
             [
              0.1111111111111111,
              "#46039f"
             ],
             [
              0.2222222222222222,
              "#7201a8"
             ],
             [
              0.3333333333333333,
              "#9c179e"
             ],
             [
              0.4444444444444444,
              "#bd3786"
             ],
             [
              0.5555555555555556,
              "#d8576b"
             ],
             [
              0.6666666666666666,
              "#ed7953"
             ],
             [
              0.7777777777777778,
              "#fb9f3a"
             ],
             [
              0.8888888888888888,
              "#fdca26"
             ],
             [
              1,
              "#f0f921"
             ]
            ],
            "type": "contour"
           }
          ],
          "contourcarpet": [
           {
            "colorbar": {
             "outlinewidth": 0,
             "ticks": ""
            },
            "type": "contourcarpet"
           }
          ],
          "heatmap": [
           {
            "colorbar": {
             "outlinewidth": 0,
             "ticks": ""
            },
            "colorscale": [
             [
              0,
              "#0d0887"
             ],
             [
              0.1111111111111111,
              "#46039f"
             ],
             [
              0.2222222222222222,
              "#7201a8"
             ],
             [
              0.3333333333333333,
              "#9c179e"
             ],
             [
              0.4444444444444444,
              "#bd3786"
             ],
             [
              0.5555555555555556,
              "#d8576b"
             ],
             [
              0.6666666666666666,
              "#ed7953"
             ],
             [
              0.7777777777777778,
              "#fb9f3a"
             ],
             [
              0.8888888888888888,
              "#fdca26"
             ],
             [
              1,
              "#f0f921"
             ]
            ],
            "type": "heatmap"
           }
          ],
          "heatmapgl": [
           {
            "colorbar": {
             "outlinewidth": 0,
             "ticks": ""
            },
            "colorscale": [
             [
              0,
              "#0d0887"
             ],
             [
              0.1111111111111111,
              "#46039f"
             ],
             [
              0.2222222222222222,
              "#7201a8"
             ],
             [
              0.3333333333333333,
              "#9c179e"
             ],
             [
              0.4444444444444444,
              "#bd3786"
             ],
             [
              0.5555555555555556,
              "#d8576b"
             ],
             [
              0.6666666666666666,
              "#ed7953"
             ],
             [
              0.7777777777777778,
              "#fb9f3a"
             ],
             [
              0.8888888888888888,
              "#fdca26"
             ],
             [
              1,
              "#f0f921"
             ]
            ],
            "type": "heatmapgl"
           }
          ],
          "histogram": [
           {
            "marker": {
             "colorbar": {
              "outlinewidth": 0,
              "ticks": ""
             }
            },
            "type": "histogram"
           }
          ],
          "histogram2d": [
           {
            "colorbar": {
             "outlinewidth": 0,
             "ticks": ""
            },
            "colorscale": [
             [
              0,
              "#0d0887"
             ],
             [
              0.1111111111111111,
              "#46039f"
             ],
             [
              0.2222222222222222,
              "#7201a8"
             ],
             [
              0.3333333333333333,
              "#9c179e"
             ],
             [
              0.4444444444444444,
              "#bd3786"
             ],
             [
              0.5555555555555556,
              "#d8576b"
             ],
             [
              0.6666666666666666,
              "#ed7953"
             ],
             [
              0.7777777777777778,
              "#fb9f3a"
             ],
             [
              0.8888888888888888,
              "#fdca26"
             ],
             [
              1,
              "#f0f921"
             ]
            ],
            "type": "histogram2d"
           }
          ],
          "histogram2dcontour": [
           {
            "colorbar": {
             "outlinewidth": 0,
             "ticks": ""
            },
            "colorscale": [
             [
              0,
              "#0d0887"
             ],
             [
              0.1111111111111111,
              "#46039f"
             ],
             [
              0.2222222222222222,
              "#7201a8"
             ],
             [
              0.3333333333333333,
              "#9c179e"
             ],
             [
              0.4444444444444444,
              "#bd3786"
             ],
             [
              0.5555555555555556,
              "#d8576b"
             ],
             [
              0.6666666666666666,
              "#ed7953"
             ],
             [
              0.7777777777777778,
              "#fb9f3a"
             ],
             [
              0.8888888888888888,
              "#fdca26"
             ],
             [
              1,
              "#f0f921"
             ]
            ],
            "type": "histogram2dcontour"
           }
          ],
          "mesh3d": [
           {
            "colorbar": {
             "outlinewidth": 0,
             "ticks": ""
            },
            "type": "mesh3d"
           }
          ],
          "parcoords": [
           {
            "line": {
             "colorbar": {
              "outlinewidth": 0,
              "ticks": ""
             }
            },
            "type": "parcoords"
           }
          ],
          "pie": [
           {
            "automargin": true,
            "type": "pie"
           }
          ],
          "scatter": [
           {
            "marker": {
             "colorbar": {
              "outlinewidth": 0,
              "ticks": ""
             }
            },
            "type": "scatter"
           }
          ],
          "scatter3d": [
           {
            "line": {
             "colorbar": {
              "outlinewidth": 0,
              "ticks": ""
             }
            },
            "marker": {
             "colorbar": {
              "outlinewidth": 0,
              "ticks": ""
             }
            },
            "type": "scatter3d"
           }
          ],
          "scattercarpet": [
           {
            "marker": {
             "colorbar": {
              "outlinewidth": 0,
              "ticks": ""
             }
            },
            "type": "scattercarpet"
           }
          ],
          "scattergeo": [
           {
            "marker": {
             "colorbar": {
              "outlinewidth": 0,
              "ticks": ""
             }
            },
            "type": "scattergeo"
           }
          ],
          "scattergl": [
           {
            "marker": {
             "colorbar": {
              "outlinewidth": 0,
              "ticks": ""
             }
            },
            "type": "scattergl"
           }
          ],
          "scattermapbox": [
           {
            "marker": {
             "colorbar": {
              "outlinewidth": 0,
              "ticks": ""
             }
            },
            "type": "scattermapbox"
           }
          ],
          "scatterpolar": [
           {
            "marker": {
             "colorbar": {
              "outlinewidth": 0,
              "ticks": ""
             }
            },
            "type": "scatterpolar"
           }
          ],
          "scatterpolargl": [
           {
            "marker": {
             "colorbar": {
              "outlinewidth": 0,
              "ticks": ""
             }
            },
            "type": "scatterpolargl"
           }
          ],
          "scatterternary": [
           {
            "marker": {
             "colorbar": {
              "outlinewidth": 0,
              "ticks": ""
             }
            },
            "type": "scatterternary"
           }
          ],
          "surface": [
           {
            "colorbar": {
             "outlinewidth": 0,
             "ticks": ""
            },
            "colorscale": [
             [
              0,
              "#0d0887"
             ],
             [
              0.1111111111111111,
              "#46039f"
             ],
             [
              0.2222222222222222,
              "#7201a8"
             ],
             [
              0.3333333333333333,
              "#9c179e"
             ],
             [
              0.4444444444444444,
              "#bd3786"
             ],
             [
              0.5555555555555556,
              "#d8576b"
             ],
             [
              0.6666666666666666,
              "#ed7953"
             ],
             [
              0.7777777777777778,
              "#fb9f3a"
             ],
             [
              0.8888888888888888,
              "#fdca26"
             ],
             [
              1,
              "#f0f921"
             ]
            ],
            "type": "surface"
           }
          ],
          "table": [
           {
            "cells": {
             "fill": {
              "color": "#EBF0F8"
             },
             "line": {
              "color": "white"
             }
            },
            "header": {
             "fill": {
              "color": "#C8D4E3"
             },
             "line": {
              "color": "white"
             }
            },
            "type": "table"
           }
          ]
         },
         "layout": {
          "annotationdefaults": {
           "arrowcolor": "#2a3f5f",
           "arrowhead": 0,
           "arrowwidth": 1
          },
          "autotypenumbers": "strict",
          "coloraxis": {
           "colorbar": {
            "outlinewidth": 0,
            "ticks": ""
           }
          },
          "colorscale": {
           "diverging": [
            [
             0,
             "#8e0152"
            ],
            [
             0.1,
             "#c51b7d"
            ],
            [
             0.2,
             "#de77ae"
            ],
            [
             0.3,
             "#f1b6da"
            ],
            [
             0.4,
             "#fde0ef"
            ],
            [
             0.5,
             "#f7f7f7"
            ],
            [
             0.6,
             "#e6f5d0"
            ],
            [
             0.7,
             "#b8e186"
            ],
            [
             0.8,
             "#7fbc41"
            ],
            [
             0.9,
             "#4d9221"
            ],
            [
             1,
             "#276419"
            ]
           ],
           "sequential": [
            [
             0,
             "#0d0887"
            ],
            [
             0.1111111111111111,
             "#46039f"
            ],
            [
             0.2222222222222222,
             "#7201a8"
            ],
            [
             0.3333333333333333,
             "#9c179e"
            ],
            [
             0.4444444444444444,
             "#bd3786"
            ],
            [
             0.5555555555555556,
             "#d8576b"
            ],
            [
             0.6666666666666666,
             "#ed7953"
            ],
            [
             0.7777777777777778,
             "#fb9f3a"
            ],
            [
             0.8888888888888888,
             "#fdca26"
            ],
            [
             1,
             "#f0f921"
            ]
           ],
           "sequentialminus": [
            [
             0,
             "#0d0887"
            ],
            [
             0.1111111111111111,
             "#46039f"
            ],
            [
             0.2222222222222222,
             "#7201a8"
            ],
            [
             0.3333333333333333,
             "#9c179e"
            ],
            [
             0.4444444444444444,
             "#bd3786"
            ],
            [
             0.5555555555555556,
             "#d8576b"
            ],
            [
             0.6666666666666666,
             "#ed7953"
            ],
            [
             0.7777777777777778,
             "#fb9f3a"
            ],
            [
             0.8888888888888888,
             "#fdca26"
            ],
            [
             1,
             "#f0f921"
            ]
           ]
          },
          "colorway": [
           "#636efa",
           "#EF553B",
           "#00cc96",
           "#ab63fa",
           "#FFA15A",
           "#19d3f3",
           "#FF6692",
           "#B6E880",
           "#FF97FF",
           "#FECB52"
          ],
          "font": {
           "color": "#2a3f5f"
          },
          "geo": {
           "bgcolor": "white",
           "lakecolor": "white",
           "landcolor": "#E5ECF6",
           "showlakes": true,
           "showland": true,
           "subunitcolor": "white"
          },
          "hoverlabel": {
           "align": "left"
          },
          "hovermode": "closest",
          "mapbox": {
           "style": "light"
          },
          "paper_bgcolor": "white",
          "plot_bgcolor": "#E5ECF6",
          "polar": {
           "angularaxis": {
            "gridcolor": "white",
            "linecolor": "white",
            "ticks": ""
           },
           "bgcolor": "#E5ECF6",
           "radialaxis": {
            "gridcolor": "white",
            "linecolor": "white",
            "ticks": ""
           }
          },
          "scene": {
           "xaxis": {
            "backgroundcolor": "#E5ECF6",
            "gridcolor": "white",
            "gridwidth": 2,
            "linecolor": "white",
            "showbackground": true,
            "ticks": "",
            "zerolinecolor": "white"
           },
           "yaxis": {
            "backgroundcolor": "#E5ECF6",
            "gridcolor": "white",
            "gridwidth": 2,
            "linecolor": "white",
            "showbackground": true,
            "ticks": "",
            "zerolinecolor": "white"
           },
           "zaxis": {
            "backgroundcolor": "#E5ECF6",
            "gridcolor": "white",
            "gridwidth": 2,
            "linecolor": "white",
            "showbackground": true,
            "ticks": "",
            "zerolinecolor": "white"
           }
          },
          "shapedefaults": {
           "line": {
            "color": "#2a3f5f"
           }
          },
          "ternary": {
           "aaxis": {
            "gridcolor": "white",
            "linecolor": "white",
            "ticks": ""
           },
           "baxis": {
            "gridcolor": "white",
            "linecolor": "white",
            "ticks": ""
           },
           "bgcolor": "#E5ECF6",
           "caxis": {
            "gridcolor": "white",
            "linecolor": "white",
            "ticks": ""
           }
          },
          "title": {
           "x": 0.05
          },
          "xaxis": {
           "automargin": true,
           "gridcolor": "white",
           "linecolor": "white",
           "ticks": "",
           "title": {
            "standoff": 15
           },
           "zerolinecolor": "white",
           "zerolinewidth": 2
          },
          "yaxis": {
           "automargin": true,
           "gridcolor": "white",
           "linecolor": "white",
           "ticks": "",
           "title": {
            "standoff": 15
           },
           "zerolinecolor": "white",
           "zerolinewidth": 2
          }
         }
        },
        "title": {
         "text": "Title"
        },
        "xaxis": {
         "anchor": "y",
         "domain": [
          0,
          1
         ],
         "title": {
          "text": "co2"
         },
         "type": "log"
        },
        "yaxis": {
         "anchor": "x",
         "domain": [
          0,
          1
         ],
         "title": {
          "text": "gdp"
         }
        }
       }
      },
      "text/html": [
       "<div>                            <div id=\"d5f1158a-32b4-40b3-b2c9-8e12e05e3c37\" class=\"plotly-graph-div\" style=\"height:525px; width:100%;\"></div>            <script type=\"text/javascript\">                require([\"plotly\"], function(Plotly) {                    window.PLOTLYENV=window.PLOTLYENV || {};                                    if (document.getElementById(\"d5f1158a-32b4-40b3-b2c9-8e12e05e3c37\")) {                    Plotly.newPlot(                        \"d5f1158a-32b4-40b3-b2c9-8e12e05e3c37\",                        [{\"hovertemplate\": \"<b>%{hovertext}</b><br><br>co2=%{x}<br>gdp=%{marker.size}<br>life=%{marker.color}<extra></extra>\", \"hovertext\": [\"Albania\", \"Armenia\", \"Austria\", \"Azerbaijan\", \"Belarus\", \"Belgium\", \"Bulgaria\", \"Croatia\", \"Cyprus\", \"Estonia\", \"Finland\", \"France\", \"Georgia\", \"Germany\", \"Greece\", \"Hungary\", \"Ireland\", \"Italy\", \"Latvia\", \"Lithuania\", \"Luxembourg\", \"Malta\", \"Netherlands\", \"Poland\", \"Portugal\", \"Romania\", \"Slovenia\", \"Spain\", \"Switzerland\", \"Ukraine\", \"United Kingdom\"], \"legendgroup\": \"\", \"marker\": {\"color\": [76.9, 73.9, 80.2, 68.5, 70.2, 79.6, 73.0, 75.7, 78.8, 73.2, 79.5, 81.0, 73.8, 80.1, 79.4, 73.5, 79.6, 81.4, 70.8, 70.7, 80.1, 79.6, 80.2, 75.3, 79.3, 73.2, 78.2, 81.0, 81.9, 68.1, 79.7], \"coloraxis\": \"coloraxis\", \"size\": [24900000000.0, 22000000000.0, 354000000000.0, 115000000000.0, 125000000000.0, 426000000000.0, 111000000000.0, 96000000000.0, 35600000000.0, 33700000000.0, 214000000000.0, 2280000000000.0, 25300000000.0, 3280000000000.0, 366000000000.0, 231000000000.0, 207000000000.0, 2170000000000.0, 51500000000.0, 72200000000.0, 45900000000.0, 11300000000.0, 718000000000.0, 725000000000.0, 281000000000.0, 363000000000.0, 59600000000.0, 1500000000000.0, 389000000000.0, 395000000000.0, 2240000000000.0], \"sizemode\": \"area\", \"sizeref\": 911111111.1111112, \"symbol\": \"circle\"}, \"mode\": \"markers\", \"name\": \"\", \"orientation\": \"v\", \"showlegend\": false, \"type\": \"scatter\", \"x\": [1.29, 1.74, 8.96, 3.49, 6.78, 11.3, 7.35, 5.72, 8.01, 14.9, 12.6, 6.56, 1.53, 10.5, 10.3, 5.85, 11.0, 8.16, 3.93, 4.84, 23.9, 6.58, 10.5, 8.76, 5.9, 5.09, 8.59, 8.09, 5.76, 7.26, 9.1], \"xaxis\": \"x\", \"y\": [24900000000.0, 22000000000.0, 354000000000.0, 115000000000.0, 125000000000.0, 426000000000.0, 111000000000.0, 96000000000.0, 35600000000.0, 33700000000.0, 214000000000.0, 2280000000000.0, 25300000000.0, 3280000000000.0, 366000000000.0, 231000000000.0, 207000000000.0, 2170000000000.0, 51500000000.0, 72200000000.0, 45900000000.0, 11300000000.0, 718000000000.0, 725000000000.0, 281000000000.0, 363000000000.0, 59600000000.0, 1500000000000.0, 389000000000.0, 395000000000.0, 2240000000000.0], \"yaxis\": \"y\"}],                        {\"coloraxis\": {\"colorbar\": {\"title\": {\"text\": \"life\"}}, \"colorscale\": [[0.0, \"#0d0887\"], [0.1111111111111111, \"#46039f\"], [0.2222222222222222, \"#7201a8\"], [0.3333333333333333, \"#9c179e\"], [0.4444444444444444, \"#bd3786\"], [0.5555555555555556, \"#d8576b\"], [0.6666666666666666, \"#ed7953\"], [0.7777777777777778, \"#fb9f3a\"], [0.8888888888888888, \"#fdca26\"], [1.0, \"#f0f921\"]]}, \"legend\": {\"itemsizing\": \"constant\", \"tracegroupgap\": 0}, \"template\": {\"data\": {\"bar\": [{\"error_x\": {\"color\": \"#2a3f5f\"}, \"error_y\": {\"color\": \"#2a3f5f\"}, \"marker\": {\"line\": {\"color\": \"#E5ECF6\", \"width\": 0.5}}, \"type\": \"bar\"}], \"barpolar\": [{\"marker\": {\"line\": {\"color\": \"#E5ECF6\", \"width\": 0.5}}, \"type\": \"barpolar\"}], \"carpet\": [{\"aaxis\": {\"endlinecolor\": \"#2a3f5f\", \"gridcolor\": \"white\", \"linecolor\": \"white\", \"minorgridcolor\": \"white\", \"startlinecolor\": \"#2a3f5f\"}, \"baxis\": {\"endlinecolor\": \"#2a3f5f\", \"gridcolor\": \"white\", \"linecolor\": \"white\", \"minorgridcolor\": \"white\", \"startlinecolor\": \"#2a3f5f\"}, \"type\": \"carpet\"}], \"choropleth\": [{\"colorbar\": {\"outlinewidth\": 0, \"ticks\": \"\"}, \"type\": \"choropleth\"}], \"contour\": [{\"colorbar\": {\"outlinewidth\": 0, \"ticks\": \"\"}, \"colorscale\": [[0.0, \"#0d0887\"], [0.1111111111111111, \"#46039f\"], [0.2222222222222222, \"#7201a8\"], [0.3333333333333333, \"#9c179e\"], [0.4444444444444444, \"#bd3786\"], [0.5555555555555556, \"#d8576b\"], [0.6666666666666666, \"#ed7953\"], [0.7777777777777778, \"#fb9f3a\"], [0.8888888888888888, \"#fdca26\"], [1.0, \"#f0f921\"]], \"type\": \"contour\"}], \"contourcarpet\": [{\"colorbar\": {\"outlinewidth\": 0, \"ticks\": \"\"}, \"type\": \"contourcarpet\"}], \"heatmap\": [{\"colorbar\": {\"outlinewidth\": 0, \"ticks\": \"\"}, \"colorscale\": [[0.0, \"#0d0887\"], [0.1111111111111111, \"#46039f\"], [0.2222222222222222, \"#7201a8\"], [0.3333333333333333, \"#9c179e\"], [0.4444444444444444, \"#bd3786\"], [0.5555555555555556, \"#d8576b\"], [0.6666666666666666, \"#ed7953\"], [0.7777777777777778, \"#fb9f3a\"], [0.8888888888888888, \"#fdca26\"], [1.0, \"#f0f921\"]], \"type\": \"heatmap\"}], \"heatmapgl\": [{\"colorbar\": {\"outlinewidth\": 0, \"ticks\": \"\"}, \"colorscale\": [[0.0, \"#0d0887\"], [0.1111111111111111, \"#46039f\"], [0.2222222222222222, \"#7201a8\"], [0.3333333333333333, \"#9c179e\"], [0.4444444444444444, \"#bd3786\"], [0.5555555555555556, \"#d8576b\"], [0.6666666666666666, \"#ed7953\"], [0.7777777777777778, \"#fb9f3a\"], [0.8888888888888888, \"#fdca26\"], [1.0, \"#f0f921\"]], \"type\": \"heatmapgl\"}], \"histogram\": [{\"marker\": {\"colorbar\": {\"outlinewidth\": 0, \"ticks\": \"\"}}, \"type\": \"histogram\"}], \"histogram2d\": [{\"colorbar\": {\"outlinewidth\": 0, \"ticks\": \"\"}, \"colorscale\": [[0.0, \"#0d0887\"], [0.1111111111111111, \"#46039f\"], [0.2222222222222222, \"#7201a8\"], [0.3333333333333333, \"#9c179e\"], [0.4444444444444444, \"#bd3786\"], [0.5555555555555556, \"#d8576b\"], [0.6666666666666666, \"#ed7953\"], [0.7777777777777778, \"#fb9f3a\"], [0.8888888888888888, \"#fdca26\"], [1.0, \"#f0f921\"]], \"type\": \"histogram2d\"}], \"histogram2dcontour\": [{\"colorbar\": {\"outlinewidth\": 0, \"ticks\": \"\"}, \"colorscale\": [[0.0, \"#0d0887\"], [0.1111111111111111, \"#46039f\"], [0.2222222222222222, \"#7201a8\"], [0.3333333333333333, \"#9c179e\"], [0.4444444444444444, \"#bd3786\"], [0.5555555555555556, \"#d8576b\"], [0.6666666666666666, \"#ed7953\"], [0.7777777777777778, \"#fb9f3a\"], [0.8888888888888888, \"#fdca26\"], [1.0, \"#f0f921\"]], \"type\": \"histogram2dcontour\"}], \"mesh3d\": [{\"colorbar\": {\"outlinewidth\": 0, \"ticks\": \"\"}, \"type\": \"mesh3d\"}], \"parcoords\": [{\"line\": {\"colorbar\": {\"outlinewidth\": 0, \"ticks\": \"\"}}, \"type\": \"parcoords\"}], \"pie\": [{\"automargin\": true, \"type\": \"pie\"}], \"scatter\": [{\"marker\": {\"colorbar\": {\"outlinewidth\": 0, \"ticks\": \"\"}}, \"type\": \"scatter\"}], \"scatter3d\": [{\"line\": {\"colorbar\": {\"outlinewidth\": 0, \"ticks\": \"\"}}, \"marker\": {\"colorbar\": {\"outlinewidth\": 0, \"ticks\": \"\"}}, \"type\": \"scatter3d\"}], \"scattercarpet\": [{\"marker\": {\"colorbar\": {\"outlinewidth\": 0, \"ticks\": \"\"}}, \"type\": \"scattercarpet\"}], \"scattergeo\": [{\"marker\": {\"colorbar\": {\"outlinewidth\": 0, \"ticks\": \"\"}}, \"type\": \"scattergeo\"}], \"scattergl\": [{\"marker\": {\"colorbar\": {\"outlinewidth\": 0, \"ticks\": \"\"}}, \"type\": \"scattergl\"}], \"scattermapbox\": [{\"marker\": {\"colorbar\": {\"outlinewidth\": 0, \"ticks\": \"\"}}, \"type\": \"scattermapbox\"}], \"scatterpolar\": [{\"marker\": {\"colorbar\": {\"outlinewidth\": 0, \"ticks\": \"\"}}, \"type\": \"scatterpolar\"}], \"scatterpolargl\": [{\"marker\": {\"colorbar\": {\"outlinewidth\": 0, \"ticks\": \"\"}}, \"type\": \"scatterpolargl\"}], \"scatterternary\": [{\"marker\": {\"colorbar\": {\"outlinewidth\": 0, \"ticks\": \"\"}}, \"type\": \"scatterternary\"}], \"surface\": [{\"colorbar\": {\"outlinewidth\": 0, \"ticks\": \"\"}, \"colorscale\": [[0.0, \"#0d0887\"], [0.1111111111111111, \"#46039f\"], [0.2222222222222222, \"#7201a8\"], [0.3333333333333333, \"#9c179e\"], [0.4444444444444444, \"#bd3786\"], [0.5555555555555556, \"#d8576b\"], [0.6666666666666666, \"#ed7953\"], [0.7777777777777778, \"#fb9f3a\"], [0.8888888888888888, \"#fdca26\"], [1.0, \"#f0f921\"]], \"type\": \"surface\"}], \"table\": [{\"cells\": {\"fill\": {\"color\": \"#EBF0F8\"}, \"line\": {\"color\": \"white\"}}, \"header\": {\"fill\": {\"color\": \"#C8D4E3\"}, \"line\": {\"color\": \"white\"}}, \"type\": \"table\"}]}, \"layout\": {\"annotationdefaults\": {\"arrowcolor\": \"#2a3f5f\", \"arrowhead\": 0, \"arrowwidth\": 1}, \"autotypenumbers\": \"strict\", \"coloraxis\": {\"colorbar\": {\"outlinewidth\": 0, \"ticks\": \"\"}}, \"colorscale\": {\"diverging\": [[0, \"#8e0152\"], [0.1, \"#c51b7d\"], [0.2, \"#de77ae\"], [0.3, \"#f1b6da\"], [0.4, \"#fde0ef\"], [0.5, \"#f7f7f7\"], [0.6, \"#e6f5d0\"], [0.7, \"#b8e186\"], [0.8, \"#7fbc41\"], [0.9, \"#4d9221\"], [1, \"#276419\"]], \"sequential\": [[0.0, \"#0d0887\"], [0.1111111111111111, \"#46039f\"], [0.2222222222222222, \"#7201a8\"], [0.3333333333333333, \"#9c179e\"], [0.4444444444444444, \"#bd3786\"], [0.5555555555555556, \"#d8576b\"], [0.6666666666666666, \"#ed7953\"], [0.7777777777777778, \"#fb9f3a\"], [0.8888888888888888, \"#fdca26\"], [1.0, \"#f0f921\"]], \"sequentialminus\": [[0.0, \"#0d0887\"], [0.1111111111111111, \"#46039f\"], [0.2222222222222222, \"#7201a8\"], [0.3333333333333333, \"#9c179e\"], [0.4444444444444444, \"#bd3786\"], [0.5555555555555556, \"#d8576b\"], [0.6666666666666666, \"#ed7953\"], [0.7777777777777778, \"#fb9f3a\"], [0.8888888888888888, \"#fdca26\"], [1.0, \"#f0f921\"]]}, \"colorway\": [\"#636efa\", \"#EF553B\", \"#00cc96\", \"#ab63fa\", \"#FFA15A\", \"#19d3f3\", \"#FF6692\", \"#B6E880\", \"#FF97FF\", \"#FECB52\"], \"font\": {\"color\": \"#2a3f5f\"}, \"geo\": {\"bgcolor\": \"white\", \"lakecolor\": \"white\", \"landcolor\": \"#E5ECF6\", \"showlakes\": true, \"showland\": true, \"subunitcolor\": \"white\"}, \"hoverlabel\": {\"align\": \"left\"}, \"hovermode\": \"closest\", \"mapbox\": {\"style\": \"light\"}, \"paper_bgcolor\": \"white\", \"plot_bgcolor\": \"#E5ECF6\", \"polar\": {\"angularaxis\": {\"gridcolor\": \"white\", \"linecolor\": \"white\", \"ticks\": \"\"}, \"bgcolor\": \"#E5ECF6\", \"radialaxis\": {\"gridcolor\": \"white\", \"linecolor\": \"white\", \"ticks\": \"\"}}, \"scene\": {\"xaxis\": {\"backgroundcolor\": \"#E5ECF6\", \"gridcolor\": \"white\", \"gridwidth\": 2, \"linecolor\": \"white\", \"showbackground\": true, \"ticks\": \"\", \"zerolinecolor\": \"white\"}, \"yaxis\": {\"backgroundcolor\": \"#E5ECF6\", \"gridcolor\": \"white\", \"gridwidth\": 2, \"linecolor\": \"white\", \"showbackground\": true, \"ticks\": \"\", \"zerolinecolor\": \"white\"}, \"zaxis\": {\"backgroundcolor\": \"#E5ECF6\", \"gridcolor\": \"white\", \"gridwidth\": 2, \"linecolor\": \"white\", \"showbackground\": true, \"ticks\": \"\", \"zerolinecolor\": \"white\"}}, \"shapedefaults\": {\"line\": {\"color\": \"#2a3f5f\"}}, \"ternary\": {\"aaxis\": {\"gridcolor\": \"white\", \"linecolor\": \"white\", \"ticks\": \"\"}, \"baxis\": {\"gridcolor\": \"white\", \"linecolor\": \"white\", \"ticks\": \"\"}, \"bgcolor\": \"#E5ECF6\", \"caxis\": {\"gridcolor\": \"white\", \"linecolor\": \"white\", \"ticks\": \"\"}}, \"title\": {\"x\": 0.05}, \"xaxis\": {\"automargin\": true, \"gridcolor\": \"white\", \"linecolor\": \"white\", \"ticks\": \"\", \"title\": {\"standoff\": 15}, \"zerolinecolor\": \"white\", \"zerolinewidth\": 2}, \"yaxis\": {\"automargin\": true, \"gridcolor\": \"white\", \"linecolor\": \"white\", \"ticks\": \"\", \"title\": {\"standoff\": 15}, \"zerolinecolor\": \"white\", \"zerolinewidth\": 2}}}, \"title\": {\"text\": \"Title\"}, \"xaxis\": {\"anchor\": \"y\", \"domain\": [0.0, 1.0], \"title\": {\"text\": \"co2\"}, \"type\": \"log\"}, \"yaxis\": {\"anchor\": \"x\", \"domain\": [0.0, 1.0], \"title\": {\"text\": \"gdp\"}}},                        {\"responsive\": true}                    ).then(function(){\n",
       "                            \n",
       "var gd = document.getElementById('d5f1158a-32b4-40b3-b2c9-8e12e05e3c37');\n",
       "var x = new MutationObserver(function (mutations, observer) {{\n",
       "        var display = window.getComputedStyle(gd).display;\n",
       "        if (!display || display === 'none') {{\n",
       "            console.log([gd, 'removed!']);\n",
       "            Plotly.purge(gd);\n",
       "            observer.disconnect();\n",
       "        }}\n",
       "}});\n",
       "\n",
       "// Listen for the removal of the full notebook cells\n",
       "var notebookContainer = gd.closest('#notebook-container');\n",
       "if (notebookContainer) {{\n",
       "    x.observe(notebookContainer, {childList: true});\n",
       "}}\n",
       "\n",
       "// Listen for the clearing of the current output cell\n",
       "var outputEl = gd.closest('.output');\n",
       "if (outputEl) {{\n",
       "    x.observe(outputEl, {childList: true});\n",
       "}}\n",
       "\n",
       "                        })                };                });            </script>        </div>"
      ]
     },
     "metadata": {},
     "output_type": "display_data"
    }
   ],
   "source": [
    "fig4 = px.scatter(combined.query(\"year == '2007'\").query(\"continent == 'Europe'\").dropna(), x=\"co2\", y=\"gdp\",\n",
    "                size=\"gdp\", \n",
    "                color=\"life\",\n",
    "                hover_name=\"country\", log_x=True, size_max=60,\n",
    "title=\"Title\")\n",
    "\n",
    "\n",
    "fig4.show()"
   ]
  },
  {
   "cell_type": "code",
   "execution_count": null,
   "metadata": {},
   "outputs": [],
   "source": []
  },
  {
   "cell_type": "markdown",
   "metadata": {},
   "source": [
    "<a id='conclusions'></a>\n",
    "## Conclusions\n",
    "\n",
    "In this project we investigating CO2 emissions data provided by Gapminder and explore data sets of other know indicators such as life expectency, population, gdp, and, income and compare those to flight data as provideded by Gapminder to help us understand how known indicators of CO2 emissions may also influence our behaviour of flying leading to earospace industries contribution to the to overall global CO2 emissions. \n",
    "\n",
    "> In conclusion about the Gammider data set exploration, and without implying causation from correlation, we can conclude that the issue of \n",
    "\n",
    "> **Tip**: Once you are satisfied with your work, you should save a copy of the report in HTML or PDF form via the **File** > **Download as** submenu. Before exporting your report, check over it to make sure that the flow of the report is complete. You should probably remove all of the \"Tip\" quotes like this one so that the presentation is as tidy as possible. Congratulations!\n"
   ]
  },
  {
   "cell_type": "code",
   "execution_count": null,
   "metadata": {},
   "outputs": [],
   "source": [
    "plotly.offline.init_notebook_mode()"
   ]
  },
  {
   "cell_type": "code",
   "execution_count": null,
   "metadata": {},
   "outputs": [],
   "source": []
  }
 ],
 "metadata": {
  "kernelspec": {
   "display_name": "Python 3",
   "language": "python",
   "name": "python3"
  },
  "language_info": {
   "codemirror_mode": {
    "name": "ipython",
    "version": 3
   },
   "file_extension": ".py",
   "mimetype": "text/x-python",
   "name": "python",
   "nbconvert_exporter": "python",
   "pygments_lexer": "ipython3",
   "version": "3.8.5"
  }
 },
 "nbformat": 4,
 "nbformat_minor": 2
}
