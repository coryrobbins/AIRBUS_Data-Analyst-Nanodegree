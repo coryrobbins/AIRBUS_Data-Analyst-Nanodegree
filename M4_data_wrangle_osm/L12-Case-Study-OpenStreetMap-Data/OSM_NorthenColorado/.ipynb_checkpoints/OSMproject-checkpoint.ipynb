{
 "cells": [
  {
   "cell_type": "markdown",
   "metadata": {},
   "source": [
    "# OpenStreetMap Data Case Study"
   ]
  },
  {
   "cell_type": "markdown",
   "metadata": {},
   "source": [
    "### Map Area\n",
    "\n",
    "#### Northern Colorado, CO United States\n",
    "\n",
    "* \n",
    "* map4.osm\n",
    "\n",
    "This map is of the region I grew up which is really a cluster of small-to-medium sized cities with much growth over the recent years, so it would be interesting to see how 'connected' the cities are and what kind of discrepencies could be fixed. "
   ]
  },
  {
   "cell_type": "markdown",
   "metadata": {},
   "source": [
    "### Problems Encountered in the Map"
   ]
  },
  {
   "cell_type": "markdown",
   "metadata": {},
   "source": [
    "After taking a sample from the Northern Colorado area"
   ]
  }
 ],
 "metadata": {
  "kernelspec": {
   "display_name": "Python 3",
   "language": "python",
   "name": "python3"
  },
  "language_info": {
   "codemirror_mode": {
    "name": "ipython",
    "version": 3
   },
   "file_extension": ".py",
   "mimetype": "text/x-python",
   "name": "python",
   "nbconvert_exporter": "python",
   "pygments_lexer": "ipython3",
   "version": "3.8.5"
  }
 },
 "nbformat": 4,
 "nbformat_minor": 4
}
