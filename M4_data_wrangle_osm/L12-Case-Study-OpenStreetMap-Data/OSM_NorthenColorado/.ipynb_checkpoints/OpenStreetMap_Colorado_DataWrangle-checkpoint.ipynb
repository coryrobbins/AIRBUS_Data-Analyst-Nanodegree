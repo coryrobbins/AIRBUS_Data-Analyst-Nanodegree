{
 "cells": [
  {
   "cell_type": "markdown",
   "metadata": {
    "id": "U1zhIEKdW4zC"
   },
   "source": [
    "# Colorado OpenStreetMap Data Wrangling with SQL"
   ]
  },
  {
   "cell_type": "markdown",
   "metadata": {
    "id": "VbOLhBTeW4zG"
   },
   "source": [
    "# Map Area\n",
    "\n",
    "Northern Colorado, Colorado\n",
    "\n"
   ]
  },
  {
   "cell_type": "markdown",
   "metadata": {
    "id": "KoaHWUOgW4zH"
   },
   "source": [
    "# Downloading OSM XML file and taking a sample out of it"
   ]
  },
  {
   "cell_type": "code",
   "execution_count": 5,
   "metadata": {
    "colab": {
     "base_uri": "https://localhost:8080/"
    },
    "id": "P7UUpLdKW4zH",
    "outputId": "f9caf570-122b-48a8-f4cb-58bda3b560c5"
   },
   "outputs": [],
   "source": [
    "# OSM XML file and taking a sample out of it\n",
    "#! pip install cerberus\n",
    "\n",
    "import xml.etree.ElementTree as ET\n",
    "import pprint\n",
    "from collections import defaultdict\n",
    "import re\n",
    "import csv\n",
    "import codecs\n",
    "import cerberus\n",
    "#import schema\n",
    "import sqlite3\n",
    "\n",
    "\n",
    "PATH = \"/Users/coryrobbins/projects/AIRBUS_Data-Analyst-Nanodegree_Udacity/M3-data-wrangling/L12-Case-Study-OpenStreetMap-Data/OSM_NorthenColorado/map4.osm\"\n",
    "\n",
    "OSM_FILE = PATH\n",
    "SAMPLE_FILE = \"sample.osm\"\n",
    "k = 40"
   ]
  },
  {
   "cell_type": "markdown",
   "metadata": {
    "id": "JVofeoiJW4zI"
   },
   "source": [
    "# Getting the elements with tags - nodes and way"
   ]
  },
  {
   "cell_type": "code",
   "execution_count": 6,
   "metadata": {
    "id": "RUNZyR_vW4zI"
   },
   "outputs": [],
   "source": [
    "# Getting the elements with tags - nodes and way\n",
    "\n",
    "def get_element(filename, tags=('node', 'way', 'relation')):\n",
    "    context = iter(ET.iterparse(filename, events=('start', 'end')))\n",
    "    _, root = next(context)\n",
    "    for event, elem in context:\n",
    "        if event == 'end' and elem.tag in tags:\n",
    "            yield elem\n",
    "            root.clear()"
   ]
  },
  {
   "cell_type": "markdown",
   "metadata": {
    "id": "rWEQ-AXQW4zI"
   },
   "source": [
    "# Taking sample from OSM_FILE"
   ]
  },
  {
   "cell_type": "code",
   "execution_count": 7,
   "metadata": {
    "id": "FEVUKDOOW4zI"
   },
   "outputs": [],
   "source": [
    "\n",
    "\n",
    "# Taking sample from OSM_FILE\n",
    "\n",
    "with open(SAMPLE_FILE, 'w') as output:\n",
    "    output.write('<?xml version=\"1.0\" encoding=\"UTF-8\"?>\\n')\n",
    "    output.write('<osm>\\n  ')\n",
    "\n",
    "# Write every kth top level element\n",
    "    for i, element in enumerate(get_element(OSM_FILE)):\n",
    "        if i % k == 0:\n",
    "            output.write(str(ET.tostring(element, encoding='UTF-8')))\n",
    "\n",
    "    output.write('</osm>')\n",
    "    output.close()\n",
    "    \n"
   ]
  },
  {
   "cell_type": "markdown",
   "metadata": {
    "collapsed": true,
    "id": "VBpDqy4AW4zJ"
   },
   "source": [
    "# Auditing :"
   ]
  },
  {
   "cell_type": "markdown",
   "metadata": {
    "id": "0M1ghqVEW4zJ"
   },
   "source": [
    "# Counting the element tags in the file"
   ]
  },
  {
   "cell_type": "code",
   "execution_count": 8,
   "metadata": {
    "colab": {
     "base_uri": "https://localhost:8080/"
    },
    "id": "NxwqODGmW4zJ",
    "outputId": "1904532b-b0c0-4f0f-82ff-fa67a76f422e"
   },
   "outputs": [
    {
     "name": "stdout",
     "output_type": "stream",
     "text": [
      "{'bounds': 1,\n",
      " 'member': 238,\n",
      " 'nd': 26830,\n",
      " 'node': 24140,\n",
      " 'osm': 1,\n",
      " 'relation': 20,\n",
      " 'tag': 3945,\n",
      " 'way': 2184}\n"
     ]
    }
   ],
   "source": [
    "# Counting the element tags in the file\n",
    "\n",
    "def count_tags(filename):\n",
    "    tree=ET.iterparse(filename)\n",
    "    tags={}\n",
    "    for event,elem in tree:\n",
    "        if elem.tag not in tags.keys():\n",
    "            tags[elem.tag]=1\n",
    "        else:\n",
    "            tags[elem.tag] = tags[elem.tag]+1\n",
    "    return tags    \n",
    "    \n",
    "with open(OSM_FILE,'rb') as f:\n",
    "    tags=count_tags(OSM_FILE)\n",
    "    pprint.pprint(tags)\n",
    "f.close()"
   ]
  },
  {
   "cell_type": "markdown",
   "metadata": {
    "id": "D8Asb1ZSW4zK"
   },
   "source": [
    "# Finding out formatting scheme of K attribute in tags"
   ]
  },
  {
   "cell_type": "code",
   "execution_count": 10,
   "metadata": {
    "colab": {
     "base_uri": "https://localhost:8080/"
    },
    "id": "P68WK_sgW4zK",
    "outputId": "20bea6d7-dc38-4646-ad0a-6d6032f2a077"
   },
   "outputs": [
    {
     "name": "stdout",
     "output_type": "stream",
     "text": [
      "{'lower': 3515, 'lower_colon': 401, 'other': 29, 'problemchars': 0}\n"
     ]
    }
   ],
   "source": [
    "# Finding out formatting scheme of K attribute in tags\n",
    "\n",
    "lower = re.compile(r'^([a-z]|_)*$')\n",
    "lower_colon = re.compile(r'^([a-z]|_)*:([a-z]|_)*$')\n",
    "problemchars = re.compile(r'[=\\+/&<>;\\'\"\\?%#$@\\,\\. \\t\\r\\n]')\n",
    "\n",
    "\n",
    "def key_type(element, keys):\n",
    "    if element.tag == \"tag\":\n",
    "        if lower.search(element.attrib['k']):\n",
    "            keys['lower'] += 1\n",
    "        elif lower_colon.search(element.attrib['k']):\n",
    "            keys['lower_colon'] += 1\n",
    "        elif problemchars.search(element.attrib['k']):\n",
    "            keys['problemchars'] = keys['problemchars'] + 1\n",
    "        else:    \n",
    "            keys['other'] += 1  \n",
    "#            print element.attrib['k']\n",
    "#            print element.attrib['v']\n",
    "    return keys\n",
    "\n",
    "\n",
    "def process_keys_map(filename):\n",
    "    keys = {\"lower\": 0, \"lower_colon\": 0, \"problemchars\": 0, \"other\": 0}\n",
    "    for _, element in ET.iterparse(filename):\n",
    "        keys = key_type(element, keys)\n",
    "\n",
    "    return keys\n",
    "\n",
    "with open(OSM_FILE,'rb') as f:\n",
    "    keys = process_keys_map(OSM_FILE)\n",
    "    pprint.pprint(keys)\n",
    "f.close()    "
   ]
  },
  {
   "cell_type": "markdown",
   "metadata": {
    "id": "hbH_OzI6W4zL"
   },
   "source": [
    "# Finding unique k (tag attrib['k']) and count"
   ]
  },
  {
   "cell_type": "code",
   "execution_count": 11,
   "metadata": {
    "colab": {
     "base_uri": "https://localhost:8080/"
    },
    "id": "8AmK8yeBW4zL",
    "outputId": "d903e64f-1d96-43ae-ae65-bf21ccb95d79"
   },
   "outputs": [
    {
     "name": "stdout",
     "output_type": "stream",
     "text": [
      "Total number of unique keys (tag attrib['k'])is 24\n",
      "['access',\n",
      " 'addr:city',\n",
      " 'addr:housenumber',\n",
      " 'addr:state',\n",
      " 'addr:street',\n",
      " 'amenity',\n",
      " 'building',\n",
      " 'design',\n",
      " 'footway',\n",
      " 'highway',\n",
      " 'landuse',\n",
      " 'maxspeed',\n",
      " 'name',\n",
      " 'natural',\n",
      " 'oneway',\n",
      " 'power',\n",
      " 'service',\n",
      " 'source',\n",
      " 'surface',\n",
      " 'tiger:cfcc',\n",
      " 'tiger:county',\n",
      " 'tiger:name_base',\n",
      " 'tiger:reviewed']\n"
     ]
    }
   ],
   "source": [
    "# Finding unique k (tag attrib['k']) and count\n",
    "\n",
    "def unique_keys(filename):\n",
    "    distinct_keys=[]\n",
    "    count=1\n",
    "\n",
    "    EL=get_element(filename, tags=('node', 'way', 'relation'))\n",
    "    for element in EL:\n",
    "        if element.tag=='node' or element.tag=='way':\n",
    "            for tag in element.iter('tag'):\n",
    "                if tag.attrib['k'] not in distinct_keys:\n",
    "                    distinct_keys.append(tag.attrib['k'])\n",
    "                    count+=1\n",
    "    distinct_keys.sort()\n",
    "    print(\"Total number of unique keys (tag attrib['k'])is {}\".format(count))\n",
    "    \n",
    "#    return distinct_keys\n",
    "      \n",
    "    pprint.pprint(distinct_keys)\n",
    "    \n",
    "                \n",
    "unique_keys(SAMPLE_FILE)  # Using Sample file as input to audit the addr:street key\n",
    "\n",
    "    "
   ]
  },
  {
   "cell_type": "markdown",
   "metadata": {
    "id": "-LbEpmDMW4zL"
   },
   "source": [
    "# Finding values(tag attrib['v]) for unique k (tag attrib['k]) and making observation about the data"
   ]
  },
  {
   "cell_type": "code",
   "execution_count": 12,
   "metadata": {
    "colab": {
     "base_uri": "https://localhost:8080/"
    },
    "id": "UbKo7OhhW4zL",
    "outputId": "3394670f-4a14-48e4-e965-9fd9ff4c4ce2"
   },
   "outputs": [
    {
     "name": "stdout",
     "output_type": "stream",
     "text": [
      "addr:street\n",
      "['Trail Ridge Drive']\n"
     ]
    }
   ],
   "source": [
    "#Finding values(tag attrib['v]) for unique k (tag attrib['k]) and making observation about the data\n",
    "\n",
    "def values_for_unique_keys(filename):\n",
    "\n",
    "        '''\n",
    "        # Manually provide the item_name value from the list of distinct_keys to calculate \n",
    "        # the values for the corresponding unique key value. We would initialize the key \n",
    "        # variable with one value at a time and without iterating so that we could have an idea\n",
    "        # of what sort of values are there for corresponding key value. Also, we would not iterate\n",
    "        # as it would a long amount of time to calculate the values for all the corresponding unique\n",
    "        # key value\n",
    "        '''\n",
    "        \n",
    "        key='addr:street'\n",
    "        values=[]\n",
    "        EL=get_element(filename, tags=('node', 'way', 'relation'))\n",
    "        for element in EL:\n",
    "            for tag in element.iter('tag'):\n",
    "                if tag.attrib['k']==key:\n",
    "                    values.append(tag.attrib['v'])\n",
    "            element.clear()\n",
    "        print(key)\n",
    "        pprint.pprint(values)\n",
    "\n",
    "        '''\n",
    "        Using Sample file as input to audit the addr:street key\n",
    "        '''\n",
    "values_for_unique_keys(SAMPLE_FILE)  # Using Sample file as input to audit the addr:street key\n",
    "\n",
    "\n",
    "                    "
   ]
  },
  {
   "cell_type": "markdown",
   "metadata": {
    "id": "oF3aYoMCW4zM"
   },
   "source": [
    "# Getting users and count"
   ]
  },
  {
   "cell_type": "code",
   "execution_count": 13,
   "metadata": {
    "colab": {
     "base_uri": "https://localhost:8080/"
    },
    "id": "FEVb_T-BW4zM",
    "outputId": "3acb6eac-d851-403a-9f45-e666b897fb49"
   },
   "outputs": [
    {
     "name": "stdout",
     "output_type": "stream",
     "text": [
      "197\n"
     ]
    }
   ],
   "source": [
    "# Getting users and count\n",
    "\n",
    "def get_user(element):\n",
    "    return element.get('user')\n",
    "\n",
    "\n",
    "def process_users_map(filename):\n",
    "    users = set()\n",
    "    for _, element in ET.iterparse(filename):\n",
    "        if element.get('user'):\n",
    "            users.add(get_user(element))\n",
    "        element.clear()    \n",
    "    return users\n",
    "\n",
    "\n",
    "with open(OSM_FILE,'rb') as f:\n",
    "    users = process_users_map(OSM_FILE)\n",
    "\n",
    "print(len(users))\n",
    "#pprint.pprint(users)\n",
    "f.close()"
   ]
  },
  {
   "cell_type": "markdown",
   "metadata": {
    "id": "XrD1LKVMW4zM"
   },
   "source": [
    "# Problem encountered**  - 1"
   ]
  },
  {
   "cell_type": "markdown",
   "metadata": {
    "id": "z0DtA8E6W4zM"
   },
   "source": [
    "1) Street address abbreviation - The main problem we encountered in this dataset come from the street name abbreviation inconsistency. In this following code, we build the regex matching the last element in the string, where usually the street type is based. Then we come up with a list of mapping that need not to be cleaned. See Auditing Street Names. \n",
    "\n",
    "audit_street_type function search the input string for the regex. If there is a match and it is not within the \"expected\" list, add the match as a key and add the string to the set.\n",
    "\n",
    "is_street_name function looks at the attribute k if k=\"addre:street\"\n",
    "\n",
    "audit function will return the list that match previous two functions. After that, we can do a pretty print the output of the audit. With the list of all the abbreviated street types we can understand and fill-up our \"mapping\" dictionary as a preparation to convert these street name into proper form.\n",
    "\n",
    "function update_name is the last step of the process, which take the old street name and update them with a better street name."
   ]
  },
  {
   "cell_type": "markdown",
   "metadata": {
    "id": "wnhfCqdKW4zN"
   },
   "source": [
    "# Auditing Street Names"
   ]
  },
  {
   "cell_type": "code",
   "execution_count": 57,
   "metadata": {
    "id": "qeb1swPLW4zN"
   },
   "outputs": [],
   "source": [
    "# Auditing Street Names\n",
    "\n",
    "'''\n",
    "We create a regex for the street names and store it in street_type_re. \n",
    "Furthermore we create a default dictionary that will include sets of different street names.\n",
    "Then, we will audit the datafile and look for street names that have an ending that is different to\n",
    "the values in the expected list.\n",
    "\n",
    "'''\n",
    "\n",
    "\n",
    "\n",
    "street_type_re = re.compile(r'\\b\\S+\\.?$', re.IGNORECASE)\n",
    "\n",
    "\n",
    "expected = [\"Street\", \"Avenue\", \"Boulevard\", \"Drive\", \"Court\", \"Place\", \"Square\", \"Lane\", \"Road\", \n",
    "            \"Trail\", \"Parkway\", \"Commons\",\"Freeway\",\"Circle\",\"Strand\",\"Sterling\",\"Way\",\"Highway\",\n",
    "            \"Terrace\",\"South\",\"East\",\"West\",\"North\"]\n",
    "\n",
    "# THIS VARIABLE CONTAINS THE CORRECTIONS\n",
    "mapping = {\n",
    "            \" St \": \" Street \",\n",
    "            \" St.\": \" Street \",\n",
    "            \" Rd.\": \" Road \",\n",
    "            \" Rd \": \" Road \",\n",
    "            \" Rd\": \" Road \",\n",
    "            \" Ave \": \" Avenue \", \n",
    "            \" Ave.\": \" Avenue \",\n",
    "            \" Av \": \" Avenue \", \n",
    "            \" Dr \": \" Drive \",\n",
    "            \" Dr.\": \" Drive\",\n",
    "            \" Blvd \": \" Boulevard \",\n",
    "            \" Blvd\": \" Boulevard\",\n",
    "            \" Blvd.\": \" Boulevard\",\n",
    "            \" Ct \": \" Centre \",\n",
    "            \" Ctr\": \" Centre\",\n",
    "            \" Pl \": \" Place \",\n",
    "            \" Ln \": \" Lane \",\n",
    "            \" Cir \": \" Circle \",\n",
    "            \" Wy\": \" Way \",\n",
    "            \" S \": \" South \",\n",
    "            \" E \": \" East \",\n",
    "            \" W \": \" West \",\n",
    "            \" N \": \"North\"\n",
    "}\n",
    "\n",
    "def audit_street_type(street_types, street_name):\n",
    "    m = street_type_re.search(street_name)\n",
    "    if m:\n",
    "        street_type = m.group()\n",
    "        if street_type not in expected:\n",
    "            street_types[street_type].add(street_name)\n",
    "\n",
    "\n",
    "def is_street_name(elem):\n",
    "    return (elem.attrib['k'] == \"addr:street\")\n",
    "\n",
    "\n",
    "def audit(filename):\n",
    "    f = open(filename, \"r\")\n",
    "    street_types = defaultdict(set)\n",
    "    for event, elem in ET.iterparse(filename, events=(\"start\",)):\n",
    "\n",
    "        if elem.tag == \"node\" or elem.tag == \"way\":\n",
    "            for tag in elem.iter(\"tag\"):\n",
    "                if is_street_name(tag):\n",
    "                    audit_street_type(street_types, tag.attrib['v'])\n",
    "            elem.clear()        \n",
    "    f.close()\n",
    "    return street_types\n",
    "\n",
    "\n",
    "def update_name(name, mapping):\n",
    "    for key,value in mapping.items():\n",
    "        if key in name:\n",
    "            return name.replace(key,value)\n",
    "    return name        \n",
    "'''\n",
    "Using the SAMPLE_FILE as an input to audit the street name\n",
    "'''\n",
    "\n",
    "\n",
    "st_types = audit(SAMPLE_FILE)\n",
    "\n",
    "#pprint.pprint(dict(st_types))\n",
    "for st_type, ways in st_types.items():\n",
    "    for name in ways:\n",
    "        better_name = update_name(name, mapping)\n",
    "        print(name, \"=>\", better_name)"
   ]
  },
  {
   "cell_type": "markdown",
   "metadata": {
    "id": "QcUjZqGZW4zO"
   },
   "source": [
    "In the above audit of the street name, SAMPLE_FILE was used and there were no potential errors produced.However, errors were produced with bigger SAMPLE_FILE and original OSM file which were then corrected."
   ]
  },
  {
   "cell_type": "markdown",
   "metadata": {
    "id": "AfufHiZDW4zO"
   },
   "source": [
    "# Improving Street Names - Cleaning up and Fixing the Street Names during shape_element function"
   ]
  },
  {
   "cell_type": "code",
   "execution_count": 58,
   "metadata": {
    "id": "NRbIFCgSW4zO"
   },
   "outputs": [],
   "source": [
    "# Cleaning up and Fixing the Street Names\n",
    "\n",
    "'''\n",
    "Now we are going to do some data cleaning to enhance the data quality of the street names.\n",
    "We have identified sets of street name endings that have been expected. Through a a mapping dictionary we \n",
    "indicate the desired changes. We do this for the street name endings (mapping).\n",
    "'''\n",
    "\n",
    "\n",
    "\n",
    "\n",
    "street_type_re = re.compile(r'\\b\\S+\\.?$', re.IGNORECASE)\n",
    "\n",
    "\n",
    "expected = [\"Street\", \"Avenue\", \"Boulevard\", \"Drive\", \"Court\", \"Place\", \"Square\", \"Lane\", \"Road\", \n",
    "            \"Trail\", \"Parkway\", \"Commons\",\"Freeway\",\"Circle\",\"Strand\",\"Sterling\",\"Way\",\"Highway\",\n",
    "            \"Terrace\",\"South\",\"East\",\"West\",\"North\"]\n",
    "\n",
    "# UPDATE THIS VARIABLE\n",
    "mapping = {\n",
    "            \" St \": \" Street \",\n",
    "            \" St.\": \" Street \",\n",
    "            \" Rd.\": \" Road \",\n",
    "            \" Rd \": \" Road \",\n",
    "            \" Rd\": \" Road \",\n",
    "            \" Ave \": \" Avenue \", \n",
    "            \" Ave.\": \" Avenue \",\n",
    "            \" Av \": \" Avenue \", \n",
    "            \" Dr \": \" Drive \",\n",
    "            \" Dr.\": \" Drive\",\n",
    "            \" Blvd \": \" Boulevard \",\n",
    "            \" Blvd\": \" Boulevard\",\n",
    "            \" Blvd.\": \" Boulevard\",\n",
    "            \" Ct \": \" Centre \",\n",
    "            \" Ctr\": \" Centre\",\n",
    "            \" Pl \": \" Place \",\n",
    "            \" Ln \": \" Lane \",\n",
    "            \" Cir \": \" Circle \",\n",
    "            \" Wy\": \" Way \",\n",
    "            \" S \": \" South \",\n",
    "            \" E \": \" East \",\n",
    "            \" W \": \" West \",\n",
    "            \" N \": \"North\"\n",
    "}\n",
    "\n",
    "\n",
    "'''\n",
    "The update name function implements the change. If a street name has the defined string which is defined in the mapping\n",
    "dictionary, then the change is made as defined.\n",
    "'''\n",
    "\n",
    "'''\n",
    "Below 2 functions would be used during shape_element function execution to formatt the street name\n",
    "\n",
    "'''\n",
    "\n",
    "def update_street_name(name, mapping):\n",
    "    for key,value in mapping.items():\n",
    "        if key in name:\n",
    "            return name.replace(key,value)\n",
    "    return name        \n",
    "\n",
    "def audit_street_name_tag(element): \n",
    "    street_name=element.get('v')\n",
    "    m = street_type_re.search(street_name)\n",
    "    if m:\n",
    "        better_street_name=update_street_name(street_name,mapping)\n",
    "        return better_street_name\n",
    "    return street_name\n",
    "              "
   ]
  },
  {
   "cell_type": "markdown",
   "metadata": {
    "id": "EnInTYnYW4zO"
   },
   "source": [
    "# Problem encountered**  - 2"
   ]
  },
  {
   "cell_type": "markdown",
   "metadata": {
    "id": "t8eyQe4DW4zP"
   },
   "source": [
    "2) Postcodes - We can re-use part of the code in street abbreviation problem and briefly modify it to use it here. Although most of the postcode is correct, there're still a lot of  postcode with incorrect 5 digit formats. Like some postcodes have \"-\" followed by another string of numbers, some postcodes have \"CO \" attached infront of them, some postcodes are more than 5 digits. All of these cases have been dealt to produce a clean postcode.\n",
    "\n",
    "The output of the clean postcode is summarised below. "
   ]
  },
  {
   "cell_type": "markdown",
   "metadata": {
    "id": "1E-QfAZKW4zP"
   },
   "source": [
    "# Auditing Postal Codes  "
   ]
  },
  {
   "cell_type": "code",
   "execution_count": 59,
   "metadata": {
    "colab": {
     "base_uri": "https://localhost:8080/"
    },
    "id": "1me_8_JGW4zP",
    "outputId": "f3a5ec18-fbf4-4fc9-835f-d4272f2f3d4a"
   },
   "outputs": [
    {
     "name": "stdout",
     "output_type": "stream",
     "text": [
      "{}\n"
     ]
    }
   ],
   "source": [
    "# Auditing Postal Codes\n",
    "\n",
    "'''\n",
    "In this Section we are going to audit postal \n",
    "codes to check for potential errors. \n",
    "This is a very similar process compared to\n",
    "to our cleaning street name strategy\n",
    "\n",
    "'''\n",
    "\n",
    "zip_type_re = re.compile(r'\\b\\S+\\.?$', re.IGNORECASE)\n",
    "\n",
    "zip_types = defaultdict(set)\n",
    "\n",
    "expected_zip = {}\n",
    "\n",
    "def audit_zip_codes(zip_types, zip_name, regex, expected_zip):\n",
    "    m = regex.search(zip_name)\n",
    "    if m:\n",
    "        zip_type = m.group()\n",
    "        if zip_type not in expected_zip:\n",
    "             zip_types[zip_type].add(zip_name)\n",
    "\n",
    "def is_zip_name(elem):\n",
    "    return (elem.attrib['k'] == \"addr:postcode\")\n",
    "\n",
    "\n",
    "def audit(filename, regex):\n",
    "    for event, elem in ET.iterparse(filename, events=(\"start\",)):\n",
    "        if elem.tag == \"way\" or elem.tag == \"node\":\n",
    "            for tag in elem.iter(\"tag\"):\n",
    "                if is_zip_name(tag):\n",
    "                    audit_zip_codes(zip_types, tag.attrib['v'], regex, expected_zip)\n",
    "    pprint.pprint(dict(zip_types))\n",
    "\n",
    "\n",
    "'''\n",
    "Using the SAMPLE_FILE as an input to audit the postcodes\n",
    "'''   \n",
    "    \n",
    "audit(SAMPLE_FILE, zip_type_re)\n",
    "\n",
    "\n",
    "for zip_type, ways in zip_types.items(): \n",
    "        for name in ways:\n",
    "            if \"-\" in name:\n",
    "                name = name.split(\"-\")[0].strip()\n",
    "            if \"CO \" in name:\n",
    "                name = name.split(\"CO \")[1].strip('CO ')\n",
    "            elif len(str(name))>5:\n",
    "                name=name[0:5]\n",
    "            elif name.isdigit()==False:\n",
    "                print('OK')\n",
    "            print(name)  \n",
    "\n",
    "\n",
    "\n",
    " \n",
    "                \n",
    "        "
   ]
  },
  {
   "cell_type": "markdown",
   "metadata": {
    "id": "JeUQCj6WW4zP"
   },
   "source": [
    "In the above audit of the postcode, SAMPLE_FILE was used and there were no potential errors produced.However, errors were produced with bigger SAMPLE_FILE and original OSM file which were then corrected."
   ]
  },
  {
   "cell_type": "markdown",
   "metadata": {
    "id": "5h96qyGiW4zP"
   },
   "source": [
    "# Cleaning and Fixing Postal Codes during the shape_element function"
   ]
  },
  {
   "cell_type": "code",
   "execution_count": 60,
   "metadata": {
    "id": "YdK9zUnHW4zP"
   },
   "outputs": [],
   "source": [
    "'''\n",
    "We want to have all postal codes in the standard 5 digit display. This means we have to change the postal codes \n",
    "that have more than 5 digits, the ones that beginn with \"CO\" and any other ones that differ from the the plain 5\n",
    "digit display.\n",
    "'''\n",
    "\n",
    "\n",
    "'''\n",
    "Below 2 functions would be used during shape_element function execution to formatt the postcode\n",
    "'''\n",
    "\n",
    "\n",
    "def update_postcode(name): \n",
    "    if \"-\" in name:\n",
    "        name = name.split(\"-\")[0].strip()\n",
    "    elif \"CO\" in name:\n",
    "        name = name.split(\"CO \")[1].strip('CO ')\n",
    "    elif len(str(name))>5:\n",
    "        name=name[0:5]\n",
    "    elif name.isdigit()==False:\n",
    "         name=00000\n",
    "    return name\n",
    "\n",
    "\n",
    "\n",
    "def audit_postcode_tag(element,regex=re.compile(r'\\b\\S+\\.?$', re.IGNORECASE)):\n",
    "    post_code=element.get('v')\n",
    "    m = regex.search(post_code)\n",
    "    if m:\n",
    "        better_postcode=update_postcode(post_code)\n",
    "        return better_postcode\n",
    "    return post_code\n",
    "        "
   ]
  },
  {
   "cell_type": "markdown",
   "metadata": {
    "collapsed": true,
    "id": "s1VtLS3oW4zP"
   },
   "source": [
    "# Preparing for Database - SQL"
   ]
  },
  {
   "cell_type": "code",
   "execution_count": 61,
   "metadata": {
    "id": "lNAQo1UCW4zQ"
   },
   "outputs": [],
   "source": [
    " '''\n",
    " Note: The schema is stored in a .py file in order to take advantage of the\n",
    " int() and float() type coercion functions. Otherwise it could easily stored as\n",
    " as JSON or another serialized format.\n",
    " '''\n",
    "\n",
    "schema = {\n",
    "    'node': {\n",
    "        'type': 'dict',\n",
    "        'schema': {\n",
    "            'id': {'required': True, 'type': 'integer', 'coerce': int},\n",
    "            'lat': {'required': True, 'type': 'float', 'coerce': float},\n",
    "            'lon': {'required': True, 'type': 'float', 'coerce': float},\n",
    "            'user': {'required': True, 'type': 'string'},\n",
    "            'uid': {'required': True, 'type': 'integer', 'coerce': int},\n",
    "            'version': {'required': True, 'type': 'string'},\n",
    "            'changeset': {'required': True, 'type': 'integer', 'coerce': int},\n",
    "            'timestamp': {'required': True, 'type': 'string'}\n",
    "        }\n",
    "    },\n",
    "    'node_tags': {\n",
    "        'type': 'list',\n",
    "        'schema': {\n",
    "            'type': 'dict',\n",
    "            'schema': {\n",
    "                'id': {'required': True, 'type': 'integer', 'coerce': int},\n",
    "                'key': {'required': True, 'type': 'string'},\n",
    "                'value': {'required': True, 'type': 'string'},\n",
    "                'type': {'required': True, 'type': 'string'}\n",
    "            }\n",
    "        }\n",
    "    },\n",
    "    'way': {\n",
    "        'type': 'dict',\n",
    "        'schema': {\n",
    "            'id': {'required': True, 'type': 'integer', 'coerce': int},\n",
    "            'user': {'required': True, 'type': 'string'},\n",
    "            'uid': {'required': True, 'type': 'integer', 'coerce': int},\n",
    "            'version': {'required': True, 'type': 'string'},\n",
    "            'changeset': {'required': True, 'type': 'integer', 'coerce': int},\n",
    "            'timestamp': {'required': True, 'type': 'string'}\n",
    "        }\n",
    "    },\n",
    "    'way_nodes': {\n",
    "        'type': 'list',\n",
    "        'schema': {\n",
    "            'type': 'dict',\n",
    "            'schema': {\n",
    "                'id': {'required': True, 'type': 'integer', 'coerce': int},\n",
    "                'node_id': {'required': True, 'type': 'integer', 'coerce': int},\n",
    "                'position': {'required': True, 'type': 'integer', 'coerce': int}\n",
    "            }\n",
    "        }\n",
    "    },\n",
    "    'way_tags': {\n",
    "        'type': 'list',\n",
    "        'schema': {\n",
    "            'type': 'dict',\n",
    "            'schema': {\n",
    "                'id': {'required': True, 'type': 'integer', 'coerce': int},\n",
    "                'key': {'required': True, 'type': 'string'},\n",
    "                'value': {'required': True, 'type': 'string'},\n",
    "                'type': {'required': True, 'type': 'string'}\n",
    "            }\n",
    "        }\n",
    "    }\n",
    "}"
   ]
  },
  {
   "cell_type": "markdown",
   "metadata": {
    "id": "jPbtbmrtW4zQ"
   },
   "source": [
    "# Defining CSV Files and their respective columns"
   ]
  },
  {
   "cell_type": "code",
   "execution_count": 62,
   "metadata": {
    "id": "W8bqFG-QW4zQ"
   },
   "outputs": [],
   "source": [
    "NODES_PATH = \"nodes.csv\"\n",
    "NODE_TAGS_PATH = \"nodes_tags.csv\"\n",
    "WAYS_PATH = \"ways.csv\"\n",
    "WAY_NODES_PATH = \"ways_nodes.csv\"\n",
    "WAY_TAGS_PATH = \"ways_tags.csv\"\n",
    "\n",
    "LOWER_COLON = re.compile(r'^([a-z]|_)+:([a-z]|_)+')\n",
    "PROBLEMCHARS = re.compile(r'[=\\+/&<>;\\'\"\\?%#$@\\,\\. \\t\\r\\n]')\n",
    "\n",
    "\n",
    "SCHEMA = schema\n",
    "\n",
    "\n",
    "NODE_FIELDS = ['id', 'lat', 'lon', 'user', 'uid', 'version', 'changeset', 'timestamp']\n",
    "NODE_TAGS_FIELDS = ['id', 'key', 'value', 'type']\n",
    "WAY_FIELDS = ['id', 'user', 'uid', 'version', 'changeset', 'timestamp']\n",
    "WAY_TAGS_FIELDS = ['id', 'key', 'value', 'type']\n",
    "WAY_NODES_FIELDS = ['id', 'node_id', 'position']\n"
   ]
  },
  {
   "cell_type": "markdown",
   "metadata": {
    "id": "VTZScol3W4zQ"
   },
   "source": [
    "# Shaping up the element"
   ]
  },
  {
   "cell_type": "code",
   "execution_count": 63,
   "metadata": {
    "id": "ZZXN6vvuW4zQ"
   },
   "outputs": [],
   "source": [
    " \"\"\"Clean and shape node or way XML element to Python dict\"\"\"\n",
    "\n",
    "def shape_element(element, node_attr_fields=NODE_FIELDS, way_attr_fields=WAY_FIELDS,\n",
    "                  problem_chars=PROBLEMCHARS, default_tag_type='regular'):\n",
    "    \n",
    "    \n",
    "    node_attribs = {}\n",
    "    way_attribs = {}\n",
    "    way_nodes = []\n",
    "    tags = [] # Handle secondary tags the same way for both node and way elements\n",
    "             \n",
    "\n",
    "   \n",
    "\n",
    "    if element.tag=='node':\n",
    "        for field in node_attr_fields:\n",
    "            node_attribs[field]=element.get(field)\n",
    "                 \n",
    "        if element.find('tag') is None:\n",
    "            pass\n",
    "#           print 'No Tags'\n",
    "           \n",
    "        elif element.find('tag') is not None:\n",
    "            tag_attrib={}\n",
    "            node_tag_fields=NODE_TAGS_FIELDS\n",
    "            for tag in element.iter('tag'):\n",
    "                if PROBLEMCHARS.search(tag.attrib['k']):\n",
    "                    pass\n",
    "                elif LOWER_COLON.search(tag.attrib['k']):\n",
    "                    tag_attrib[node_tag_fields[0]]=element.get('id')\n",
    "                    tag_attrib[node_tag_fields[1]]=tag.get('k')[(tag.get('k').find(':')+1):]\n",
    "                    if tag.attrib['k']== \"addr:street\":\n",
    "                        tag_attrib[node_tag_fields[2]]=audit_street_name_tag(tag)\n",
    "                    elif tag.attrib['k']== \"addr:postcode\":\n",
    "                        tag_attrib[node_tag_fields[2]]=audit_postcode_tag(tag)       \n",
    "                    else:\n",
    "                        tag_attrib[node_tag_fields[2]]=tag.get('v')\n",
    "                    tag_attrib[node_tag_fields[3]]=tag.get('k').split(':')[0]\n",
    "                    tags.append(tag_attrib.copy())\n",
    "                \n",
    "                else:\n",
    "                    tag_attrib[node_tag_fields[0]]=element.get('id')\n",
    "                    tag_attrib[node_tag_fields[1]]=tag.get('k')\n",
    "                    if tag.attrib['k']== \"addr:street\":\n",
    "                        tag_attrib[node_tag_fields[2]]=audit_street_name_tag(tag)\n",
    "                    elif tag.attrib['k']== \"addr:postcode\":\n",
    "                        tag_attrib[node_tag_fields[2]]=audit_postcode_tag(tag)    \n",
    "                    else:    \n",
    "                        tag_attrib[node_tag_fields[2]]=tag.get('v')\n",
    "                    tag_attrib[node_tag_fields[3]]=default_tag_type\n",
    "                    tags.append(tag_attrib.copy())\n",
    "            \n",
    "#        pprint.pprint( {'node':node_attribs,'node_tags':tags})  \n",
    "        \n",
    "                \n",
    "    elif element.tag=='way':\n",
    "        for field in way_attr_fields:\n",
    "            way_attribs[field]=element.get(field)\n",
    "    \n",
    "        way_node_attrib={}\n",
    "        way_node_fields=WAY_NODES_FIELDS\n",
    "        for nd in element.findall('nd'):\n",
    "            way_node_attrib[way_node_fields[0]]=element.get('id')\n",
    "            way_node_attrib[way_node_fields[1]]=nd.get('ref')\n",
    "            way_node_attrib[way_node_fields[2]]=element.findall('nd').index(nd)\n",
    "            way_nodes.append(way_node_attrib.copy())\n",
    "#       pprint.pprint({'way':way_attribs,'way_nodes':way_nodes})\n",
    "        \n",
    "        \n",
    "        \n",
    "        \n",
    "        if element.find('tag') is None:\n",
    "            pass\n",
    "#           print 'No Tags'\n",
    "           \n",
    "        elif element.find('tag') is not None:\n",
    "            way_tag_attrib={}\n",
    "            way_tag_fields=WAY_TAGS_FIELDS\n",
    "            for tag in element.iter('tag'):\n",
    "                if PROBLEMCHARS.search(tag.attrib['k']):\n",
    "                    pass\n",
    "                elif LOWER_COLON.search(tag.attrib['k']):\n",
    "                    way_tag_attrib[way_tag_fields[0]]=element.get('id')\n",
    "                    way_tag_attrib[way_tag_fields[1]]=tag.get('k')[(tag.get('k').find(':')+1):]\n",
    "                    if tag.attrib['k']== \"addr:street\":\n",
    "                        way_tag_attrib[way_tag_fields[2]]=audit_street_name_tag(tag)\n",
    "                    elif tag.attrib['k']== \"addr:postcode\":\n",
    "                        way_tag_attrib[way_tag_fields[2]]=audit_postcode_tag(tag)    \n",
    "                    else:\n",
    "                        way_tag_attrib[way_tag_fields[2]]=tag.get('v')\n",
    "                    way_tag_attrib[way_tag_fields[3]]=tag.get('k').split(':')[0]\n",
    "                    tags.append(way_tag_attrib.copy())\n",
    "                    \n",
    "                else:\n",
    "                    way_tag_attrib[way_tag_fields[0]]=element.get('id')\n",
    "                    way_tag_attrib[way_tag_fields[1]]=tag.get('k')\n",
    "                    if tag.attrib['k']== \"addr:street\":\n",
    "                        way_tag_attrib[way_tag_fields[2]]=audit_street_name_tag(tag) \n",
    "                    elif tag.attrib['k']== \"addr:postcode\":\n",
    "                        way_tag_attrib[way_tag_fields[2]]=audit_postcode_tag(tag)    \n",
    "                    else:   \n",
    "                        way_tag_attrib[way_tag_fields[2]]=tag.get('v')\n",
    "                    way_tag_attrib[way_tag_fields[3]]=default_tag_type\n",
    "                    tags.append(way_tag_attrib.copy())\n",
    "#        pprint.pprint({'way':way_attribs,'way_tags':tags})\n",
    "#        pprint.pprint({'way':way_attribs,'way_nodes':way_nodes,'way_tags':tags})\n",
    "        \n",
    "    \n",
    "\n",
    "    \n",
    "    if element.tag == 'node':\n",
    "        return {'node': node_attribs, 'node_tags': tags}\n",
    "    elif element.tag == 'way':\n",
    "        return {'way': way_attribs, 'way_nodes': way_nodes, 'way_tags': tags}\n",
    "  \n",
    "\n",
    "\n",
    "\n",
    "     "
   ]
  },
  {
   "cell_type": "markdown",
   "metadata": {
    "id": "U-pVWRN1W4zQ"
   },
   "source": [
    "# Helper function - Validating the element"
   ]
  },
  {
   "cell_type": "code",
   "execution_count": 64,
   "metadata": {
    "id": "AFoTE0gEW4zQ"
   },
   "outputs": [],
   "source": [
    "def validate_element(element, validator, schema=SCHEMA):\n",
    "    \"\"\"Raise ValidationError if element does not match schema\"\"\"\n",
    "    if validator.validate(element, schema) is not True:\n",
    "        field, errors = next(validator.errors.iteritems())\n",
    "        message_string = \"\\nElement of type '{0}' has the following errors:\\n{1}\"\n",
    "        error_string = pprint.pformat(errors)\n",
    "        \n",
    "        raise Exception(message_string.format(field, error_string))"
   ]
  },
  {
   "cell_type": "markdown",
   "metadata": {
    "id": "K6su0-3JW4zR"
   },
   "source": [
    "# Helper function - UnicodeDictWriter"
   ]
  },
  {
   "cell_type": "code",
   "execution_count": 65,
   "metadata": {
    "id": "xuWU9FqhW4zR"
   },
   "outputs": [],
   "source": [
    "class UnicodeDictWriter(csv.DictWriter, object):\n",
    "    \"\"\"Extend csv.DictWriter to handle Unicode input\"\"\"\n",
    "\n",
    "    def writerow(self, row):\n",
    "        super(UnicodeDictWriter, self).writerow(row)\n",
    "\n",
    "    def writerows(self, rows):\n",
    "        for row in rows:\n",
    "            self.writerow(row)"
   ]
  },
  {
   "cell_type": "markdown",
   "metadata": {
    "id": "TYKfRT0jW4zR"
   },
   "source": [
    "# Writing CSV Files"
   ]
  },
  {
   "cell_type": "code",
   "execution_count": 66,
   "metadata": {
    "id": "wHELWGzmW4zR"
   },
   "outputs": [],
   "source": [
    "def process_map(file_in, validate):\n",
    "    \"\"\"Iteratively process each XML element and write to csv(s)\"\"\"\n",
    "\n",
    "    with codecs.open(NODES_PATH, 'w') as nodes_file, \\\n",
    "         codecs.open(NODE_TAGS_PATH, 'w') as nodes_tags_file, \\\n",
    "         codecs.open(WAYS_PATH, 'w') as ways_file, \\\n",
    "        codecs.open(WAY_NODES_PATH, 'w') as way_nodes_file, \\\n",
    "         codecs.open(WAY_TAGS_PATH, 'w') as way_tags_file:\n",
    "\n",
    "        nodes_writer = UnicodeDictWriter(nodes_file, NODE_FIELDS)\n",
    "        node_tags_writer = UnicodeDictWriter(nodes_tags_file, NODE_TAGS_FIELDS)\n",
    "        ways_writer = UnicodeDictWriter(ways_file, WAY_FIELDS)\n",
    "        way_nodes_writer = UnicodeDictWriter(way_nodes_file, WAY_NODES_FIELDS)\n",
    "        way_tags_writer = UnicodeDictWriter(way_tags_file, WAY_TAGS_FIELDS)\n",
    "\n",
    "        nodes_writer.writeheader()\n",
    "        node_tags_writer.writeheader()\n",
    "        ways_writer.writeheader()\n",
    "        way_nodes_writer.writeheader()\n",
    "        way_tags_writer.writeheader()\n",
    "\n",
    "        validator = cerberus.Validator()\n",
    "\n",
    "        for element in get_element(file_in, tags=('node', 'way')):\n",
    "            el = shape_element(element)\n",
    "            if el:\n",
    "                if validate is True:\n",
    "                    validate_element(el, validator)\n",
    "\n",
    "                if element.tag == 'node':\n",
    "                    nodes_writer.writerow(el['node'])\n",
    "                    node_tags_writer.writerows(el['node_tags'])\n",
    "                elif element.tag == 'way':\n",
    "                    ways_writer.writerow(el['way'])\n",
    "                    way_nodes_writer.writerows(el['way_nodes'])\n",
    "                    way_tags_writer.writerows(el['way_tags'])"
   ]
  },
  {
   "cell_type": "markdown",
   "metadata": {
    "id": "dTwTo8JZW4zR"
   },
   "source": [
    "# Loading the data into CSV file from OSM File"
   ]
  },
  {
   "cell_type": "code",
   "execution_count": 67,
   "metadata": {
    "id": "1X9D52udW4zR"
   },
   "outputs": [],
   "source": [
    "process_map(OSM_FILE, validate=True)"
   ]
  },
  {
   "cell_type": "markdown",
   "metadata": {
    "id": "C9ZTI3XAW4zR"
   },
   "source": [
    "# Creating and Connecting to SQL database "
   ]
  },
  {
   "cell_type": "code",
   "execution_count": 68,
   "metadata": {
    "id": "5OhAygcvW4zR"
   },
   "outputs": [],
   "source": [
    "db = sqlite3.connect(\"northern-colorado\")  # Connect to the database\n",
    "                                \n",
    "c = db.cursor() # Get a cursor object\n"
   ]
  },
  {
   "cell_type": "markdown",
   "metadata": {
    "id": "OCFV0eoTW4zR"
   },
   "source": [
    "# Creating nodes table"
   ]
  },
  {
   "cell_type": "code",
   "execution_count": 69,
   "metadata": {
    "id": "WMcgIIxbW4zS"
   },
   "outputs": [],
   "source": [
    "# creating nodes table in database northernColorado and inserting values into table nodes\n",
    "\n",
    "query=\"DROP TABLE IF EXISTS nodes;\" # Dropping the table if it already exists\n",
    "c.execute(query);\n",
    "db.commit()\n",
    "query = \"CREATE TABLE nodes (id INTEGER PRIMARY KEY NOT NULL,lat REAL,lon REAL,user TEXT,uid INTEGER,version INTEGER,changeset INTEGER,timestamp TEXT);\"\n",
    "c.execute(query)\n",
    "db.commit()\n",
    "\n",
    "# Read in the csv file as a dictionary, format the data as a list of tuples:\n",
    "\n",
    "with open('nodes.csv','rt') as f: \n",
    "    dr = csv.DictReader(f)\n",
    "    to_db = [(i['id'],i['lat'],i['lon'],i['user'],i['uid'],i['version'],i['changeset'],i['timestamp']) for i in dr]\n",
    "    \n",
    "# insert the formatted data\n",
    "\n",
    "c.executemany(\"INSERT INTO nodes (id, lat, lon, user, uid, version, changeset, timestamp) VALUES (?,?,?,?,?,?,?,?);\", to_db)\n",
    "db.commit()\n",
    "f.close()\n",
    "\n"
   ]
  },
  {
   "cell_type": "markdown",
   "metadata": {
    "id": "HeRkhbwuW4zS"
   },
   "source": [
    "# Creating nodes_tags table"
   ]
  },
  {
   "cell_type": "code",
   "execution_count": 70,
   "metadata": {
    "id": "K5r-YBIeW4zS"
   },
   "outputs": [],
   "source": [
    "# creating nodes_tags table in database northern colorado and inserting values into table nodes_tags\n",
    "\n",
    "query=\"DROP TABLE IF EXISTS nodes_tags;\"  # Dropping the table if it already exists\n",
    "c.execute(query);\n",
    "db.commit()\n",
    "query = \"CREATE TABLE nodes_tags (id INTEGER,key TEXT,value TEXT,type TEXT,FOREIGN KEY (id) REFERENCES nodes(id));\"\n",
    "c.execute(query)\n",
    "db.commit()\n",
    "\n",
    "# Read in the csv file as a dictionary, format the data as a list of tuples:\n",
    "\n",
    "with open('nodes_tags.csv','rt') as f: \n",
    "    dr = csv.DictReader(f)\n",
    "    to_db = [(i['id'],i['key'],i['value'],i['type']) for i in dr]\n",
    "\n",
    "# insert the formatted data\n",
    "\n",
    "c.executemany(\"INSERT INTO nodes_tags (id, key, value, type) VALUES (?,?,?,?);\", to_db)\n",
    "db.commit()\n",
    "f.close()\n"
   ]
  },
  {
   "cell_type": "markdown",
   "metadata": {
    "id": "Pf32PTNvW4zS"
   },
   "source": [
    "# Creating ways table"
   ]
  },
  {
   "cell_type": "code",
   "execution_count": 71,
   "metadata": {
    "id": "qWw0A5qyW4zS"
   },
   "outputs": [],
   "source": [
    "# creating ways table in database northern colorado and inserting values into table ways\n",
    "\n",
    "query=\"DROP TABLE IF EXISTS ways;\"   # Dropping the table if it already exists\n",
    "c.execute(query);\n",
    "db.commit()\n",
    "query = \"CREATE TABLE ways(id INTEGER PRIMARY KEY NOT NULL,user TEXT,uid INTEGER,version TEXT,changeset INTEGER,timestamp TEXT);\"\n",
    "c.execute(query)\n",
    "db.commit()\n",
    "\n",
    "# Read in the csv file as a dictionary, format the data as a list of tuples:\n",
    "\n",
    "with open('ways.csv','rt') as f: \n",
    "    dr = csv.DictReader(f)\n",
    "    to_db = [(i['id'],i['user'],i['uid'],i['version'],i['changeset'],i['timestamp']) for i in dr]\n",
    "\n",
    "# insert the formatted data        \n",
    "    \n",
    "c.executemany(\"INSERT INTO ways (id, user, uid, version, changeset, timestamp) VALUES (?,?,?,?,?,?);\", to_db)\n",
    "db.commit()\n",
    "f.close()\n"
   ]
  },
  {
   "cell_type": "markdown",
   "metadata": {
    "id": "oXHxCmM2W4zS"
   },
   "source": [
    "# Creating ways_nodes table"
   ]
  },
  {
   "cell_type": "code",
   "execution_count": 72,
   "metadata": {
    "id": "6QB0KZfqW4zS"
   },
   "outputs": [],
   "source": [
    "# creating ways_nodes table in database northern_colorado and inserting values into table ways_nodes\n",
    "\n",
    "query=\"DROP TABLE IF EXISTS ways_nodes;\"  # Dropping the table if it already exists\n",
    "c.execute(query);\n",
    "db.commit()\n",
    "query = \"CREATE TABLE ways_nodes (id INTEGER NOT NULL,node_id INTEGER NOT NULL,position INTEGER NOT NULL,FOREIGN KEY (id) REFERENCES ways(id),FOREIGN KEY (node_id) REFERENCES nodes(id));\"\n",
    "c.execute(query)\n",
    "db.commit()\n",
    "\n",
    "# Read in the csv file as a dictionary, format the data as a list of tuples:\n",
    "\n",
    "with open('ways_nodes.csv','rt') as f: \n",
    "    dr = csv.DictReader(f)\n",
    "    to_db = [(i['id'],i['node_id'],i['position']) for i in dr]\n",
    "\n",
    "    \n",
    "# insert the formatted data \n",
    "    \n",
    "c.executemany(\"INSERT INTO ways_nodes (id, node_id, position) VALUES (?,?,?);\", to_db)\n",
    "db.commit()\n",
    "f.close()\n",
    "\n",
    "\n"
   ]
  },
  {
   "cell_type": "markdown",
   "metadata": {
    "id": "7z7nn2uaW4zS"
   },
   "source": [
    "# Creating ways_tags table"
   ]
  },
  {
   "cell_type": "code",
   "execution_count": 73,
   "metadata": {
    "id": "IbJ4R2GRW4zT"
   },
   "outputs": [],
   "source": [
    "# creating ways_tags table in database northen colorado and inserting values into table ways_nodes\n",
    "\n",
    "query=\"DROP TABLE IF EXISTS ways_tags;\"   # Dropping the table if it already exists\n",
    "c.execute(query);\n",
    "db.commit()\n",
    "query = \"CREATE TABLE ways_tags (id INTEGER NOT NULL,key TEXT NOT NULL,value TEXT NOT NULL,type TEXT,FOREIGN KEY (id) REFERENCES ways(id));\"\n",
    "c.execute(query)\n",
    "db.commit()\n",
    "\n",
    "\n",
    "# Read in the csv file as a dictionary, format the data as a list of tuples:\n",
    "\n",
    "with open('ways_tags.csv','rt') as f: \n",
    "    dr = csv.DictReader(f)\n",
    "    to_db = [(i['id'],i['key'],i['value'],i['type']) for i in dr]\n",
    "\n",
    "# insert the formatted data \n",
    "\n",
    "c.executemany(\"INSERT INTO ways_tags (id, key, value, type) VALUES (?,?,?,?);\", to_db)\n",
    "db.commit()\n",
    "f.close()\n",
    "\n"
   ]
  },
  {
   "cell_type": "markdown",
   "metadata": {
    "collapsed": true,
    "id": "9wHEfp_OW4zT"
   },
   "source": [
    "# Overview of The Data"
   ]
  },
  {
   "cell_type": "markdown",
   "metadata": {
    "collapsed": true,
    "id": "5HoiigBIW4zT"
   },
   "source": [
    "This section contains basic statistics about the Northern Colorado OpenStreetMap dataset and the SQL queries used to gather them."
   ]
  },
  {
   "cell_type": "markdown",
   "metadata": {
    "id": "NgueFWd7W4zT"
   },
   "source": [
    "# File sizes - "
   ]
  },
  {
   "cell_type": "markdown",
   "metadata": {
    "id": "zM9Tm9UIW4zT"
   },
   "source": [
    "northerncolorado.osm,\n",
    "northern-colorado.db,\n",
    "nodes.csv,\n",
    "nodes_tags.csv,\n",
    "ways.csv,\n",
    "ways_nodes.csv,\n",
    "ways_tags.csv"
   ]
  },
  {
   "cell_type": "markdown",
   "metadata": {
    "id": "gJic1xcTW4zT"
   },
   "source": [
    "# Number of unique users"
   ]
  },
  {
   "cell_type": "code",
   "execution_count": 74,
   "metadata": {
    "colab": {
     "base_uri": "https://localhost:8080/"
    },
    "id": "KgaCneyzW4zT",
    "outputId": "831dd958-980f-4220-d088-c23915592c0a"
   },
   "outputs": [
    {
     "name": "stdout",
     "output_type": "stream",
     "text": [
      "[(192,)]\n"
     ]
    }
   ],
   "source": [
    "query = \"SELECT COUNT(DISTINCT(e.uid))FROM (SELECT uid FROM Nodes UNION ALL SELECT uid FROM Ways) as e;\"\n",
    "c.execute(query)\n",
    "rows=c.fetchall()\n",
    "\n",
    "pprint.pprint(rows)"
   ]
  },
  {
   "cell_type": "markdown",
   "metadata": {
    "id": "v3jkqkffW4zT"
   },
   "source": [
    "Number of Unique Users is 993."
   ]
  },
  {
   "cell_type": "markdown",
   "metadata": {
    "id": "kw1NSpWtW4zT"
   },
   "source": [
    "# Number of nodes"
   ]
  },
  {
   "cell_type": "code",
   "execution_count": 75,
   "metadata": {
    "colab": {
     "base_uri": "https://localhost:8080/"
    },
    "id": "ceQJclF2W4zU",
    "outputId": "93277dac-a054-4a51-9ec9-dc8560ea3a31"
   },
   "outputs": [
    {
     "name": "stdout",
     "output_type": "stream",
     "text": [
      "[(24140,)]\n"
     ]
    }
   ],
   "source": [
    "query = \"SELECT count(DISTINCT(id)) FROM nodes;\"\n",
    "c.execute(query)\n",
    "rows=c.fetchall()\n",
    "\n",
    "pprint.pprint(rows)"
   ]
  },
  {
   "cell_type": "markdown",
   "metadata": {
    "id": "gij0KfG2W4zU"
   },
   "source": [
    "Number of Nodes is  1017755."
   ]
  },
  {
   "cell_type": "markdown",
   "metadata": {
    "id": "KiVs06slW4zU"
   },
   "source": [
    "# Number of Ways"
   ]
  },
  {
   "cell_type": "code",
   "execution_count": 76,
   "metadata": {
    "colab": {
     "base_uri": "https://localhost:8080/"
    },
    "id": "Pys2dyeAW4zU",
    "outputId": "758aa427-df80-4613-d9f6-3a5d2d7abc54"
   },
   "outputs": [
    {
     "name": "stdout",
     "output_type": "stream",
     "text": [
      "[(2184,)]\n"
     ]
    }
   ],
   "source": [
    "query = \"SELECT count(DISTINCT(id)) FROM ways;\"\n",
    "c.execute(query)\n",
    "rows=c.fetchall()\n",
    "\n",
    "pprint.pprint(rows)"
   ]
  },
  {
   "cell_type": "markdown",
   "metadata": {
    "id": "v9gcxWtGW4zU"
   },
   "source": [
    "Number of ways are 88531."
   ]
  },
  {
   "cell_type": "markdown",
   "metadata": {
    "id": "ncLvspU3W4zU"
   },
   "source": [
    "# Number of chosen type of nodes"
   ]
  },
  {
   "cell_type": "code",
   "execution_count": 77,
   "metadata": {
    "colab": {
     "base_uri": "https://localhost:8080/"
    },
    "id": "eLGbRWplW4zU",
    "outputId": "09fb9317-e96a-4af9-8c65-da0436784b80"
   },
   "outputs": [
    {
     "name": "stdout",
     "output_type": "stream",
     "text": [
      "[('regular', 389),\n",
      " ('addr', 35),\n",
      " ('gnis', 13),\n",
      " ('traffic_signals', 1),\n",
      " ('crossing', 1)]\n"
     ]
    }
   ],
   "source": [
    "# number of chosen type of nodes\n",
    "\n",
    "query = \"SELECT type , count(*) as num  FROM nodes_tags group by type order by num desc;\"\n",
    "c.execute(query)\n",
    "rows=c.fetchall()\n",
    "\n",
    "pprint.pprint(rows)\n"
   ]
  },
  {
   "cell_type": "code",
   "execution_count": 78,
   "metadata": {
    "colab": {
     "base_uri": "https://localhost:8080/"
    },
    "id": "wC8-vfe8W4zV",
    "outputId": "641bc7f1-3078-4dae-ebca-ca9d9048d040"
   },
   "outputs": [
    {
     "name": "stdout",
     "output_type": "stream",
     "text": [
      "[(None, 0)]\n",
      "\n",
      "\n",
      "[(None, 0)]\n"
     ]
    }
   ],
   "source": [
    "# number of chosen type of nodes, like cafes, shops etc.\n",
    "\n",
    "query = \"SELECT value, count(*) FROM (select key,value from nodes_tags UNION ALL select key,value from ways_tags) as e where value like '%cafe%';\"\n",
    "c.execute(query)\n",
    "rows=c.fetchall()\n",
    "\n",
    "pprint.pprint(rows)\n",
    "\n",
    "\n",
    "print('\\n')\n",
    "\n",
    "query = \"SELECT value, count(*)  FROM (select key,value from nodes_tags UNION ALL select key,value from ways_tags) as e where value like 'shop%';\"\n",
    "c.execute(query)\n",
    "rows=c.fetchall()\n",
    "\n",
    "pprint.pprint(rows)\n"
   ]
  },
  {
   "cell_type": "markdown",
   "metadata": {
    "id": "9-e9uqQFW4zV"
   },
   "source": [
    "# Top 10 contributing users"
   ]
  },
  {
   "cell_type": "code",
   "execution_count": 79,
   "metadata": {
    "colab": {
     "base_uri": "https://localhost:8080/"
    },
    "id": "pWIJrXRCW4zV",
    "outputId": "90914024-ec2a-40b8-abe5-5c31e7e9a989"
   },
   "outputs": [
    {
     "name": "stdout",
     "output_type": "stream",
     "text": [
      "Top 10 contributing users and their contribution:\n",
      "\n",
      "[('tekim', 10854),\n",
      " ('freaktechnik', 7489),\n",
      " ('chachafish', 1079),\n",
      " ('Chris Lawrence', 973),\n",
      " ('cmorton', 614),\n",
      " ('user_5359', 559),\n",
      " ('woodpeck_fixbot', 526),\n",
      " ('mahahahaneapneap', 271),\n",
      " ('phidauex', 231),\n",
      " ('ColbyA', 227)]\n",
      "\n",
      "\n",
      "Total appearances of the users:\n",
      "\n",
      "[(26324,)]\n"
     ]
    }
   ],
   "source": [
    "#Top 10 contributing users\n",
    "\n",
    "query = \"select e.user, count(*) as num from (select user from nodes UNION ALL select user from ways) as e group by user order by num desc limit 10;\"\n",
    "c.execute(query)\n",
    "rows=c.fetchall()\n",
    "print('Top 10 contributing users and their contribution:\\n')\n",
    "pprint.pprint(rows)\n",
    "\n",
    "\n",
    "\n",
    "#Total users\n",
    "print('\\n')\n",
    "print('Total appearances of the users:\\n')\n",
    "query = \"select count(e.user) from (select user from nodes UNION ALL select user from ways) as e;\"\n",
    "c.execute(query)\n",
    "rows=c.fetchall()\n",
    "\n",
    "pprint.pprint(rows)"
   ]
  },
  {
   "cell_type": "markdown",
   "metadata": {
    "id": "k7H71ba2W4zV"
   },
   "source": [
    "# Top 20 keys in tags with respect to count size"
   ]
  },
  {
   "cell_type": "code",
   "execution_count": 80,
   "metadata": {
    "colab": {
     "base_uri": "https://localhost:8080/"
    },
    "id": "dNFDNKLUW4zV",
    "outputId": "89d8ffe2-49cf-4514-b364-3ee9aa2ebf24"
   },
   "outputs": [
    {
     "name": "stdout",
     "output_type": "stream",
     "text": [
      "[('building', 1352),\n",
      " ('highway', 730),\n",
      " ('name', 236),\n",
      " ('power', 149),\n",
      " ('surface', 119),\n",
      " ('service', 107),\n",
      " ('access', 107),\n",
      " ('natural', 97),\n",
      " ('footway', 76),\n",
      " ('design', 68),\n",
      " ('county', 65),\n",
      " ('cfcc', 65),\n",
      " ('oneway', 53),\n",
      " ('reviewed', 51),\n",
      " ('source', 50),\n",
      " ('landuse', 46),\n",
      " ('name_base', 38),\n",
      " ('waterway', 31),\n",
      " ('state', 28),\n",
      " ('city', 28)]\n"
     ]
    }
   ],
   "source": [
    "#Top 20 keys in tags with respect to count size\n",
    "\n",
    "query = \"select e.key , count(*) as num from (select key from nodes_tags UNION ALL select key from ways_tags) as e group by e.key order by num desc limit 20;\"\n",
    "c.execute(query)\n",
    "rows=c.fetchall()\n",
    "\n",
    "pprint.pprint(rows)"
   ]
  },
  {
   "cell_type": "markdown",
   "metadata": {
    "id": "uUzhgt-kW4zV"
   },
   "source": [
    "From the above query, it is observed that tags with K value 'Source' occured maximum time."
   ]
  },
  {
   "cell_type": "markdown",
   "metadata": {
    "id": "PxR9R2zDW4zV"
   },
   "source": [
    "# Top 20 value in tags with respect to count size"
   ]
  },
  {
   "cell_type": "code",
   "execution_count": 81,
   "metadata": {
    "colab": {
     "base_uri": "https://localhost:8080/"
    },
    "id": "Ja7_JwG7W4zW",
    "outputId": "d2360671-2a6f-4cab-d05a-683ab693b872"
   },
   "outputs": [
    {
     "name": "stdout",
     "output_type": "stream",
     "text": [
      "[('yes', 1307),\n",
      " ('service', 265),\n",
      " ('residential', 216),\n",
      " ('tower', 147),\n",
      " ('footway', 121),\n",
      " ('house', 111),\n",
      " ('private', 106),\n",
      " ('driveway', 88),\n",
      " ('sidewalk', 75),\n",
      " ('no', 73),\n",
      " ('Weld, CO', 65),\n",
      " ('tree', 63),\n",
      " ('triangle', 57),\n",
      " ('turning_circle', 56),\n",
      " ('A41', 46),\n",
      " ('concrete', 39),\n",
      " ('asphalt', 30),\n",
      " ('CO', 29),\n",
      " ('Severance', 28),\n",
      " ('1', 24)]\n"
     ]
    }
   ],
   "source": [
    "#Top 20 value in tags with respect to count size\n",
    "\n",
    "query = \"select e.value, count(e.value) as num from (select value from nodes_tags UNION ALL select value from ways_tags) as e group by value order by num desc limit 20;\"\n",
    "c.execute(query)\n",
    "rows=c.fetchall()\n",
    "\n",
    "pprint.pprint(rows)"
   ]
  },
  {
   "cell_type": "markdown",
   "metadata": {
    "id": "rpV0gzU3W4zW"
   },
   "source": [
    "From the above query, it is observed that tags with v value 'US' occured maximum time."
   ]
  },
  {
   "cell_type": "markdown",
   "metadata": {
    "id": "nWMP2kjrW4zW"
   },
   "source": [
    "# when was the 1st Contribution made and by whom"
   ]
  },
  {
   "cell_type": "code",
   "execution_count": 82,
   "metadata": {
    "colab": {
     "base_uri": "https://localhost:8080/"
    },
    "id": "tRAPT1XVW4zW",
    "outputId": "749068f8-3a2a-44d7-b558-5f3b1b8d5aad"
   },
   "outputs": [
    {
     "name": "stdout",
     "output_type": "stream",
     "text": [
      "[('DaveHansenTiger', '2007-09-21T03:39:19Z')]\n"
     ]
    }
   ],
   "source": [
    "query = \"select e.user, e.timestamp as num from (select user,timestamp from nodes UNION ALL select user,timestamp from ways) as e order by num limit 1;\"\n",
    "c.execute(query)\n",
    "rows=c.fetchall()\n",
    "\n",
    "pprint.pprint(rows)"
   ]
  },
  {
   "cell_type": "markdown",
   "metadata": {
    "id": "OGP62sP2W4zW"
   },
   "source": [
    "1st Contribution to Northern Colorado OSM database was made by user 'DaveHansenTiger' at 03:39 hrs on 2007-09-21"
   ]
  },
  {
   "cell_type": "markdown",
   "metadata": {
    "id": "CacNAdu_W4zX"
   },
   "source": [
    "# List of keys where type is addr"
   ]
  },
  {
   "cell_type": "code",
   "execution_count": 86,
   "metadata": {
    "colab": {
     "base_uri": "https://localhost:8080/"
    },
    "id": "DTagh4NEW4zX",
    "outputId": "e2a290ff-a64c-47e0-c5cd-d4bd0428d277"
   },
   "outputs": [
    {
     "name": "stdout",
     "output_type": "stream",
     "text": [
      "[('city',), ('housenumber',), ('postcode',), ('state',), ('street',)]\n"
     ]
    }
   ],
   "source": [
    "query=\"select DISTINCT(key) from nodes_tags where type='addr';\"\n",
    "c.execute(query)\n",
    "rows=c.fetchall()\n",
    "\n",
    "pprint.pprint(rows)"
   ]
  },
  {
   "cell_type": "markdown",
   "metadata": {
    "id": "EKS97LeOW4zX"
   },
   "source": [
    "# Common ammenities"
   ]
  },
  {
   "cell_type": "code",
   "execution_count": 87,
   "metadata": {
    "colab": {
     "base_uri": "https://localhost:8080/"
    },
    "id": "AANjsGpsW4zX",
    "outputId": "3eed64c8-b796-4ed6-9516-f6f5c9ed78df"
   },
   "outputs": [
    {
     "name": "stdout",
     "output_type": "stream",
     "text": [
      "[('school', 1)]\n"
     ]
    }
   ],
   "source": [
    "query=\"select value, count(*) as num from nodes_tags where key='amenity' group by value order by num desc limit 20;\"\n",
    "c.execute(query)\n",
    "rows=c.fetchall()\n",
    "\n",
    "pprint.pprint(rows)"
   ]
  },
  {
   "cell_type": "markdown",
   "metadata": {
    "id": "Lbj74L6rW4zX"
   },
   "source": [
    "# Land usage - \"landuse\""
   ]
  },
  {
   "cell_type": "code",
   "execution_count": 88,
   "metadata": {
    "colab": {
     "base_uri": "https://localhost:8080/"
    },
    "id": "YzA0Gwl-W4zX",
    "outputId": "828b5ded-6dc1-4990-d1c7-52f5440201c2",
    "scrolled": true
   },
   "outputs": [
    {
     "name": "stdout",
     "output_type": "stream",
     "text": [
      "[('grass', 21),\n",
      " ('farmland', 10),\n",
      " ('residential', 7),\n",
      " ('industrial', 4),\n",
      " ('construction', 2),\n",
      " ('reservoir', 1),\n",
      " ('meadow', 1)]\n"
     ]
    }
   ],
   "source": [
    "query=\"select value, count(*) as num from (select key,value from nodes_tags UNION ALL select key,value from ways_tags) as e  where key='landuse' group by value order by num desc;\"\n",
    "c.execute(query)\n",
    "rows=c.fetchall()\n",
    "\n",
    "pprint.pprint(rows)"
   ]
  },
  {
   "cell_type": "markdown",
   "metadata": {
    "id": "f7gK_gxAW4zY"
   },
   "source": [
    "# Dataset Improvement"
   ]
  },
  {
   "cell_type": "markdown",
   "metadata": {
    "id": "fWYZaNJLW4zY"
   },
   "source": [
    "# Percentage of footways accessible nodes"
   ]
  },
  {
   "cell_type": "code",
   "execution_count": 92,
   "metadata": {
    "colab": {
     "base_uri": "https://localhost:8080/"
    },
    "id": "R7eL2ieFW4zY",
    "outputId": "15adf1d1-acfc-45ea-f29c-a24cbf165263"
   },
   "outputs": [
    {
     "name": "stdout",
     "output_type": "stream",
     "text": [
      "[(76,)]\n"
     ]
    }
   ],
   "source": [
    "query=\"select count(*) from (select key,value from nodes_tags UNION ALL select key,value from ways_tags) as e  where key like '%footway%';\"\n",
    "c.execute(query)\n",
    "rows=c.fetchall()\n",
    "\n",
    "pprint.pprint(rows)"
   ]
  },
  {
   "cell_type": "markdown",
   "metadata": {
    "id": "cX8SBhIaW4zY"
   },
   "source": [
    "# Number of nodes"
   ]
  },
  {
   "cell_type": "code",
   "execution_count": 90,
   "metadata": {
    "colab": {
     "base_uri": "https://localhost:8080/"
    },
    "id": "ZdqDqzSdW4zY",
    "outputId": "d7be0168-9b74-4afd-e684-ad9127f37543"
   },
   "outputs": [
    {
     "name": "stdout",
     "output_type": "stream",
     "text": [
      "[(310,)]\n"
     ]
    }
   ],
   "source": [
    "query=\"select count(DISTINCT(id)) from  nodes_tags;\"\n",
    "c.execute(query)\n",
    "rows=c.fetchall()\n",
    "\n",
    "pprint.pprint(rows)"
   ]
  },
  {
   "cell_type": "markdown",
   "metadata": {
    "id": "xywwsZkSW4zY"
   },
   "source": [
    "# Percentage of nodes with footway accessibility information"
   ]
  },
  {
   "cell_type": "markdown",
   "metadata": {
    "id": "RrtTcNCfW4zY"
   },
   "source": [
    "76/310 = 0.245 which is almost 25.\n",
    "\n",
    "Based on the above 2 queries, approximately 25% of the nodes in the dataset contain foot way accessibility information. That seems like a strikingly low number, even with a large amount of nodes. "
   ]
  },
  {
   "cell_type": "markdown",
   "metadata": {
    "id": "yqKtv1AaW4zZ"
   },
   "source": [
    "# Ideas for additional improvements "
   ]
  },
  {
   "cell_type": "markdown",
   "metadata": {
    "id": "CZ7u7zLQW4zZ"
   },
   "source": [
    "It would be interestin to see the bike path accessability for this region. Given the region is a mix of rural and urban, improvments can be made to find which footways and bikeways are connected. "
   ]
  },
  {
   "cell_type": "markdown",
   "metadata": {
    "id": "N0zjTRnnW4zZ"
   },
   "source": [
    "# Anticipated problems in implementing the improvement"
   ]
  },
  {
   "cell_type": "markdown",
   "metadata": {
    "id": "8vqFa0XzW4zZ"
   },
   "source": [
    "1) One difficulty would be dealing with the lack of data or inconsistencies between different data sources as the region is quire rural and is a cluster of small cities, nodes already in the OpenStreetMap dataset, though this could be overcome with careful string handling and a human verifying inputted data.\n",
    "\n",
    "2) Amount of effort to engineer all these processes and the cost of creating, auditing & maintaining these initiatives could be so overwhelm and may require a dedicated team responsible for all these projects."
   ]
  },
  {
   "cell_type": "markdown",
   "metadata": {
    "id": "P8CSMXZUW4zZ"
   },
   "source": [
    "# Conclusion"
   ]
  },
  {
   "cell_type": "markdown",
   "metadata": {
    "id": "4G5ncVSKW4zZ"
   },
   "source": [
    "The Northern Colorado OpenStreetMap dataset is too small. When I audit the data, much of the data doens't exist. Considering there are many contributors, there are number of gaps in this dataset. I'd recommend a srtuctured input form so everyone can input the same data format to reduce this error or we can create a more robust script to clean the data on a regular basis.While it is clear that the data is not 100% clean, I believe it was sufficiently cleaned for the purposes of this project.A detailed investigation could also be done to identify which users created the features with incorrect or mismatched values in order to potentially identify additional documents for closer scrutiny or to predict what types of users are more prone to producing errors.This dataset shows the need for a standardized data schema, as well as the difficulty of having many different data sources and having information which needs to be constantly updated."
   ]
  },
  {
   "cell_type": "code",
   "execution_count": null,
   "metadata": {
    "id": "sIj8K_j1W4zZ"
   },
   "outputs": [],
   "source": []
  },
  {
   "cell_type": "code",
   "execution_count": null,
   "metadata": {},
   "outputs": [],
   "source": []
  }
 ],
 "metadata": {
  "anaconda-cloud": {},
  "colab": {
   "name": "Wrangle OpenStreetMap Data.ipynb",
   "provenance": []
  },
  "kernelspec": {
   "display_name": "Python 3",
   "language": "python",
   "name": "python3"
  },
  "language_info": {
   "codemirror_mode": {
    "name": "ipython",
    "version": 3
   },
   "file_extension": ".py",
   "mimetype": "text/x-python",
   "name": "python",
   "nbconvert_exporter": "python",
   "pygments_lexer": "ipython3",
   "version": "3.8.5"
  }
 },
 "nbformat": 4,
 "nbformat_minor": 1
}
