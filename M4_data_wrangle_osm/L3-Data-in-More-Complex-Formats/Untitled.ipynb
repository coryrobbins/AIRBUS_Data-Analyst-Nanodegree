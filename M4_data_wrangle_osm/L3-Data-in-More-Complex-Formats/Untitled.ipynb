{
 "cells": [
  {
   "cell_type": "markdown",
   "metadata": {},
   "source": [
    "## XML\n",
    "\n",
    ">XML Extensible Markup Language\n",
    ">Tag-based like ~HTML\n",
    "\n",
    ">XHTML formatted as XML syntax\n",
    ">RSS/ATOM used for publishing and blogging\n",
    ">AJAX asychronous JavaScript and XML\n",
    ">Web services - using API over the web\n",
    "\n",
    ">\"XML is used to structure and descrive information\"\n",
    ">inteded to use over the internet\n",
    ">used to exchange data b/n disparate systems\n",
    "\n",
    "## XPath - eXtensible Path Language\n",
    "## XSLT XML Stylesheet Language Transformations\n",
    "## XQuery - more adv. querying languange than xpath\n",
    "\n"
   ]
  },
  {
   "cell_type": "code",
   "execution_count": null,
   "metadata": {},
   "outputs": [],
   "source": []
  }
 ],
 "metadata": {
  "kernelspec": {
   "display_name": "Python 3",
   "language": "python",
   "name": "python3"
  },
  "language_info": {
   "codemirror_mode": {
    "name": "ipython",
    "version": 3
   },
   "file_extension": ".py",
   "mimetype": "text/x-python",
   "name": "python",
   "nbconvert_exporter": "python",
   "pygments_lexer": "ipython3",
   "version": "3.8.5"
  }
 },
 "nbformat": 4,
 "nbformat_minor": 4
}
