{
 "cells": [
  {
   "cell_type": "markdown",
   "metadata": {},
   "source": [
    "# Project 1: Stroop Effect\n",
    "#### Test a Perceptual Phenomenon\n"
   ]
  },
  {
   "cell_type": "markdown",
   "metadata": {},
   "source": [
    "In psychology "
   ]
  },
  {
   "cell_type": "code",
   "execution_count": 32,
   "metadata": {},
   "outputs": [],
   "source": [
    "import pandas as pd # To contain data\n",
    "import os # Set path\n",
    "import scipy.stats as stats # Import Statistical Package for analysis\n",
    "import matplotlib.pyplot as plt  # For Visualisation\n",
    "%matplotlib inline\n",
    "\n",
    "\n",
    "path = r'/Users/coryrobbins/projects/AIRBUS_Data-Analyst-Nanodegree_Udacity/M1_intro_data_analysis/Project1_StroopEffect/stroopdata.csv'\n",
    "data = pd.read_csv(path)\n"
   ]
  },
  {
   "cell_type": "code",
   "execution_count": 33,
   "metadata": {},
   "outputs": [
    {
     "data": {
      "text/html": [
       "<div>\n",
       "<style scoped>\n",
       "    .dataframe tbody tr th:only-of-type {\n",
       "        vertical-align: middle;\n",
       "    }\n",
       "\n",
       "    .dataframe tbody tr th {\n",
       "        vertical-align: top;\n",
       "    }\n",
       "\n",
       "    .dataframe thead th {\n",
       "        text-align: right;\n",
       "    }\n",
       "</style>\n",
       "<table border=\"1\" class=\"dataframe\">\n",
       "  <thead>\n",
       "    <tr style=\"text-align: right;\">\n",
       "      <th></th>\n",
       "      <th>Congruent</th>\n",
       "      <th>Incongruent</th>\n",
       "    </tr>\n",
       "    <tr>\n",
       "      <th>Subject</th>\n",
       "      <th></th>\n",
       "      <th></th>\n",
       "    </tr>\n",
       "  </thead>\n",
       "  <tbody>\n",
       "    <tr>\n",
       "      <th>1</th>\n",
       "      <td>12.079</td>\n",
       "      <td>19.278</td>\n",
       "    </tr>\n",
       "    <tr>\n",
       "      <th>2</th>\n",
       "      <td>16.791</td>\n",
       "      <td>18.741</td>\n",
       "    </tr>\n",
       "    <tr>\n",
       "      <th>3</th>\n",
       "      <td>9.564</td>\n",
       "      <td>21.214</td>\n",
       "    </tr>\n",
       "    <tr>\n",
       "      <th>4</th>\n",
       "      <td>8.630</td>\n",
       "      <td>15.687</td>\n",
       "    </tr>\n",
       "    <tr>\n",
       "      <th>5</th>\n",
       "      <td>14.669</td>\n",
       "      <td>22.803</td>\n",
       "    </tr>\n",
       "  </tbody>\n",
       "</table>\n",
       "</div>"
      ],
      "text/plain": [
       "         Congruent  Incongruent\n",
       "Subject                        \n",
       "1           12.079       19.278\n",
       "2           16.791       18.741\n",
       "3            9.564       21.214\n",
       "4            8.630       15.687\n",
       "5           14.669       22.803"
      ]
     },
     "execution_count": 33,
     "metadata": {},
     "output_type": "execute_result"
    }
   ],
   "source": [
    "#change the indexing to reflect the 'Subject' column\n",
    "data['Subject'] = data.index+1\n",
    "data.index = data['Subject'] \n",
    "del data['Subject'] \n",
    "data.head(5)"
   ]
  },
  {
   "cell_type": "markdown",
   "metadata": {},
   "source": [
    "## Question 1: Identify variables in the experiment\n",
    "Q1: Question response correctly identifies the independent and dependent variables in the experiment."
   ]
  },
  {
   "cell_type": "markdown",
   "metadata": {},
   "source": [
    ">Independent variable: \n",
    "\n",
    ">Dependent variable:"
   ]
  },
  {
   "cell_type": "markdown",
   "metadata": {},
   "source": [
    "## Question 2a: Establish hypotheses\n",
    "\n",
    "#### Q2a:\n",
    "- Null and alternative hypotheses are clearly stated in words and mathematically. \n",
    "- Symbols in the mathematical statement are defined.\n",
    "\n",
    "\n",
    "* What is an appropriate set of hypotheses for this task? \n",
    "* What kind of statistical test do you expect to perform? \n",
    "* Justify your choices."
   ]
  },
  {
   "cell_type": "markdown",
   "metadata": {},
   "source": [
    "## Question 2b: Establish a statistical test\n",
    "\n",
    "#### Q2b: \n",
    "* A statistical test is proposed which will distinguish the proposed hypotheses. \n",
    "* Any assumptions made by the statistical test are addressed."
   ]
  },
  {
   "cell_type": "markdown",
   "metadata": {},
   "source": [
    "\n",
    "\n",
    "#### The Null Hypothesis (Ho):\n",
    "\n",
    "- There won’t be a lot of time difference between the mean time taken by the participants in performing both tasks\n",
    "\n",
    "        i.e., Ho: μL = μC = 0\n",
    "\n",
    "#### The Alternative Hypothesis (Ha):\n",
    "\n",
    "- Is that participants take more mean time in performing incongruent task compared to congruent task\n",
    "\n",
    "        i.e., Ha: μL – μC ≠ 0"
   ]
  },
  {
   "cell_type": "markdown",
   "metadata": {},
   "source": [
    "## Question 3: Report descriptive statistics\n",
    "\n",
    "Q3: Descriptive statistics, including at least one measure of centrality and one measure of variability, have been computed for the dataset’s groups.\n"
   ]
  },
  {
   "cell_type": "code",
   "execution_count": 39,
   "metadata": {},
   "outputs": [],
   "source": [
    "# Report some descriptive statistics regarding this dataset. \n",
    "# Include at least one measure of central tendency and at least \n",
    "#one measure of variability."
   ]
  },
  {
   "cell_type": "code",
   "execution_count": 63,
   "metadata": {
    "scrolled": true
   },
   "outputs": [
    {
     "data": {
      "text/html": [
       "<div>\n",
       "<style scoped>\n",
       "    .dataframe tbody tr th:only-of-type {\n",
       "        vertical-align: middle;\n",
       "    }\n",
       "\n",
       "    .dataframe tbody tr th {\n",
       "        vertical-align: top;\n",
       "    }\n",
       "\n",
       "    .dataframe thead th {\n",
       "        text-align: right;\n",
       "    }\n",
       "</style>\n",
       "<table border=\"1\" class=\"dataframe\">\n",
       "  <thead>\n",
       "    <tr style=\"text-align: right;\">\n",
       "      <th></th>\n",
       "      <th>count</th>\n",
       "      <th>mean</th>\n",
       "      <th>std</th>\n",
       "      <th>min</th>\n",
       "      <th>25%</th>\n",
       "      <th>50%</th>\n",
       "      <th>75%</th>\n",
       "      <th>max</th>\n",
       "    </tr>\n",
       "  </thead>\n",
       "  <tbody>\n",
       "    <tr>\n",
       "      <th>Congruent</th>\n",
       "      <td>24.0</td>\n",
       "      <td>14.051125</td>\n",
       "      <td>3.559358</td>\n",
       "      <td>8.630</td>\n",
       "      <td>11.89525</td>\n",
       "      <td>14.3565</td>\n",
       "      <td>16.20075</td>\n",
       "      <td>22.328</td>\n",
       "    </tr>\n",
       "    <tr>\n",
       "      <th>Incongruent</th>\n",
       "      <td>24.0</td>\n",
       "      <td>22.015917</td>\n",
       "      <td>4.797057</td>\n",
       "      <td>15.687</td>\n",
       "      <td>18.71675</td>\n",
       "      <td>21.0175</td>\n",
       "      <td>24.05150</td>\n",
       "      <td>35.255</td>\n",
       "    </tr>\n",
       "  </tbody>\n",
       "</table>\n",
       "</div>"
      ],
      "text/plain": [
       "             count       mean       std     min       25%      50%       75%  \\\n",
       "Congruent     24.0  14.051125  3.559358   8.630  11.89525  14.3565  16.20075   \n",
       "Incongruent   24.0  22.015917  4.797057  15.687  18.71675  21.0175  24.05150   \n",
       "\n",
       "                max  \n",
       "Congruent    22.328  \n",
       "Incongruent  35.255  "
      ]
     },
     "execution_count": 63,
     "metadata": {},
     "output_type": "execute_result"
    }
   ],
   "source": [
    "# Summary Descriptive Statistics\n",
    "data.describe().T"
   ]
  },
  {
   "cell_type": "markdown",
   "metadata": {},
   "source": [
    "## Question 4: Plot the data\n",
    "\n",
    "#### Q4: \n",
    "* One or two visualizations have been created that show the distribution of the sample\n"
   ]
  },
  {
   "cell_type": "code",
   "execution_count": null,
   "metadata": {},
   "outputs": [],
   "source": []
  },
  {
   "cell_type": "code",
   "execution_count": null,
   "metadata": {},
   "outputs": [],
   "source": []
  },
  {
   "cell_type": "code",
   "execution_count": 57,
   "metadata": {},
   "outputs": [
    {
     "data": {
      "image/png": "[encoded data removed]",
      "text/plain": [
       "<Figure size 432x288 with 1 Axes>"
      ]
     },
     "metadata": {
      "needs_background": "light"
     },
     "output_type": "display_data"
    },
    {
     "data": {
      "image/png": "[encoded data removed]",
      "text/plain": [
       "<Figure size 432x288 with 1 Axes>"
      ]
     },
     "metadata": {
      "needs_background": "light"
     },
     "output_type": "display_data"
    },
    {
     "data": {
      "image/png": "[encoded data removed]",
      "text/plain": [
       "<Figure size 432x288 with 2 Axes>"
      ]
     },
     "metadata": {
      "needs_background": "light"
     },
     "output_type": "display_data"
    }
   ],
   "source": [
    "\n",
    "# Boxplot\n",
    "data.boxplot()\n",
    "plt.xlabel('Word Condition')\n",
    "plt.ylabel('Response Time (seconds)')\n",
    "\n",
    "# Histogram \n",
    "data.plot(kind='hist', stacked=True, bins=10)\n",
    "plt.xlabel('Response Time (seconds)')\n",
    "plt.ylabel('Subjects')\n",
    "plt.show()\n",
    "data.hist(bins=10)\n",
    "plt.xlabel('Response Time (seconds)')\n",
    "plt.ylabel('Subjects')\n",
    "plt.show()\n"
   ]
  },
  {
   "cell_type": "code",
   "execution_count": 67,
   "metadata": {},
   "outputs": [
    {
     "data": {
      "text/plain": [
       "Text(0.5, 1.0, 'Congruent plot')"
      ]
     },
     "execution_count": 67,
     "metadata": {},
     "output_type": "execute_result"
    },
    {
     "data": {
      "image/png": "[encoded data removed]",
      "text/plain": [
       "<Figure size 864x576 with 1 Axes>"
      ]
     },
     "metadata": {
      "needs_background": "light"
     },
     "output_type": "display_data"
    }
   ],
   "source": [
    "plt.figure(figsize=(12, 8))\n",
    "stats.probplot(data['Congruent'], plot=plt)\n",
    "#stats.probplot(data['Incongruent'], plot=plt)\n",
    "\n",
    "plt.title('Congruent plot')"
   ]
  },
  {
   "cell_type": "code",
   "execution_count": 68,
   "metadata": {},
   "outputs": [
    {
     "data": {
      "text/plain": [
       "Text(0.5, 1.0, 'Incongruent plot')"
      ]
     },
     "execution_count": 68,
     "metadata": {},
     "output_type": "execute_result"
    },
    {
     "data": {
      "image/png": "[encoded data removed]",
      "text/plain": [
       "<Figure size 864x576 with 1 Axes>"
      ]
     },
     "metadata": {
      "needs_background": "light"
     },
     "output_type": "display_data"
    }
   ],
   "source": [
    "plt.figure(figsize=(12, 8))\n",
    "#stats.probplot(data['Inongruent'], plot=plt)\n",
    "stats.probplot(data['Incongruent'], plot=plt)\n",
    "\n",
    "plt.title('Incongruent plot')"
   ]
  },
  {
   "cell_type": "markdown",
   "metadata": {},
   "source": [
    "#### Question 5: Perform the statistical test and interpret your results\n",
    "\n",
    "Q5: A statistical test has been correctly performed and reported, including test statistic, p-value, and test result. The test results are interpreted in terms of the experimental task performed. Alternatively, students may use a bootstrapping approach to simulate the results of a traditional hypothesis test.\n"
   ]
  },
  {
   "cell_type": "code",
   "execution_count": 42,
   "metadata": {},
   "outputs": [],
   "source": [
    "# Now, perform the statistical test and report your results. \n",
    "# What is your confidence level and your critical statistic value? \n",
    "# Do you reject the null hypothesis or fail to reject it? Come \n",
    "# to a conclusion in terms of the experiment task. \n",
    "# Did the results match up with your expectations?"
   ]
  },
  {
   "cell_type": "code",
   "execution_count": 43,
   "metadata": {},
   "outputs": [],
   "source": [
    "#get the critical t values for a one tailed positive test"
   ]
  },
  {
   "cell_type": "code",
   "execution_count": 44,
   "metadata": {},
   "outputs": [],
   "source": [
    "#Calculate the t-statistic"
   ]
  },
  {
   "cell_type": "code",
   "execution_count": 73,
   "metadata": {},
   "outputs": [
    {
     "name": "stdout",
     "output_type": "stream",
     "text": [
      "Sample Size (n) = 24 subjects\n",
      "Degrees of Freedom (data) = 23\n",
      "T-Test Result = Ttest_relResult(statistic=8.020706944109957, pvalue=4.103000585711178e-08)\n"
     ]
    }
   ],
   "source": [
    "print(\"Sample Size (n) =\", n, \"subjects\")\n",
    "print(\"Degrees of Freedom (data) =\", (n-1))\n",
    "print(\"T-Test Result =\", ttest)\n",
    "\n",
    "ttest = stats.ttest_rel(data['Incongruent'], data['Congruent'])"
   ]
  },
  {
   "cell_type": "code",
   "execution_count": null,
   "metadata": {},
   "outputs": [],
   "source": []
  },
  {
   "cell_type": "markdown",
   "metadata": {},
   "source": [
    "#### Question 6: Digging deeper and extending the investigation Question 6 is optional and does not need to be answered in order to meet project specifications."
   ]
  },
  {
   "cell_type": "code",
   "execution_count": 46,
   "metadata": {},
   "outputs": [],
   "source": [
    "#Optional: What do you think is responsible for the effects observed? Can you think of an alternative or similar task that would result in a similar effect? Some research about the problem will be helpful for thinking about these two questions!"
   ]
  },
  {
   "cell_type": "code",
   "execution_count": null,
   "metadata": {},
   "outputs": [],
   "source": []
  }
 ],
 "metadata": {
  "kernelspec": {
   "display_name": "Python 3",
   "language": "python",
   "name": "python3"
  },
  "language_info": {
   "codemirror_mode": {
    "name": "ipython",
    "version": 3
   },
   "file_extension": ".py",
   "mimetype": "text/x-python",
   "name": "python",
   "nbconvert_exporter": "python",
   "pygments_lexer": "ipython3",
   "version": "3.8.5"
  }
 },
 "nbformat": 4,
 "nbformat_minor": 4
}
