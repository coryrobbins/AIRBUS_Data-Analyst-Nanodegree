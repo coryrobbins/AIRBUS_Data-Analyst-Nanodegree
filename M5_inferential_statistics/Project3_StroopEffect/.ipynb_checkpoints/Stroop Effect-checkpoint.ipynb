{
 "cells": [
  {
   "cell_type": "markdown",
   "metadata": {},
   "source": [
    "# Project 3: Test a Perceptual Phenomenon\n",
    "Compute descriptive statistics and perform a statistical test on a data set based on a psychological phenomenon, the Stroop Effect.\n",
    "\n",
    "##  By: Cory Robbins\n",
    "### February 7, 2021"
   ]
  },
  {
   "cell_type": "markdown",
   "metadata": {},
   "source": [
    "In a Stroop test, participants are presented with a list of words, with each word displayed in a color. The participant’s task is to say out loud the color of the ink in which the word is printed. \n",
    "\n",
    "The task has two conditions: \n",
    "- 1.) Congruent words condition: Congruent words match the colors in which they are printed: for example RED, BLUE. \n",
    "- 2.) Incongruent words condition: Incongruent words do not match the colors in which they are printed: for example PURPLE, ORANGE.  \n",
    "\n",
    "In each case, each participant will go through and record the time it takes to name the color (\"Response Time\") from each condition. "
   ]
  },
  {
   "cell_type": "code",
   "execution_count": 35,
   "metadata": {},
   "outputs": [],
   "source": [
    "import pandas as pd\n",
    "import numpy as np\n",
    "import matplotlib.pyplot as plt\n",
    "import scipy.stats as stats\n",
    "\n",
    "import os\n",
    "%matplotlib inline\n",
    "\n",
    "path = r'/Users/coryrobbins/projects/AIRBUS_Data-Analyst-Nanodegree_Udacity/M5_inferential_statistics/Project3_StroopEffect/stroopdata.csv'\n",
    "data = pd.read_csv(path)\n"
   ]
  },
  {
   "cell_type": "code",
   "execution_count": 36,
   "metadata": {},
   "outputs": [
    {
     "data": {
      "text/html": [
       "<div>\n",
       "<style scoped>\n",
       "    .dataframe tbody tr th:only-of-type {\n",
       "        vertical-align: middle;\n",
       "    }\n",
       "\n",
       "    .dataframe tbody tr th {\n",
       "        vertical-align: top;\n",
       "    }\n",
       "\n",
       "    .dataframe thead th {\n",
       "        text-align: right;\n",
       "    }\n",
       "</style>\n",
       "<table border=\"1\" class=\"dataframe\">\n",
       "  <thead>\n",
       "    <tr style=\"text-align: right;\">\n",
       "      <th></th>\n",
       "      <th>Congruent</th>\n",
       "      <th>Incongruent</th>\n",
       "    </tr>\n",
       "    <tr>\n",
       "      <th>participant</th>\n",
       "      <th></th>\n",
       "      <th></th>\n",
       "    </tr>\n",
       "  </thead>\n",
       "  <tbody>\n",
       "    <tr>\n",
       "      <th>1</th>\n",
       "      <td>12.079</td>\n",
       "      <td>19.278</td>\n",
       "    </tr>\n",
       "    <tr>\n",
       "      <th>2</th>\n",
       "      <td>16.791</td>\n",
       "      <td>18.741</td>\n",
       "    </tr>\n",
       "    <tr>\n",
       "      <th>3</th>\n",
       "      <td>9.564</td>\n",
       "      <td>21.214</td>\n",
       "    </tr>\n",
       "    <tr>\n",
       "      <th>4</th>\n",
       "      <td>8.630</td>\n",
       "      <td>15.687</td>\n",
       "    </tr>\n",
       "    <tr>\n",
       "      <th>5</th>\n",
       "      <td>14.669</td>\n",
       "      <td>22.803</td>\n",
       "    </tr>\n",
       "  </tbody>\n",
       "</table>\n",
       "</div>"
      ],
      "text/plain": [
       "             Congruent  Incongruent\n",
       "participant                        \n",
       "1               12.079       19.278\n",
       "2               16.791       18.741\n",
       "3                9.564       21.214\n",
       "4                8.630       15.687\n",
       "5               14.669       22.803"
      ]
     },
     "execution_count": 36,
     "metadata": {},
     "output_type": "execute_result"
    }
   ],
   "source": [
    "#change the indexing to reflect the 'participant' column\n",
    "data['participant'] = data.index+1\n",
    "data.index = data['participant'] \n",
    "del data['participant'] \n",
    "data.head()"
   ]
  },
  {
   "cell_type": "markdown",
   "metadata": {},
   "source": [
    "## Question 1: Identify variables in the experiment\n",
    "Q1: Question response correctly identifies the independent and dependent variables in the experiment."
   ]
  },
  {
   "cell_type": "markdown",
   "metadata": {},
   "source": [
    ">Independent variable: Colors of the words\n",
    "\n",
    ">Dependent variable: Response times"
   ]
  },
  {
   "cell_type": "markdown",
   "metadata": {},
   "source": [
    "## Question 2a: Establish hypotheses\n",
    "\n",
    "#### Q2a:\n",
    "- Null and alternative hypotheses are clearly stated in words and mathematically. \n",
    "- Symbols in the mathematical statement are defined.\n",
    "\n",
    "\n",
    "* What is an appropriate set of hypotheses for this task? \n",
    "* What kind of statistical test do you expect to perform? \n",
    "* Justify your choices."
   ]
  },
  {
   "cell_type": "markdown",
   "metadata": {},
   "source": [
    "## Question 2b: Establish a statistical test\n",
    "\n",
    "#### Q2b: \n",
    "* A statistical test is proposed which will distinguish the proposed hypotheses. \n",
    "* Any assumptions made by the statistical test are addressed."
   ]
  },
  {
   "cell_type": "markdown",
   "metadata": {},
   "source": [
    "\n",
    "\n",
    "#### The Null Hypothesis (Ho):\n",
    "\n",
    "- There won’t be a lot of time difference between the mean response times of Congruent and Incongruent conditions \n",
    "\n",
    "        i.e., Ho: μC - μI = 0\n",
    "\n",
    "#### The Alternative Hypothesis (Ha):\n",
    "\n",
    "- The mean time of participants' response time in performing incongruent task compared to congruent task is faster\n",
    "\n",
    "        i.e., Ha: μC – μI ≠ 0"
   ]
  },
  {
   "cell_type": "markdown",
   "metadata": {},
   "source": [
    "## Question 3: Report descriptive statistics\n",
    "\n",
    "Q3: Descriptive statistics, including at least one measure of centrality and one measure of variability, have been computed for the dataset’s groups.\n"
   ]
  },
  {
   "cell_type": "code",
   "execution_count": 37,
   "metadata": {},
   "outputs": [],
   "source": [
    "# Report some descriptive statistics regarding this dataset. \n",
    "# Include at least one measure of central tendency and at least \n",
    "#one measure of variability."
   ]
  },
  {
   "cell_type": "code",
   "execution_count": 38,
   "metadata": {
    "scrolled": true
   },
   "outputs": [
    {
     "data": {
      "text/html": [
       "<div>\n",
       "<style scoped>\n",
       "    .dataframe tbody tr th:only-of-type {\n",
       "        vertical-align: middle;\n",
       "    }\n",
       "\n",
       "    .dataframe tbody tr th {\n",
       "        vertical-align: top;\n",
       "    }\n",
       "\n",
       "    .dataframe thead th {\n",
       "        text-align: right;\n",
       "    }\n",
       "</style>\n",
       "<table border=\"1\" class=\"dataframe\">\n",
       "  <thead>\n",
       "    <tr style=\"text-align: right;\">\n",
       "      <th></th>\n",
       "      <th>count</th>\n",
       "      <th>mean</th>\n",
       "      <th>std</th>\n",
       "      <th>min</th>\n",
       "      <th>25%</th>\n",
       "      <th>50%</th>\n",
       "      <th>75%</th>\n",
       "      <th>max</th>\n",
       "    </tr>\n",
       "  </thead>\n",
       "  <tbody>\n",
       "    <tr>\n",
       "      <th>Congruent</th>\n",
       "      <td>24.0</td>\n",
       "      <td>14.051125</td>\n",
       "      <td>3.559358</td>\n",
       "      <td>8.630</td>\n",
       "      <td>11.89525</td>\n",
       "      <td>14.3565</td>\n",
       "      <td>16.20075</td>\n",
       "      <td>22.328</td>\n",
       "    </tr>\n",
       "    <tr>\n",
       "      <th>Incongruent</th>\n",
       "      <td>24.0</td>\n",
       "      <td>22.015917</td>\n",
       "      <td>4.797057</td>\n",
       "      <td>15.687</td>\n",
       "      <td>18.71675</td>\n",
       "      <td>21.0175</td>\n",
       "      <td>24.05150</td>\n",
       "      <td>35.255</td>\n",
       "    </tr>\n",
       "  </tbody>\n",
       "</table>\n",
       "</div>"
      ],
      "text/plain": [
       "             count       mean       std     min       25%      50%       75%  \\\n",
       "Congruent     24.0  14.051125  3.559358   8.630  11.89525  14.3565  16.20075   \n",
       "Incongruent   24.0  22.015917  4.797057  15.687  18.71675  21.0175  24.05150   \n",
       "\n",
       "                max  \n",
       "Congruent    22.328  \n",
       "Incongruent  35.255  "
      ]
     },
     "execution_count": 38,
     "metadata": {},
     "output_type": "execute_result"
    }
   ],
   "source": [
    "# Summary Descriptive Statistics\n",
    "data.describe().T"
   ]
  },
  {
   "cell_type": "code",
   "execution_count": 39,
   "metadata": {},
   "outputs": [
    {
     "data": {
      "text/plain": [
       "0     8.630\n",
       "1     8.987\n",
       "2     9.401\n",
       "3     9.564\n",
       "4    10.639\n",
       "dtype: float64"
      ]
     },
     "execution_count": 39,
     "metadata": {},
     "output_type": "execute_result"
    }
   ],
   "source": [
    "# Mode for congruent condition\n",
    "data[\"Congruent\"].mode().head()"
   ]
  },
  {
   "cell_type": "code",
   "execution_count": 40,
   "metadata": {},
   "outputs": [
    {
     "data": {
      "text/plain": [
       "0    15.687\n",
       "1    17.394\n",
       "2    17.425\n",
       "3    17.510\n",
       "4    17.960\n",
       "dtype: float64"
      ]
     },
     "execution_count": 40,
     "metadata": {},
     "output_type": "execute_result"
    }
   ],
   "source": [
    "# Mode for Incongruent condition\n",
    "data[\"Incongruent\"].mode().head()"
   ]
  },
  {
   "cell_type": "code",
   "execution_count": 41,
   "metadata": {},
   "outputs": [
    {
     "data": {
      "text/plain": [
       "Congruent      3.559358\n",
       "Incongruent    4.797057\n",
       "dtype: float64"
      ]
     },
     "execution_count": 41,
     "metadata": {},
     "output_type": "execute_result"
    }
   ],
   "source": [
    "#Standard deviation\n",
    "data.std()"
   ]
  },
  {
   "cell_type": "code",
   "execution_count": 42,
   "metadata": {},
   "outputs": [
    {
     "data": {
      "text/html": [
       "<div>\n",
       "<style scoped>\n",
       "    .dataframe tbody tr th:only-of-type {\n",
       "        vertical-align: middle;\n",
       "    }\n",
       "\n",
       "    .dataframe tbody tr th {\n",
       "        vertical-align: top;\n",
       "    }\n",
       "\n",
       "    .dataframe thead th {\n",
       "        text-align: right;\n",
       "    }\n",
       "</style>\n",
       "<table border=\"1\" class=\"dataframe\">\n",
       "  <thead>\n",
       "    <tr style=\"text-align: right;\">\n",
       "      <th></th>\n",
       "      <th>Congruent</th>\n",
       "      <th>Incongruent</th>\n",
       "      <th>CongruentDeviationFromMean</th>\n",
       "      <th>CongruentSquareDevation</th>\n",
       "      <th>IncongruentDeviationFromMean</th>\n",
       "      <th>IncongruentSquareDevation</th>\n",
       "    </tr>\n",
       "    <tr>\n",
       "      <th>participant</th>\n",
       "      <th></th>\n",
       "      <th></th>\n",
       "      <th></th>\n",
       "      <th></th>\n",
       "      <th></th>\n",
       "      <th></th>\n",
       "    </tr>\n",
       "  </thead>\n",
       "  <tbody>\n",
       "    <tr>\n",
       "      <th>1</th>\n",
       "      <td>12.079</td>\n",
       "      <td>19.278</td>\n",
       "      <td>1.972125</td>\n",
       "      <td>3.889277</td>\n",
       "      <td>2.737917</td>\n",
       "      <td>7.496188</td>\n",
       "    </tr>\n",
       "    <tr>\n",
       "      <th>2</th>\n",
       "      <td>16.791</td>\n",
       "      <td>18.741</td>\n",
       "      <td>2.739875</td>\n",
       "      <td>7.506915</td>\n",
       "      <td>3.274917</td>\n",
       "      <td>10.725079</td>\n",
       "    </tr>\n",
       "    <tr>\n",
       "      <th>3</th>\n",
       "      <td>9.564</td>\n",
       "      <td>21.214</td>\n",
       "      <td>4.487125</td>\n",
       "      <td>20.134291</td>\n",
       "      <td>0.801917</td>\n",
       "      <td>0.643070</td>\n",
       "    </tr>\n",
       "    <tr>\n",
       "      <th>4</th>\n",
       "      <td>8.630</td>\n",
       "      <td>15.687</td>\n",
       "      <td>5.421125</td>\n",
       "      <td>29.388596</td>\n",
       "      <td>6.328917</td>\n",
       "      <td>40.055186</td>\n",
       "    </tr>\n",
       "    <tr>\n",
       "      <th>5</th>\n",
       "      <td>14.669</td>\n",
       "      <td>22.803</td>\n",
       "      <td>0.617875</td>\n",
       "      <td>0.381770</td>\n",
       "      <td>0.787083</td>\n",
       "      <td>0.619500</td>\n",
       "    </tr>\n",
       "  </tbody>\n",
       "</table>\n",
       "</div>"
      ],
      "text/plain": [
       "             Congruent  Incongruent  CongruentDeviationFromMean  \\\n",
       "participant                                                       \n",
       "1               12.079       19.278                    1.972125   \n",
       "2               16.791       18.741                    2.739875   \n",
       "3                9.564       21.214                    4.487125   \n",
       "4                8.630       15.687                    5.421125   \n",
       "5               14.669       22.803                    0.617875   \n",
       "\n",
       "             CongruentSquareDevation  IncongruentDeviationFromMean  \\\n",
       "participant                                                          \n",
       "1                           3.889277                      2.737917   \n",
       "2                           7.506915                      3.274917   \n",
       "3                          20.134291                      0.801917   \n",
       "4                          29.388596                      6.328917   \n",
       "5                           0.381770                      0.787083   \n",
       "\n",
       "             IncongruentSquareDevation  \n",
       "participant                             \n",
       "1                             7.496188  \n",
       "2                            10.725079  \n",
       "3                             0.643070  \n",
       "4                            40.055186  \n",
       "5                             0.619500  "
      ]
     },
     "execution_count": 42,
     "metadata": {},
     "output_type": "execute_result"
    }
   ],
   "source": [
    "#calculating variance and squared deviation\n",
    "datanow = data.copy()\n",
    "\n",
    "datanow['CongruentDeviationFromMean'] = abs(datanow['Congruent'] - datanow['Congruent'].mean())\n",
    "datanow['CongruentSquareDevation'] = abs(datanow['Congruent'] - datanow['Congruent'].mean())**2\n",
    "\n",
    "datanow['IncongruentDeviationFromMean'] = abs(datanow['Incongruent'] - datanow['Incongruent'].mean())\n",
    "datanow['IncongruentSquareDevation'] = abs(datanow['Incongruent'] - datanow['Incongruent'].mean())**2\n",
    "\n",
    "datanow.head()"
   ]
  },
  {
   "cell_type": "code",
   "execution_count": 43,
   "metadata": {},
   "outputs": [
    {
     "data": {
      "text/plain": [
       "12.669029070652176"
      ]
     },
     "execution_count": 43,
     "metadata": {},
     "output_type": "execute_result"
    }
   ],
   "source": [
    "congruentvariance = ((datanow.CongruentSquareDevation).sum())/(datanow['Congruent'].count()-1)\n",
    "congruentvariance"
   ]
  },
  {
   "cell_type": "code",
   "execution_count": 54,
   "metadata": {},
   "outputs": [
    {
     "data": {
      "text/plain": [
       "23.011757036231884"
      ]
     },
     "execution_count": 54,
     "metadata": {},
     "output_type": "execute_result"
    }
   ],
   "source": [
    "incongruentvariance = ((datanow.IncongruentSquareDevation).sum())/(datanow['Incongruent'].count()-1)\n",
    "incongruentvariance"
   ]
  },
  {
   "cell_type": "markdown",
   "metadata": {},
   "source": [
    "## Question 4: Plot the data\n",
    "\n",
    "#### Q4: \n",
    "* One or two visualizations have been created that show the distribution of the sample\n"
   ]
  },
  {
   "cell_type": "code",
   "execution_count": 55,
   "metadata": {},
   "outputs": [
    {
     "data": {
      "image/png": "[encoded data removed]",
      "text/plain": [
       "<Figure size 432x288 with 1 Axes>"
      ]
     },
     "metadata": {
      "needs_background": "light"
     },
     "output_type": "display_data"
    },
    {
     "data": {
      "image/png": "[encoded data removed]",
      "text/plain": [
       "<Figure size 432x288 with 1 Axes>"
      ]
     },
     "metadata": {
      "needs_background": "light"
     },
     "output_type": "display_data"
    },
    {
     "data": {
      "image/png": "[encoded data removed]",
      "text/plain": [
       "<Figure size 432x288 with 2 Axes>"
      ]
     },
     "metadata": {
      "needs_background": "light"
     },
     "output_type": "display_data"
    }
   ],
   "source": [
    "\n",
    "# Boxplot\n",
    "data.boxplot()\n",
    "plt.xlabel('Word Condition')\n",
    "plt.ylabel('Response Time (seconds)')\n",
    "\n",
    "# Histogram \n",
    "data.plot(kind='hist', stacked=True, bins=10)\n",
    "plt.xlabel('Response Time (seconds)')\n",
    "plt.ylabel('Subjects')\n",
    "plt.show()\n",
    "data.hist(bins=10)\n",
    "plt.xlabel('Response Time (seconds)')\n",
    "plt.ylabel('Subjects')\n",
    "plt.show()\n"
   ]
  },
  {
   "cell_type": "code",
   "execution_count": 56,
   "metadata": {},
   "outputs": [
    {
     "data": {
      "text/plain": [
       "Text(0.5, 1.0, 'Congruent plot')"
      ]
     },
     "execution_count": 56,
     "metadata": {},
     "output_type": "execute_result"
    },
    {
     "data": {
      "image/png": "[encoded data removed]",
      "text/plain": [
       "<Figure size 720x360 with 1 Axes>"
      ]
     },
     "metadata": {
      "needs_background": "light"
     },
     "output_type": "display_data"
    }
   ],
   "source": [
    "plt.figure(figsize=(10, 5))\n",
    "stats.probplot(data['Congruent'], plot=plt)\n",
    "#stats.probplot(data['Incongruent'], plot=plt)\n",
    "plt.title('Congruent plot')"
   ]
  },
  {
   "cell_type": "code",
   "execution_count": 57,
   "metadata": {},
   "outputs": [
    {
     "data": {
      "text/plain": [
       "Text(0.5, 1.0, 'Incongruent plot')"
      ]
     },
     "execution_count": 57,
     "metadata": {},
     "output_type": "execute_result"
    },
    {
     "data": {
      "image/png": "[encoded data removed]",
      "text/plain": [
       "<Figure size 864x576 with 1 Axes>"
      ]
     },
     "metadata": {
      "needs_background": "light"
     },
     "output_type": "display_data"
    }
   ],
   "source": [
    "plt.figure(figsize=(12, 8))\n",
    "#stats.probplot(data['Inongruent'], plot=plt)\n",
    "stats.probplot(data['Incongruent'], plot=plt)\n",
    "plt.title('Incongruent plot')"
   ]
  },
  {
   "cell_type": "markdown",
   "metadata": {},
   "source": [
    "#### Question 5: Perform the statistical test and interpret your results\n",
    "\n",
    "Q5: A statistical test has been correctly performed and reported, including test statistic, p-value, and test result. The test results are interpreted in terms of the experimental task performed. Alternatively, students may use a bootstrapping approach to simulate the results of a traditional hypothesis test.\n"
   ]
  },
  {
   "cell_type": "code",
   "execution_count": 48,
   "metadata": {},
   "outputs": [],
   "source": [
    "# Now, perform the statistical test and report your results. \n",
    "# What is your confidence level and your critical statistic value? \n",
    "# Do you reject the null hypothesis or fail to reject it? Come \n",
    "# to a conclusion in terms of the experiment task. \n",
    "# Did the results match up with your expectations?"
   ]
  },
  {
   "cell_type": "code",
   "execution_count": 49,
   "metadata": {},
   "outputs": [],
   "source": []
  },
  {
   "cell_type": "code",
   "execution_count": 59,
   "metadata": {},
   "outputs": [
    {
     "name": "stdout",
     "output_type": "stream",
     "text": [
      "Sample Size (n) = 24 subjects\n",
      "degrees of freedom (data) = 23\n",
      "T-Test Result = Ttest_relResult(statistic=-8.020706944109957, pvalue=4.103000585711178e-08)\n"
     ]
    }
   ],
   "source": [
    "#find degrees of freesom and the t*critical values for a one-tailed positive test\n",
    "#Calculate the t-statistic\n",
    "n = len(data)\n",
    "c = data['Congruent']\n",
    "i = data['Incongruent']\n",
    "\n",
    "ttest = stats.ttest_rel(c,i)\n",
    "\n",
    "print(\"Sample Size (n) =\", n, \"subjects\")\n",
    "print(\"degrees of freedom (data) =\", (n-1))\n",
    "print(\"T-Test Result =\", ttest)\n",
    "\n",
    "ttest = stats.ttest_rel(data['Incongruent'], data['Congruent'])"
   ]
  },
  {
   "cell_type": "markdown",
   "metadata": {},
   "source": [
    "#### Question 6: Digging deeper and extending the investigation Question 6 is optional and does not need to be answered in order to meet project specifications."
   ]
  },
  {
   "cell_type": "markdown",
   "metadata": {},
   "source": [
    "#Optional: What do you think is responsible for the effects observed? Can you think of an alternative or similar task that would result in a similar effect? Some research about the problem will be helpful for thinking about these two questions!"
   ]
  }
 ],
 "metadata": {
  "kernelspec": {
   "display_name": "Python 3",
   "language": "python",
   "name": "python3"
  },
  "language_info": {
   "codemirror_mode": {
    "name": "ipython",
    "version": 3
   },
   "file_extension": ".py",
   "mimetype": "text/x-python",
   "name": "python",
   "nbconvert_exporter": "python",
   "pygments_lexer": "ipython3",
   "version": "3.8.5"
  }
 },
 "nbformat": 4,
 "nbformat_minor": 4
}
